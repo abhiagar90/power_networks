{
 "metadata": {
  "name": "",
  "signature": "sha256:17c7333f167f8555e9655c109acee16f99bdac503af607d2e98ec30e86391255"
 },
 "nbformat": 3,
 "nbformat_minor": 0,
 "worksheets": [
  {
   "cells": [
    {
     "cell_type": "code",
     "collapsed": false,
     "input": [
      "def getListOfAllSearchQueries2(name):\n",
      "    name=name.replace('.',' ')\n",
      "    name=name.replace('-','')\n",
      "    lst = name.split()\n",
      "    to=[]\n",
      "    y=''\n",
      "    for x in lst:\n",
      "        if y == '' : \n",
      "            y=x \n",
      "        else: \n",
      "            y=y + '+' +x\n",
      "        to.append(y)\n",
      "    return to\n",
      "getListOfAllSearchQueries2('A B C')"
     ],
     "language": "python",
     "metadata": {},
     "outputs": [
      {
       "metadata": {},
       "output_type": "pyout",
       "prompt_number": 10,
       "text": [
        "['A', 'A+B', 'A+B+C']"
       ]
      }
     ],
     "prompt_number": 10
    },
    {
     "cell_type": "code",
     "collapsed": false,
     "input": [
      "import itertools\n",
      "def getListOfAllSearchQueries(name):\n",
      "    name=name.replace('.',' ')\n",
      "    name=name.replace('-','')\n",
      "    lst = name.split()\n",
      "    combs=[]\n",
      "    for i in xrange(1, len(lst)+1):\n",
      "        els = [list(x) for x in itertools.combinations(lst, i)]\n",
      "        combs.extend(els)\n",
      "    toReturn = []\n",
      "    for x in combs:\n",
      "        toReturn.append('+'.join(x))\n",
      "    return toReturn\n",
      "getListOfAllSearchQueries('A B C')"
     ],
     "language": "python",
     "metadata": {},
     "outputs": [
      {
       "metadata": {},
       "output_type": "pyout",
       "prompt_number": 8,
       "text": [
        "['A', 'B', 'C', 'A+B', 'A+C', 'B+C', 'A+B+C']"
       ]
      }
     ],
     "prompt_number": 8
    }
   ],
   "metadata": {}
  }
 ]
}