{
 "metadata": {
  "name": "",
  "signature": "sha256:25c9310c4a15373c9de567a079c5270c4070f4a446e5536b7be345f1998c6630"
 },
 "nbformat": 3,
 "nbformat_minor": 0,
 "worksheets": [
  {
   "cells": [
    {
     "cell_type": "code",
     "collapsed": false,
     "input": [
      "from bs4 import BeautifulSoup\n",
      "import pandas as pd\n",
      "import requests as rq\n",
      "import re\n",
      "from first.models import QcBod,QcCompany,QcDirector,QTrack,QQuery\n",
      "import hashlib"
     ],
     "language": "python",
     "metadata": {},
     "outputs": []
    },
    {
     "cell_type": "code",
     "collapsed": false,
     "input": [
      "def sqlQuerytoDF(query,ipaddress,database, user, password):\n",
      "    import MySQLdb as db\n",
      "    from pandas.io.sql import frame_query\n",
      "    database = db.connect(ipaddress, user, password, database)\n",
      "    dirframe = frame_query(query, database)\n",
      "    #dirframe\n",
      "    return dirframe\n",
      "##Usage: sqlQuerytoDF(\"select id,name,office from company;\",\"localhost\",\"himanshu\",\"root\",\"yoyo\")"
     ],
     "language": "python",
     "metadata": {},
     "outputs": []
    },
    {
     "cell_type": "code",
     "collapsed": false,
     "input": [
      "def sqlUpdateQuery(query,ipaddress,database, user, password):\n",
      "    import MySQLdb as db\n",
      "    from pandas.io.sql import frame_query\n",
      "    database = db.connect(ipaddress, user, password, database)\n",
      "    cur = database.cursor()\n",
      "    value=False\n",
      "    try:\n",
      "        cur.execute(query)\n",
      "        database.commit()\n",
      "        value = True\n",
      "    except Exception, e:\n",
      "        print e\n",
      "        database.rollback()\n",
      "    database.close()\n",
      "    return value\n",
      "    #dirframe"
     ],
     "language": "python",
     "metadata": {},
     "outputs": []
    },
    {
     "cell_type": "code",
     "collapsed": false,
     "input": [
      "def helper(office_address):\n",
      "    try:\n",
      "        ans =office_address.split(',')[-2]\n",
      "        return ans\n",
      "    except:\n",
      "        return ''"
     ],
     "language": "python",
     "metadata": {},
     "outputs": []
    },
    {
     "cell_type": "markdown",
     "metadata": {},
     "source": [
      "#now we need to push the state info to parag's dataset, so as to make our work easier\n",
      "#run this command before anything:\n",
      "## SQL: create table company_extra (id int primary key, cin varchar(100) unique, state varchar(200),pincode varchar(30),city varchar(100));"
     ]
    },
    {
     "cell_type": "code",
     "collapsed": false,
     "input": [
      "#companydf"
     ],
     "language": "python",
     "metadata": {},
     "outputs": []
    },
    {
     "cell_type": "code",
     "collapsed": false,
     "input": [
      "def fillCompanyExtraTable():\n",
      "    companydf = sqlQuerytoDF(\"select id,name,office from company;\",\"localhost\",\"himanshu\",\"root\",\"yoyo\")\n",
      "    companydf['state'] = companydf.apply(lambda r: r['office'].split(',')[-1], axis=1)\n",
      "    companydf['pincode'] = companydf.apply(lambda r: helper(r['office']), axis=1)\n",
      "    for index, row in companydf.iterrows():\n",
      "        query = 'insert into company_extra(id,state,pincode) values(' + row.id.strip()+ \",\\'\" + row.state.strip()+\"\\',\\'\"+row.pincode.strip()+\"\\');\" \n",
      "        print index, sqlUpdateQuery(query,\"localhost\",\"himanshu\",\"root\",\"yoyo\")"
     ],
     "language": "python",
     "metadata": {},
     "outputs": []
    },
    {
     "cell_type": "code",
     "collapsed": false,
     "input": [
      "fillCompanyExtraTable()"
     ],
     "language": "python",
     "metadata": {},
     "outputs": []
    }
   ],
   "metadata": {}
  }
 ]
}