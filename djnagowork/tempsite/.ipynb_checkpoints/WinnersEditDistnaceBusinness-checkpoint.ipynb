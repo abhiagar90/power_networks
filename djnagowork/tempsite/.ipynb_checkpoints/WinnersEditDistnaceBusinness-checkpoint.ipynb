{
 "metadata": {
  "name": "",
  "signature": "sha256:f9770dcc6c561dce961f16891816bd2ce3fe78d7514ec02303de0479856d9407"
 },
 "nbformat": 3,
 "nbformat_minor": 0,
 "worksheets": [
  {
   "cells": [
    {
     "cell_type": "code",
     "collapsed": false,
     "input": [
      "import pandas as pd\n",
      "import csv\n",
      "import Levenshtein\n",
      "from fuzzywuzzy import fuzz\n",
      "candframe=pd.read_csv('ls2014winners.csv', index_col=False, quoting=csv.QUOTE_ALL)\n",
      "candframe.Party=candframe.Party.str.lower()\n",
      "candframe.Candidate=candframe.Candidate.str.lower()\n",
      "candframe.rename(columns={'Self profession':'profession'}, inplace=True)\n",
      "candframe.profession = candframe.profession.str.lower()\n",
      "candframe.columns"
     ],
     "language": "python",
     "metadata": {},
     "outputs": [
      {
       "metadata": {},
       "output_type": "pyout",
       "prompt_number": 35,
       "text": [
        "Index([u'State', u'Constituency', u'Date Of Election', u'Candidate', u'Candidate ID', u'Party', u'Age', u'Sex', u'Category', u'Total Assets', u'Movable Assets', u'Immovable Assets', u'Liabilities', u'Cases Cognizance taken', u'Cases Charge framed', u'Cases Convicted', u' Cases Total', u' Serious IPC Counts', u'Education', u'PAN Given', u' PAN', u'Self Income', u'Total Income', u' Q_basic', u'Q_criminal', u'Q_movable', u'Q_immovable', u'Q_liabilities', u'Q_education', u' Position', u'profession', u'Spouse profession', u'E-Mail', u'Contact', u'Address', u' Cases details(accused)', u' Cases details(Convicted)', u' Cases details(Framed) '], dtype='object')"
       ]
      }
     ],
     "prompt_number": 35
    },
    {
     "cell_type": "code",
     "collapsed": false,
     "input": [
      "candframe['edit'] = candframe.apply(lambda r: Levenshtein.ratio(r['profession'], 'business'), axis=1)\n",
      "candframe['fuzzy'] = candframe.apply(lambda r: fuzz.token_set_ratio(r['profession'], 'business'), axis=1)"
     ],
     "language": "python",
     "metadata": {},
     "outputs": [],
     "prompt_number": 28
    },
    {
     "cell_type": "code",
     "collapsed": false,
     "input": [
      "candframe[candframe.edit>0.8][['Candidate','profession','Candidate ID','Party','Age','Sex','Category','Total Assets','Education','PAN']]"
     ],
     "language": "python",
     "metadata": {},
     "outputs": [
      {
       "ename": "AttributeError",
       "evalue": "'DataFrame' object has no attribute 'edit'",
       "output_type": "pyerr",
       "traceback": [
        "\u001b[1;31m---------------------------------------------------------------------------\u001b[0m\n\u001b[1;31mAttributeError\u001b[0m                            Traceback (most recent call last)",
        "\u001b[1;32m<ipython-input-36-23743d7d1446>\u001b[0m in \u001b[0;36m<module>\u001b[1;34m()\u001b[0m\n\u001b[1;32m----> 1\u001b[1;33m \u001b[0mcandframe\u001b[0m\u001b[1;33m[\u001b[0m\u001b[0mcandframe\u001b[0m\u001b[1;33m.\u001b[0m\u001b[0medit\u001b[0m\u001b[1;33m>\u001b[0m\u001b[1;36m0.8\u001b[0m\u001b[1;33m]\u001b[0m\u001b[1;33m[\u001b[0m\u001b[1;33m[\u001b[0m\u001b[1;34m'Candidate'\u001b[0m\u001b[1;33m,\u001b[0m\u001b[1;34m'profession'\u001b[0m\u001b[1;33m,\u001b[0m\u001b[1;34m'Candidate ID'\u001b[0m\u001b[1;33m,\u001b[0m\u001b[1;34m'Party'\u001b[0m\u001b[1;33m,\u001b[0m\u001b[1;34m'Age'\u001b[0m\u001b[1;33m,\u001b[0m\u001b[1;34m'Sex'\u001b[0m\u001b[1;33m,\u001b[0m\u001b[1;34m'Category'\u001b[0m\u001b[1;33m,\u001b[0m\u001b[1;34m'Total Assets'\u001b[0m\u001b[1;33m,\u001b[0m\u001b[1;34m'Education'\u001b[0m\u001b[1;33m,\u001b[0m\u001b[1;34m' PAN'\u001b[0m\u001b[1;33m]\u001b[0m\u001b[1;33m]\u001b[0m\u001b[1;33m\u001b[0m\u001b[0m\n\u001b[0m",
        "\u001b[1;32m/usr/local/lib/python2.7/dist-packages/pandas/core/generic.pyc\u001b[0m in \u001b[0;36m__getattr__\u001b[1;34m(self, name)\u001b[0m\n\u001b[0;32m   1945\u001b[0m                 \u001b[1;32mreturn\u001b[0m \u001b[0mself\u001b[0m\u001b[1;33m[\u001b[0m\u001b[0mname\u001b[0m\u001b[1;33m]\u001b[0m\u001b[1;33m\u001b[0m\u001b[0m\n\u001b[0;32m   1946\u001b[0m             raise AttributeError(\"'%s' object has no attribute '%s'\" %\n\u001b[1;32m-> 1947\u001b[1;33m                                  (type(self).__name__, name))\n\u001b[0m\u001b[0;32m   1948\u001b[0m \u001b[1;33m\u001b[0m\u001b[0m\n\u001b[0;32m   1949\u001b[0m     \u001b[1;32mdef\u001b[0m \u001b[0m__setattr__\u001b[0m\u001b[1;33m(\u001b[0m\u001b[0mself\u001b[0m\u001b[1;33m,\u001b[0m \u001b[0mname\u001b[0m\u001b[1;33m,\u001b[0m \u001b[0mvalue\u001b[0m\u001b[1;33m)\u001b[0m\u001b[1;33m:\u001b[0m\u001b[1;33m\u001b[0m\u001b[0m\n",
        "\u001b[1;31mAttributeError\u001b[0m: 'DataFrame' object has no attribute 'edit'"
       ]
      }
     ],
     "prompt_number": 36
    },
    {
     "cell_type": "code",
     "collapsed": false,
     "input": [
      "candframe[candframe.fuzzy>90][['Candidate','edit','profession','fuzzy','']]"
     ],
     "language": "python",
     "metadata": {},
     "outputs": [
      {
       "ename": "AttributeError",
       "evalue": "'DataFrame' object has no attribute 'fuzzy'",
       "output_type": "pyerr",
       "traceback": [
        "\u001b[1;31m---------------------------------------------------------------------------\u001b[0m\n\u001b[1;31mAttributeError\u001b[0m                            Traceback (most recent call last)",
        "\u001b[1;32m<ipython-input-27-47cecfc1b5fb>\u001b[0m in \u001b[0;36m<module>\u001b[1;34m()\u001b[0m\n\u001b[1;32m----> 1\u001b[1;33m \u001b[0mcandframe\u001b[0m\u001b[1;33m[\u001b[0m\u001b[0mcandframe\u001b[0m\u001b[1;33m.\u001b[0m\u001b[0mfuzzy\u001b[0m\u001b[1;33m>\u001b[0m\u001b[1;36m90\u001b[0m\u001b[1;33m]\u001b[0m\u001b[1;33m[\u001b[0m\u001b[1;33m[\u001b[0m\u001b[1;34m'Candidate'\u001b[0m\u001b[1;33m,\u001b[0m\u001b[1;34m'edit'\u001b[0m\u001b[1;33m,\u001b[0m\u001b[1;34m'profession'\u001b[0m\u001b[1;33m,\u001b[0m\u001b[1;34m'fuzzy'\u001b[0m\u001b[1;33m,\u001b[0m\u001b[1;34m''\u001b[0m\u001b[1;33m]\u001b[0m\u001b[1;33m]\u001b[0m\u001b[1;33m\u001b[0m\u001b[0m\n\u001b[0m",
        "\u001b[1;32m/usr/local/lib/python2.7/dist-packages/pandas/core/generic.pyc\u001b[0m in \u001b[0;36m__getattr__\u001b[1;34m(self, name)\u001b[0m\n\u001b[0;32m   1945\u001b[0m                 \u001b[1;32mreturn\u001b[0m \u001b[0mself\u001b[0m\u001b[1;33m[\u001b[0m\u001b[0mname\u001b[0m\u001b[1;33m]\u001b[0m\u001b[1;33m\u001b[0m\u001b[0m\n\u001b[0;32m   1946\u001b[0m             raise AttributeError(\"'%s' object has no attribute '%s'\" %\n\u001b[1;32m-> 1947\u001b[1;33m                                  (type(self).__name__, name))\n\u001b[0m\u001b[0;32m   1948\u001b[0m \u001b[1;33m\u001b[0m\u001b[0m\n\u001b[0;32m   1949\u001b[0m     \u001b[1;32mdef\u001b[0m \u001b[0m__setattr__\u001b[0m\u001b[1;33m(\u001b[0m\u001b[0mself\u001b[0m\u001b[1;33m,\u001b[0m \u001b[0mname\u001b[0m\u001b[1;33m,\u001b[0m \u001b[0mvalue\u001b[0m\u001b[1;33m)\u001b[0m\u001b[1;33m:\u001b[0m\u001b[1;33m\u001b[0m\u001b[0m\n",
        "\u001b[1;31mAttributeError\u001b[0m: 'DataFrame' object has no attribute 'fuzzy'"
       ]
      }
     ],
     "prompt_number": 27
    }
   ],
   "metadata": {}
  }
 ]
}