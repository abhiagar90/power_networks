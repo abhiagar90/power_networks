{
 "metadata": {
  "name": "",
  "signature": "sha256:f227c19a200f5a50eff2fcecac12d4aa1b6961f744c8a9f46a09029ca97eb177"
 },
 "nbformat": 3,
 "nbformat_minor": 0,
 "worksheets": [
  {
   "cells": [
    {
     "cell_type": "code",
     "collapsed": false,
     "input": [
      "from bs4 import BeautifulSoup\n",
      "import pandas as pd\n",
      "import requests as rq\n",
      "import re\n",
      "import hashlib\n",
      "import csv"
     ],
     "language": "python",
     "metadata": {},
     "outputs": [],
     "prompt_number": 35
    },
    {
     "cell_type": "code",
     "collapsed": false,
     "input": [
      "def searchCompanyByName(url):\n",
      "    print url\n",
      "    r = rq.get(url)\n",
      "    data = r.text\n",
      "    soup = BeautifulSoup(data)\n",
      "    base_link = 'https://www.quickcompany.in'\n",
      "    company_names = soup.find_all('h3',attrs={'class':'companyname'})\n",
      "    df = []\n",
      "    l = len(company_names)\n",
      "    print 'no. of names in html - '+str(l) #/2 rmeoved, i think they have corrected that\n",
      "    \n",
      "    if l == 0:\n",
      "        print 'No results for url ='+url\n",
      "        return pd.DataFrame()\n",
      "    \n",
      "    for i in range(l):\n",
      "        c = company_names[i]\n",
      "        link = c.find('a')\n",
      "        cin = c.parent.find('div',attrs = {'class':'lighter'})\n",
      "        dlink = base_link + link['href']\n",
      "        all_lis = c.parent.find('ul').find_all('li') #getting the <li> info\n",
      "        df.append({'Company':c.text.strip(),'CIN':cin.text.strip(),'URL':dlink.strip(),'Status':all_lis[0].find('strong').text,'regplace':all_lis[1].find('strong').text,'regdate':all_lis[2].find('strong').text})\n",
      "    df = pd.DataFrame(df)\n",
      "    return df\n",
      "#url = 'https://www.quickcompany.in/company/search?name=TATA'\n",
      "#searchCompanyByName(url)"
     ],
     "language": "python",
     "metadata": {},
     "outputs": [],
     "prompt_number": 3
    },
    {
     "cell_type": "code",
     "collapsed": false,
     "input": [
      "def sqlQuerytoDF(query,ipaddress,database, user, password):\n",
      "    import MySQLdb as db\n",
      "    from pandas.io.sql import frame_query\n",
      "    database = db.connect(ipaddress, user, password, database)\n",
      "    dirframe = frame_query(query, database)\n",
      "    #dirframe\n",
      "    return dirframe\n",
      "##Usage: sqlQuerytoDF(\"select id,name,office from company;\",\"localhost\",\"himanshu\",\"root\",\"yoyo\")"
     ],
     "language": "python",
     "metadata": {},
     "outputs": [],
     "prompt_number": 14
    },
    {
     "cell_type": "code",
     "collapsed": false,
     "input": [
      "def sqlUpdateQuery(query,ipaddress,database, user, password):\n",
      "    import MySQLdb as db\n",
      "    from pandas.io.sql import frame_query\n",
      "    database = db.connect(ipaddress, user, password, database)\n",
      "    cur = database.cursor()\n",
      "    value=False\n",
      "    try:\n",
      "        cur.execute(query)\n",
      "        database.commit()\n",
      "        value = True\n",
      "    except Exception, e:\n",
      "        print e\n",
      "        database.rollback()\n",
      "    database.close()\n",
      "    return value\n",
      "    #dirframe"
     ],
     "language": "python",
     "metadata": {},
     "outputs": [],
     "prompt_number": 15
    },
    {
     "cell_type": "code",
     "collapsed": false,
     "input": [
      "dirframe = sqlQuerytoDF(\"select id,name from value_table_amartya where id not in (select id from dir_table_amartya);\",'localhost','himanshu','root','yoyo')"
     ],
     "language": "python",
     "metadata": {},
     "outputs": [
      {
       "metadata": {},
       "output_type": "pyout",
       "prompt_number": 16,
       "text": [
        "31"
       ]
      }
     ],
     "prompt_number": 16
    },
    {
     "cell_type": "markdown",
     "metadata": {},
     "source": [
      "#A trial code for adding + in between and removing Pvt Ltd and Corpn\n",
      "tempframe=dirframe[0:1]\n",
      "for x  in tempframe['name']:\n",
      "    x=x.strip()\n",
      "    x=x.replace(' Pvt',' Private')\n",
      "    x=x.replace(' Ltd',' Limited')\n",
      "    x=x.replace(' Corpn',' Corporation')\n",
      "    x=x.strip()\n",
      "    x=x.replace(' ','+')\n",
      "    print x\n",
      "    searchCompanyByName('https://www.quickcompany.in/company/search?name='+x)\n",
      "tempframe"
     ]
    },
    {
     "cell_type": "code",
     "collapsed": false,
     "input": [
      "def getDFForMissingCompannies():\n",
      "    ##will print out in some spl format companies which it could not resolve\n",
      "    ##will ask in between to resolve\n",
      "    ##needs human input\n",
      "    ##write it to some csv?\n",
      "    dirframe = sqlQuerytoDF(\"select id,name from value_table_amartya where id not in (select id from dir_table_amartya);\",'localhost','himanshu','root','yoyo')\n",
      "    df=[]\n",
      "    for index, row in dirframe.iterrows():\n",
      "        x=row['name'].strip()\n",
      "        old=x\n",
      "        x=x.replace(' Pvt',' ')\n",
      "        x=x.replace(' Ltd',' ')\n",
      "        x=x.replace(' Corpn',' Corporation')\n",
      "        if (x.find('(')!=-1):\n",
      "            x = x[0:x.find('(')]+x[x.find(')')+1:]\n",
      "        x=x.strip()\n",
      "        x=x.replace(' ','+')\n",
      "        print x\n",
      "        tempdf = searchCompanyByName('https://www.quickcompany.in/company/search?name='+x)\n",
      "        if(len(tempdf)==1):\n",
      "            df.append({'id':row.id,'company':tempdf.ix[0].Company,\n",
      "                       'cin':tempdf.ix[0].CIN,'url':tempdf.ix[0].URL,'name':old,\n",
      "                       'Status':tempdf.ix[0].Status,'regplace':tempdf.ix[0].regplace,'regdate':tempdf.ix[0].regdate})\n",
      "        elif (len(tempdf)>1):\n",
      "            print \"Please select a company for \" +old\n",
      "            print tempdf\n",
      "            index=raw_input('given an index starting from 0')\n",
      "            index=int(index)\n",
      "            df.append({'id':row.id,'company':tempdf.ix[index].Company,\n",
      "                       'cin':tempdf.ix[index].CIN,'url':tempdf.ix[index].URL,'name':old,\n",
      "                       'Status':tempdf.ix[index].Status,'regplace':tempdf.ix[index].regplace,'regdate':tempdf.ix[index].regdate})\n",
      "        else:\n",
      "            print '!!!!!!!!!! '+x+' !!!!!!!!!!'\n",
      "    df = pd.DataFrame(df)\n",
      "    return df"
     ],
     "language": "python",
     "metadata": {},
     "outputs": [],
     "prompt_number": 44
    },
    {
     "cell_type": "code",
     "collapsed": false,
     "input": [
      "ourdf = getDFForMissingCompannies()"
     ],
     "language": "python",
     "metadata": {},
     "outputs": [
      {
       "output_type": "stream",
       "stream": "stdout",
       "text": [
        "Riddisiddhi+Bullions\n",
        "https://www.quickcompany.in/company/search?name=Riddisiddhi+Bullions\n",
        "no. of names in html - 1"
       ]
      },
      {
       "output_type": "stream",
       "stream": "stdout",
       "text": [
        "\n",
        "Hewlett-Packard+India+Sales\n",
        "https://www.quickcompany.in/company/search?name=Hewlett-Packard+India+Sales\n",
        "no. of names in html - 1"
       ]
      },
      {
       "output_type": "stream",
       "stream": "stdout",
       "text": [
        "\n",
        "Punjab+State+Electricity+Board\n",
        "https://www.quickcompany.in/company/search?name=Punjab+State+Electricity+Board\n",
        "no. of names in html - 0"
       ]
      },
      {
       "output_type": "stream",
       "stream": "stdout",
       "text": [
        "\n",
        "No results for url =https://www.quickcompany.in/company/search?name=Punjab+State+Electricity+Board\n",
        "!!!!!!!!!! Punjab+State+Electricity+Board !!!!!!!!!!\n",
        "Toyota+Kirloskar+Motor\n",
        "https://www.quickcompany.in/company/search?name=Toyota+Kirloskar+Motor\n",
        "no. of names in html - 1"
       ]
      },
      {
       "output_type": "stream",
       "stream": "stdout",
       "text": [
        "\n",
        "Jodhpur+Vidyut+Vitran+Nigam\n",
        "https://www.quickcompany.in/company/search?name=Jodhpur+Vidyut+Vitran+Nigam\n",
        "no. of names in html - 0"
       ]
      },
      {
       "output_type": "stream",
       "stream": "stdout",
       "text": [
        "\n",
        "No results for url =https://www.quickcompany.in/company/search?name=Jodhpur+Vidyut+Vitran+Nigam\n",
        "!!!!!!!!!! Jodhpur+Vidyut+Vitran+Nigam !!!!!!!!!!\n",
        "Mother+Dairy+Fruit+&+Vegetables\n",
        "https://www.quickcompany.in/company/search?name=Mother+Dairy+Fruit+&+Vegetables\n",
        "no. of names in html - 1"
       ]
      },
      {
       "output_type": "stream",
       "stream": "stdout",
       "text": [
        "\n",
        "Pepsico+India+Holdings\n",
        "https://www.quickcompany.in/company/search?name=Pepsico+India+Holdings\n",
        "no. of names in html - 2"
       ]
      },
      {
       "output_type": "stream",
       "stream": "stdout",
       "text": [
        "\n",
        "Please select a company for Pepsico India Holdings Pvt Ltd\n",
        "                     CIN                                            Company  \\\n",
        "0  U15492DL1994ULL057128  PEPSICO INDIA HOLDINGS (PVT.)COMPANY WITH UNLI...   \n",
        "1  U15549HR1994PTC033754             PEPSICO INDIA HOLDINGS PRIVATE LIMITED   \n",
        "\n",
        "      Status                                                URL     regdate  \\\n",
        "0   Dormant   https://www.quickcompany.in/company/pepsico-in...  1994-01-28   \n",
        "1    Active   https://www.quickcompany.in/company/pepsico-in...  1994-01-28   \n",
        "\n",
        "           regplace  \n",
        "0     Delhi, India   \n",
        "1   Haryana, India   \n"
       ]
      },
      {
       "name": "stdout",
       "output_type": "stream",
       "stream": "stdout",
       "text": [
        "given an index starting from 01\n"
       ]
      },
      {
       "output_type": "stream",
       "stream": "stdout",
       "text": [
        "Allanasons\n",
        "https://www.quickcompany.in/company/search?name=Allanasons\n",
        "no. of names in html - 0"
       ]
      },
      {
       "output_type": "stream",
       "stream": "stdout",
       "text": [
        "\n",
        "No results for url =https://www.quickcompany.in/company/search?name=Allanasons\n",
        "!!!!!!!!!! Allanasons !!!!!!!!!!\n",
        "Punjab+State+Civil+Supplies+Corporation\n",
        "https://www.quickcompany.in/company/search?name=Punjab+State+Civil+Supplies+Corporation\n",
        "no. of names in html - 1"
       ]
      },
      {
       "output_type": "stream",
       "stream": "stdout",
       "text": [
        "\n",
        "Siva+Ventures\n",
        "https://www.quickcompany.in/company/search?name=Siva+Ventures\n",
        "no. of names in html - 2"
       ]
      },
      {
       "output_type": "stream",
       "stream": "stdout",
       "text": [
        "\n",
        "Please select a company for Siva Ventures Ltd\n",
        "                     CIN                               Company         Status  \\\n",
        "0  U33111TN1986PLC013119                 SIVA VENTURES LIMITED   Amalgamated    \n",
        "1  U70101DL2013PTC260001  Siva Realty Ventures Private Limited        Active    \n",
        "\n",
        "                                                 URL     regdate  \\\n",
        "0  https://www.quickcompany.in/company/siva-ventu...  1986-06-23   \n",
        "1  https://www.quickcompany.in/company/siva-realt...  2013-11-07   \n",
        "\n",
        "              regplace  \n",
        "0   Tamil Nadu, India   \n",
        "1        Delhi, India   \n"
       ]
      },
      {
       "name": "stdout",
       "output_type": "stream",
       "stream": "stdout",
       "text": [
        "given an index starting from 00\n"
       ]
      },
      {
       "output_type": "stream",
       "stream": "stdout",
       "text": [
        "Shapoorji+Pallonji+&+Co.\n",
        "https://www.quickcompany.in/company/search?name=Shapoorji+Pallonji+&+Co.\n",
        "no. of names in html - 0"
       ]
      },
      {
       "output_type": "stream",
       "stream": "stdout",
       "text": [
        "\n",
        "No results for url =https://www.quickcompany.in/company/search?name=Shapoorji+Pallonji+&+Co.\n",
        "!!!!!!!!!! Shapoorji+Pallonji+&+Co. !!!!!!!!!!\n",
        "Viraj+Profiles\n",
        "https://www.quickcompany.in/company/search?name=Viraj+Profiles\n",
        "no. of names in html - 1"
       ]
      },
      {
       "output_type": "stream",
       "stream": "stdout",
       "text": [
        "\n",
        "Karnataka+Power+Corporation\n",
        "https://www.quickcompany.in/company/search?name=Karnataka+Power+Corporation\n",
        "no. of names in html - 2"
       ]
      },
      {
       "output_type": "stream",
       "stream": "stdout",
       "text": [
        "\n",
        "Please select a company for Karnataka Power Corporation Ltd\n",
        "                     CIN                                           Company  \\\n",
        "0  U85110KA1970SGC001919               KARNATAKA POWER CORPORATION LIMITED   \n",
        "1  U40109KA1999SGC025521  KARNATAKA POWER TRANSMISSION CORPORATION LIMITED   \n",
        "\n",
        "     Status                                                URL     regdate  \\\n",
        "0   Active   https://www.quickcompany.in/company/karnataka-...  1970-07-20   \n",
        "1   Active   https://www.quickcompany.in/company/karnataka-...  1999-07-28   \n",
        "\n",
        "             regplace  \n",
        "0   Karnataka, India   \n",
        "1   Karnataka, India   \n"
       ]
      },
      {
       "name": "stdout",
       "output_type": "stream",
       "stream": "stdout",
       "text": [
        "given an index starting from 00\n"
       ]
      },
      {
       "output_type": "stream",
       "stream": "stdout",
       "text": [
        "Enercon\n",
        "https://www.quickcompany.in/company/search?name=Enercon\n",
        "no. of names in html - 0"
       ]
      },
      {
       "output_type": "stream",
       "stream": "stdout",
       "text": [
        "\n",
        "No results for url =https://www.quickcompany.in/company/search?name=Enercon\n",
        "!!!!!!!!!! Enercon !!!!!!!!!!\n",
        "Acer+India\n",
        "https://www.quickcompany.in/company/search?name=Acer+India\n",
        "no. of names in html - 3"
       ]
      },
      {
       "output_type": "stream",
       "stream": "stdout",
       "text": [
        "\n",
        "Please select a company for Acer India Pvt Ltd\n",
        "                     CIN                                            Company  \\\n",
        "0  U31909KA1999PTC025698                         ACER INDIA PRIVATE LIMITED   \n",
        "1  U45402TN1996PTC034993             ACER DESIGNERS (INDIA) PRIVATE LIMITED   \n",
        "2  U74140KA2002PTC030157  ACER TECHNOLOGY VENTURES ADVISORY (INDIA) PRIV...   \n",
        "\n",
        "                Status                                                URL  \\\n",
        "0              Active   https://www.quickcompany.in/company/acer-india...   \n",
        "1             Dormant   https://www.quickcompany.in/company/acer-desig...   \n",
        "2   Under Liquidation   https://www.quickcompany.in/company/acer-techn...   \n",
        "\n",
        "      regdate             regplace  \n",
        "0  1999-09-09    Karnataka, India   \n",
        "1  1996-03-29   Tamil Nadu, India   \n",
        "2  2002-02-25    Karnataka, India   \n"
       ]
      },
      {
       "name": "stdout",
       "output_type": "stream",
       "stream": "stdout",
       "text": [
        "given an index starting from 00\n"
       ]
      },
      {
       "output_type": "stream",
       "stream": "stdout",
       "text": [
        "HSBC+Electronic+Data+Processing+India\n",
        "https://www.quickcompany.in/company/search?name=HSBC+Electronic+Data+Processing+India\n",
        "no. of names in html - 1"
       ]
      },
      {
       "output_type": "stream",
       "stream": "stdout",
       "text": [
        "\n",
        "Rungta+Mines\n",
        "https://www.quickcompany.in/company/search?name=Rungta+Mines\n",
        "no. of names in html - 1"
       ]
      },
      {
       "output_type": "stream",
       "stream": "stdout",
       "text": [
        "\n",
        "Lanco+Power\n",
        "https://www.quickcompany.in/company/search?name=Lanco+Power\n",
        "no. of names in html - 0"
       ]
      },
      {
       "output_type": "stream",
       "stream": "stdout",
       "text": [
        "\n",
        "No results for url =https://www.quickcompany.in/company/search?name=Lanco+Power\n",
        "!!!!!!!!!! Lanco+Power !!!!!!!!!!\n",
        "Heinz+India\n",
        "https://www.quickcompany.in/company/search?name=Heinz+India\n",
        "no. of names in html - 1"
       ]
      },
      {
       "output_type": "stream",
       "stream": "stdout",
       "text": [
        "\n",
        "Pernod+Ricard+India\n",
        "https://www.quickcompany.in/company/search?name=Pernod+Ricard+India\n",
        "no. of names in html - 1"
       ]
      },
      {
       "output_type": "stream",
       "stream": "stdout",
       "text": [
        "\n",
        "Serum+Institute+of+India\n",
        "https://www.quickcompany.in/company/search?name=Serum+Institute+of+India\n",
        "no. of names in html - 1"
       ]
      },
      {
       "output_type": "stream",
       "stream": "stdout",
       "text": [
        "\n",
        "Gujarat+Paguthan+Energy+Corporation+Private\n",
        "https://www.quickcompany.in/company/search?name=Gujarat+Paguthan+Energy+Corporation+Private\n",
        "no. of names in html - 0"
       ]
      },
      {
       "output_type": "stream",
       "stream": "stdout",
       "text": [
        "\n",
        "No results for url =https://www.quickcompany.in/company/search?name=Gujarat+Paguthan+Energy+Corporation+Private\n",
        "!!!!!!!!!! Gujarat+Paguthan+Energy+Corporation+Private !!!!!!!!!!\n",
        "Microsoft+Corporation+India\n",
        "https://www.quickcompany.in/company/search?name=Microsoft+Corporation+India\n",
        "no. of names in html - 1"
       ]
      },
      {
       "output_type": "stream",
       "stream": "stdout",
       "text": [
        "\n",
        "Schwing+Stetter+India\n",
        "https://www.quickcompany.in/company/search?name=Schwing+Stetter+India\n",
        "no. of names in html - 2"
       ]
      },
      {
       "output_type": "stream",
       "stream": "stdout",
       "text": [
        "\n",
        "Please select a company for Schwing Stetter India Pvt Ltd\n",
        "                     CIN                                  Company    Status  \\\n",
        "0  U99999MH1998PTC115394  SCHWING STETTER (INDIA) PRIVATE LIMITED   Active    \n",
        "1  U45309TN1998PTC046270  SCHWING STETTER (INDIA) PRIVATE LIMITED   Active    \n",
        "\n",
        "                                                 URL     regdate  \\\n",
        "0  https://www.quickcompany.in/company/schwing-st...  1998-06-18   \n",
        "1  https://www.quickcompany.in/company/schwing-st...  1998-06-18   \n",
        "\n",
        "               regplace  \n",
        "0   Maharashtra, India   \n",
        "1    Tamil Nadu, India   \n"
       ]
      },
      {
       "name": "stdout",
       "output_type": "stream",
       "stream": "stdout",
       "text": [
        "given an index starting from 01\n"
       ]
      },
      {
       "output_type": "stream",
       "stream": "stdout",
       "text": [
        "Coastal+Energy\n",
        "https://www.quickcompany.in/company/search?name=Coastal+Energy\n",
        "no. of names in html - 0"
       ]
      },
      {
       "output_type": "stream",
       "stream": "stdout",
       "text": [
        "\n",
        "No results for url =https://www.quickcompany.in/company/search?name=Coastal+Energy\n",
        "!!!!!!!!!! Coastal+Energy !!!!!!!!!!\n",
        "Sudhir+Gensets\n",
        "https://www.quickcompany.in/company/search?name=Sudhir+Gensets\n",
        "no. of names in html - 0"
       ]
      },
      {
       "output_type": "stream",
       "stream": "stdout",
       "text": [
        "\n",
        "No results for url =https://www.quickcompany.in/company/search?name=Sudhir+Gensets\n",
        "!!!!!!!!!! Sudhir+Gensets !!!!!!!!!!\n",
        "Concast+Ispat\n",
        "https://www.quickcompany.in/company/search?name=Concast+Ispat\n",
        "no. of names in html - 1"
       ]
      },
      {
       "output_type": "stream",
       "stream": "stdout",
       "text": [
        "\n",
        "Sahara+India+Real+Estate+Corporation\n",
        "https://www.quickcompany.in/company/search?name=Sahara+India+Real+Estate+Corporation\n",
        "no. of names in html - 1"
       ]
      },
      {
       "output_type": "stream",
       "stream": "stdout",
       "text": [
        "\n",
        "Bilt+Graphic+Papers\n",
        "https://www.quickcompany.in/company/search?name=Bilt+Graphic+Papers\n",
        "no. of names in html - 2"
       ]
      },
      {
       "output_type": "stream",
       "stream": "stdout",
       "text": [
        "\n",
        "Please select a company for Bilt Graphic Papers Ltd (Merged)\n",
        "                     CIN                              Company         Status  \\\n",
        "0  U21010DL1993PLC052866          BILT GRAPHIC PAPERS LIMITED   Amalgamated    \n",
        "1  U21000MH2007PLC172382  BILT GRAPHIC PAPER PRODUCTS LIMITED        Active    \n",
        "\n",
        "                                                 URL     regdate  \\\n",
        "0  https://www.quickcompany.in/company/bilt-graph...  1993-04-02   \n",
        "1  https://www.quickcompany.in/company/bilt-graph...  2007-07-16   \n",
        "\n",
        "               regplace  \n",
        "0         Delhi, India   \n",
        "1   Maharashtra, India   \n"
       ]
      },
      {
       "name": "stdout",
       "output_type": "stream",
       "stream": "stdout",
       "text": [
        "given an index starting from 00\n"
       ]
      },
      {
       "output_type": "stream",
       "stream": "stdout",
       "text": [
        "Writers+and+Publishers\n",
        "https://www.quickcompany.in/company/search?name=Writers+and+Publishers\n",
        "no. of names in html - 2"
       ]
      },
      {
       "output_type": "stream",
       "stream": "stdout",
       "text": [
        "\n",
        "Please select a company for Writers and Publishers Pvt Ltd\n",
        "                     CIN                                 Company     Status  \\\n",
        "0  U22210GJ1981PTC047207  WRITERS AND PUBLISHERS Private LIMITED    Active    \n",
        "1  U22121MP1988PTC004811    AFKAR WRITERS AND PUBLISHERS PVT LTD   Dormant    \n",
        "\n",
        "                                                 URL     regdate  \\\n",
        "0  https://www.quickcompany.in/company/writers-an...  1981-01-13   \n",
        "1  https://www.quickcompany.in/company/afkar-writ...  1988-09-27   \n",
        "\n",
        "                  regplace  \n",
        "0          Gujarat, India   \n",
        "1   Madhya Pradesh, India   \n"
       ]
      },
      {
       "name": "stdout",
       "output_type": "stream",
       "stream": "stdout",
       "text": [
        "given an index starting from 00\n"
       ]
      },
      {
       "output_type": "stream",
       "stream": "stdout",
       "text": [
        "Karnataka+State+Road+Transport+Corporation\n",
        "https://www.quickcompany.in/company/search?name=Karnataka+State+Road+Transport+Corporation\n",
        "no. of names in html - 0"
       ]
      },
      {
       "output_type": "stream",
       "stream": "stdout",
       "text": [
        "\n",
        "No results for url =https://www.quickcompany.in/company/search?name=Karnataka+State+Road+Transport+Corporation\n",
        "!!!!!!!!!! Karnataka+State+Road+Transport+Corporation !!!!!!!!!!\n"
       ]
      }
     ],
     "prompt_number": 40
    },
    {
     "cell_type": "code",
     "collapsed": false,
     "input": [],
     "language": "python",
     "metadata": {},
     "outputs": []
    },
    {
     "cell_type": "code",
     "collapsed": false,
     "input": [
      "readframe=pd.read_csv('QuickCompanyScrape_AddToParag1.csv', index_col=False, quoting=csv.QUOTE_ALL)\n",
      "readframe"
     ],
     "language": "python",
     "metadata": {},
     "outputs": [
      {
       "html": [
        "<div style=\"max-height:1000px;max-width:1500px;overflow:auto;\">\n",
        "<table border=\"1\" class=\"dataframe\">\n",
        "  <thead>\n",
        "    <tr style=\"text-align: right;\">\n",
        "      <th></th>\n",
        "      <th>id</th>\n",
        "      <th>name</th>\n",
        "    </tr>\n",
        "  </thead>\n",
        "  <tbody>\n",
        "    <tr>\n",
        "      <th>0 </th>\n",
        "      <td> 25126</td>\n",
        "      <td>                        Riddisiddhi Bullions Ltd</td>\n",
        "    </tr>\n",
        "    <tr>\n",
        "      <th>1 </th>\n",
        "      <td> 12664</td>\n",
        "      <td>             Hewlett-Packard India Sales Pvt Ltd</td>\n",
        "    </tr>\n",
        "    <tr>\n",
        "      <th>2 </th>\n",
        "      <td> 18469</td>\n",
        "      <td>                  Punjab State Electricity Board</td>\n",
        "    </tr>\n",
        "    <tr>\n",
        "      <th>3 </th>\n",
        "      <td> 19403</td>\n",
        "      <td>                      Toyota Kirloskar Motor Ltd</td>\n",
        "    </tr>\n",
        "    <tr>\n",
        "      <th>4 </th>\n",
        "      <td> 23581</td>\n",
        "      <td>                 Jodhpur Vidyut Vitran Nigam Ltd</td>\n",
        "    </tr>\n",
        "    <tr>\n",
        "      <th>5 </th>\n",
        "      <td> 25590</td>\n",
        "      <td>             Mother Dairy Fruit &amp; Vegetables Ltd</td>\n",
        "    </tr>\n",
        "    <tr>\n",
        "      <th>6 </th>\n",
        "      <td> 13840</td>\n",
        "      <td>                  Pepsico India Holdings Pvt Ltd</td>\n",
        "    </tr>\n",
        "    <tr>\n",
        "      <th>7 </th>\n",
        "      <td> 13330</td>\n",
        "      <td>                                  Allanasons Ltd</td>\n",
        "    </tr>\n",
        "    <tr>\n",
        "      <th>8 </th>\n",
        "      <td> 25007</td>\n",
        "      <td>           Punjab State Civil Supplies Corpn Ltd</td>\n",
        "    </tr>\n",
        "    <tr>\n",
        "      <th>9 </th>\n",
        "      <td> 25501</td>\n",
        "      <td>                               Siva Ventures Ltd</td>\n",
        "    </tr>\n",
        "    <tr>\n",
        "      <th>10</th>\n",
        "      <td> 19321</td>\n",
        "      <td>                    Shapoorji Pallonji &amp; Co. Ltd</td>\n",
        "    </tr>\n",
        "    <tr>\n",
        "      <th>11</th>\n",
        "      <td> 25082</td>\n",
        "      <td>                              Viraj Profiles Ltd</td>\n",
        "    </tr>\n",
        "    <tr>\n",
        "      <th>12</th>\n",
        "      <td> 12054</td>\n",
        "      <td>                 Karnataka Power Corporation Ltd</td>\n",
        "    </tr>\n",
        "    <tr>\n",
        "      <th>13</th>\n",
        "      <td> 20156</td>\n",
        "      <td>                             Enercon (India) Ltd</td>\n",
        "    </tr>\n",
        "    <tr>\n",
        "      <th>14</th>\n",
        "      <td> 20697</td>\n",
        "      <td>                              Acer India Pvt Ltd</td>\n",
        "    </tr>\n",
        "    <tr>\n",
        "      <th>15</th>\n",
        "      <td> 21126</td>\n",
        "      <td>       HSBC Electronic Data Processing India Ltd</td>\n",
        "    </tr>\n",
        "    <tr>\n",
        "      <th>16</th>\n",
        "      <td> 27841</td>\n",
        "      <td>                                Rungta Mines Ltd</td>\n",
        "    </tr>\n",
        "    <tr>\n",
        "      <th>17</th>\n",
        "      <td> 18797</td>\n",
        "      <td>                                 Lanco Power Ltd</td>\n",
        "    </tr>\n",
        "    <tr>\n",
        "      <th>18</th>\n",
        "      <td> 12467</td>\n",
        "      <td>                             Heinz India Pvt Ltd</td>\n",
        "    </tr>\n",
        "    <tr>\n",
        "      <th>19</th>\n",
        "      <td> 16875</td>\n",
        "      <td>                     Pernod Ricard India Pvt Ltd</td>\n",
        "    </tr>\n",
        "    <tr>\n",
        "      <th>20</th>\n",
        "      <td> 20841</td>\n",
        "      <td>                    Serum Institute of India Ltd</td>\n",
        "    </tr>\n",
        "    <tr>\n",
        "      <th>21</th>\n",
        "      <td> 22665</td>\n",
        "      <td> Gujarat Paguthan Energy Corporation Private Ltd</td>\n",
        "    </tr>\n",
        "    <tr>\n",
        "      <th>22</th>\n",
        "      <td> 13068</td>\n",
        "      <td>             Microsoft Corporation India Pvt Ltd</td>\n",
        "    </tr>\n",
        "    <tr>\n",
        "      <th>23</th>\n",
        "      <td> 22061</td>\n",
        "      <td>                   Schwing Stetter India Pvt Ltd</td>\n",
        "    </tr>\n",
        "    <tr>\n",
        "      <th>24</th>\n",
        "      <td> 29555</td>\n",
        "      <td>                          Coastal Energy Pvt Ltd</td>\n",
        "    </tr>\n",
        "    <tr>\n",
        "      <th>25</th>\n",
        "      <td> 18356</td>\n",
        "      <td>                              Sudhir Gensets Ltd</td>\n",
        "    </tr>\n",
        "    <tr>\n",
        "      <th>26</th>\n",
        "      <td> 25525</td>\n",
        "      <td>                               Concast Ispat Ltd</td>\n",
        "    </tr>\n",
        "    <tr>\n",
        "      <th>27</th>\n",
        "      <td>  8044</td>\n",
        "      <td>        Sahara India Real Estate Corporation Ltd</td>\n",
        "    </tr>\n",
        "    <tr>\n",
        "      <th>28</th>\n",
        "      <td> 24961</td>\n",
        "      <td>                Bilt Graphic Papers Ltd (Merged)</td>\n",
        "    </tr>\n",
        "    <tr>\n",
        "      <th>29</th>\n",
        "      <td> 24637</td>\n",
        "      <td>                  Writers and Publishers Pvt Ltd</td>\n",
        "    </tr>\n",
        "    <tr>\n",
        "      <th>30</th>\n",
        "      <td> 13954</td>\n",
        "      <td>            Karnataka State Road Transport Corpn</td>\n",
        "    </tr>\n",
        "  </tbody>\n",
        "</table>\n",
        "</div>"
       ],
       "metadata": {},
       "output_type": "pyout",
       "prompt_number": 43,
       "text": [
        "       id                                             name\n",
        "0   25126                         Riddisiddhi Bullions Ltd\n",
        "1   12664              Hewlett-Packard India Sales Pvt Ltd\n",
        "2   18469                   Punjab State Electricity Board\n",
        "3   19403                       Toyota Kirloskar Motor Ltd\n",
        "4   23581                  Jodhpur Vidyut Vitran Nigam Ltd\n",
        "5   25590              Mother Dairy Fruit & Vegetables Ltd\n",
        "6   13840                   Pepsico India Holdings Pvt Ltd\n",
        "7   13330                                   Allanasons Ltd\n",
        "8   25007            Punjab State Civil Supplies Corpn Ltd\n",
        "9   25501                                Siva Ventures Ltd\n",
        "10  19321                     Shapoorji Pallonji & Co. Ltd\n",
        "11  25082                               Viraj Profiles Ltd\n",
        "12  12054                  Karnataka Power Corporation Ltd\n",
        "13  20156                              Enercon (India) Ltd\n",
        "14  20697                               Acer India Pvt Ltd\n",
        "15  21126        HSBC Electronic Data Processing India Ltd\n",
        "16  27841                                 Rungta Mines Ltd\n",
        "17  18797                                  Lanco Power Ltd\n",
        "18  12467                              Heinz India Pvt Ltd\n",
        "19  16875                      Pernod Ricard India Pvt Ltd\n",
        "20  20841                     Serum Institute of India Ltd\n",
        "21  22665  Gujarat Paguthan Energy Corporation Private Ltd\n",
        "22  13068              Microsoft Corporation India Pvt Ltd\n",
        "23  22061                    Schwing Stetter India Pvt Ltd\n",
        "24  29555                           Coastal Energy Pvt Ltd\n",
        "25  18356                               Sudhir Gensets Ltd\n",
        "26  25525                                Concast Ispat Ltd\n",
        "27   8044         Sahara India Real Estate Corporation Ltd\n",
        "28  24961                 Bilt Graphic Papers Ltd (Merged)\n",
        "29  24637                   Writers and Publishers Pvt Ltd\n",
        "30  13954             Karnataka State Road Transport Corpn"
       ]
      }
     ],
     "prompt_number": 43
    }
   ],
   "metadata": {}
  }
 ]
}