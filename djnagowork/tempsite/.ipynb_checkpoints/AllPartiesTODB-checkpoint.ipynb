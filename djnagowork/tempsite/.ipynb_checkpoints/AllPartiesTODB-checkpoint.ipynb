{
 "metadata": {
  "name": "",
  "signature": "sha256:cc58228656d17b51acf6e50d09593376a1a9a71afdcd8f2dd344969f4e462651"
 },
 "nbformat": 3,
 "nbformat_minor": 0,
 "worksheets": [
  {
   "cells": [
    {
     "cell_type": "code",
     "collapsed": false,
     "input": [
      "def adddots(partyname):\n",
      "    toreturn=''\n",
      "    bracketoff=True\n",
      "    for x in partyname:\n",
      "        if ((x>='A' and x<='Z') or (x>='a' and x<='z')) and bracketoff:\n",
      "            toreturn+=(x+'.')\n",
      "        elif x=='(':\n",
      "            toreturn+=x\n",
      "            bracketoff=False\n",
      "        elif x==')':\n",
      "            toreturn+=x\n",
      "            bracketoff=True\n",
      "        else:\n",
      "            toreturn+=x        \n",
      "    return toreturn\n",
      "somedots=adddots('cpi')\n",
      "if(somedots[-1]=='.'):somedots=somedots[:-1]\n",
      "somedots"
     ],
     "language": "python",
     "metadata": {},
     "outputs": [
      {
       "metadata": {},
       "output_type": "pyout",
       "prompt_number": 9,
       "text": [
        "'c.p.i'"
       ]
      }
     ],
     "prompt_number": 9
    },
    {
     "cell_type": "code",
     "collapsed": false,
     "input": [
      "from first.models import Politicalparty, PoliticalPartyAlias, UnrecognizedParty, Stateparty, Nationalparty\n",
      "Politicalparty.objects.all()\n",
      "Politicalparty.objects.count()"
     ],
     "language": "python",
     "metadata": {},
     "outputs": [
      {
       "metadata": {},
       "output_type": "pyout",
       "prompt_number": 34,
       "text": [
        "1811"
       ]
      }
     ],
     "prompt_number": 34
    },
    {
     "cell_type": "code",
     "collapsed": false,
     "input": [
      "p=Politicalparty"
     ],
     "language": "python",
     "metadata": {},
     "outputs": [],
     "prompt_number": 23
    },
    {
     "cell_type": "code",
     "collapsed": false,
     "input": [
      "unrecparties=Nationalparty.objects.all()\n",
      "for x in unrecparties:\n",
      "    p=Politicalparty()\n",
      "    p.name=x.name\n",
      "    p.abbr=x.abbr\n",
      "    p.symbol=x.symbol\n",
      "    p.foundingyear=x.foundingyear\n",
      "    p.fetchyear=x.fetchyear\n",
      "    p.source=x.source\n",
      "    p.save()"
     ],
     "language": "python",
     "metadata": {},
     "outputs": [],
     "prompt_number": 24
    },
    {
     "cell_type": "code",
     "collapsed": false,
     "input": [
      "allparties=Politicalparty.objects.all()\n",
      "allparties"
     ],
     "language": "python",
     "metadata": {},
     "outputs": [
      {
       "metadata": {},
       "output_type": "pyout",
       "prompt_number": 27,
       "text": [
        "[<Politicalparty: Bharatiya Janata Party>, <Politicalparty: Indian National Congress>, <Politicalparty: Communist Party of India (Marxist)>, <Politicalparty: Communist Party of India>, <Politicalparty: Bahujan Samaj Party>, <Politicalparty: Nationalist Congress Party>, <Politicalparty: Telugu Desam Party>, <Politicalparty: YSR Congress Party>, <Politicalparty: All India Trinamool Congress>, <Politicalparty: People's Party of Arunachal>, <Politicalparty: All India United Democratic Front>, <Politicalparty: Asom Gana Parishad>, <Politicalparty: Rashtriya Jankranti Party>, <Politicalparty: Janata Dal (United)>, <Politicalparty: Lok Janshakti Party>, <Politicalparty: Rashtriya Janata Dal>, <Politicalparty: Rashtriya Lok Samta Party>, <Politicalparty: Maharashtrawadi Gomantak Party>, <Politicalparty: Haryana Janhit Congress (BL)>, <Politicalparty: Indian National Lok Dal>, '...(remaining elements truncated)...']"
       ]
      }
     ],
     "prompt_number": 27
    },
    {
     "cell_type": "code",
     "collapsed": false,
     "input": [
      "stateparties=Stateparty.objects.all()\n",
      "for x in stateparties:\n",
      "    p=Politicalparty()\n",
      "    p.name=x.name\n",
      "    p.abbr=x.abbr\n",
      "    p.symbol=x.symbol\n",
      "    p.foundingyear=x.foundingyear\n",
      "    p.fetchyear=x.fetchyear\n",
      "    p.source=x.source\n",
      "    p.state=x.state\n",
      "    p.save()"
     ],
     "language": "python",
     "metadata": {},
     "outputs": [],
     "prompt_number": 26
    },
    {
     "cell_type": "code",
     "collapsed": false,
     "input": [
      "unrecparties=UnrecognizedParty.objects.all()\n",
      "for x in unrecparties:\n",
      "    p=Politicalparty()\n",
      "    p.name=x.name\n",
      "    p.abbr=x.abbr\n",
      "    p.symbol=x.symbol\n",
      "    p.foundingyear=x.foundingyear\n",
      "    p.fetchyear=x.fetchyear\n",
      "    p.source=x.source\n",
      "    p.save()"
     ],
     "language": "python",
     "metadata": {},
     "outputs": [],
     "prompt_number": 32
    },
    {
     "cell_type": "code",
     "collapsed": false,
     "input": [
      "for party in allparties:\n",
      "    a1=PoliticalPartyAlias()\n",
      "    a1.name=party.name\n",
      "    a1.party=party\n",
      "    a1.is_primary=1\n",
      "    a1.save()\n",
      "    a2=PoliticalPartyAlias()\n",
      "    a2.name=party.abbr\n",
      "    a2.party=party\n",
      "    a2.is_primary=0\n",
      "    a2.save()\n",
      "    a3=PoliticalPartyAlias()\n",
      "    a3.name=adddots(party.abbr)\n",
      "    a3.party=party\n",
      "    a3.is_primary=0\n",
      "    a3.save()"
     ],
     "language": "python",
     "metadata": {},
     "outputs": [],
     "prompt_number": 33
    }
   ],
   "metadata": {}
  }
 ]
}