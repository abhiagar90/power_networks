{
 "metadata": {
  "name": "",
  "signature": "sha256:7b0551bdf6db202f824a96b95a0dffc8d2140851145f2c64cecd4ff7dd1e378c"
 },
 "nbformat": 3,
 "nbformat_minor": 0,
 "worksheets": []
}