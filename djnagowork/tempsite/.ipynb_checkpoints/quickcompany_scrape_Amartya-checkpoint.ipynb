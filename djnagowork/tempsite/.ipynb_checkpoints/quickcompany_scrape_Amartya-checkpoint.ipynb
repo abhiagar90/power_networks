{
 "metadata": {
  "name": ""
 },
 "nbformat": 3,
 "nbformat_minor": 0,
 "worksheets": [
  {
   "cells": [
    {
     "cell_type": "code",
     "collapsed": false,
     "input": [
      "from bs4 import BeautifulSoup\n",
      "import pandas as pd\n",
      "import requests as rq\n",
      "import re"
     ],
     "language": "python",
     "metadata": {},
     "outputs": [],
     "prompt_number": 84
    },
    {
     "cell_type": "code",
     "collapsed": false,
     "input": [
      "\n",
      "def scrapeQCompany(url):\n",
      "    r = rq.get(url)\n",
      "    data = r.text\n",
      "    soup = BeautifulSoup(data)\n",
      "    base_link = 'https://www.quickcompany.in'\n",
      "    company_names = soup.find_all('h3',attrs={'class':'companyname'})\n",
      "    df = []\n",
      "    l = len(company_names)\n",
      "    print 'no. of names in html - '+str(l)\n",
      "    \n",
      "    if l == 0:\n",
      "        print 'No results for url ='+url\n",
      "        return pd.DataFrame()\n",
      "    \n",
      "    for i in range(l/2):\n",
      "        c = company_names[i]\n",
      "        link = c.find('a')\n",
      "        din = c.parent.find('div',attrs = {'class':'lighter'})\n",
      "        dlink = base_link + link['href']\n",
      "        #print 'Name=https://www.quickcompany.in'+link.text\n",
      "        #print 'DIN='+din.text\n",
      "        #print 'url='+dlink\n",
      "        df.append({'Director':c.text.strip(),'DIN':din.text.strip(),'URL':dlink.strip()})\n",
      "    \n",
      "    df = pd.DataFrame(df)\n",
      "    return df\n"
     ],
     "language": "python",
     "metadata": {},
     "outputs": [],
     "prompt_number": 85
    },
    {
     "cell_type": "code",
     "collapsed": false,
     "input": [
      "url = 'https://www.quickcompany.in/company/director?name=asdadasdasda'\n",
      "\n",
      "scrapeQCompany(url)"
     ],
     "language": "python",
     "metadata": {},
     "outputs": [
      {
       "output_type": "stream",
       "stream": "stdout",
       "text": [
        "no. of names in html - 0\n",
        "No results for url =https://www.quickcompany.in/company/director?name=asdadasdasda\n"
       ]
      },
      {
       "html": [
        "<div style=\"max-height:1000px;max-width:1500px;overflow:auto;\">\n",
        "<table border=\"1\" class=\"dataframe\">\n",
        "  <tbody>\n",
        "    <tr>\n",
        "      <td>Index([], dtype='object')</td>\n",
        "      <td>Empty DataFrame</td>\n",
        "    </tr>\n",
        "  </tbody>\n",
        "</table>\n",
        "<p>0 rows \u00d7 0 columns</p>\n",
        "</div>"
       ],
       "metadata": {},
       "output_type": "pyout",
       "prompt_number": 86,
       "text": [
        "Empty DataFrame\n",
        "Columns: []\n",
        "Index: []\n",
        "\n",
        "[0 rows x 0 columns]"
       ]
      }
     ],
     "prompt_number": 86
    },
    {
     "cell_type": "markdown",
     "metadata": {},
     "source": [
      "scrape of above url"
     ]
    },
    {
     "cell_type": "code",
     "collapsed": false,
     "input": [
      "def getDirectorinfo(name_string):\n",
      "    base_url = 'https://www.quickcompany.in/company/director?name='\n",
      "    query = base_url + name_string\n",
      "    return scrapeQCompany(query)\n",
      "\n"
     ],
     "language": "python",
     "metadata": {},
     "outputs": [],
     "prompt_number": 87
    }
   ],
   "metadata": {}
  }
 ]
}