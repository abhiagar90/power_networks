{
 "metadata": {
  "name": "",
  "signature": "sha256:ec186b26d7007d7bcf72381317b81615359ec037a33bb7695ca3dbcd42003ea5"
 },
 "nbformat": 3,
 "nbformat_minor": 0,
 "worksheets": [
  {
   "cells": [
    {
     "cell_type": "code",
     "collapsed": false,
     "input": [
      "import pandas as pd\n",
      "import csv\n",
      "readframe=pd.read_csv('nationalparties.csv', index_col=False, quoting=csv.QUOTE_ALL)\n",
      "readframe.Symbol=readframe.Symbol.str.strip()\n",
      "readframe.Name=readframe.Name.str.strip()\n",
      "nationalframe=readframe\n",
      "nationalframe"
     ],
     "language": "python",
     "metadata": {},
     "outputs": [
      {
       "html": [
        "<div style=\"max-height:1000px;max-width:1500px;overflow:auto;\">\n",
        "<table border=\"1\" class=\"dataframe\">\n",
        "  <thead>\n",
        "    <tr style=\"text-align: right;\">\n",
        "      <th></th>\n",
        "      <th>S.No.</th>\n",
        "      <th>Name</th>\n",
        "      <th>Symbol</th>\n",
        "      <th>FoundationYear</th>\n",
        "      <th>Abbreviation</th>\n",
        "    </tr>\n",
        "  </thead>\n",
        "  <tbody>\n",
        "    <tr>\n",
        "      <th>0</th>\n",
        "      <td> 1</td>\n",
        "      <td>             Bharatiya Janata Party</td>\n",
        "      <td>                      Lotus</td>\n",
        "      <td> 1980</td>\n",
        "      <td>    BJP</td>\n",
        "    </tr>\n",
        "    <tr>\n",
        "      <th>1</th>\n",
        "      <td> 2</td>\n",
        "      <td>           Indian National Congress</td>\n",
        "      <td>                       Hand</td>\n",
        "      <td> 1885</td>\n",
        "      <td>    INC</td>\n",
        "    </tr>\n",
        "    <tr>\n",
        "      <th>2</th>\n",
        "      <td> 3</td>\n",
        "      <td> Communist Party of India (Marxist)</td>\n",
        "      <td>    Hammer, Sickle and Star</td>\n",
        "      <td> 1964</td>\n",
        "      <td> CPI(M)</td>\n",
        "    </tr>\n",
        "    <tr>\n",
        "      <th>3</th>\n",
        "      <td> 4</td>\n",
        "      <td>           Communist Party of India</td>\n",
        "      <td>    Ears of Corn and Sickle</td>\n",
        "      <td> 1925</td>\n",
        "      <td>    CPI</td>\n",
        "    </tr>\n",
        "    <tr>\n",
        "      <th>4</th>\n",
        "      <td> 5</td>\n",
        "      <td>                Bahujan Samaj Party</td>\n",
        "      <td> Elephant (Except in Assam)</td>\n",
        "      <td> 1984</td>\n",
        "      <td>    BSP</td>\n",
        "    </tr>\n",
        "    <tr>\n",
        "      <th>5</th>\n",
        "      <td> 6</td>\n",
        "      <td>         Nationalist Congress Party</td>\n",
        "      <td>                      Clock</td>\n",
        "      <td> 1999</td>\n",
        "      <td>    NSP</td>\n",
        "    </tr>\n",
        "  </tbody>\n",
        "</table>\n",
        "<p>6 rows \u00d7 5 columns</p>\n",
        "</div>"
       ],
       "metadata": {},
       "output_type": "pyout",
       "prompt_number": 1,
       "text": [
        "   S.No.                                Name                      Symbol  \\\n",
        "0      1              Bharatiya Janata Party                       Lotus   \n",
        "1      2            Indian National Congress                        Hand   \n",
        "2      3  Communist Party of India (Marxist)     Hammer, Sickle and Star   \n",
        "3      4            Communist Party of India     Ears of Corn and Sickle   \n",
        "4      5                 Bahujan Samaj Party  Elephant (Except in Assam)   \n",
        "5      6          Nationalist Congress Party                       Clock   \n",
        "\n",
        "   FoundationYear Abbreviation  \n",
        "0            1980          BJP  \n",
        "1            1885          INC  \n",
        "2            1964       CPI(M)  \n",
        "3            1925          CPI  \n",
        "4            1984          BSP  \n",
        "5            1999          NSP  \n",
        "\n",
        "[6 rows x 5 columns]"
       ]
      }
     ],
     "prompt_number": 1
    },
    {
     "cell_type": "code",
     "collapsed": false,
     "input": [
      "from first.models import Nationalparty\n",
      "Nationalparty.objects.all()\n",
      "Nationalparty.objects.count()"
     ],
     "language": "python",
     "metadata": {},
     "outputs": [
      {
       "metadata": {},
       "output_type": "pyout",
       "prompt_number": 3,
       "text": [
        "6"
       ]
      }
     ],
     "prompt_number": 3
    },
    {
     "cell_type": "code",
     "collapsed": false,
     "input": [
      "p=Nationalparty"
     ],
     "language": "python",
     "metadata": {},
     "outputs": [],
     "prompt_number": 4
    },
    {
     "cell_type": "code",
     "collapsed": false,
     "input": [
      "for x in range(0,6):\n",
      "    p=Nationalparty()\n",
      "    p.id=x+1\n",
      "    p.name=nationalframe.Name[x]\n",
      "    p.abbr=nationalframe.Abbreviation[x]\n",
      "    p.symbol=nationalframe.Symbol[x]\n",
      "    p.foundingyear=nationalframe.FoundationYear[x]\n",
      "    p.fetchyear=2015\n",
      "    p.source='http://eci.nic.in/eci_main/ElectoralLaws/OrdersNotifications/year2014/Notification%20English%2013.01.2015.pdf'\n",
      "    p.save()"
     ],
     "language": "python",
     "metadata": {},
     "outputs": [],
     "prompt_number": 5
    },
    {
     "cell_type": "code",
     "collapsed": false,
     "input": [
      "Nat.objects.all()"
     ],
     "language": "python",
     "metadata": {},
     "outputs": [
      {
       "metadata": {},
       "output_type": "pyout",
       "prompt_number": 6,
       "text": [
        "[<States: Andhra Pradesh>, <States: Arunachal Pradesh>, <States: Assam>, <States: Bihar>, <States: Chhattisgarh>, <States: Goa>, <States: Gujarat>, <States: Haryana>, <States: Himachal Pradesh>, <States: Jammu and Kashmir>, <States: Jharkhand>, <States: Karnataka>, <States: Kerala>, <States: Madhya Pradesh>, <States: Maharashtra>, <States: Manipur>, <States: Meghalaya>, <States: Mizoram>, <States: Nagaland>, <States: Odisha>, '...(remaining elements truncated)...']"
       ]
      }
     ],
     "prompt_number": 6
    },
    {
     "cell_type": "code",
     "collapsed": false,
     "input": [],
     "language": "python",
     "metadata": {},
     "outputs": []
    }
   ],
   "metadata": {}
  }
 ]
}