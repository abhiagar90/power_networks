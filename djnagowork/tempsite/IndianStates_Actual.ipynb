{
 "metadata": {
  "name": "",
  "signature": "sha256:fd3b3da5d2cbb20e10235c79d93a297253513fbf476c2ce8add80e2f75f0fdd6"
 },
 "nbformat": 3,
 "nbformat_minor": 0,
 "worksheets": [
  {
   "cells": [
    {
     "cell_type": "code",
     "collapsed": false,
     "input": [
      "import pandas as pd\n",
      "import csv\n",
      "readframe=pd.read_csv('IndianStates2.csv', index_col=False, quoting=csv.QUOTE_ALL)\n",
      "readframe"
     ],
     "language": "python",
     "metadata": {},
     "outputs": [
      {
       "html": [
        "<div style=\"max-height:1000px;max-width:1500px;overflow:auto;\">\n",
        "<table border=\"1\" class=\"dataframe\">\n",
        "  <thead>\n",
        "    <tr style=\"text-align: right;\">\n",
        "      <th></th>\n",
        "      <th>Name</th>\n",
        "      <th>ISOCode</th>\n",
        "      <th>Type</th>\n",
        "    </tr>\n",
        "  </thead>\n",
        "  <tbody>\n",
        "    <tr>\n",
        "      <th>0 </th>\n",
        "      <td>                      Andhra Pradesh</td>\n",
        "      <td> AP</td>\n",
        "      <td> S</td>\n",
        "    </tr>\n",
        "    <tr>\n",
        "      <th>1 </th>\n",
        "      <td>                   Arunachal Pradesh</td>\n",
        "      <td> AR</td>\n",
        "      <td> S</td>\n",
        "    </tr>\n",
        "    <tr>\n",
        "      <th>2 </th>\n",
        "      <td>                               Assam</td>\n",
        "      <td> AS</td>\n",
        "      <td> S</td>\n",
        "    </tr>\n",
        "    <tr>\n",
        "      <th>3 </th>\n",
        "      <td>                               Bihar</td>\n",
        "      <td> BR</td>\n",
        "      <td> S</td>\n",
        "    </tr>\n",
        "    <tr>\n",
        "      <th>4 </th>\n",
        "      <td>                        Chhattisgarh</td>\n",
        "      <td> CT</td>\n",
        "      <td> S</td>\n",
        "    </tr>\n",
        "    <tr>\n",
        "      <th>5 </th>\n",
        "      <td>                                 Goa</td>\n",
        "      <td> GA</td>\n",
        "      <td> S</td>\n",
        "    </tr>\n",
        "    <tr>\n",
        "      <th>6 </th>\n",
        "      <td>                             Gujarat</td>\n",
        "      <td> GJ</td>\n",
        "      <td> S</td>\n",
        "    </tr>\n",
        "    <tr>\n",
        "      <th>7 </th>\n",
        "      <td>                             Haryana</td>\n",
        "      <td> HR</td>\n",
        "      <td> S</td>\n",
        "    </tr>\n",
        "    <tr>\n",
        "      <th>8 </th>\n",
        "      <td>                    Himachal Pradesh</td>\n",
        "      <td> HP</td>\n",
        "      <td> S</td>\n",
        "    </tr>\n",
        "    <tr>\n",
        "      <th>9 </th>\n",
        "      <td>                   Jammu and Kashmir</td>\n",
        "      <td> JK</td>\n",
        "      <td> S</td>\n",
        "    </tr>\n",
        "    <tr>\n",
        "      <th>10</th>\n",
        "      <td>                           Jharkhand</td>\n",
        "      <td> JH</td>\n",
        "      <td> S</td>\n",
        "    </tr>\n",
        "    <tr>\n",
        "      <th>11</th>\n",
        "      <td>                           Karnataka</td>\n",
        "      <td> KA</td>\n",
        "      <td> S</td>\n",
        "    </tr>\n",
        "    <tr>\n",
        "      <th>12</th>\n",
        "      <td>                              Kerala</td>\n",
        "      <td> KL</td>\n",
        "      <td> S</td>\n",
        "    </tr>\n",
        "    <tr>\n",
        "      <th>13</th>\n",
        "      <td>                      Madhya Pradesh</td>\n",
        "      <td> MP</td>\n",
        "      <td> S</td>\n",
        "    </tr>\n",
        "    <tr>\n",
        "      <th>14</th>\n",
        "      <td>                         Maharashtra</td>\n",
        "      <td> MH</td>\n",
        "      <td> S</td>\n",
        "    </tr>\n",
        "    <tr>\n",
        "      <th>15</th>\n",
        "      <td>                             Manipur</td>\n",
        "      <td> MN</td>\n",
        "      <td> S</td>\n",
        "    </tr>\n",
        "    <tr>\n",
        "      <th>16</th>\n",
        "      <td>                           Meghalaya</td>\n",
        "      <td> ML</td>\n",
        "      <td> S</td>\n",
        "    </tr>\n",
        "    <tr>\n",
        "      <th>17</th>\n",
        "      <td>                             Mizoram</td>\n",
        "      <td> MZ</td>\n",
        "      <td> S</td>\n",
        "    </tr>\n",
        "    <tr>\n",
        "      <th>18</th>\n",
        "      <td>                            Nagaland</td>\n",
        "      <td> NL</td>\n",
        "      <td> S</td>\n",
        "    </tr>\n",
        "    <tr>\n",
        "      <th>19</th>\n",
        "      <td>                              Odisha</td>\n",
        "      <td> OR</td>\n",
        "      <td> S</td>\n",
        "    </tr>\n",
        "    <tr>\n",
        "      <th>20</th>\n",
        "      <td>                              Punjab</td>\n",
        "      <td> PB</td>\n",
        "      <td> S</td>\n",
        "    </tr>\n",
        "    <tr>\n",
        "      <th>21</th>\n",
        "      <td>                           Rajasthan</td>\n",
        "      <td> RJ</td>\n",
        "      <td> S</td>\n",
        "    </tr>\n",
        "    <tr>\n",
        "      <th>22</th>\n",
        "      <td>                              Sikkim</td>\n",
        "      <td> SK</td>\n",
        "      <td> S</td>\n",
        "    </tr>\n",
        "    <tr>\n",
        "      <th>23</th>\n",
        "      <td>                          Tamil Nadu</td>\n",
        "      <td> TN</td>\n",
        "      <td> S</td>\n",
        "    </tr>\n",
        "    <tr>\n",
        "      <th>24</th>\n",
        "      <td>                           Telangana</td>\n",
        "      <td> TG</td>\n",
        "      <td> S</td>\n",
        "    </tr>\n",
        "    <tr>\n",
        "      <th>25</th>\n",
        "      <td>                             Tripura</td>\n",
        "      <td> TR</td>\n",
        "      <td> S</td>\n",
        "    </tr>\n",
        "    <tr>\n",
        "      <th>26</th>\n",
        "      <td>                       Uttar Pradesh</td>\n",
        "      <td> UP</td>\n",
        "      <td> S</td>\n",
        "    </tr>\n",
        "    <tr>\n",
        "      <th>27</th>\n",
        "      <td>                         Uttarakhand</td>\n",
        "      <td> UT</td>\n",
        "      <td> S</td>\n",
        "    </tr>\n",
        "    <tr>\n",
        "      <th>28</th>\n",
        "      <td>                         West Bengal</td>\n",
        "      <td> WB</td>\n",
        "      <td> S</td>\n",
        "    </tr>\n",
        "    <tr>\n",
        "      <th>29</th>\n",
        "      <td>         Andaman and Nicobar Islands</td>\n",
        "      <td> AN</td>\n",
        "      <td> U</td>\n",
        "    </tr>\n",
        "    <tr>\n",
        "      <th>30</th>\n",
        "      <td>                          Chandigarh</td>\n",
        "      <td> CH</td>\n",
        "      <td> U</td>\n",
        "    </tr>\n",
        "    <tr>\n",
        "      <th>31</th>\n",
        "      <td>              Dadra and Nagar Haveli</td>\n",
        "      <td> DN</td>\n",
        "      <td> U</td>\n",
        "    </tr>\n",
        "    <tr>\n",
        "      <th>32</th>\n",
        "      <td>                       Daman and Diu</td>\n",
        "      <td> DD</td>\n",
        "      <td> U</td>\n",
        "    </tr>\n",
        "    <tr>\n",
        "      <th>33</th>\n",
        "      <td>                         Lakshadweep</td>\n",
        "      <td> LD</td>\n",
        "      <td> U</td>\n",
        "    </tr>\n",
        "    <tr>\n",
        "      <th>34</th>\n",
        "      <td> National Capital Territory of Delhi</td>\n",
        "      <td> DL</td>\n",
        "      <td> U</td>\n",
        "    </tr>\n",
        "    <tr>\n",
        "      <th>35</th>\n",
        "      <td>                          Puducherry</td>\n",
        "      <td> PY</td>\n",
        "      <td> U</td>\n",
        "    </tr>\n",
        "  </tbody>\n",
        "</table>\n",
        "</div>"
       ],
       "metadata": {},
       "output_type": "pyout",
       "prompt_number": 1,
       "text": [
        "                                   Name ISOCode Type\n",
        "0                        Andhra Pradesh      AP    S\n",
        "1                     Arunachal Pradesh      AR    S\n",
        "2                                 Assam      AS    S\n",
        "3                                 Bihar      BR    S\n",
        "4                          Chhattisgarh      CT    S\n",
        "5                                   Goa      GA    S\n",
        "6                               Gujarat      GJ    S\n",
        "7                               Haryana      HR    S\n",
        "8                      Himachal Pradesh      HP    S\n",
        "9                     Jammu and Kashmir      JK    S\n",
        "10                            Jharkhand      JH    S\n",
        "11                            Karnataka      KA    S\n",
        "12                               Kerala      KL    S\n",
        "13                       Madhya Pradesh      MP    S\n",
        "14                          Maharashtra      MH    S\n",
        "15                              Manipur      MN    S\n",
        "16                            Meghalaya      ML    S\n",
        "17                              Mizoram      MZ    S\n",
        "18                             Nagaland      NL    S\n",
        "19                               Odisha      OR    S\n",
        "20                               Punjab      PB    S\n",
        "21                            Rajasthan      RJ    S\n",
        "22                               Sikkim      SK    S\n",
        "23                           Tamil Nadu      TN    S\n",
        "24                            Telangana      TG    S\n",
        "25                              Tripura      TR    S\n",
        "26                        Uttar Pradesh      UP    S\n",
        "27                          Uttarakhand      UT    S\n",
        "28                          West Bengal      WB    S\n",
        "29          Andaman and Nicobar Islands      AN    U\n",
        "30                           Chandigarh      CH    U\n",
        "31               Dadra and Nagar Haveli      DN    U\n",
        "32                        Daman and Diu      DD    U\n",
        "33                          Lakshadweep      LD    U\n",
        "34  National Capital Territory of Delhi      DL    U\n",
        "35                           Puducherry      PY    U"
       ]
      }
     ],
     "prompt_number": 1
    },
    {
     "cell_type": "code",
     "collapsed": false,
     "input": [
      "for x in readframe.Name:\n",
      "    print x,"
     ],
     "language": "python",
     "metadata": {},
     "outputs": [
      {
       "output_type": "stream",
       "stream": "stdout",
       "text": [
        "Andhra Pradesh Arunachal Pradesh Assam Bihar Chhattisgarh Goa Gujarat Haryana Himachal Pradesh Jammu and Kashmir Jharkhand Karnataka Kerala Madhya Pradesh Maharashtra Manipur Meghalaya Mizoram Nagaland Odisha Punjab Rajasthan Sikkim Tamil Nadu Telangana Tripura Uttar Pradesh Uttarakhand West Bengal Andaman and Nicobar Islands Chandigarh Dadra and Nagar Haveli Daman and Diu Lakshadweep National Capital Territory of Delhi Puducherry\n"
       ]
      }
     ],
     "prompt_number": 2
    },
    {
     "cell_type": "code",
     "collapsed": false,
     "input": [
      "from first.models import Entity\n",
      "from first.models import States\n",
      "from django.utils import timezone"
     ],
     "language": "python",
     "metadata": {},
     "outputs": [],
     "prompt_number": 10
    },
    {
     "cell_type": "code",
     "collapsed": false,
     "input": [
      "for x in range(1,37):\n",
      "    print x, "
     ],
     "language": "python",
     "metadata": {},
     "outputs": [
      {
       "output_type": "stream",
       "stream": "stdout",
       "text": [
        "1 2 3 4 5 6 7 8 9 10 11 12 13 14 15 16 17 18 19 20 21 22 23 24 25 26 27 28 29 30 31 32 33 34 35 36\n"
       ]
      }
     ],
     "prompt_number": 27
    },
    {
     "cell_type": "code",
     "collapsed": false,
     "input": [
      "readframe.Type[0]"
     ],
     "language": "python",
     "metadata": {},
     "outputs": [
      {
       "metadata": {},
       "output_type": "pyout",
       "prompt_number": 19,
       "text": [
        "'S'"
       ]
      }
     ],
     "prompt_number": 19
    },
    {
     "cell_type": "code",
     "collapsed": false,
     "input": [
      "for x in range(0,36):\n",
      "    e=Entity()\n",
      "    e.name=readframe.Name[x]\n",
      "    e.is_current=1\n",
      "    e.primary_ext='States'\n",
      "    e.is_deleted=0\n",
      "    if readframe.Type[x]=='S':\n",
      "        e.summary=e.name+' is an Indian State'\n",
      "        e.blurb=e.name+' is an Indian State'\n",
      "    else:\n",
      "        e.summary=e.name+' is an Indian Union Territory'\n",
      "        e.blurb=e.name+' is an Indian Union Territory'\n",
      "    e.created_at=timezone.now() #should be a trigger here\n",
      "    e.updated_at=timezone.now() #should be a trigger here\n",
      "    e.save() #only after saving can you execute the next line\n",
      "    e.states_set.create(fullname=readframe.Name[x],isocode=readframe.ISOCode[x],typeof=readframe.Type[x],entity=e)\n",
      "    e.alias_set.create(name=readframe.Name[x], is_primary=1, created_at=timezone.now(), updated_at=timezone.now())"
     ],
     "language": "python",
     "metadata": {},
     "outputs": [],
     "prompt_number": 48
    },
    {
     "cell_type": "code",
     "collapsed": false,
     "input": [
      "States.objects.all()"
     ],
     "language": "python",
     "metadata": {},
     "outputs": [
      {
       "metadata": {},
       "output_type": "pyout",
       "prompt_number": 24,
       "text": [
        "[<States: Andhra Pradesh>, <States: Arunachal Pradesh>, <States: Assam>, <States: Bihar>, <States: Chhattisgarh>, <States: Goa>, <States: Gujarat>, <States: Haryana>, <States: Himachal Pradesh>, <States: Jammu and Kashmir>, <States: Jharkhand>, <States: Karnataka>, <States: Kerala>, <States: Madhya Pradesh>, <States: Maharashtra>, <States: Manipur>, <States: Meghalaya>, <States: Mizoram>, <States: Nagaland>, <States: Odisha>, '...(remaining elements truncated)...']"
       ]
      }
     ],
     "prompt_number": 24
    },
    {
     "cell_type": "code",
     "collapsed": false,
     "input": [
      "Entity.objects.all()"
     ],
     "language": "python",
     "metadata": {},
     "outputs": [
      {
       "metadata": {},
       "output_type": "pyout",
       "prompt_number": 25,
       "text": [
        "[<Entity: Andhra Pradesh>, <Entity: Arunachal Pradesh>, <Entity: Assam>, <Entity: Bihar>, <Entity: Chhattisgarh>, <Entity: Goa>, <Entity: Gujarat>, <Entity: Haryana>, <Entity: Himachal Pradesh>, <Entity: Jammu and Kashmir>, <Entity: Jharkhand>, <Entity: Karnataka>, <Entity: Kerala>, <Entity: Madhya Pradesh>, <Entity: Maharashtra>, <Entity: Manipur>, <Entity: Meghalaya>, <Entity: Mizoram>, <Entity: Nagaland>, <Entity: Odisha>, '...(remaining elements truncated)...']"
       ]
      }
     ],
     "prompt_number": 25
    },
    {
     "cell_type": "code",
     "collapsed": false,
     "input": [
      "e=Entity.objects.filter(name='Odisha')[0]\n",
      "e.alias_set.create(name='Orissa', is_primary=0, created_at=timezone.now(), updated_at=timezone.now())"
     ],
     "language": "python",
     "metadata": {},
     "outputs": [
      {
       "metadata": {},
       "output_type": "pyout",
       "prompt_number": 49,
       "text": [
        "<Alias: Orissa>"
       ]
      }
     ],
     "prompt_number": 49
    },
    {
     "cell_type": "code",
     "collapsed": false,
     "input": [
      "e=Entity.objects.filter(name='National Capital Territory of Delhi')[0]\n",
      "e.alias_set.create(name='Delhi', is_primary=1, created_at=timezone.now(), updated_at=timezone.now())\n",
      "e.alias_set.create(name='New Delhi', is_primary=0, created_at=timezone.now(), updated_at=timezone.now())\n",
      "e.alias_set.create(name='NCT', is_primary=0, created_at=timezone.now(), updated_at=timezone.now())\n",
      "e.alias_set.create(name='NCT of Delhi', is_primary=0, created_at=timezone.now(), updated_at=timezone.now())"
     ],
     "language": "python",
     "metadata": {},
     "outputs": [
      {
       "metadata": {},
       "output_type": "pyout",
       "prompt_number": 50,
       "text": [
        "<Alias: NCT of Delhi>"
       ]
      }
     ],
     "prompt_number": 50
    }
   ],
   "metadata": {}
  }
 ]
}