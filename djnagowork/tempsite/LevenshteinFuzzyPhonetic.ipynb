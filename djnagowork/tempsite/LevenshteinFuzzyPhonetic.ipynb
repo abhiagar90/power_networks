{
 "metadata": {
  "name": "",
  "signature": "sha256:746e30af7e8690e1d9db9128aa8e9ba403b1a36bdffef8bdc7379e481e059581"
 },
 "nbformat": 3,
 "nbformat_minor": 0,
 "worksheets": [
  {
   "cells": [
    {
     "cell_type": "code",
     "collapsed": false,
     "input": [
      "import Levenshtein\n",
      "Levenshtein.ratio('hello world', 'hello')"
     ],
     "language": "python",
     "metadata": {},
     "outputs": [
      {
       "metadata": {},
       "output_type": "pyout",
       "prompt_number": 35,
       "text": [
        "0.625"
       ]
      }
     ],
     "prompt_number": 35
    },
    {
     "cell_type": "code",
     "collapsed": false,
     "input": [
      "from fuzzywuzzy import fuzz\n",
      "fuzz.ratio(\"hello world\",\"world hello\")"
     ],
     "language": "python",
     "metadata": {},
     "outputs": [
      {
       "metadata": {},
       "output_type": "pyout",
       "prompt_number": 14,
       "text": [
        "45"
       ]
      }
     ],
     "prompt_number": 14
    },
    {
     "cell_type": "code",
     "collapsed": false,
     "input": [
      "fuzz.partial_ratio(\"hello world\",\"world hello\")"
     ],
     "language": "python",
     "metadata": {},
     "outputs": [
      {
       "metadata": {},
       "output_type": "pyout",
       "prompt_number": 13,
       "text": [
        "45"
       ]
      }
     ],
     "prompt_number": 13
    },
    {
     "cell_type": "code",
     "collapsed": false,
     "input": [
      "fuzz.partial_token_set_ratio(\"hello world\", \"world\")"
     ],
     "language": "python",
     "metadata": {},
     "outputs": [
      {
       "metadata": {},
       "output_type": "pyout",
       "prompt_number": 23,
       "text": [
        "100"
       ]
      }
     ],
     "prompt_number": 23
    },
    {
     "cell_type": "code",
     "collapsed": false,
     "input": [
      "somenames=['Abhi','Abhishek','Abhinav','Abhiral','Abhay','Raj','Suman','Summan','Aadi']\n",
      "from fuzzywuzzy import process\n",
      "process.extractBests(\"Abhi\", somenames)"
     ],
     "language": "python",
     "metadata": {},
     "outputs": [
      {
       "metadata": {},
       "output_type": "pyout",
       "prompt_number": 36,
       "text": [
        "[('Abhi', 100),\n",
        " ('Abhishek', 90),\n",
        " ('Abhinav', 90),\n",
        " ('Abhiral', 90),\n",
        " ('Abhay', 67)]"
       ]
      }
     ],
     "prompt_number": 36
    },
    {
     "cell_type": "code",
     "collapsed": false,
     "input": [
      "#L distance with pandas\n",
      "import pandas as pd\n",
      "import csv\n",
      "candframe=pd.read_csv('myneta.2014_againfetched.csv', index_col=False, quoting=csv.QUOTE_ALL)\n",
      "candframe.Party=candframe.Party.str.lower()\n",
      "candframe.Candidate=candframe.Candidate.str.lower()\n",
      "\n",
      "candframe['dummy'] = 0 #do this for both cols,frames :  to cross product\n",
      "prod = pd.merge(candframe[:50], candframe[:50], on='dummy') #join on dummy only\n",
      "#clean up\n",
      "del prod['dummy'] #result\n",
      "del candframe['dummy'] #both the tables, frames\n",
      "prod['distance'] = prod.apply(lambda r: Levenshtein.ratio(r['Candidate_x'], r['Candidate_y']), axis=1)\n",
      "prod[prod.distance>0.9][['Candidate_x','Candidate_y']]"
     ],
     "language": "python",
     "metadata": {},
     "outputs": [
      {
       "html": [
        "<div style=\"max-height:1000px;max-width:1500px;overflow:auto;\">\n",
        "<table border=\"1\" class=\"dataframe\">\n",
        "  <thead>\n",
        "    <tr style=\"text-align: right;\">\n",
        "      <th></th>\n",
        "      <th>Candidate_x</th>\n",
        "      <th>Candidate_y</th>\n",
        "    </tr>\n",
        "  </thead>\n",
        "  <tbody>\n",
        "  </tbody>\n",
        "</table>\n",
        "</div>"
       ],
       "metadata": {},
       "output_type": "pyout",
       "prompt_number": 60,
       "text": [
        "Empty DataFrame\n",
        "Columns: [Candidate_x, Candidate_y]\n",
        "Index: []"
       ]
      }
     ],
     "prompt_number": 60
    },
    {
     "cell_type": "code",
     "collapsed": false,
     "input": [
      "#seems promising\n",
      "# http://www.informit.com/articles/article.aspx?p=1848528\n",
      "#https://github.com/sunlightlabs/jellyfish"
     ],
     "language": "python",
     "metadata": {},
     "outputs": [],
     "prompt_number": 58
    }
   ],
   "metadata": {}
  }
 ]
}