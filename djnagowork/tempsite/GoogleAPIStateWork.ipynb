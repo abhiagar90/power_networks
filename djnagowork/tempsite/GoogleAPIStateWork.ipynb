{
 "metadata": {
  "name": "",
  "signature": "sha256:5afda4b4a413e0105c7232b1052a1783efab7de2bd677dfe8e7e49a7dc855d3d"
 },
 "nbformat": 3,
 "nbformat_minor": 0,
 "worksheets": [
  {
   "cells": [
    {
     "cell_type": "code",
     "collapsed": false,
     "input": [
      "from bs4 import BeautifulSoup\n",
      "import pandas as pd\n",
      "import requests as rq\n",
      "import re\n",
      "from first.models import QcBod,QcCompany,QcDirector,QTrack,QQuery\n",
      "import hashlib"
     ],
     "language": "python",
     "metadata": {},
     "outputs": [],
     "prompt_number": 1
    },
    {
     "cell_type": "code",
     "collapsed": false,
     "input": [
      "def getStateName(address):\n",
      "    url='http://maps.googleapis.com/maps/api/geocode/xml?address=\\\"' + address + '\\\"&sensor=true'\n",
      "    r = rq.get(url)\n",
      "    print r.url\n",
      "    data = r.text\n",
      "    soup = BeautifulSoup(data)\n",
      "    address_components = soup.find_all('address_component')\n",
      "    l = len(address_components)\n",
      "    if l <= 1:\n",
      "        print 'No results for url ='+url\n",
      "        return \"\"\n",
      "    else:\n",
      "        return address_components[-2].find('long_name').text\n",
      "#getStateName('Sadar Bajar Jhansi')"
     ],
     "language": "python",
     "metadata": {},
     "outputs": [],
     "prompt_number": 14
    },
    {
     "cell_type": "code",
     "collapsed": false,
     "input": [
      "for i in range(l):\n",
      "        c = company_names[i]\n",
      "        link = c.find('a')\n",
      "        cin = c.parent.find('div',attrs = {'class':'lighter'})\n",
      "        dlink = base_link + link['href']\n",
      "        all_lis = c.parent.find('ul').find_all('li') #getting the <li> info\n",
      "        df.append({'Company':c.text.strip(),'CIN':cin.text.strip(),'URL':dlink.strip(),'Status':all_lis[0].find('strong').text,'regplace':all_lis[1].find('strong').text,'regdate':all_lis[2].find('strong').text})\n",
      "    df = pd.DataFrame(df)\n",
      "    return df\n",
      "url = 'https://www.quickcompany.in/company/company?utf8=%E2%9C%93&name=TATA+METALS+AND+STRIPS+LIMITED'\n",
      "searchCompanyByName(url)"
     ],
     "language": "python",
     "metadata": {},
     "outputs": []
    }
   ],
   "metadata": {}
  }
 ]
}