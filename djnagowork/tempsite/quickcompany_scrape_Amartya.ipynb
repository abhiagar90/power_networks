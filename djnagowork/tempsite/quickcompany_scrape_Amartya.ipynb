{
 "metadata": {
  "name": "",
  "signature": "sha256:5df856d0524cd391a888afa34cdbef08a8059c43cd08aa6a9dd69cc0b34f416c"
 },
 "nbformat": 3,
 "nbformat_minor": 0,
 "worksheets": [
  {
   "cells": [
    {
     "cell_type": "code",
     "collapsed": false,
     "input": [
      "from bs4 import BeautifulSoup\n",
      "import pandas as pd\n",
      "import requests as rq\n",
      "import re"
     ],
     "language": "python",
     "metadata": {},
     "outputs": [],
     "prompt_number": 84
    },
    {
     "cell_type": "code",
     "collapsed": false,
     "input": [
      "\n",
      "def scrapeQCompany(url):\n",
      "    r = rq.get(url)\n",
      "    data = r.text\n",
      "    soup = BeautifulSoup(data)\n",
      "    base_link = 'https://www.quickcompany.in'\n",
      "    company_names = soup.find_all('h3',attrs={'class':'companyname'})\n",
      "    df = []\n",
      "    l = len(company_names)\n",
      "    print 'no. of names in html - '+str(l)\n",
      "    \n",
      "    if l == 0:\n",
      "        print 'No results for url ='+url\n",
      "        return pd.DataFrame()\n",
      "    \n",
      "    for i in range(l/2):\n",
      "        c = company_names[i]\n",
      "        link = c.find('a')\n",
      "        din = c.parent.find('div',attrs = {'class':'lighter'})\n",
      "        dlink = base_link + link['href']\n",
      "        #print 'Name=https://www.quickcompany.in'+link.text\n",
      "        #print 'DIN='+din.text\n",
      "        #print 'url='+dlink\n",
      "        df.append({'Director':c.text.strip(),'DIN':din.text.strip(),'URL':dlink.strip()})\n",
      "    \n",
      "    df = pd.DataFrame(df)\n",
      "    return df\n"
     ],
     "language": "python",
     "metadata": {},
     "outputs": [],
     "prompt_number": 85
    },
    {
     "cell_type": "code",
     "collapsed": false,
     "input": [
      "url = 'https://www.quickcompany.in/company/director?name=asdadasdasda'\n",
      "\n",
      "scrapeQCompany(url)"
     ],
     "language": "python",
     "metadata": {},
     "outputs": [
      {
       "ename": "NameError",
       "evalue": "name 'scrapeQCompany' is not defined",
       "output_type": "pyerr",
       "traceback": [
        "\u001b[1;31m---------------------------------------------------------------------------\u001b[0m\n\u001b[1;31mNameError\u001b[0m                                 Traceback (most recent call last)",
        "\u001b[1;32m<ipython-input-1-e651be405613>\u001b[0m in \u001b[0;36m<module>\u001b[1;34m()\u001b[0m\n\u001b[0;32m      1\u001b[0m \u001b[0murl\u001b[0m \u001b[1;33m=\u001b[0m \u001b[1;34m'https://www.quickcompany.in/company/director?name=asdadasdasda'\u001b[0m\u001b[1;33m\u001b[0m\u001b[0m\n\u001b[0;32m      2\u001b[0m \u001b[1;33m\u001b[0m\u001b[0m\n\u001b[1;32m----> 3\u001b[1;33m \u001b[0mscrapeQCompany\u001b[0m\u001b[1;33m(\u001b[0m\u001b[0murl\u001b[0m\u001b[1;33m)\u001b[0m\u001b[1;33m\u001b[0m\u001b[0m\n\u001b[0m",
        "\u001b[1;31mNameError\u001b[0m: name 'scrapeQCompany' is not defined"
       ]
      }
     ],
     "prompt_number": 1
    },
    {
     "cell_type": "markdown",
     "metadata": {},
     "source": [
      "scrape of above url"
     ]
    },
    {
     "cell_type": "code",
     "collapsed": false,
     "input": [
      "def getDirectorinfo(name_string):\n",
      "    base_url = 'https://www.quickcompany.in/company/director?name='\n",
      "    query = base_url + name_string\n",
      "    return scrapeQCompany(query)\n",
      "\n"
     ],
     "language": "python",
     "metadata": {},
     "outputs": [],
     "prompt_number": 87
    }
   ],
   "metadata": {}
  }
 ]
}