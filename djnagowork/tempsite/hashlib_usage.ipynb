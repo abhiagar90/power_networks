{
 "metadata": {
  "name": "",
  "signature": "sha256:b4120e33e7ccaf3af067a3fde3307b82cc797e594eebdded7bad55376eb1dc6b"
 },
 "nbformat": 3,
 "nbformat_minor": 0,
 "worksheets": [
  {
   "cells": [
    {
     "cell_type": "code",
     "collapsed": false,
     "input": [
      "from first.models import QTrack\n",
      "q=QTrack()\n",
      "q.mynetaid=34\n",
      "q.save()\n",
      "q2=QTrack.objects.filter(mynetaid=34)\n",
      "if not q2:\n",
      "    "
     ],
     "language": "python",
     "metadata": {},
     "outputs": [],
     "prompt_number": 16
    },
    {
     "cell_type": "code",
     "collapsed": false,
     "input": [
      "from first.models import QQuery\n",
      "import hashlib\n",
      "q=QQuery()\n",
      "q.hashmyfield = hashlib.md5(\"whatever your string is\").hexdigest()\n",
      "q.save()\n",
      "q2=QQuery.objects.filter(hashmyfield=hashlib.md5(\"whatever your string is\").hexdigest())\n",
      "q2[0].id"
     ],
     "language": "python",
     "metadata": {},
     "outputs": [
      {
       "metadata": {},
       "output_type": "pyout",
       "prompt_number": 10,
       "text": [
        "4L"
       ]
      }
     ],
     "prompt_number": 10
    }
   ],
   "metadata": {}
  }
 ]
}