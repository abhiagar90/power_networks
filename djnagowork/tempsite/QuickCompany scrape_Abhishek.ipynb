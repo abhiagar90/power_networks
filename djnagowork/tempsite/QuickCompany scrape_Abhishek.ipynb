{
 "metadata": {
  "name": "",
  "signature": "sha256:5cfde9f5931a85facc790159b0d0e2fb644675d6f96b42c0205a776370815d30"
 },
 "nbformat": 3,
 "nbformat_minor": 0,
 "worksheets": [
  {
   "cells": [
    {
     "cell_type": "markdown",
     "metadata": {},
     "source": [
      "Motive is to match from ADR datasets , business personnel to their companies"
     ]
    },
    {
     "cell_type": "code",
     "collapsed": false,
     "input": [
      "#sudo apt-get install python-bs4\n",
      "#sudo apt-get install python-requests\n",
      "from bs4 import BeautifulSoup\n",
      "import pandas as pd\n",
      "import requests as rq\n",
      "import re"
     ],
     "language": "python",
     "metadata": {},
     "outputs": [],
     "prompt_number": 12
    },
    {
     "cell_type": "code",
     "collapsed": false,
     "input": [
      "def searchDirector(name):\n",
      "    r = rq.get(url)\n",
      "    data = r.text\n",
      "    soup = BeautifulSoup(data)\n",
      "    base_link = 'https://www.quickcompany.in'\n",
      "    company_names = soup.find_all('h3',attrs={'class':'companyname'})\n",
      "    df = []\n",
      "    l = len(company_names)\n",
      "    print 'no. of names in html - '+str(l)\n",
      "    \n",
      "    if l == 0:\n",
      "        print 'No results for url ='+url\n",
      "        return pd.DataFrame()\n",
      "    \n",
      "    for i in range(l/2):\n",
      "        c = company_names[i]\n",
      "        link = c.find('a')\n",
      "        din = c.parent.find('div',attrs = {'class':'lighter'})\n",
      "        dlink = base_link + link['href']\n",
      "        #print 'Name=https://www.quickcompany.in'+link.text\n",
      "        #print 'DIN='+din.text\n",
      "        #print 'url='+dlink\n",
      "        df.append({'Director':c.text.strip(),'DIN':din.text.strip(),'URL':dlink.strip()})\n",
      "    \n",
      "    df = pd.DataFrame(df)\n",
      "    return df"
     ],
     "language": "python",
     "metadata": {},
     "outputs": [],
     "prompt_number": 147
    },
    {
     "cell_type": "code",
     "collapsed": false,
     "input": [
      "url = 'https://www.quickcompany.in/company/director?name=Amartya'\n",
      "\n",
      "searchDirector(url)"
     ],
     "language": "python",
     "metadata": {},
     "outputs": [
      {
       "output_type": "stream",
       "stream": "stdout",
       "text": [
        "no. of names in html - 24\n"
       ]
      },
      {
       "html": [
        "<div style=\"max-height:1000px;max-width:1500px;overflow:auto;\">\n",
        "<table border=\"1\" class=\"dataframe\">\n",
        "  <thead>\n",
        "    <tr style=\"text-align: right;\">\n",
        "      <th></th>\n",
        "      <th>DIN</th>\n",
        "      <th>Director</th>\n",
        "      <th>URL</th>\n",
        "    </tr>\n",
        "  </thead>\n",
        "  <tbody>\n",
        "    <tr>\n",
        "      <th>0 </th>\n",
        "      <td>   264382</td>\n",
        "      <td>    AMARTYA DUTTAGUPTA</td>\n",
        "      <td> https://www.quickcompany.in/director/264382-am...</td>\n",
        "    </tr>\n",
        "    <tr>\n",
        "      <th>1 </th>\n",
        "      <td>  1825124</td>\n",
        "      <td>        AMARTYA  SINHA</td>\n",
        "      <td> https://www.quickcompany.in/director/1825124-a...</td>\n",
        "    </tr>\n",
        "    <tr>\n",
        "      <th>2 </th>\n",
        "      <td>  6466302</td>\n",
        "      <td>   AMARTYA KUMAR GHOSE</td>\n",
        "      <td> https://www.quickcompany.in/director/6466302-a...</td>\n",
        "    </tr>\n",
        "    <tr>\n",
        "      <th>3 </th>\n",
        "      <td>   224754</td>\n",
        "      <td>        AMARTYA SIKDAR</td>\n",
        "      <td> https://www.quickcompany.in/director/224754-am...</td>\n",
        "    </tr>\n",
        "    <tr>\n",
        "      <th>4 </th>\n",
        "      <td>  5357644</td>\n",
        "      <td>           AMARTYA RAJ</td>\n",
        "      <td> https://www.quickcompany.in/director/5357644-a...</td>\n",
        "    </tr>\n",
        "    <tr>\n",
        "      <th>5 </th>\n",
        "      <td> 00264382</td>\n",
        "      <td>    AMARTYA DUTTAGUPTA</td>\n",
        "      <td> https://www.quickcompany.in/director/00264382-...</td>\n",
        "    </tr>\n",
        "    <tr>\n",
        "      <th>6 </th>\n",
        "      <td> 00505891</td>\n",
        "      <td> AMARTYA RAY CHAUDHURI</td>\n",
        "      <td> https://www.quickcompany.in/director/00505891-...</td>\n",
        "    </tr>\n",
        "    <tr>\n",
        "      <th>7 </th>\n",
        "      <td> 01827244</td>\n",
        "      <td>        AMARTYA  KONAR</td>\n",
        "      <td> https://www.quickcompany.in/director/01827244-...</td>\n",
        "    </tr>\n",
        "    <tr>\n",
        "      <th>8 </th>\n",
        "      <td> 06466302</td>\n",
        "      <td>   AMARTYA KUMAR GHOSE</td>\n",
        "      <td> https://www.quickcompany.in/director/06466302-...</td>\n",
        "    </tr>\n",
        "    <tr>\n",
        "      <th>9 </th>\n",
        "      <td> 00224754</td>\n",
        "      <td>        AMARTYA SIKDAR</td>\n",
        "      <td> https://www.quickcompany.in/director/00224754-...</td>\n",
        "    </tr>\n",
        "    <tr>\n",
        "      <th>10</th>\n",
        "      <td> 01825124</td>\n",
        "      <td>        AMARTYA  SINHA</td>\n",
        "      <td> https://www.quickcompany.in/director/01825124-...</td>\n",
        "    </tr>\n",
        "    <tr>\n",
        "      <th>11</th>\n",
        "      <td> 06627531</td>\n",
        "      <td>   Amartya Chakraborty</td>\n",
        "      <td> https://www.quickcompany.in/director/06627531-...</td>\n",
        "    </tr>\n",
        "  </tbody>\n",
        "</table>\n",
        "</div>"
       ],
       "metadata": {},
       "output_type": "pyout",
       "prompt_number": 149,
       "text": [
        "         DIN               Director  \\\n",
        "0     264382     AMARTYA DUTTAGUPTA   \n",
        "1    1825124         AMARTYA  SINHA   \n",
        "2    6466302    AMARTYA KUMAR GHOSE   \n",
        "3     224754         AMARTYA SIKDAR   \n",
        "4    5357644            AMARTYA RAJ   \n",
        "5   00264382     AMARTYA DUTTAGUPTA   \n",
        "6   00505891  AMARTYA RAY CHAUDHURI   \n",
        "7   01827244         AMARTYA  KONAR   \n",
        "8   06466302    AMARTYA KUMAR GHOSE   \n",
        "9   00224754         AMARTYA SIKDAR   \n",
        "10  01825124         AMARTYA  SINHA   \n",
        "11  06627531    Amartya Chakraborty   \n",
        "\n",
        "                                                  URL  \n",
        "0   https://www.quickcompany.in/director/264382-am...  \n",
        "1   https://www.quickcompany.in/director/1825124-a...  \n",
        "2   https://www.quickcompany.in/director/6466302-a...  \n",
        "3   https://www.quickcompany.in/director/224754-am...  \n",
        "4   https://www.quickcompany.in/director/5357644-a...  \n",
        "5   https://www.quickcompany.in/director/00264382-...  \n",
        "6   https://www.quickcompany.in/director/00505891-...  \n",
        "7   https://www.quickcompany.in/director/01827244-...  \n",
        "8   https://www.quickcompany.in/director/06466302-...  \n",
        "9   https://www.quickcompany.in/director/00224754-...  \n",
        "10  https://www.quickcompany.in/director/01825124-...  \n",
        "11  https://www.quickcompany.in/director/06627531-...  "
       ]
      }
     ],
     "prompt_number": 149
    },
    {
     "cell_type": "code",
     "collapsed": false,
     "input": [
      "def scrapeDirectorsPageQuickCompany(url):\n",
      "    r = rq.get(url)\n",
      "    data = r.text\n",
      "    \n",
      "    df = pd.DataFrame()\n",
      "    \n",
      "    soup = BeautifulSoup(data)\n",
      "    \n",
      "    tablediv = soup.find('div', attrs={'class':\"table-responsive\"})\n",
      "    #print tablediv\n",
      "    table = tablediv.find('table')\n",
      "    \n",
      "    #print table    \n",
      "    rows = table.find_all('tr') \n",
      "    \n",
      "    \n",
      "    data2 = []\n",
      "    for row in rows:\n",
      "        cols = row.find_all('td') \n",
      "        if len(cols) > 0:\n",
      "            dict2 = {'CompanyName':cols[0].text,'Link':'http://www.quickcompany.in'+cols[0].find('a').get('href')}\n",
      "            data2.append(dict2)\n",
      "    \n",
      "    df  = pd.DataFrame(data2)\n",
      "\n",
      "    \n",
      "    \n",
      "    return df\n"
     ],
     "language": "python",
     "metadata": {},
     "outputs": [],
     "prompt_number": 50
    },
    {
     "cell_type": "code",
     "collapsed": false,
     "input": [
      "url = \"https://www.quickcompany.in/director/1072151-abu-hasem-khanchowdhury\""
     ],
     "language": "python",
     "metadata": {},
     "outputs": [],
     "prompt_number": 48
    },
    {
     "cell_type": "code",
     "collapsed": false,
     "input": [
      "scrapeDirectorsPageQuickCompany(url)"
     ],
     "language": "python",
     "metadata": {},
     "outputs": [
      {
       "html": [
        "<div style=\"max-height:1000px;max-width:1500px;overflow:auto;\">\n",
        "<table border=\"1\" class=\"dataframe\">\n",
        "  <thead>\n",
        "    <tr style=\"text-align: right;\">\n",
        "      <th></th>\n",
        "      <th>CompanyName</th>\n",
        "      <th>Link</th>\n",
        "    </tr>\n",
        "  </thead>\n",
        "  <tbody>\n",
        "    <tr>\n",
        "      <th>0</th>\n",
        "      <td> A.L.M.(REAL ESTATES) PVT.LTD.</td>\n",
        "      <td> http://www.quickcompany.in/company/a-l-m-real-...</td>\n",
        "    </tr>\n",
        "    <tr>\n",
        "      <th>1</th>\n",
        "      <td>  ANUSANDHAN PACKAGING PVT LTD</td>\n",
        "      <td> http://www.quickcompany.in/company/anusandhan-...</td>\n",
        "    </tr>\n",
        "    <tr>\n",
        "      <th>2</th>\n",
        "      <td>          GOUR SHOE CO PVT LTD</td>\n",
        "      <td> http://www.quickcompany.in/company/gour-shoe-c...</td>\n",
        "    </tr>\n",
        "  </tbody>\n",
        "</table>\n",
        "</div>"
       ],
       "metadata": {},
       "output_type": "pyout",
       "prompt_number": 51,
       "text": [
        "                     CompanyName  \\\n",
        "0  A.L.M.(REAL ESTATES) PVT.LTD.   \n",
        "1   ANUSANDHAN PACKAGING PVT LTD   \n",
        "2           GOUR SHOE CO PVT LTD   \n",
        "\n",
        "                                                Link  \n",
        "0  http://www.quickcompany.in/company/a-l-m-real-...  \n",
        "1  http://www.quickcompany.in/company/anusandhan-...  \n",
        "2  http://www.quickcompany.in/company/gour-shoe-c...  "
       ]
      }
     ],
     "prompt_number": 51
    },
    {
     "cell_type": "code",
     "collapsed": false,
     "input": [
      "def prettyTitleForDF(text):\n",
      "    text = text.replace(\" \",\"\")\n",
      "    text = text.replace(\"(\",\"\")\n",
      "    text = text.replace(\")\",\"\")\n",
      "    text = text.replace(\"-\",\"\")\n",
      "    return text"
     ],
     "language": "python",
     "metadata": {},
     "outputs": [],
     "prompt_number": 143
    },
    {
     "cell_type": "code",
     "collapsed": false,
     "input": [
      "def getDirectorDf(maindiv, cin):\n",
      "    #get director's table details\n",
      "    table = maindiv.find('table')\n",
      "    rows = table.find_all('tr') \n",
      "    \n",
      "    data2 = []\n",
      "    for row in rows:\n",
      "        cols = row.find_all('td') \n",
      "        if len(cols) > 0:\n",
      "            dict2 = {'DIN':cols[0].text,\n",
      "                     'CIN':cin,\n",
      "                     'Name':cols[1].text, \n",
      "                     'Link':'http://www.quickcompany.in'+cols[1].find('a').get('href'),                  \n",
      "                     'Address':cols[2].text,\n",
      "                     'Designation':cols[3].text,\n",
      "                     'DOA':cols[4].text,\n",
      "                     'DSC_Status':cols[5].text}\n",
      "            data2.append(dict2)\n",
      "    \n",
      "    dirdf  = pd.DataFrame(data2)\n",
      "    return dirdf"
     ],
     "language": "python",
     "metadata": {},
     "outputs": [],
     "prompt_number": 131
    },
    {
     "cell_type": "code",
     "collapsed": false,
     "input": [
      "def getCompanyDf(maindiv, curl,cname):\n",
      "    cintext = maindiv.find('h3',attrs={'class':\"lighter truncate\"})\n",
      "    cin  = cintext.text[5:] #TODO: parse\n",
      "    maindict ={}\n",
      "    maindict['CIN'] = cin\n",
      "    maindict['Name'] = cname\n",
      "    maindict['q_url'] = curl\n",
      "    #get all other details\n",
      "    allrows = maindiv.find_all('div', attrs={'class':'row'})\n",
      "    for row in allrows:\n",
      "        onlyrow_details = row.find_all('div', attrs={'class':'col-xs-6'})\n",
      "        if len(onlyrow_details) == 2:\n",
      "            maindict[prettyTitleForDF(onlyrow_details[0].text)] = onlyrow_details[1].text \n",
      "            \n",
      "    print maindict\n",
      "    \n",
      "    cmpnydf = pd.DataFrame([maindict])\n",
      "    return cmpnydf"
     ],
     "language": "python",
     "metadata": {},
     "outputs": [],
     "prompt_number": 140
    },
    {
     "cell_type": "code",
     "collapsed": false,
     "input": [
      "def scrapeCompanyPageQuickCompany(url, c_name):\n",
      "    \n",
      "    r = rq.get(url)\n",
      "    data = r.text\n",
      "    \n",
      "    df = pd.DataFrame()\n",
      "    \n",
      "    soup = BeautifulSoup(data)\n",
      "    \n",
      "    maindiv = soup.find('div', attrs={'class':\"col-md-9\"})\n",
      "    \n",
      "    \n",
      "    cintext = maindiv.find('h3',attrs={'class':\"lighter truncate\"})\n",
      "    cin  = cintext.text[5:]\n",
      "    \n",
      "    \n",
      "    cmpnydf=getCompanyDf(maindiv, url, c_name)\n",
      "    \n",
      "    \n",
      "    return cmpnydf"
     ],
     "language": "python",
     "metadata": {},
     "outputs": [],
     "prompt_number": 141
    },
    {
     "cell_type": "code",
     "collapsed": false,
     "input": [
      "url_company ='https://www.quickcompany.in/company/a-l-m-real-estates-pvt-ltd'\n",
      "df=scrapeCompanyPageQuickCompany(url_company, '')\n",
      "df.columns"
     ],
     "language": "python",
     "metadata": {},
     "outputs": [
      {
       "output_type": "stream",
       "stream": "stdout",
       "text": [
        "{u'EmailID': u'rajkjalan29@gmail.com', 'Name': '', u'CompanyCategory': u'Company Limited by Shares', u'RegistrationState': u'RoC-Kolkata', 'q_url': 'https://www.quickcompany.in/company/a-l-m-real-estates-pvt-ltd', u'DateofIncorporation': u'1984-04-23', 'CIN': u'U70101WB1984PTC037414', u'DateofLastAnnualGeneralMeeting': u'2014-09-30', u'DateofLatestBalanceSheet': u'2014-03-31', u'AuthorizedShareCapital': u'Rs.500,000.00', u'RegistrationNumber': u'037414', u'CompanySubCategory': u'Indian Non Government Company', u'PaidUpCapital': u'Rs.497,000.00', u'NumberofMembers': u'0', u'Listingstatus': u'Unlisted', u'CompanyStatusforeFiling': u'Active', u'ClassofCompany': u'Private Limited', u'RegisteredOfficeAddress': u'NEELAMBER BUILDING28 B  SHALESPEAR SARANI, , KOL, West Bengal, INDIA 700017'}\n"
       ]
      },
      {
       "metadata": {},
       "output_type": "pyout",
       "prompt_number": 152,
       "text": [
        "Index([u'AuthorizedShareCapital', u'CIN', u'ClassofCompany', u'CompanyCategory', u'CompanyStatusforeFiling', u'CompanySubCategory', u'DateofIncorporation', u'DateofLastAnnualGeneralMeeting', u'DateofLatestBalanceSheet', u'EmailID', u'Listingstatus', u'Name', u'NumberofMembers', u'PaidUpCapital', u'RegisteredOfficeAddress', u'RegistrationNumber', u'RegistrationState', u'q_url'], dtype='object')"
       ]
      }
     ],
     "prompt_number": 152
    },
    {
     "cell_type": "raw",
     "metadata": {},
     "source": [
      "create table director1(din varchar(10), name varchar(120), qclink varchar(500), address varchar(1000), designation varchar(20), doa varchar(15), dsc_status varchar(30))\n",
      "\n",
      "create table company1(AuthorizedShareCapital, u'CIN', u'ClassofCompany', u'CompanyCategory', u'CompanyStatusforeFiling', u'CompanySubCategory', u'DateofIncorporation', u'DateofLastAnnualGeneralMeeting', u'DateofLatestBalanceSheet', u'EmailID', u'Listingstatus', u'Name', u'NumberofMembers', u'PaidUpCapital', u'RegisteredOfficeAddress', u'RegistrationNumber', u'RegistrationState', u'q_url'], dtype='object')\n",
      ")"
     ]
    }
   ],
   "metadata": {}
  }
 ]
}