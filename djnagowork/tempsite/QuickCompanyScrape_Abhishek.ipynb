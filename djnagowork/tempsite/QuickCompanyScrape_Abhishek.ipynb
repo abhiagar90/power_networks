{
 "metadata": {
  "name": "",
  "signature": "sha256:5864e283f1dc667321a361b004e521edfc4274a47b59feb5010806a2f1c15322"
 },
 "nbformat": 3,
 "nbformat_minor": 0,
 "worksheets": [
  {
   "cells": [
    {
     "cell_type": "code",
     "collapsed": false,
     "input": [
      "from bs4 import BeautifulSoup\n",
      "import pandas as pd\n",
      "import requests as rq\n",
      "import re\n",
      "from first.models import QcBod,QcCompany,QcDirector,QTrack,QQuery\n",
      "import hashlib"
     ],
     "language": "python",
     "metadata": {},
     "outputs": [],
     "prompt_number": 5
    },
    {
     "cell_type": "code",
     "collapsed": false,
     "input": [
      "def searchCompanyByName(url):\n",
      "    print url\n",
      "    r = rq.get(url)\n",
      "    data = r.text\n",
      "    soup = BeautifulSoup(data)\n",
      "    base_link = 'https://www.quickcompany.in'\n",
      "    company_names = soup.find_all('h3',attrs={'class':'companyname'})\n",
      "    df = []\n",
      "    l = len(company_names)\n",
      "    print 'no. of names in html - '+str(l) #/2 rmeoved, i think they have corrected that\n",
      "    \n",
      "    if l == 0:\n",
      "        print 'No results for url ='+url\n",
      "        return pd.DataFrame()\n",
      "    \n",
      "    for i in range(l):\n",
      "        c = company_names[i]\n",
      "        link = c.find('a')\n",
      "        cin = c.parent.find('div',attrs = {'class':'lighter'})\n",
      "        dlink = base_link + link['href']\n",
      "        all_lis = c.parent.find('ul').find_all('li') #getting the <li> info\n",
      "        df.append({'Company':c.text.strip(),'CIN':cin.text.strip(),'URL':dlink.strip(),'Status':all_lis[0].find('strong').text,'regplace':all_lis[1].find('strong').text,'regdate':all_lis[2].find('strong').text})\n",
      "    df = pd.DataFrame(df)\n",
      "    return df\n",
      "url = 'https://www.quickcompany.in/company/company?utf8=%E2%9C%93&name=TATA+METALS+AND+STRIPS+LIMITED'\n",
      "searchCompanyByName(url)"
     ],
     "language": "python",
     "metadata": {},
     "outputs": [
      {
       "output_type": "stream",
       "stream": "stdout",
       "text": [
        "https://www.quickcompany.in/company/company?utf8=%E2%9C%93&name=TATA+METALS+AND+STRIPS+LIMITED\n",
        "no. of names in html - 1"
       ]
      },
      {
       "output_type": "stream",
       "stream": "stdout",
       "text": [
        "\n"
       ]
      },
      {
       "html": [
        "<div style=\"max-height:1000px;max-width:1500px;overflow:auto;\">\n",
        "<table border=\"1\" class=\"dataframe\">\n",
        "  <thead>\n",
        "    <tr style=\"text-align: right;\">\n",
        "      <th></th>\n",
        "      <th>CIN</th>\n",
        "      <th>Company</th>\n",
        "      <th>Status</th>\n",
        "      <th>URL</th>\n",
        "      <th>regdate</th>\n",
        "      <th>regplace</th>\n",
        "    </tr>\n",
        "  </thead>\n",
        "  <tbody>\n",
        "    <tr>\n",
        "      <th>0</th>\n",
        "      <td> U17120MH1903PLC000187</td>\n",
        "      <td> TATA METALS AND STRIPS LIMITED</td>\n",
        "      <td>  Amalgamated </td>\n",
        "      <td> https://www.quickcompany.in/company/tata-metal...</td>\n",
        "      <td> 1903-06-30</td>\n",
        "      <td>  Maharashtra, India </td>\n",
        "    </tr>\n",
        "  </tbody>\n",
        "</table>\n",
        "</div>"
       ],
       "metadata": {},
       "output_type": "pyout",
       "prompt_number": 23,
       "text": [
        "                     CIN                         Company         Status  \\\n",
        "0  U17120MH1903PLC000187  TATA METALS AND STRIPS LIMITED   Amalgamated    \n",
        "\n",
        "                                                 URL     regdate  \\\n",
        "0  https://www.quickcompany.in/company/tata-metal...  1903-06-30   \n",
        "\n",
        "               regplace  \n",
        "0   Maharashtra, India   "
       ]
      }
     ],
     "prompt_number": 23
    },
    {
     "cell_type": "code",
     "collapsed": false,
     "input": [
      "import MySQLdb as db\n",
      "from pandas.io.sql import frame_query\n",
      "database = db.connect('localhost','root','yoyo','himanshu')\n",
      "dirframe = frame_query(\"select id,name from value_table_amartya where id not in (select id from dir_table_amartya);\", database)\n",
      "#dirframe\n",
      "len(dirframe)  "
     ],
     "language": "python",
     "metadata": {},
     "outputs": [
      {
       "metadata": {},
       "output_type": "pyout",
       "prompt_number": 41,
       "text": [
        "31"
       ]
      }
     ],
     "prompt_number": 41
    },
    {
     "cell_type": "code",
     "collapsed": false,
     "input": [
      "tempframe=dirframe[0:0]\n",
      "for x  in tempframe['name']:\n",
      "    x=x.strip()\n",
      "    x=x.replace(' Pvt',' Private')\n",
      "    x=x.replace(' Ltd',' Limited')\n",
      "    x=x.replace(' Corpn',' Corporation')\n",
      "    x=x.strip()\n",
      "    x=x.replace(' ','+')\n",
      "    print x\n",
      "    searchCompanyByName('https://www.quickcompany.in/company/company?name='+x)"
     ],
     "language": "python",
     "metadata": {},
     "outputs": [
      {
       "ename": "NameError",
       "evalue": "name 'dirframe' is not defined",
       "output_type": "pyerr",
       "traceback": [
        "\u001b[1;31m---------------------------------------------------------------------------\u001b[0m\n\u001b[1;31mNameError\u001b[0m                                 Traceback (most recent call last)",
        "\u001b[1;32m<ipython-input-3-1b2d37ad79ff>\u001b[0m in \u001b[0;36m<module>\u001b[1;34m()\u001b[0m\n\u001b[1;32m----> 1\u001b[1;33m \u001b[0mtempframe\u001b[0m\u001b[1;33m=\u001b[0m\u001b[0mdirframe\u001b[0m\u001b[1;33m[\u001b[0m\u001b[1;36m0\u001b[0m\u001b[1;33m:\u001b[0m\u001b[1;36m0\u001b[0m\u001b[1;33m]\u001b[0m\u001b[1;33m\u001b[0m\u001b[0m\n\u001b[0m\u001b[0;32m      2\u001b[0m \u001b[1;32mfor\u001b[0m \u001b[0mx\u001b[0m  \u001b[1;32min\u001b[0m \u001b[0mtempframe\u001b[0m\u001b[1;33m[\u001b[0m\u001b[1;34m'name'\u001b[0m\u001b[1;33m]\u001b[0m\u001b[1;33m:\u001b[0m\u001b[1;33m\u001b[0m\u001b[0m\n\u001b[0;32m      3\u001b[0m     \u001b[0mx\u001b[0m\u001b[1;33m=\u001b[0m\u001b[0mx\u001b[0m\u001b[1;33m.\u001b[0m\u001b[0mstrip\u001b[0m\u001b[1;33m(\u001b[0m\u001b[1;33m)\u001b[0m\u001b[1;33m\u001b[0m\u001b[0m\n\u001b[0;32m      4\u001b[0m     \u001b[0mx\u001b[0m\u001b[1;33m=\u001b[0m\u001b[0mx\u001b[0m\u001b[1;33m.\u001b[0m\u001b[0mreplace\u001b[0m\u001b[1;33m(\u001b[0m\u001b[1;34m' Pvt'\u001b[0m\u001b[1;33m,\u001b[0m\u001b[1;34m' Private'\u001b[0m\u001b[1;33m)\u001b[0m\u001b[1;33m\u001b[0m\u001b[0m\n\u001b[0;32m      5\u001b[0m     \u001b[0mx\u001b[0m\u001b[1;33m=\u001b[0m\u001b[0mx\u001b[0m\u001b[1;33m.\u001b[0m\u001b[0mreplace\u001b[0m\u001b[1;33m(\u001b[0m\u001b[1;34m' Ltd'\u001b[0m\u001b[1;33m,\u001b[0m\u001b[1;34m' Limited'\u001b[0m\u001b[1;33m)\u001b[0m\u001b[1;33m\u001b[0m\u001b[0m\n",
        "\u001b[1;31mNameError\u001b[0m: name 'dirframe' is not defined"
       ]
      }
     ],
     "prompt_number": 3
    },
    {
     "cell_type": "code",
     "collapsed": false,
     "input": [
      "tempframe=dirframe[0:31]\n",
      "df=[]\n",
      "for x in tempframe['name']:\n",
      "    old=x\n",
      "    y=tempframe[tempframe.name==x]\n",
      "    print int(y.id)\n",
      "    x=x.strip()\n",
      "    x=x.replace(' Pvt',' ')\n",
      "    x=x.replace(' Ltd',' ')\n",
      "    x=x.replace(' Corpn',' Corporation')\n",
      "    x=x.strip()\n",
      "    x=x.replace(' ','+')\n",
      "    print x\n",
      "    tempdf = searchCompanyByName('https://www.quickcompany.in/company/company?name='+x)\n",
      "    if(len(tempdf)==1):\n",
      "        df.append({'id':int(y.id),'company':tempdf.Company,\n",
      "                   'cin':tempdf.CIN,'url':tempdf.URL,'name':old,\n",
      "                   'Status':tempdf.Status,'regplace':tempdf.regplace,'regdate':tempdf.regdate})\n",
      "    elif (len(tempdf)>1):\n",
      "        print \"Please select a company for \" +old\n",
      "        print tempdf\n",
      "        index=raw_input('given an index starting from 0')\n",
      "        index=int(index)\n",
      "        df.append({'id':int(y.id),'company':tempdf.ix[index].Company,\n",
      "                   'cin':tempdf.ix[index].CIN,'url':tempdf.ix[index].URL,'name':old,\n",
      "                   'Status':tempdf.ix[index].Status,'regplace':tempdf.ix[index].regplace,'regdate':tempdf.ix[index].regdate})\n",
      "df = pd.DataFrame(df)\n",
      "return df"
     ],
     "language": "python",
     "metadata": {},
     "outputs": [
      {
       "output_type": "stream",
       "stream": "stdout",
       "text": [
        "25126\n",
        "Riddisiddhi+Bullions\n",
        "https://www.quickcompany.in/company/company?name=Riddisiddhi+Bullions\n",
        "no. of names in html - 1"
       ]
      },
      {
       "output_type": "stream",
       "stream": "stdout",
       "text": [
        "\n",
        "12664\n",
        "Hewlett-Packard+India+Sales\n",
        "https://www.quickcompany.in/company/company?name=Hewlett-Packard+India+Sales\n",
        "no. of names in html - 1"
       ]
      },
      {
       "output_type": "stream",
       "stream": "stdout",
       "text": [
        "\n",
        "18469\n",
        "Punjab+State+Electricity+Board\n",
        "https://www.quickcompany.in/company/company?name=Punjab+State+Electricity+Board\n",
        "no. of names in html - 0"
       ]
      },
      {
       "output_type": "stream",
       "stream": "stdout",
       "text": [
        "\n",
        "No results for url =https://www.quickcompany.in/company/company?name=Punjab+State+Electricity+Board\n",
        "19403\n",
        "Toyota+Kirloskar+Motor\n",
        "https://www.quickcompany.in/company/company?name=Toyota+Kirloskar+Motor\n",
        "no. of names in html - 1"
       ]
      },
      {
       "output_type": "stream",
       "stream": "stdout",
       "text": [
        "\n",
        "23581\n",
        "Jodhpur+Vidyut+Vitran+Nigam\n",
        "https://www.quickcompany.in/company/company?name=Jodhpur+Vidyut+Vitran+Nigam\n",
        "no. of names in html - 0"
       ]
      },
      {
       "output_type": "stream",
       "stream": "stdout",
       "text": [
        "\n",
        "No results for url =https://www.quickcompany.in/company/company?name=Jodhpur+Vidyut+Vitran+Nigam\n",
        "25590\n",
        "Mother+Dairy+Fruit+&+Vegetables\n",
        "https://www.quickcompany.in/company/company?name=Mother+Dairy+Fruit+&+Vegetables\n",
        "no. of names in html - 1"
       ]
      },
      {
       "output_type": "stream",
       "stream": "stdout",
       "text": [
        "\n",
        "13840\n",
        "Pepsico+India+Holdings\n",
        "https://www.quickcompany.in/company/company?name=Pepsico+India+Holdings\n",
        "no. of names in html - 2"
       ]
      },
      {
       "output_type": "stream",
       "stream": "stdout",
       "text": [
        "\n",
        "Please select a company for Pepsico India Holdings Pvt Ltd\n",
        "                     CIN                                            Company  \\\n",
        "0  U15492DL1994ULL057128  PEPSICO INDIA HOLDINGS (PVT.)COMPANY WITH UNLI...   \n",
        "1  U15549HR1994PTC033754             PEPSICO INDIA HOLDINGS PRIVATE LIMITED   \n",
        "\n",
        "      Status                                                URL     regdate  \\\n",
        "0   Dormant   https://www.quickcompany.in/company/pepsico-in...  1994-01-28   \n",
        "1    Active   https://www.quickcompany.in/company/pepsico-in...  1994-01-28   \n",
        "\n",
        "           regplace  \n",
        "0     Delhi, India   \n",
        "1   Haryana, India   \n"
       ]
      },
      {
       "name": "stdout",
       "output_type": "stream",
       "stream": "stdout",
       "text": [
        "given an index starting from 01\n"
       ]
      },
      {
       "output_type": "stream",
       "stream": "stdout",
       "text": [
        "13330\n",
        "Allanasons\n",
        "https://www.quickcompany.in/company/company?name=Allanasons\n",
        "no. of names in html - 0"
       ]
      },
      {
       "output_type": "stream",
       "stream": "stdout",
       "text": [
        "\n",
        "No results for url =https://www.quickcompany.in/company/company?name=Allanasons\n",
        "25007\n",
        "Punjab+State+Civil+Supplies+Corporation\n",
        "https://www.quickcompany.in/company/company?name=Punjab+State+Civil+Supplies+Corporation\n",
        "no. of names in html - 1"
       ]
      },
      {
       "output_type": "stream",
       "stream": "stdout",
       "text": [
        "\n",
        "25501\n",
        "Siva+Ventures\n",
        "https://www.quickcompany.in/company/company?name=Siva+Ventures\n",
        "no. of names in html - 2"
       ]
      },
      {
       "output_type": "stream",
       "stream": "stdout",
       "text": [
        "\n",
        "Please select a company for Siva Ventures Ltd\n",
        "                     CIN                               Company         Status  \\\n",
        "0  U33111TN1986PLC013119                 SIVA VENTURES LIMITED   Amalgamated    \n",
        "1  U70101DL2013PTC260001  Siva Realty Ventures Private Limited        Active    \n",
        "\n",
        "                                                 URL     regdate  \\\n",
        "0  https://www.quickcompany.in/company/siva-ventu...  1986-06-23   \n",
        "1  https://www.quickcompany.in/company/siva-realt...  2013-11-07   \n",
        "\n",
        "              regplace  \n",
        "0   Tamil Nadu, India   \n",
        "1        Delhi, India   \n"
       ]
      },
      {
       "name": "stdout",
       "output_type": "stream",
       "stream": "stdout",
       "text": [
        "given an index starting from 00\n"
       ]
      },
      {
       "output_type": "stream",
       "stream": "stdout",
       "text": [
        "19321\n",
        "Shapoorji+Pallonji+&+Co.\n",
        "https://www.quickcompany.in/company/company?name=Shapoorji+Pallonji+&+Co.\n",
        "no. of names in html - 0"
       ]
      },
      {
       "output_type": "stream",
       "stream": "stdout",
       "text": [
        "\n",
        "No results for url =https://www.quickcompany.in/company/company?name=Shapoorji+Pallonji+&+Co.\n",
        "25082\n",
        "Viraj+Profiles\n",
        "https://www.quickcompany.in/company/company?name=Viraj+Profiles\n",
        "no. of names in html - 1"
       ]
      },
      {
       "output_type": "stream",
       "stream": "stdout",
       "text": [
        "\n",
        "12054\n",
        "Karnataka+Power+Corporation\n",
        "https://www.quickcompany.in/company/company?name=Karnataka+Power+Corporation\n",
        "no. of names in html - 2"
       ]
      },
      {
       "output_type": "stream",
       "stream": "stdout",
       "text": [
        "\n",
        "Please select a company for Karnataka Power Corporation Ltd\n",
        "                     CIN                                           Company  \\\n",
        "0  U85110KA1970SGC001919               KARNATAKA POWER CORPORATION LIMITED   \n",
        "1  U40109KA1999SGC025521  KARNATAKA POWER TRANSMISSION CORPORATION LIMITED   \n",
        "\n",
        "     Status                                                URL     regdate  \\\n",
        "0   Active   https://www.quickcompany.in/company/karnataka-...  1970-07-20   \n",
        "1   Active   https://www.quickcompany.in/company/karnataka-...  1999-07-28   \n",
        "\n",
        "             regplace  \n",
        "0   Karnataka, India   \n",
        "1   Karnataka, India   \n"
       ]
      },
      {
       "name": "stdout",
       "output_type": "stream",
       "stream": "stdout",
       "text": [
        "given an index starting from 00\n"
       ]
      },
      {
       "output_type": "stream",
       "stream": "stdout",
       "text": [
        "20156\n",
        "Enercon+(India)\n",
        "https://www.quickcompany.in/company/company?name=Enercon+(India)\n",
        "no. of names in html - 0"
       ]
      },
      {
       "output_type": "stream",
       "stream": "stdout",
       "text": [
        "\n",
        "No results for url =https://www.quickcompany.in/company/company?name=Enercon+(India)\n",
        "20697\n",
        "Acer+India\n",
        "https://www.quickcompany.in/company/company?name=Acer+India\n",
        "no. of names in html - 3"
       ]
      },
      {
       "output_type": "stream",
       "stream": "stdout",
       "text": [
        "\n",
        "Please select a company for Acer India Pvt Ltd\n",
        "                     CIN                                            Company  \\\n",
        "0  U31909KA1999PTC025698                         ACER INDIA PRIVATE LIMITED   \n",
        "1  U45402TN1996PTC034993             ACER DESIGNERS (INDIA) PRIVATE LIMITED   \n",
        "2  U74140KA2002PTC030157  ACER TECHNOLOGY VENTURES ADVISORY (INDIA) PRIV...   \n",
        "\n",
        "                Status                                                URL  \\\n",
        "0              Active   https://www.quickcompany.in/company/acer-india...   \n",
        "1             Dormant   https://www.quickcompany.in/company/acer-desig...   \n",
        "2   Under Liquidation   https://www.quickcompany.in/company/acer-techn...   \n",
        "\n",
        "      regdate             regplace  \n",
        "0  1999-09-09    Karnataka, India   \n",
        "1  1996-03-29   Tamil Nadu, India   \n",
        "2  2002-02-25    Karnataka, India   \n"
       ]
      },
      {
       "name": "stdout",
       "output_type": "stream",
       "stream": "stdout",
       "text": [
        "given an index starting from 00\n"
       ]
      },
      {
       "output_type": "stream",
       "stream": "stdout",
       "text": [
        "21126\n",
        "HSBC+Electronic+Data+Processing+India\n",
        "https://www.quickcompany.in/company/company?name=HSBC+Electronic+Data+Processing+India\n",
        "no. of names in html - 1"
       ]
      },
      {
       "output_type": "stream",
       "stream": "stdout",
       "text": [
        "\n",
        "27841\n",
        "Rungta+Mines\n",
        "https://www.quickcompany.in/company/company?name=Rungta+Mines\n",
        "no. of names in html - 1"
       ]
      },
      {
       "output_type": "stream",
       "stream": "stdout",
       "text": [
        "\n",
        "18797\n",
        "Lanco+Power\n",
        "https://www.quickcompany.in/company/company?name=Lanco+Power\n",
        "no. of names in html - 0"
       ]
      },
      {
       "output_type": "stream",
       "stream": "stdout",
       "text": [
        "\n",
        "No results for url =https://www.quickcompany.in/company/company?name=Lanco+Power\n",
        "12467\n",
        "Heinz+India\n",
        "https://www.quickcompany.in/company/company?name=Heinz+India\n",
        "no. of names in html - 1"
       ]
      },
      {
       "output_type": "stream",
       "stream": "stdout",
       "text": [
        "\n",
        "16875\n",
        "Pernod+Ricard+India\n",
        "https://www.quickcompany.in/company/company?name=Pernod+Ricard+India\n",
        "no. of names in html - 1"
       ]
      },
      {
       "output_type": "stream",
       "stream": "stdout",
       "text": [
        "\n",
        "20841\n",
        "Serum+Institute+of+India\n",
        "https://www.quickcompany.in/company/company?name=Serum+Institute+of+India\n",
        "no. of names in html - 1"
       ]
      },
      {
       "output_type": "stream",
       "stream": "stdout",
       "text": [
        "\n",
        "22665\n",
        "Gujarat+Paguthan+Energy+Corporation+Private\n",
        "https://www.quickcompany.in/company/company?name=Gujarat+Paguthan+Energy+Corporation+Private\n",
        "no. of names in html - 0"
       ]
      },
      {
       "output_type": "stream",
       "stream": "stdout",
       "text": [
        "\n",
        "No results for url =https://www.quickcompany.in/company/company?name=Gujarat+Paguthan+Energy+Corporation+Private\n",
        "13068\n",
        "Microsoft+Corporation+India\n",
        "https://www.quickcompany.in/company/company?name=Microsoft+Corporation+India\n",
        "no. of names in html - 1"
       ]
      },
      {
       "output_type": "stream",
       "stream": "stdout",
       "text": [
        "\n",
        "22061\n",
        "Schwing+Stetter+India\n",
        "https://www.quickcompany.in/company/company?name=Schwing+Stetter+India\n",
        "no. of names in html - 2"
       ]
      },
      {
       "output_type": "stream",
       "stream": "stdout",
       "text": [
        "\n",
        "Please select a company for Schwing Stetter India Pvt Ltd\n",
        "                     CIN                                  Company    Status  \\\n",
        "0  U99999MH1998PTC115394  SCHWING STETTER (INDIA) PRIVATE LIMITED   Active    \n",
        "1  U45309TN1998PTC046270  SCHWING STETTER (INDIA) PRIVATE LIMITED   Active    \n",
        "\n",
        "                                                 URL     regdate  \\\n",
        "0  https://www.quickcompany.in/company/schwing-st...  1998-06-18   \n",
        "1  https://www.quickcompany.in/company/schwing-st...  1998-06-18   \n",
        "\n",
        "               regplace  \n",
        "0   Maharashtra, India   \n",
        "1    Tamil Nadu, India   \n"
       ]
      },
      {
       "name": "stdout",
       "output_type": "stream",
       "stream": "stdout",
       "text": [
        "given an index starting from 01\n"
       ]
      },
      {
       "output_type": "stream",
       "stream": "stdout",
       "text": [
        "29555\n",
        "Coastal+Energy\n",
        "https://www.quickcompany.in/company/company?name=Coastal+Energy\n",
        "no. of names in html - 0"
       ]
      },
      {
       "output_type": "stream",
       "stream": "stdout",
       "text": [
        "\n",
        "No results for url =https://www.quickcompany.in/company/company?name=Coastal+Energy\n",
        "18356\n",
        "Sudhir+Gensets\n",
        "https://www.quickcompany.in/company/company?name=Sudhir+Gensets\n",
        "no. of names in html - 0"
       ]
      },
      {
       "output_type": "stream",
       "stream": "stdout",
       "text": [
        "\n",
        "No results for url =https://www.quickcompany.in/company/company?name=Sudhir+Gensets\n",
        "25525\n",
        "Concast+Ispat\n",
        "https://www.quickcompany.in/company/company?name=Concast+Ispat\n",
        "no. of names in html - 1"
       ]
      },
      {
       "output_type": "stream",
       "stream": "stdout",
       "text": [
        "\n",
        "8044\n",
        "Sahara+India+Real+Estate+Corporation\n",
        "https://www.quickcompany.in/company/company?name=Sahara+India+Real+Estate+Corporation\n",
        "no. of names in html - 1"
       ]
      },
      {
       "output_type": "stream",
       "stream": "stdout",
       "text": [
        "\n",
        "24961\n",
        "Bilt+Graphic+Papers++(Merged)\n",
        "https://www.quickcompany.in/company/company?name=Bilt+Graphic+Papers++(Merged)\n",
        "no. of names in html - 0"
       ]
      },
      {
       "output_type": "stream",
       "stream": "stdout",
       "text": [
        "\n",
        "No results for url =https://www.quickcompany.in/company/company?name=Bilt+Graphic+Papers++(Merged)\n",
        "24637\n",
        "Writers+and+Publishers\n",
        "https://www.quickcompany.in/company/company?name=Writers+and+Publishers\n",
        "no. of names in html - 2"
       ]
      },
      {
       "output_type": "stream",
       "stream": "stdout",
       "text": [
        "\n",
        "Please select a company for Writers and Publishers Pvt Ltd\n",
        "                     CIN                                 Company     Status  \\\n",
        "0  U22210GJ1981PTC047207  WRITERS AND PUBLISHERS Private LIMITED    Active    \n",
        "1  U22121MP1988PTC004811    AFKAR WRITERS AND PUBLISHERS PVT LTD   Dormant    \n",
        "\n",
        "                                                 URL     regdate  \\\n",
        "0  https://www.quickcompany.in/company/writers-an...  1981-01-13   \n",
        "1  https://www.quickcompany.in/company/afkar-writ...  1988-09-27   \n",
        "\n",
        "                  regplace  \n",
        "0          Gujarat, India   \n",
        "1   Madhya Pradesh, India   \n"
       ]
      },
      {
       "name": "stdout",
       "output_type": "stream",
       "stream": "stdout",
       "text": [
        "given an index starting from 00\n"
       ]
      },
      {
       "output_type": "stream",
       "stream": "stdout",
       "text": [
        "13954\n",
        "Karnataka+State+Road+Transport+Corporation\n",
        "https://www.quickcompany.in/company/company?name=Karnataka+State+Road+Transport+Corporation\n",
        "no. of names in html - 0"
       ]
      },
      {
       "output_type": "stream",
       "stream": "stdout",
       "text": [
        "\n",
        "No results for url =https://www.quickcompany.in/company/company?name=Karnataka+State+Road+Transport+Corporation\n"
       ]
      },
      {
       "ename": "SyntaxError",
       "evalue": "'return' outside function (<ipython-input-43-1029d432c81b>, line 28)",
       "output_type": "pyerr",
       "traceback": [
        "\u001b[1;36m  File \u001b[1;32m\"<ipython-input-43-1029d432c81b>\"\u001b[1;36m, line \u001b[1;32m28\u001b[0m\n\u001b[1;33m    return df\u001b[0m\n\u001b[1;31mSyntaxError\u001b[0m\u001b[1;31m:\u001b[0m 'return' outside function\n"
       ]
      }
     ],
     "prompt_number": 43
    },
    {
     "cell_type": "code",
     "collapsed": false,
     "input": [
      "tempdf = searchCompanyByName('https://www.quickcompany.in/company/company?name=tata')\n",
      "df=[]\n",
      "if(len(tempdf)==1):\n",
      "    df.append({'id':int(y.id),'company':tempdf.Company,\n",
      "               'cin':tempdf.CIN,'url':tempdf.URL,'name':x,\n",
      "               'Status':tempdf.Status,'regplace':tempdf.regplace,'regdate':tempdf.regdate})\n",
      "elif (len(tempdf)>1):\n",
      "    print \"Please select a company\"\n",
      "    print tempdf\n",
      "    index=raw_input('given an index starting from 0')\n",
      "    index=int(index)\n",
      "    print 'here'\n",
      "    df.append({'id':int(y.id),'company':tempdf.ix[index].Company,\n",
      "               'cin':tempdf.ix[index].CIN,'url':tempdf.ix[index].URL,'name':x,\n",
      "               'Status':tempdf.ix[index].Status,'regplace':tempdf.ix[index].regplace,'regdate':tempdf.ix[index].regdate})\n",
      "df=pd.DataFrame(df)\n",
      "df"
     ],
     "language": "python",
     "metadata": {},
     "outputs": [
      {
       "output_type": "stream",
       "stream": "stdout",
       "text": [
        "https://www.quickcompany.in/company/company?name=tata\n",
        "no. of names in html - 20"
       ]
      },
      {
       "output_type": "stream",
       "stream": "stdout",
       "text": [
        "\n",
        "Please select a company\n",
        "                      CIN                                           Company  \\\n",
        "0   U17120MH1903PLC000187                    TATA METALS AND STRIPS LIMITED   \n",
        "1   L27100MH1907PLC000260                                TATA STEEL LIMITED   \n",
        "2   U24100WB1908PLC001836                                TATA PIGMENTS LTD.   \n",
        "3   U99999MH1910PLC000318  TATA HYDRO ELECTRIC POWER SUPPLY COMPANY LIMITED   \n",
        "4   U17120MH1913PLC000360                                 TATA MILL LIMITED   \n",
        "5   U99999MH1917PLC000478                                 TATA SONS LIMITED   \n",
        "6   U99999MH1917PTC000481                      TATA INDUSTRIAL BANK LIMITED   \n",
        "7   U99999MH1919PTC000536                  TATA ENGINEERING COMPANY LIMITED   \n",
        "8   L28920MH1919PLC000567                    THE TATA POWER COMPANY LIMITED   \n",
        "9   U24139PN1919PTC000649            TATA ELECTRO CHEMICALS COMPANY LIMITED   \n",
        "10  U99999MH1920PTC000775                TATA PUBLICITY CORPORATION LIMITED   \n",
        "11  U51109MH1929PLC001547              TATA HYDRO ELECTRIC AGENCIES LIMITED   \n",
        "12  L67200MH1937PLC002622               TATA INVESTMENT CORPORATION LIMITED   \n",
        "13  L24239MH1939PLC002893                            TATA CHEMICALS LIMITED   \n",
        "14  U99999MH1942PLC003573          TATA HOUSING DEVELOPMENT COMPANY LIMITED   \n",
        "15  L01131KA1943PLC000833                               TATA COFFEE LIMITED   \n",
        "16  U51909WB1944PLC011782                    TATA SCOB DEALERS CALCUTTA LTD   \n",
        "17  U44003MH1945PLC004403                           TATA INDUSTRIES LIMITED   \n",
        "18  L28920MH1945PLC004520                               TATA MOTORS LIMITED   \n",
        "19  U99999MH1954PLC009308                                VAKIL TATA LIMITED   \n",
        "\n",
        "           Status                                                URL  \\\n",
        "0    Amalgamated   https://www.quickcompany.in/company/tata-metal...   \n",
        "1         Active   https://www.quickcompany.in/company/company-li...   \n",
        "2     Strike Off   https://www.quickcompany.in/company/saswatha-n...   \n",
        "3    Amalgamated   https://www.quickcompany.in/company/tata-hydro...   \n",
        "4        Dormant   https://www.quickcompany.in/company/tata-mill-...   \n",
        "5         Active   https://www.quickcompany.in/company/tata-sons-...   \n",
        "6      Dissolved   https://www.quickcompany.in/company/tata-indus...   \n",
        "7      Dissolved   https://www.quickcompany.in/company/tata-engin...   \n",
        "8         Active   https://www.quickcompany.in/company/the-tata-p...   \n",
        "9      Dissolved   https://www.quickcompany.in/company/tata-elect...   \n",
        "10     Dissolved   https://www.quickcompany.in/company/tata-publi...   \n",
        "11       Dormant   https://www.quickcompany.in/company/tata-hydro...   \n",
        "12        Active   https://www.quickcompany.in/company/tata-inves...   \n",
        "13        Active   https://www.quickcompany.in/company/limiited-t...   \n",
        "14        Active   https://www.quickcompany.in/company/tata-housi...   \n",
        "15        Active   https://www.quickcompany.in/company/tata-coffe...   \n",
        "16        Active   https://www.quickcompany.in/company/tata-scob-...   \n",
        "17        Active   https://www.quickcompany.in/company/tata-indus...   \n",
        "18        Active   https://www.quickcompany.in/company/tata-motor...   \n",
        "19     Dissolved   https://www.quickcompany.in/company/vakil-tata...   \n",
        "\n",
        "       regdate              regplace  \n",
        "0   1903-06-30   Maharashtra, India   \n",
        "1   1907-08-26   Maharashtra, India   \n",
        "2   1908-06-20   West Bengal, India   \n",
        "3   1910-11-07   Maharashtra, India   \n",
        "4   1913-02-24   Maharashtra, India   \n",
        "5   1917-11-08   Maharashtra, India   \n",
        "6   1917-12-11   Maharashtra, India   \n",
        "7   1919-06-26   Maharashtra, India   \n",
        "8   1919-09-18   Maharashtra, India   \n",
        "9   1919-12-08   Maharashtra, India   \n",
        "10  1920-06-14   Maharashtra, India   \n",
        "11  1929-11-20   Maharashtra, India   \n",
        "12  1937-03-05   Maharashtra, India   \n",
        "13  1939-01-23   Maharashtra, India   \n",
        "14  1942-03-19   Maharashtra, India   \n",
        "15  1943-11-19     Karnataka, India   \n",
        "16  1944-07-04   West Bengal, India   \n",
        "17  1945-04-07   Maharashtra, India   \n",
        "18  1945-09-01   Maharashtra, India   \n",
        "19  1954-05-13   Maharashtra, India   \n"
       ]
      },
      {
       "name": "stdout",
       "output_type": "stream",
       "stream": "stdout",
       "text": [
        "given an index starting from 00\n"
       ]
      },
      {
       "html": [
        "<div style=\"max-height:1000px;max-width:1500px;overflow:auto;\">\n",
        "<table border=\"1\" class=\"dataframe\">\n",
        "  <thead>\n",
        "    <tr style=\"text-align: right;\">\n",
        "      <th></th>\n",
        "      <th>Status</th>\n",
        "      <th>cin</th>\n",
        "      <th>company</th>\n",
        "      <th>id</th>\n",
        "      <th>name</th>\n",
        "      <th>regdate</th>\n",
        "      <th>regplace</th>\n",
        "      <th>url</th>\n",
        "    </tr>\n",
        "  </thead>\n",
        "  <tbody>\n",
        "    <tr>\n",
        "      <th>0</th>\n",
        "      <td>  Amalgamated </td>\n",
        "      <td> U17120MH1903PLC000187</td>\n",
        "      <td> TATA METALS AND STRIPS LIMITED</td>\n",
        "      <td> 13954</td>\n",
        "      <td> Karnataka+State+Road+Transport+Corporation</td>\n",
        "      <td> 1903-06-30</td>\n",
        "      <td>  Maharashtra, India </td>\n",
        "      <td> https://www.quickcompany.in/company/tata-metal...</td>\n",
        "    </tr>\n",
        "  </tbody>\n",
        "</table>\n",
        "</div>"
       ],
       "metadata": {},
       "output_type": "pyout",
       "prompt_number": 45,
       "text": [
        "          Status                    cin                         company  \\\n",
        "0   Amalgamated   U17120MH1903PLC000187  TATA METALS AND STRIPS LIMITED   \n",
        "\n",
        "      id                                        name     regdate  \\\n",
        "0  13954  Karnataka+State+Road+Transport+Corporation  1903-06-30   \n",
        "\n",
        "               regplace                                                url  \n",
        "0   Maharashtra, India   https://www.quickcompany.in/company/tata-metal...  "
       ]
      }
     ],
     "prompt_number": 45
    },
    {
     "cell_type": "code",
     "collapsed": false,
     "input": [],
     "language": "python",
     "metadata": {},
     "outputs": [
      {
       "metadata": {},
       "output_type": "pyout",
       "prompt_number": 36,
       "text": [
        "u'U17120MH1903PLC000187'"
       ]
      }
     ],
     "prompt_number": 36
    },
    {
     "cell_type": "code",
     "collapsed": false,
     "input": [
      "tempframe=dirframe[0:1]\n",
      "for x in tempframe['name']:\n",
      "    y=tempframe[tempframe.name==x]\n",
      "    print str(y.id) "
     ],
     "language": "python",
     "metadata": {},
     "outputs": [
      {
       "output_type": "stream",
       "stream": "stdout",
       "text": [
        "0    25126\n",
        "Name: id, dtype: object\n"
       ]
      }
     ],
     "prompt_number": 54
    },
    {
     "cell_type": "code",
     "collapsed": false,
     "input": [
      "x=raw_input('hi')\n",
      "print x"
     ],
     "language": "python",
     "metadata": {},
     "outputs": [
      {
       "name": "stdout",
       "output_type": "stream",
       "stream": "stdout",
       "text": [
        "hiabhishek\n"
       ]
      },
      {
       "output_type": "stream",
       "stream": "stdout",
       "text": [
        "abhishek\n"
       ]
      }
     ],
     "prompt_number": 24
    }
   ],
   "metadata": {}
  }
 ]
}