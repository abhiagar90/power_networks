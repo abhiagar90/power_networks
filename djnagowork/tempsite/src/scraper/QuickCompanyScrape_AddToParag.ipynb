{
 "metadata": {
  "name": "",
  "signature": "sha256:f973e8fe37d513112a25326da8373d40b9ad90b2f19666923e50445d1179b822"
 },
 "nbformat": 3,
 "nbformat_minor": 0,
 "worksheets": [
  {
   "cells": [
    {
     "cell_type": "code",
     "collapsed": false,
     "input": [
      "from bs4 import BeautifulSoup\n",
      "import pandas as pd\n",
      "import requests as rq\n",
      "import re\n",
      "import hashlib\n",
      "import csv\n",
      "import time"
     ],
     "language": "python",
     "metadata": {},
     "outputs": [],
     "prompt_number": 54
    },
    {
     "cell_type": "code",
     "collapsed": false,
     "input": [
      "def searchCompanyByName(url):\n",
      "    print url\n",
      "    r = rq.get(url)\n",
      "    data = r.text\n",
      "    soup = BeautifulSoup(data)\n",
      "    base_link = 'https://www.quickcompany.in'\n",
      "    company_names = soup.find_all('h3',attrs={'class':'companyname'})\n",
      "    df = []\n",
      "    l = len(company_names)\n",
      "    print 'no. of names in html - '+str(l) #/2 rmeoved, i think they have corrected that\n",
      "    \n",
      "    if l == 0:\n",
      "        print 'No results for url ='+url\n",
      "        return pd.DataFrame()\n",
      "    \n",
      "    for i in range(l):\n",
      "        c = company_names[i]\n",
      "        link = c.find('a')\n",
      "        cin = c.parent.find('div',attrs = {'class':'lighter'})\n",
      "        dlink = base_link + link['href']\n",
      "        all_lis = c.parent.find('ul').find_all('li') #getting the <li> info\n",
      "        df.append({'Company':c.text.strip(),'CIN':cin.text.strip(),'URL':dlink.strip(),'Status':all_lis[0].find('strong').text,'regplace':all_lis[1].find('strong').text,'regdate':all_lis[2].find('strong').text})\n",
      "    df = pd.DataFrame(df)\n",
      "    return df\n",
      "#url = 'https://www.quickcompany.in/company/search?name=TATA'\n",
      "#searchCompanyByName(url)"
     ],
     "language": "python",
     "metadata": {},
     "outputs": [],
     "prompt_number": 3
    },
    {
     "cell_type": "code",
     "collapsed": false,
     "input": [
      "def sqlQuerytoDF(query,ipaddress,database, user, password):\n",
      "    import MySQLdb as db\n",
      "    from pandas.io.sql import frame_query\n",
      "    database = db.connect(ipaddress, user, password, database)\n",
      "    dirframe = frame_query(query, database)\n",
      "    #dirframe\n",
      "    return dirframe\n",
      "##Usage: sqlQuerytoDF(\"select id,name,office from company;\",\"localhost\",\"himanshu\",\"root\",\"yoyo\")"
     ],
     "language": "python",
     "metadata": {},
     "outputs": [],
     "prompt_number": 14
    },
    {
     "cell_type": "code",
     "collapsed": false,
     "input": [
      "def sqlUpdateQuery(query,ipaddress,database, user, password):\n",
      "    import MySQLdb as db\n",
      "    from pandas.io.sql import frame_query\n",
      "    database = db.connect(ipaddress, user, password, database)\n",
      "    cur = database.cursor()\n",
      "    value=False\n",
      "    try:\n",
      "        cur.execute(query)\n",
      "        database.commit()\n",
      "        value = True\n",
      "    except Exception, e:\n",
      "        print e\n",
      "        database.rollback()\n",
      "    database.close()\n",
      "    return value\n",
      "    #dirframe"
     ],
     "language": "python",
     "metadata": {},
     "outputs": [],
     "prompt_number": 15
    },
    {
     "cell_type": "code",
     "collapsed": false,
     "input": [
      "dirframe = sqlQuerytoDF(\"select id,name from value_table_amartya where id not in (select id from dir_table_amartya);\",'localhost','himanshu','root','yoyo')"
     ],
     "language": "python",
     "metadata": {},
     "outputs": [
      {
       "metadata": {},
       "output_type": "pyout",
       "prompt_number": 16,
       "text": [
        "31"
       ]
      }
     ],
     "prompt_number": 16
    },
    {
     "cell_type": "markdown",
     "metadata": {},
     "source": [
      "#A trial code for adding + in between and removing Pvt Ltd and Corpn\n",
      "tempframe=dirframe[0:1]\n",
      "for x  in tempframe['name']:\n",
      "    x=x.strip()\n",
      "    x=x.replace(' Pvt',' Private')\n",
      "    x=x.replace(' Ltd',' Limited')\n",
      "    x=x.replace(' Corpn',' Corporation')\n",
      "    x=x.strip()\n",
      "    x=x.replace(' ','+')\n",
      "    print x\n",
      "    searchCompanyByName('https://www.quickcompany.in/company/search?name='+x)\n",
      "tempframe"
     ]
    },
    {
     "cell_type": "code",
     "collapsed": false,
     "input": [
      "def getDFForMissingCompannies():\n",
      "    ##will print out in some spl format companies which it could not resolve\n",
      "    ##will ask in between to resolve\n",
      "    ##needs human input\n",
      "    ##write it to some csv?\n",
      "    dirframe = sqlQuerytoDF(\"select id,name from value_table_amartya where id not in (select id from dir_table_amartya);\",'localhost','himanshu','root','yoyo')\n",
      "    df=[]\n",
      "    for index, row in dirframe.iterrows():\n",
      "        x=row['name'].strip()\n",
      "        old=x\n",
      "        x=x.replace(' Pvt',' ')\n",
      "        x=x.replace(' Ltd',' ')\n",
      "        x=x.replace(' Corpn',' Corporation')\n",
      "        if (x.find('(')!=-1):\n",
      "            x = x[0:x.find('(')]+x[x.find(')')+1:]\n",
      "        x=x.strip()\n",
      "        x=x.replace(' ','+')\n",
      "        print x\n",
      "        tempdf = searchCompanyByName('https://www.quickcompany.in/company/search?name='+x)\n",
      "        if(len(tempdf)==1):\n",
      "            df.append({'id':row.id,'company':tempdf.ix[0].Company,\n",
      "                       'cin':tempdf.ix[0].CIN,'url':tempdf.ix[0].URL,'name':old,\n",
      "                       'Status':tempdf.ix[0].Status,'regplace':tempdf.ix[0].regplace,'regdate':tempdf.ix[0].regdate})\n",
      "        elif (len(tempdf)>1):\n",
      "            print \"Please select a company for \" +old\n",
      "            print tempdf\n",
      "            index=raw_input('given an index starting from 0')\n",
      "            index=int(index)\n",
      "            df.append({'id':row.id,'company':tempdf.ix[index].Company,\n",
      "                       'cin':tempdf.ix[index].CIN,'url':tempdf.ix[index].URL,'name':old,\n",
      "                       'Status':tempdf.ix[index].Status,'regplace':tempdf.ix[index].regplace,'regdate':tempdf.ix[index].regdate})\n",
      "        else:\n",
      "            print '!!!!!!!!!! '+x+' !!!!!!!!!!'\n",
      "    df = pd.DataFrame(df)\n",
      "    return df"
     ],
     "language": "python",
     "metadata": {},
     "outputs": [],
     "prompt_number": 45
    },
    {
     "cell_type": "code",
     "collapsed": false,
     "input": [
      "def missingDfToCSV():\n",
      "    ourdf = getDFForMissingCompannies()\n",
      "    ourdf.to_csv('QuickCompanyScrape_AddToParag1.csv', index=False)"
     ],
     "language": "python",
     "metadata": {},
     "outputs": [
      {
       "output_type": "stream",
       "stream": "stdout",
       "text": [
        "Riddisiddhi+Bullions\n",
        "https://www.quickcompany.in/company/search?name=Riddisiddhi+Bullions\n",
        "no. of names in html - 1"
       ]
      },
      {
       "output_type": "stream",
       "stream": "stdout",
       "text": [
        "\n",
        "Hewlett-Packard+India+Sales\n",
        "https://www.quickcompany.in/company/search?name=Hewlett-Packard+India+Sales\n",
        "no. of names in html - 1"
       ]
      },
      {
       "output_type": "stream",
       "stream": "stdout",
       "text": [
        "\n",
        "Punjab+State+Electricity+Board\n",
        "https://www.quickcompany.in/company/search?name=Punjab+State+Electricity+Board\n",
        "no. of names in html - 0"
       ]
      },
      {
       "output_type": "stream",
       "stream": "stdout",
       "text": [
        "\n",
        "No results for url =https://www.quickcompany.in/company/search?name=Punjab+State+Electricity+Board\n",
        "!!!!!!!!!! Punjab+State+Electricity+Board !!!!!!!!!!\n",
        "Toyota+Kirloskar+Motor\n",
        "https://www.quickcompany.in/company/search?name=Toyota+Kirloskar+Motor\n",
        "no. of names in html - 1"
       ]
      },
      {
       "output_type": "stream",
       "stream": "stdout",
       "text": [
        "\n",
        "Jodhpur+Vidyut+Vitran+Nigam\n",
        "https://www.quickcompany.in/company/search?name=Jodhpur+Vidyut+Vitran+Nigam\n",
        "no. of names in html - 0"
       ]
      },
      {
       "output_type": "stream",
       "stream": "stdout",
       "text": [
        "\n",
        "No results for url =https://www.quickcompany.in/company/search?name=Jodhpur+Vidyut+Vitran+Nigam\n",
        "!!!!!!!!!! Jodhpur+Vidyut+Vitran+Nigam !!!!!!!!!!\n",
        "Mother+Dairy+Fruit+&+Vegetables\n",
        "https://www.quickcompany.in/company/search?name=Mother+Dairy+Fruit+&+Vegetables\n",
        "no. of names in html - 1"
       ]
      },
      {
       "output_type": "stream",
       "stream": "stdout",
       "text": [
        "\n",
        "Pepsico+India+Holdings\n",
        "https://www.quickcompany.in/company/search?name=Pepsico+India+Holdings\n",
        "no. of names in html - 2"
       ]
      },
      {
       "output_type": "stream",
       "stream": "stdout",
       "text": [
        "\n",
        "Please select a company for Pepsico India Holdings Pvt Ltd\n",
        "                     CIN                                            Company  \\\n",
        "0  U15492DL1994ULL057128  PEPSICO INDIA HOLDINGS (PVT.)COMPANY WITH UNLI...   \n",
        "1  U15549HR1994PTC033754             PEPSICO INDIA HOLDINGS PRIVATE LIMITED   \n",
        "\n",
        "      Status                                                URL     regdate  \\\n",
        "0   Dormant   https://www.quickcompany.in/company/pepsico-in...  1994-01-28   \n",
        "1    Active   https://www.quickcompany.in/company/pepsico-in...  1994-01-28   \n",
        "\n",
        "           regplace  \n",
        "0     Delhi, India   \n",
        "1   Haryana, India   \n"
       ]
      },
      {
       "name": "stdout",
       "output_type": "stream",
       "stream": "stdout",
       "text": [
        "given an index starting from 01\n"
       ]
      },
      {
       "output_type": "stream",
       "stream": "stdout",
       "text": [
        "Allanasons\n",
        "https://www.quickcompany.in/company/search?name=Allanasons\n",
        "no. of names in html - 0"
       ]
      },
      {
       "output_type": "stream",
       "stream": "stdout",
       "text": [
        "\n",
        "No results for url =https://www.quickcompany.in/company/search?name=Allanasons\n",
        "!!!!!!!!!! Allanasons !!!!!!!!!!\n",
        "Punjab+State+Civil+Supplies+Corporation\n",
        "https://www.quickcompany.in/company/search?name=Punjab+State+Civil+Supplies+Corporation\n",
        "no. of names in html - 1"
       ]
      },
      {
       "output_type": "stream",
       "stream": "stdout",
       "text": [
        "\n",
        "Siva+Ventures\n",
        "https://www.quickcompany.in/company/search?name=Siva+Ventures\n",
        "no. of names in html - 2"
       ]
      },
      {
       "output_type": "stream",
       "stream": "stdout",
       "text": [
        "\n",
        "Please select a company for Siva Ventures Ltd\n",
        "                     CIN                               Company         Status  \\\n",
        "0  U33111TN1986PLC013119                 SIVA VENTURES LIMITED   Amalgamated    \n",
        "1  U70101DL2013PTC260001  Siva Realty Ventures Private Limited        Active    \n",
        "\n",
        "                                                 URL     regdate  \\\n",
        "0  https://www.quickcompany.in/company/siva-ventu...  1986-06-23   \n",
        "1  https://www.quickcompany.in/company/siva-realt...  2013-11-07   \n",
        "\n",
        "              regplace  \n",
        "0   Tamil Nadu, India   \n",
        "1        Delhi, India   \n"
       ]
      },
      {
       "name": "stdout",
       "output_type": "stream",
       "stream": "stdout",
       "text": [
        "given an index starting from 00\n"
       ]
      },
      {
       "output_type": "stream",
       "stream": "stdout",
       "text": [
        "Shapoorji+Pallonji+&+Co.\n",
        "https://www.quickcompany.in/company/search?name=Shapoorji+Pallonji+&+Co.\n",
        "no. of names in html - 0"
       ]
      },
      {
       "output_type": "stream",
       "stream": "stdout",
       "text": [
        "\n",
        "No results for url =https://www.quickcompany.in/company/search?name=Shapoorji+Pallonji+&+Co.\n",
        "!!!!!!!!!! Shapoorji+Pallonji+&+Co. !!!!!!!!!!\n",
        "Viraj+Profiles\n",
        "https://www.quickcompany.in/company/search?name=Viraj+Profiles\n",
        "no. of names in html - 1"
       ]
      },
      {
       "output_type": "stream",
       "stream": "stdout",
       "text": [
        "\n",
        "Karnataka+Power+Corporation\n",
        "https://www.quickcompany.in/company/search?name=Karnataka+Power+Corporation\n",
        "no. of names in html - 2"
       ]
      },
      {
       "output_type": "stream",
       "stream": "stdout",
       "text": [
        "\n",
        "Please select a company for Karnataka Power Corporation Ltd\n",
        "                     CIN                                           Company  \\\n",
        "0  U85110KA1970SGC001919               KARNATAKA POWER CORPORATION LIMITED   \n",
        "1  U40109KA1999SGC025521  KARNATAKA POWER TRANSMISSION CORPORATION LIMITED   \n",
        "\n",
        "     Status                                                URL     regdate  \\\n",
        "0   Active   https://www.quickcompany.in/company/karnataka-...  1970-07-20   \n",
        "1   Active   https://www.quickcompany.in/company/karnataka-...  1999-07-28   \n",
        "\n",
        "             regplace  \n",
        "0   Karnataka, India   \n",
        "1   Karnataka, India   \n"
       ]
      },
      {
       "name": "stdout",
       "output_type": "stream",
       "stream": "stdout",
       "text": [
        "given an index starting from 00\n"
       ]
      },
      {
       "output_type": "stream",
       "stream": "stdout",
       "text": [
        "Enercon\n",
        "https://www.quickcompany.in/company/search?name=Enercon\n",
        "no. of names in html - 0"
       ]
      },
      {
       "output_type": "stream",
       "stream": "stdout",
       "text": [
        "\n",
        "No results for url =https://www.quickcompany.in/company/search?name=Enercon\n",
        "!!!!!!!!!! Enercon !!!!!!!!!!\n",
        "Acer+India\n",
        "https://www.quickcompany.in/company/search?name=Acer+India\n",
        "no. of names in html - 3"
       ]
      },
      {
       "output_type": "stream",
       "stream": "stdout",
       "text": [
        "\n",
        "Please select a company for Acer India Pvt Ltd\n",
        "                     CIN                                            Company  \\\n",
        "0  U31909KA1999PTC025698                         ACER INDIA PRIVATE LIMITED   \n",
        "1  U45402TN1996PTC034993             ACER DESIGNERS (INDIA) PRIVATE LIMITED   \n",
        "2  U74140KA2002PTC030157  ACER TECHNOLOGY VENTURES ADVISORY (INDIA) PRIV...   \n",
        "\n",
        "                Status                                                URL  \\\n",
        "0              Active   https://www.quickcompany.in/company/acer-india...   \n",
        "1             Dormant   https://www.quickcompany.in/company/acer-desig...   \n",
        "2   Under Liquidation   https://www.quickcompany.in/company/acer-techn...   \n",
        "\n",
        "      regdate             regplace  \n",
        "0  1999-09-09    Karnataka, India   \n",
        "1  1996-03-29   Tamil Nadu, India   \n",
        "2  2002-02-25    Karnataka, India   \n"
       ]
      },
      {
       "name": "stdout",
       "output_type": "stream",
       "stream": "stdout",
       "text": [
        "given an index starting from 00\n"
       ]
      },
      {
       "output_type": "stream",
       "stream": "stdout",
       "text": [
        "HSBC+Electronic+Data+Processing+India\n",
        "https://www.quickcompany.in/company/search?name=HSBC+Electronic+Data+Processing+India\n",
        "no. of names in html - 1"
       ]
      },
      {
       "output_type": "stream",
       "stream": "stdout",
       "text": [
        "\n",
        "Rungta+Mines\n",
        "https://www.quickcompany.in/company/search?name=Rungta+Mines\n",
        "no. of names in html - 1"
       ]
      },
      {
       "output_type": "stream",
       "stream": "stdout",
       "text": [
        "\n",
        "Lanco+Power\n",
        "https://www.quickcompany.in/company/search?name=Lanco+Power\n",
        "no. of names in html - 0"
       ]
      },
      {
       "output_type": "stream",
       "stream": "stdout",
       "text": [
        "\n",
        "No results for url =https://www.quickcompany.in/company/search?name=Lanco+Power\n",
        "!!!!!!!!!! Lanco+Power !!!!!!!!!!\n",
        "Heinz+India\n",
        "https://www.quickcompany.in/company/search?name=Heinz+India\n",
        "no. of names in html - 1"
       ]
      },
      {
       "output_type": "stream",
       "stream": "stdout",
       "text": [
        "\n",
        "Pernod+Ricard+India\n",
        "https://www.quickcompany.in/company/search?name=Pernod+Ricard+India\n",
        "no. of names in html - 1"
       ]
      },
      {
       "output_type": "stream",
       "stream": "stdout",
       "text": [
        "\n",
        "Serum+Institute+of+India\n",
        "https://www.quickcompany.in/company/search?name=Serum+Institute+of+India\n",
        "no. of names in html - 1"
       ]
      },
      {
       "output_type": "stream",
       "stream": "stdout",
       "text": [
        "\n",
        "Gujarat+Paguthan+Energy+Corporation+Private\n",
        "https://www.quickcompany.in/company/search?name=Gujarat+Paguthan+Energy+Corporation+Private\n",
        "no. of names in html - 0"
       ]
      },
      {
       "output_type": "stream",
       "stream": "stdout",
       "text": [
        "\n",
        "No results for url =https://www.quickcompany.in/company/search?name=Gujarat+Paguthan+Energy+Corporation+Private\n",
        "!!!!!!!!!! Gujarat+Paguthan+Energy+Corporation+Private !!!!!!!!!!\n",
        "Microsoft+Corporation+India\n",
        "https://www.quickcompany.in/company/search?name=Microsoft+Corporation+India\n",
        "no. of names in html - 1"
       ]
      },
      {
       "output_type": "stream",
       "stream": "stdout",
       "text": [
        "\n",
        "Schwing+Stetter+India\n",
        "https://www.quickcompany.in/company/search?name=Schwing+Stetter+India\n",
        "no. of names in html - 2"
       ]
      },
      {
       "output_type": "stream",
       "stream": "stdout",
       "text": [
        "\n",
        "Please select a company for Schwing Stetter India Pvt Ltd\n",
        "                     CIN                                  Company    Status  \\\n",
        "0  U99999MH1998PTC115394  SCHWING STETTER (INDIA) PRIVATE LIMITED   Active    \n",
        "1  U45309TN1998PTC046270  SCHWING STETTER (INDIA) PRIVATE LIMITED   Active    \n",
        "\n",
        "                                                 URL     regdate  \\\n",
        "0  https://www.quickcompany.in/company/schwing-st...  1998-06-18   \n",
        "1  https://www.quickcompany.in/company/schwing-st...  1998-06-18   \n",
        "\n",
        "               regplace  \n",
        "0   Maharashtra, India   \n",
        "1    Tamil Nadu, India   \n"
       ]
      },
      {
       "name": "stdout",
       "output_type": "stream",
       "stream": "stdout",
       "text": [
        "given an index starting from 01\n"
       ]
      },
      {
       "output_type": "stream",
       "stream": "stdout",
       "text": [
        "Coastal+Energy\n",
        "https://www.quickcompany.in/company/search?name=Coastal+Energy\n",
        "no. of names in html - 0"
       ]
      },
      {
       "output_type": "stream",
       "stream": "stdout",
       "text": [
        "\n",
        "No results for url =https://www.quickcompany.in/company/search?name=Coastal+Energy\n",
        "!!!!!!!!!! Coastal+Energy !!!!!!!!!!\n",
        "Sudhir+Gensets\n",
        "https://www.quickcompany.in/company/search?name=Sudhir+Gensets\n",
        "no. of names in html - 0"
       ]
      },
      {
       "output_type": "stream",
       "stream": "stdout",
       "text": [
        "\n",
        "No results for url =https://www.quickcompany.in/company/search?name=Sudhir+Gensets\n",
        "!!!!!!!!!! Sudhir+Gensets !!!!!!!!!!\n",
        "Concast+Ispat\n",
        "https://www.quickcompany.in/company/search?name=Concast+Ispat\n",
        "no. of names in html - 1"
       ]
      },
      {
       "output_type": "stream",
       "stream": "stdout",
       "text": [
        "\n",
        "Sahara+India+Real+Estate+Corporation\n",
        "https://www.quickcompany.in/company/search?name=Sahara+India+Real+Estate+Corporation\n",
        "no. of names in html - 1"
       ]
      },
      {
       "output_type": "stream",
       "stream": "stdout",
       "text": [
        "\n",
        "Bilt+Graphic+Papers\n",
        "https://www.quickcompany.in/company/search?name=Bilt+Graphic+Papers\n",
        "no. of names in html - 2"
       ]
      },
      {
       "output_type": "stream",
       "stream": "stdout",
       "text": [
        "\n",
        "Please select a company for Bilt Graphic Papers Ltd (Merged)\n",
        "                     CIN                              Company         Status  \\\n",
        "0  U21010DL1993PLC052866          BILT GRAPHIC PAPERS LIMITED   Amalgamated    \n",
        "1  U21000MH2007PLC172382  BILT GRAPHIC PAPER PRODUCTS LIMITED        Active    \n",
        "\n",
        "                                                 URL     regdate  \\\n",
        "0  https://www.quickcompany.in/company/bilt-graph...  1993-04-02   \n",
        "1  https://www.quickcompany.in/company/bilt-graph...  2007-07-16   \n",
        "\n",
        "               regplace  \n",
        "0         Delhi, India   \n",
        "1   Maharashtra, India   \n"
       ]
      },
      {
       "name": "stdout",
       "output_type": "stream",
       "stream": "stdout",
       "text": [
        "given an index starting from 00\n"
       ]
      },
      {
       "output_type": "stream",
       "stream": "stdout",
       "text": [
        "Writers+and+Publishers\n",
        "https://www.quickcompany.in/company/search?name=Writers+and+Publishers\n",
        "no. of names in html - 2"
       ]
      },
      {
       "output_type": "stream",
       "stream": "stdout",
       "text": [
        "\n",
        "Please select a company for Writers and Publishers Pvt Ltd\n",
        "                     CIN                                 Company     Status  \\\n",
        "0  U22210GJ1981PTC047207  WRITERS AND PUBLISHERS Private LIMITED    Active    \n",
        "1  U22121MP1988PTC004811    AFKAR WRITERS AND PUBLISHERS PVT LTD   Dormant    \n",
        "\n",
        "                                                 URL     regdate  \\\n",
        "0  https://www.quickcompany.in/company/writers-an...  1981-01-13   \n",
        "1  https://www.quickcompany.in/company/afkar-writ...  1988-09-27   \n",
        "\n",
        "                  regplace  \n",
        "0          Gujarat, India   \n",
        "1   Madhya Pradesh, India   \n"
       ]
      },
      {
       "name": "stdout",
       "output_type": "stream",
       "stream": "stdout",
       "text": [
        "given an index starting from 00\n"
       ]
      },
      {
       "output_type": "stream",
       "stream": "stdout",
       "text": [
        "Karnataka+State+Road+Transport+Corporation\n",
        "https://www.quickcompany.in/company/search?name=Karnataka+State+Road+Transport+Corporation\n",
        "no. of names in html - 0"
       ]
      },
      {
       "output_type": "stream",
       "stream": "stdout",
       "text": [
        "\n",
        "No results for url =https://www.quickcompany.in/company/search?name=Karnataka+State+Road+Transport+Corporation\n",
        "!!!!!!!!!! Karnataka+State+Road+Transport+Corporation !!!!!!!!!!\n"
       ]
      }
     ],
     "prompt_number": 40
    },
    {
     "cell_type": "code",
     "collapsed": false,
     "input": [
      "readframe=pd.read_csv('QuickCompanyScrape_AddToParag1.csv', index_col=False, quoting=csv.QUOTE_ALL)\n",
      "readframe"
     ],
     "language": "python",
     "metadata": {},
     "outputs": [
      {
       "html": [
        "<div style=\"max-height:1000px;max-width:1500px;overflow:auto;\">\n",
        "<table border=\"1\" class=\"dataframe\">\n",
        "  <thead>\n",
        "    <tr style=\"text-align: right;\">\n",
        "      <th></th>\n",
        "      <th>Status</th>\n",
        "      <th>cin</th>\n",
        "      <th>company</th>\n",
        "      <th>id</th>\n",
        "      <th>name</th>\n",
        "      <th>regdate</th>\n",
        "      <th>regplace</th>\n",
        "      <th>url</th>\n",
        "    </tr>\n",
        "  </thead>\n",
        "  <tbody>\n",
        "    <tr>\n",
        "      <th>0 </th>\n",
        "      <td>       Active </td>\n",
        "      <td> U36912MH1994PLC083644</td>\n",
        "      <td>                      RIDDISIDDHI BULLIONS LIMITED</td>\n",
        "      <td> 25126</td>\n",
        "      <td>                  Riddisiddhi Bullions Ltd</td>\n",
        "      <td> 1994-12-09</td>\n",
        "      <td>    Maharashtra, India </td>\n",
        "      <td> https://www.quickcompany.in/company/riddisiddh...</td>\n",
        "    </tr>\n",
        "    <tr>\n",
        "      <th>1 </th>\n",
        "      <td>       Active </td>\n",
        "      <td> U72200KA1997PTC022727</td>\n",
        "      <td>       HEWLETT-PACKARD INDIA SALES PRIVATE LIMITED</td>\n",
        "      <td> 12664</td>\n",
        "      <td>       Hewlett-Packard India Sales Pvt Ltd</td>\n",
        "      <td> 1997-09-02</td>\n",
        "      <td>      Karnataka, India </td>\n",
        "      <td> https://www.quickcompany.in/company/hewlett-pa...</td>\n",
        "    </tr>\n",
        "    <tr>\n",
        "      <th>2 </th>\n",
        "      <td>       Active </td>\n",
        "      <td> U34101KA1997PTC022858</td>\n",
        "      <td>            TOYOTA KIRLOSKAR MOTOR PRIVATE LIMITED</td>\n",
        "      <td> 19403</td>\n",
        "      <td>                Toyota Kirloskar Motor Ltd</td>\n",
        "      <td> 1997-10-06</td>\n",
        "      <td>      Karnataka, India </td>\n",
        "      <td> https://www.quickcompany.in/company/toyota-kir...</td>\n",
        "    </tr>\n",
        "    <tr>\n",
        "      <th>3 </th>\n",
        "      <td>       Active </td>\n",
        "      <td> U15209DL2000PTC104671</td>\n",
        "      <td>  MOTHER DAIRY FRUIT AND VEGETABLE PRIVATE LIMITED</td>\n",
        "      <td> 25590</td>\n",
        "      <td>       Mother Dairy Fruit &amp; Vegetables Ltd</td>\n",
        "      <td> 2000-03-24</td>\n",
        "      <td>          Delhi, India </td>\n",
        "      <td> https://www.quickcompany.in/company/mother-dai...</td>\n",
        "    </tr>\n",
        "    <tr>\n",
        "      <th>4 </th>\n",
        "      <td>       Active </td>\n",
        "      <td> U15549HR1994PTC033754</td>\n",
        "      <td>            PEPSICO INDIA HOLDINGS PRIVATE LIMITED</td>\n",
        "      <td> 13840</td>\n",
        "      <td>            Pepsico India Holdings Pvt Ltd</td>\n",
        "      <td> 1994-01-28</td>\n",
        "      <td>        Haryana, India </td>\n",
        "      <td> https://www.quickcompany.in/company/pepsico-in...</td>\n",
        "    </tr>\n",
        "    <tr>\n",
        "      <th>5 </th>\n",
        "      <td>       Active </td>\n",
        "      <td> U52110CH1974SGC003404</td>\n",
        "      <td>   PUNJAB STATE CIVIL SUPPLIES CORPORATION LIMITED</td>\n",
        "      <td> 25007</td>\n",
        "      <td>     Punjab State Civil Supplies Corpn Ltd</td>\n",
        "      <td> 1974-02-14</td>\n",
        "      <td>     Chandigarh, India </td>\n",
        "      <td> https://www.quickcompany.in/company/punjab-sta...</td>\n",
        "    </tr>\n",
        "    <tr>\n",
        "      <th>6 </th>\n",
        "      <td>  Amalgamated </td>\n",
        "      <td> U33111TN1986PLC013119</td>\n",
        "      <td>                             SIVA VENTURES LIMITED</td>\n",
        "      <td> 25501</td>\n",
        "      <td>                         Siva Ventures Ltd</td>\n",
        "      <td> 1986-06-23</td>\n",
        "      <td>     Tamil Nadu, India </td>\n",
        "      <td> https://www.quickcompany.in/company/siva-ventu...</td>\n",
        "    </tr>\n",
        "    <tr>\n",
        "      <th>7 </th>\n",
        "      <td>       Active </td>\n",
        "      <td> U28113MH1996PLC096835</td>\n",
        "      <td>                            VIRAJ PROFILES LIMITED</td>\n",
        "      <td> 25082</td>\n",
        "      <td>                        Viraj Profiles Ltd</td>\n",
        "      <td> 1996-02-02</td>\n",
        "      <td>    Maharashtra, India </td>\n",
        "      <td> https://www.quickcompany.in/company/viraj-prof...</td>\n",
        "    </tr>\n",
        "    <tr>\n",
        "      <th>8 </th>\n",
        "      <td>       Active </td>\n",
        "      <td> U85110KA1970SGC001919</td>\n",
        "      <td>               KARNATAKA POWER CORPORATION LIMITED</td>\n",
        "      <td> 12054</td>\n",
        "      <td>           Karnataka Power Corporation Ltd</td>\n",
        "      <td> 1970-07-20</td>\n",
        "      <td>      Karnataka, India </td>\n",
        "      <td> https://www.quickcompany.in/company/karnataka-...</td>\n",
        "    </tr>\n",
        "    <tr>\n",
        "      <th>9 </th>\n",
        "      <td>       Active </td>\n",
        "      <td> U31909KA1999PTC025698</td>\n",
        "      <td>                        ACER INDIA PRIVATE LIMITED</td>\n",
        "      <td> 20697</td>\n",
        "      <td>                        Acer India Pvt Ltd</td>\n",
        "      <td> 1999-09-09</td>\n",
        "      <td>      Karnataka, India </td>\n",
        "      <td> https://www.quickcompany.in/company/acer-india...</td>\n",
        "    </tr>\n",
        "    <tr>\n",
        "      <th>10</th>\n",
        "      <td>       Active </td>\n",
        "      <td> U72200TG2000PTC033858</td>\n",
        "      <td> HSBC ELECTRONIC DATA PROCESSING INDIA PRIVATE ...</td>\n",
        "      <td> 21126</td>\n",
        "      <td> HSBC Electronic Data Processing India Ltd</td>\n",
        "      <td> 2000-03-14</td>\n",
        "      <td>      Telangana, India </td>\n",
        "      <td> https://www.quickcompany.in/company/hsbc-elect...</td>\n",
        "    </tr>\n",
        "    <tr>\n",
        "      <th>11</th>\n",
        "      <td>       Active </td>\n",
        "      <td> U26911WB1962PLC025691</td>\n",
        "      <td>                              RUNGTA MINES LIMITED</td>\n",
        "      <td> 27841</td>\n",
        "      <td>                          Rungta Mines Ltd</td>\n",
        "      <td> 1962-12-01</td>\n",
        "      <td>    West Bengal, India </td>\n",
        "      <td> https://www.quickcompany.in/company/rungta-min...</td>\n",
        "    </tr>\n",
        "    <tr>\n",
        "      <th>12</th>\n",
        "      <td>       Active </td>\n",
        "      <td> U15200MH1994PTC138918</td>\n",
        "      <td>                       HEINZ INDIA PRIVATE LIMITED</td>\n",
        "      <td> 12467</td>\n",
        "      <td>                       Heinz India Pvt Ltd</td>\n",
        "      <td> 1994-06-14</td>\n",
        "      <td>    Maharashtra, India </td>\n",
        "      <td> https://www.quickcompany.in/company/heinz-indi...</td>\n",
        "    </tr>\n",
        "    <tr>\n",
        "      <th>13</th>\n",
        "      <td>       Active </td>\n",
        "      <td> U74899DL1993PTC055062</td>\n",
        "      <td>               Pernod Ricard India Private Limited</td>\n",
        "      <td> 16875</td>\n",
        "      <td>               Pernod Ricard India Pvt Ltd</td>\n",
        "      <td> 1993-09-03</td>\n",
        "      <td>          Delhi, India </td>\n",
        "      <td> https://www.quickcompany.in/company/pernod-ric...</td>\n",
        "    </tr>\n",
        "    <tr>\n",
        "      <th>14</th>\n",
        "      <td>       Active </td>\n",
        "      <td> U80903PN1984PLC032945</td>\n",
        "      <td>                  SERUM INSTITUTE OF INDIA LIMITED</td>\n",
        "      <td> 20841</td>\n",
        "      <td>              Serum Institute of India Ltd</td>\n",
        "      <td> 1984-05-22</td>\n",
        "      <td>    Maharashtra, India </td>\n",
        "      <td> https://www.quickcompany.in/company/serum-inst...</td>\n",
        "    </tr>\n",
        "    <tr>\n",
        "      <th>15</th>\n",
        "      <td>       Active </td>\n",
        "      <td> U74899DL1988PTC032549</td>\n",
        "      <td>             MICROSOFT CORPORATION (INDIA) PVT LTD</td>\n",
        "      <td> 13068</td>\n",
        "      <td>       Microsoft Corporation India Pvt Ltd</td>\n",
        "      <td> 1988-07-22</td>\n",
        "      <td>          Delhi, India </td>\n",
        "      <td> https://www.quickcompany.in/company/microsoft-...</td>\n",
        "    </tr>\n",
        "    <tr>\n",
        "      <th>16</th>\n",
        "      <td>       Active </td>\n",
        "      <td> U45309TN1998PTC046270</td>\n",
        "      <td>           SCHWING STETTER (INDIA) PRIVATE LIMITED</td>\n",
        "      <td> 22061</td>\n",
        "      <td>             Schwing Stetter India Pvt Ltd</td>\n",
        "      <td> 1998-06-18</td>\n",
        "      <td>     Tamil Nadu, India </td>\n",
        "      <td> https://www.quickcompany.in/company/schwing-st...</td>\n",
        "    </tr>\n",
        "    <tr>\n",
        "      <th>17</th>\n",
        "      <td>       Active </td>\n",
        "      <td> U27101WB1941PLC010497</td>\n",
        "      <td>                                 CONCAST ISPAT LTD</td>\n",
        "      <td> 25525</td>\n",
        "      <td>                         Concast Ispat Ltd</td>\n",
        "      <td> 1941-04-17</td>\n",
        "      <td>    West Bengal, India </td>\n",
        "      <td> https://www.quickcompany.in/company/concast-is...</td>\n",
        "    </tr>\n",
        "    <tr>\n",
        "      <th>18</th>\n",
        "      <td>       Active </td>\n",
        "      <td> U45201UP2005PLC030918</td>\n",
        "      <td>      Sahara India Real Estate Corporation Limited</td>\n",
        "      <td>  8044</td>\n",
        "      <td>  Sahara India Real Estate Corporation Ltd</td>\n",
        "      <td> 2005-10-28</td>\n",
        "      <td>  Uttar Pradesh, India </td>\n",
        "      <td> https://www.quickcompany.in/company/sahara-ind...</td>\n",
        "    </tr>\n",
        "    <tr>\n",
        "      <th>19</th>\n",
        "      <td>  Amalgamated </td>\n",
        "      <td> U21010DL1993PLC052866</td>\n",
        "      <td>                       BILT GRAPHIC PAPERS LIMITED</td>\n",
        "      <td> 24961</td>\n",
        "      <td>          Bilt Graphic Papers Ltd (Merged)</td>\n",
        "      <td> 1993-04-02</td>\n",
        "      <td>          Delhi, India </td>\n",
        "      <td> https://www.quickcompany.in/company/bilt-graph...</td>\n",
        "    </tr>\n",
        "    <tr>\n",
        "      <th>20</th>\n",
        "      <td>       Active </td>\n",
        "      <td> U22210GJ1981PTC047207</td>\n",
        "      <td>            WRITERS AND PUBLISHERS Private LIMITED</td>\n",
        "      <td> 24637</td>\n",
        "      <td>            Writers and Publishers Pvt Ltd</td>\n",
        "      <td> 1981-01-13</td>\n",
        "      <td>        Gujarat, India </td>\n",
        "      <td> https://www.quickcompany.in/company/writers-an...</td>\n",
        "    </tr>\n",
        "  </tbody>\n",
        "</table>\n",
        "</div>"
       ],
       "metadata": {},
       "output_type": "pyout",
       "prompt_number": 48,
       "text": [
        "           Status                    cin  \\\n",
        "0         Active   U36912MH1994PLC083644   \n",
        "1         Active   U72200KA1997PTC022727   \n",
        "2         Active   U34101KA1997PTC022858   \n",
        "3         Active   U15209DL2000PTC104671   \n",
        "4         Active   U15549HR1994PTC033754   \n",
        "5         Active   U52110CH1974SGC003404   \n",
        "6    Amalgamated   U33111TN1986PLC013119   \n",
        "7         Active   U28113MH1996PLC096835   \n",
        "8         Active   U85110KA1970SGC001919   \n",
        "9         Active   U31909KA1999PTC025698   \n",
        "10        Active   U72200TG2000PTC033858   \n",
        "11        Active   U26911WB1962PLC025691   \n",
        "12        Active   U15200MH1994PTC138918   \n",
        "13        Active   U74899DL1993PTC055062   \n",
        "14        Active   U80903PN1984PLC032945   \n",
        "15        Active   U74899DL1988PTC032549   \n",
        "16        Active   U45309TN1998PTC046270   \n",
        "17        Active   U27101WB1941PLC010497   \n",
        "18        Active   U45201UP2005PLC030918   \n",
        "19   Amalgamated   U21010DL1993PLC052866   \n",
        "20        Active   U22210GJ1981PTC047207   \n",
        "\n",
        "                                              company     id  \\\n",
        "0                        RIDDISIDDHI BULLIONS LIMITED  25126   \n",
        "1         HEWLETT-PACKARD INDIA SALES PRIVATE LIMITED  12664   \n",
        "2              TOYOTA KIRLOSKAR MOTOR PRIVATE LIMITED  19403   \n",
        "3    MOTHER DAIRY FRUIT AND VEGETABLE PRIVATE LIMITED  25590   \n",
        "4              PEPSICO INDIA HOLDINGS PRIVATE LIMITED  13840   \n",
        "5     PUNJAB STATE CIVIL SUPPLIES CORPORATION LIMITED  25007   \n",
        "6                               SIVA VENTURES LIMITED  25501   \n",
        "7                              VIRAJ PROFILES LIMITED  25082   \n",
        "8                 KARNATAKA POWER CORPORATION LIMITED  12054   \n",
        "9                          ACER INDIA PRIVATE LIMITED  20697   \n",
        "10  HSBC ELECTRONIC DATA PROCESSING INDIA PRIVATE ...  21126   \n",
        "11                               RUNGTA MINES LIMITED  27841   \n",
        "12                        HEINZ INDIA PRIVATE LIMITED  12467   \n",
        "13                Pernod Ricard India Private Limited  16875   \n",
        "14                   SERUM INSTITUTE OF INDIA LIMITED  20841   \n",
        "15              MICROSOFT CORPORATION (INDIA) PVT LTD  13068   \n",
        "16            SCHWING STETTER (INDIA) PRIVATE LIMITED  22061   \n",
        "17                                  CONCAST ISPAT LTD  25525   \n",
        "18       Sahara India Real Estate Corporation Limited   8044   \n",
        "19                        BILT GRAPHIC PAPERS LIMITED  24961   \n",
        "20             WRITERS AND PUBLISHERS Private LIMITED  24637   \n",
        "\n",
        "                                         name     regdate  \\\n",
        "0                    Riddisiddhi Bullions Ltd  1994-12-09   \n",
        "1         Hewlett-Packard India Sales Pvt Ltd  1997-09-02   \n",
        "2                  Toyota Kirloskar Motor Ltd  1997-10-06   \n",
        "3         Mother Dairy Fruit & Vegetables Ltd  2000-03-24   \n",
        "4              Pepsico India Holdings Pvt Ltd  1994-01-28   \n",
        "5       Punjab State Civil Supplies Corpn Ltd  1974-02-14   \n",
        "6                           Siva Ventures Ltd  1986-06-23   \n",
        "7                          Viraj Profiles Ltd  1996-02-02   \n",
        "8             Karnataka Power Corporation Ltd  1970-07-20   \n",
        "9                          Acer India Pvt Ltd  1999-09-09   \n",
        "10  HSBC Electronic Data Processing India Ltd  2000-03-14   \n",
        "11                           Rungta Mines Ltd  1962-12-01   \n",
        "12                        Heinz India Pvt Ltd  1994-06-14   \n",
        "13                Pernod Ricard India Pvt Ltd  1993-09-03   \n",
        "14               Serum Institute of India Ltd  1984-05-22   \n",
        "15        Microsoft Corporation India Pvt Ltd  1988-07-22   \n",
        "16              Schwing Stetter India Pvt Ltd  1998-06-18   \n",
        "17                          Concast Ispat Ltd  1941-04-17   \n",
        "18   Sahara India Real Estate Corporation Ltd  2005-10-28   \n",
        "19           Bilt Graphic Papers Ltd (Merged)  1993-04-02   \n",
        "20             Writers and Publishers Pvt Ltd  1981-01-13   \n",
        "\n",
        "                  regplace                                                url  \n",
        "0      Maharashtra, India   https://www.quickcompany.in/company/riddisiddh...  \n",
        "1        Karnataka, India   https://www.quickcompany.in/company/hewlett-pa...  \n",
        "2        Karnataka, India   https://www.quickcompany.in/company/toyota-kir...  \n",
        "3            Delhi, India   https://www.quickcompany.in/company/mother-dai...  \n",
        "4          Haryana, India   https://www.quickcompany.in/company/pepsico-in...  \n",
        "5       Chandigarh, India   https://www.quickcompany.in/company/punjab-sta...  \n",
        "6       Tamil Nadu, India   https://www.quickcompany.in/company/siva-ventu...  \n",
        "7      Maharashtra, India   https://www.quickcompany.in/company/viraj-prof...  \n",
        "8        Karnataka, India   https://www.quickcompany.in/company/karnataka-...  \n",
        "9        Karnataka, India   https://www.quickcompany.in/company/acer-india...  \n",
        "10       Telangana, India   https://www.quickcompany.in/company/hsbc-elect...  \n",
        "11     West Bengal, India   https://www.quickcompany.in/company/rungta-min...  \n",
        "12     Maharashtra, India   https://www.quickcompany.in/company/heinz-indi...  \n",
        "13           Delhi, India   https://www.quickcompany.in/company/pernod-ric...  \n",
        "14     Maharashtra, India   https://www.quickcompany.in/company/serum-inst...  \n",
        "15           Delhi, India   https://www.quickcompany.in/company/microsoft-...  \n",
        "16      Tamil Nadu, India   https://www.quickcompany.in/company/schwing-st...  \n",
        "17     West Bengal, India   https://www.quickcompany.in/company/concast-is...  \n",
        "18   Uttar Pradesh, India   https://www.quickcompany.in/company/sahara-ind...  \n",
        "19           Delhi, India   https://www.quickcompany.in/company/bilt-graph...  \n",
        "20         Gujarat, India   https://www.quickcompany.in/company/writers-an...  "
       ]
      }
     ],
     "prompt_number": 48
    },
    {
     "cell_type": "code",
     "collapsed": false,
     "input": [
      "def getDirectorDFFromCompanyPageHelper(maindiv, cin, paragid):\n",
      "    #get director's table details\n",
      "    table = maindiv.find('table')\n",
      "    rows = table.find_all('tr') \n",
      "    data2 = []\n",
      "    for row in rows:\n",
      "        cols = row.find_all('td') \n",
      "        if len(cols) > 0 and cols[0].text.strip() != '0': #a bug in company wiki for the name of Nitin Hariyantlal Datanwala\n",
      "            dict2 = {'DIN':cols[0].text,\n",
      "                     'CIN':cin,\n",
      "                     'id':paragid,\n",
      "                     'Name':cols[1].text, \n",
      "                     'Link':'http://www.quickcompany.in'+cols[1].find('a').get('href'),                  \n",
      "                     'Address':'',\n",
      "                     'Designation':cols[2].text,\n",
      "                     'DOA':cols[3].text,\n",
      "                     'DSC_Status':cols[4].text}\n",
      "            data2.append(dict2)\n",
      "    dirdf  = pd.DataFrame(data2)\n",
      "    return dirdf"
     ],
     "language": "python",
     "metadata": {},
     "outputs": [],
     "prompt_number": 64
    },
    {
     "cell_type": "code",
     "collapsed": false,
     "input": [
      "def getDirectorDFFromCompanyPage(url, paragid):\n",
      "    flag=False\n",
      "    for i in range(50):\n",
      "        if flag: break\n",
      "        time.sleep(10)\n",
      "        try:\n",
      "            r = rq.get(url)\n",
      "            flag=True\n",
      "        except ProxyError:\n",
      "            print 'MyError: ProxyError trial in scrapeCompanyPageQuickCompany'+str(i)\n",
      "            continue\n",
      "    \n",
      "    data = r.text\n",
      "    \n",
      "    df = pd.DataFrame()\n",
      "    \n",
      "    soup = BeautifulSoup(data)\n",
      "    \n",
      "    maindiv = soup.find('div', attrs={'class':\"col-md-9\"})\n",
      "    \n",
      "    if not maindiv:\n",
      "        print 'MyERROR: Company page not found for ' + url\n",
      "        return\n",
      "    \n",
      "    cintext = maindiv.find('h3',attrs={'class':\"lighter truncate\"})\n",
      "    cin  = cintext.text[5:]\n",
      "\n",
      "    #cmpnydf=getCompanyDf(maindiv, url, c_name)\n",
      "    dirdf=getDirectorDFFromCompanyPageHelper(maindiv,cin, paragid)\n",
      "    \n",
      "    ##for a company : dirdf, cmpnydf to db with appropriate checks\n",
      "    #print '\\t\\t\\t### Adding company '+c_name+' details to DB'\n",
      "    #writeCompanyFrameToDB(cmpnydf)\n",
      "    print '\\t\\t\\t## Adding directors of '+cin+' details to DB'\n",
      "    #writeDirectorDataFrameToDB(dirdf)\n",
      "    #print '\\t\\t\\t## Adding bod links of '+c_name+' details to DB'\n",
      "    #writeQcBodToDB(dirdf,cin)\n",
      "    #no need to return\n",
      "    return dirdf"
     ],
     "language": "python",
     "metadata": {},
     "outputs": [],
     "prompt_number": 69
    },
    {
     "cell_type": "code",
     "collapsed": false,
     "input": [
      "getDirectorDFFromCompanyPage('https://www.quickcompany.in/company/schwing-stetter-india-private-limited-0c62a5e4-fb7d-4061-8825-c89d46a3fb02','1')"
     ],
     "language": "python",
     "metadata": {},
     "outputs": [
      {
       "output_type": "stream",
       "stream": "stdout",
       "text": [
        "\t\t\t## Adding directors of U45309TN1998PTC046270 details to DB\n"
       ]
      },
      {
       "html": [
        "<div style=\"max-height:1000px;max-width:1500px;overflow:auto;\">\n",
        "<table border=\"1\" class=\"dataframe\">\n",
        "  <thead>\n",
        "    <tr style=\"text-align: right;\">\n",
        "      <th></th>\n",
        "      <th>Address</th>\n",
        "      <th>CIN</th>\n",
        "      <th>DIN</th>\n",
        "      <th>DOA</th>\n",
        "      <th>DSC_Status</th>\n",
        "      <th>Designation</th>\n",
        "      <th>Link</th>\n",
        "      <th>Name</th>\n",
        "      <th>id</th>\n",
        "    </tr>\n",
        "  </thead>\n",
        "  <tbody>\n",
        "    <tr>\n",
        "      <th>0</th>\n",
        "      <td> </td>\n",
        "      <td> U45309TN1998PTC046270</td>\n",
        "      <td> 1028552</td>\n",
        "      <td> 2002-01-06</td>\n",
        "      <td> YES</td>\n",
        "      <td> Managing Director</td>\n",
        "      <td> http://www.quickcompany.in/director/1028552-an...</td>\n",
        "      <td>           Ananthanarayan Sundaresan</td>\n",
        "      <td> 1</td>\n",
        "    </tr>\n",
        "    <tr>\n",
        "      <th>1</th>\n",
        "      <td> </td>\n",
        "      <td> U45309TN1998PTC046270</td>\n",
        "      <td> 1544903</td>\n",
        "      <td> 2013-01-01</td>\n",
        "      <td> YES</td>\n",
        "      <td>          Director</td>\n",
        "      <td> http://www.quickcompany.in/director/1544903-su...</td>\n",
        "      <td>        Subramanian Angarai Raghavan</td>\n",
        "      <td> 1</td>\n",
        "    </tr>\n",
        "    <tr>\n",
        "      <th>2</th>\n",
        "      <td> </td>\n",
        "      <td> U45309TN1998PTC046270</td>\n",
        "      <td> 2330188</td>\n",
        "      <td> 2008-05-29</td>\n",
        "      <td>  NO</td>\n",
        "      <td>          Director</td>\n",
        "      <td> http://www.quickcompany.in/director/2330188-gu...</td>\n",
        "      <td>                     Gunther Abolins</td>\n",
        "      <td> 1</td>\n",
        "    </tr>\n",
        "    <tr>\n",
        "      <th>3</th>\n",
        "      <td> </td>\n",
        "      <td> U45309TN1998PTC046270</td>\n",
        "      <td> 6475756</td>\n",
        "      <td> 2013-01-01</td>\n",
        "      <td> YES</td>\n",
        "      <td>          Director</td>\n",
        "      <td> http://www.quickcompany.in/director/6475756-sa...</td>\n",
        "      <td> Sakthikumar Velayutham Govindarajan</td>\n",
        "      <td> 1</td>\n",
        "    </tr>\n",
        "  </tbody>\n",
        "</table>\n",
        "</div>"
       ],
       "metadata": {},
       "output_type": "pyout",
       "prompt_number": 70,
       "text": [
        "  Address                    CIN      DIN         DOA DSC_Status  \\\n",
        "0          U45309TN1998PTC046270  1028552  2002-01-06        YES   \n",
        "1          U45309TN1998PTC046270  1544903  2013-01-01        YES   \n",
        "2          U45309TN1998PTC046270  2330188  2008-05-29         NO   \n",
        "3          U45309TN1998PTC046270  6475756  2013-01-01        YES   \n",
        "\n",
        "         Designation                                               Link  \\\n",
        "0  Managing Director  http://www.quickcompany.in/director/1028552-an...   \n",
        "1           Director  http://www.quickcompany.in/director/1544903-su...   \n",
        "2           Director  http://www.quickcompany.in/director/2330188-gu...   \n",
        "3           Director  http://www.quickcompany.in/director/6475756-sa...   \n",
        "\n",
        "                                  Name id  \n",
        "0            Ananthanarayan Sundaresan  1  \n",
        "1         Subramanian Angarai Raghavan  1  \n",
        "2                      Gunther Abolins  1  \n",
        "3  Sakthikumar Velayutham Govindarajan  1  "
       ]
      }
     ],
     "prompt_number": 70
    }
   ],
   "metadata": {}
  }
 ]
}