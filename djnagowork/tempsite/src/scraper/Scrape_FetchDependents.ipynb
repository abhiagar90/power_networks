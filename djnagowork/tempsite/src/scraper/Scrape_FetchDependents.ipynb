{
 "metadata": {
  "name": "",
  "signature": "sha256:8a192e71e846be902aabe24986be043c6a2ea5eaf1880825dad911cb49e4161f"
 },
 "nbformat": 3,
 "nbformat_minor": 0,
 "worksheets": [
  {
   "cells": [
    {
     "cell_type": "code",
     "collapsed": false,
     "input": [
      "from bs4 import BeautifulSoup\n",
      "import pandas as pd\n",
      "import requests as rq\n",
      "import re\n",
      "import hashlib\n",
      "import csv\n",
      "import time"
     ],
     "language": "python",
     "metadata": {},
     "outputs": [],
     "prompt_number": 1
    },
    {
     "cell_type": "code",
     "collapsed": false,
     "input": [
      "#returns the name of the dependent mentioned in myneta page for this id and year\n",
      "def fetchDependentNameFromMyneta(mynetaid,lsyear):\n",
      "    print 'Processing '+str(mynetaid)+' for year '+str(lsyear),\n",
      "    url=\"http://myneta.info/ls\"+str(lsyear)+\"/candidate.php?candidate_id=\"+str(mynetaid)\n",
      "    r = rq.get(url)\n",
      "    data = r.text\n",
      "    soup = BeautifulSoup(data)\n",
      "    alldivs = soup.find_all('div',attrs={'class':'grid_2 alpha'})\n",
      "    depname = alldivs[1].text\n",
      "    depname=depname[depname.find(':')+1:]\n",
      "    print depname.strip()\n",
      "    return depname.strip()\n",
      "#fetchDependentNameFromMyneta(7990,2014)"
     ],
     "language": "python",
     "metadata": {},
     "outputs": [],
     "prompt_number": 16
    },
    {
     "cell_type": "code",
     "collapsed": false,
     "input": [
      "candframe=pd.read_csv('ls2014winners.csv', index_col=False, quoting=csv.QUOTE_ALL)\n",
      "candframe['depname'] = candframe.apply(lambda r: fetchDependentNameFromMyneta(int(r['Candidate ID']),2014), axis=1)"
     ],
     "language": "python",
     "metadata": {},
     "outputs": [
      {
       "output_type": "stream",
       "stream": "stdout",
       "text": [
        "Processing 585 for year 2014 "
       ]
      },
      {
       "output_type": "stream",
       "stream": "stdout",
       "text": [
        "Late Ramashis Ray\n",
        "Processing 8160 for year 2014 "
       ]
      },
      {
       "output_type": "stream",
       "stream": "stdout",
       "text": [
        "Pandula Buthyya\n",
        "Processing 8245 for year 2014 "
       ]
      },
      {
       "output_type": "stream",
       "stream": "stdout",
       "text": [
        "Late M Venkata Narayana\n",
        "Processing 8326 for year 2014 "
       ]
      },
      {
       "output_type": "stream",
       "stream": "stdout",
       "text": [
        "Chinnareddy Negi Reddy Jutur\n",
        "Processing 8865 for year 2014 "
       ]
      },
      {
       "output_type": "stream",
       "stream": "stdout",
       "text": [
        "Late Kothapalli Jacob\n",
        "Processing 8482 for year 2014 "
       ]
      },
      {
       "output_type": "stream",
       "stream": "stdout",
       "text": [
        "Raghavaiah\n",
        "Processing 8170 for year 2014 "
       ]
      },
      {
       "output_type": "stream",
       "stream": "stdout",
       "text": [
        "Sri. N.Nagaiah\n",
        "Processing 8178 for year 2014 "
       ]
      },
      {
       "output_type": "stream",
       "stream": "stdout",
       "text": [
        "Ravindranadh Chowdary\n",
        "Processing 8183 for year 2014 "
       ]
      },
      {
       "output_type": "stream",
       "stream": "stdout",
       "text": [
        "Ramachandra Naidu Galla\n",
        "Processing 8911 for year 2014 "
       ]
      },
      {
       "output_type": "stream",
       "stream": "stdout",
       "text": [
        "Nimmala Rangappa\n",
        "Processing 8191 for year 2014 "
       ]
      },
      {
       "output_type": "stream",
       "stream": "stdout",
       "text": [
        "Yeduguri Sandinti Bhaskar Reddy\n",
        "Processing 8194 for year 2014 "
       ]
      },
      {
       "output_type": "stream",
       "stream": "stdout",
       "text": [
        "Late. T Varahalayya\n",
        "Processing 8202 for year 2014 "
       ]
      },
      {
       "output_type": "stream",
       "stream": "stdout",
       "text": [
        "butta siva neelakanta\n",
        "Processing 8339 for year 2014 "
       ]
      },
      {
       "output_type": "stream",
       "stream": "stdout",
       "text": [
        "Late Ganapathi\n",
        "Processing 8211 for year 2014 "
       ]
      },
      {
       "output_type": "stream",
       "stream": "stdout",
       "text": [
        "Sannapa Reddy Konda Reddy\n",
        "Processing 8213 for year 2014 "
       ]
      },
      {
       "output_type": "stream",
       "stream": "stdout",
       "text": [
        "VENKATA RANGA RAO\n",
        "Processing 9455 for year 2014 "
       ]
      },
      {
       "output_type": "stream",
       "stream": "stdout",
       "text": [
        "Late Ranga Raju\n",
        "Processing 8343 for year 2014 "
       ]
      },
      {
       "output_type": "stream",
       "stream": "stdout",
       "text": [
        "Mekapati Venku Reddy\n",
        "Processing 8505 for year 2014 "
       ]
      },
      {
       "output_type": "stream",
       "stream": "stdout",
       "text": [
        "Late Y.Chinnapoli Redy\n",
        "Processing 8985 for year 2014 "
       ]
      },
      {
       "output_type": "stream",
       "stream": "stdout",
       "text": [
        "(Late) Madhava Rao Maganti\n",
        "Processing 8510 for year 2014 "
       ]
      },
      {
       "output_type": "stream",
       "stream": "stdout",
       "text": [
        "P. Ramachandra Reddy\n",
        "Processing 8230 for year 2014 "
       ]
      },
      {
       "output_type": "stream",
       "stream": "stdout",
       "text": [
        "Late Yerrannaidu\n",
        "Processing 8233 for year 2014 "
       ]
      },
      {
       "output_type": "stream",
       "stream": "stdout",
       "text": [
        "V.Chiranjeevulu\n",
        "Processing 8239 for year 2014 "
       ]
      },
      {
       "output_type": "stream",
       "stream": "stdout",
       "text": [
        "RAMASWAMY KESINENI\n",
        "Processing 9055 for year 2014 "
       ]
      },
      {
       "output_type": "stream",
       "stream": "stdout",
       "text": [
        "venkateswarlu\n",
        "Processing 9061 for year 2014 "
       ]
      },
      {
       "output_type": "stream",
       "stream": "stdout",
       "text": [
        "Late Dr. PVG Raju\n",
        "Processing 406 for year 2014 "
       ]
      },
      {
       "output_type": "stream",
       "stream": "stdout",
       "text": [
        "Late Daying Ering\n",
        "Processing 246 for year 2014 "
       ]
      },
      {
       "output_type": "stream",
       "stream": "stdout",
       "text": [
        "Shri R, Kharu Rijiju\n",
        "Processing 2271 for year 2014 "
       ]
      },
      {
       "output_type": "stream",
       "stream": "stdout",
       "text": [
        "Late Kangther Engti\n",
        "Processing 4857 for year 2014 "
       ]
      },
      {
       "output_type": "stream",
       "stream": "stdout",
       "text": [
        "Lt. Ajmal Ali\n",
        "Processing 4088 for year 2014 "
       ]
      },
      {
       "output_type": "stream",
       "stream": "stdout",
       "text": [
        "Lt. Ajmal Ali\n",
        "Processing 81 for year 2014 "
       ]
      },
      {
       "output_type": "stream",
       "stream": "stdout",
       "text": [
        "Late Budhu Teli\n",
        "Processing 82 for year 2014 "
       ]
      },
      {
       "output_type": "stream",
       "stream": "stdout",
       "text": [
        "Sri Jiten Chakravarty\n",
        "Processing 85 for year 2014 "
       ]
      },
      {
       "output_type": "stream",
       "stream": "stdout",
       "text": [
        "Late Dewram Tasa\n",
        "Processing 115 for year 2014 "
       ]
      },
      {
       "output_type": "stream",
       "stream": "stdout",
       "text": [
        "Tarun Gogoi\n",
        "Processing 2240 for year 2014 "
       ]
      },
      {
       "output_type": "stream",
       "stream": "stdout",
       "text": [
        "Late Bhabeshwar Biswas\n",
        "Processing 4096 for year 2014 "
       ]
      },
      {
       "output_type": "stream",
       "stream": "stdout",
       "text": [
        "Late Lakhi Kanta Sarania\n",
        "Processing 517 for year 2014 "
       ]
      },
      {
       "output_type": "stream",
       "stream": "stdout",
       "text": [
        "Late. Jibeswar Sonowal\n",
        "Processing 83 for year 2014 "
       ]
      },
      {
       "output_type": "stream",
       "stream": "stdout",
       "text": [
        "Lt. Surendra Nath Deka\n",
        "Processing 84 for year 2014 "
       ]
      },
      {
       "output_type": "stream",
       "stream": "stdout",
       "text": [
        "Late Sambhu Nath Gohain\n",
        "Processing 2255 for year 2014 "
       ]
      },
      {
       "output_type": "stream",
       "stream": "stdout",
       "text": [
        "Sontosh Mohan Dev\n",
        "Processing 80 for year 2014 "
       ]
      },
      {
       "output_type": "stream",
       "stream": "stdout",
       "text": [
        "Late Hari Narayan Sharma\n",
        "Processing 4456 for year 2014 "
       ]
      },
      {
       "output_type": "stream",
       "stream": "stdout",
       "text": [
        "Amjad Ali\n",
        "Processing 2641 for year 2014 "
       ]
      },
      {
       "output_type": "stream",
       "stream": "stdout",
       "text": [
        "Haldar Prasad Singh\n",
        "Processing 371 for year 2014 "
       ]
      },
      {
       "output_type": "stream",
       "stream": "stdout",
       "text": [
        "Ramnaresh Singh\n",
        "Processing 4467 for year 2014 "
       ]
      },
      {
       "output_type": "stream",
       "stream": "stdout",
       "text": [
        "Akhileshwar Prasad Yadav\n",
        "Processing 6156 for year 2014 "
       ]
      },
      {
       "output_type": "stream",
       "stream": "stdout",
       "text": [
        "Late Ram Pratap singh\n",
        "Processing 4470 for year 2014 "
       ]
      },
      {
       "output_type": "stream",
       "stream": "stdout",
       "text": [
        "Upendra Mandal\n",
        "Processing 2656 for year 2014 "
       ]
      },
      {
       "output_type": "stream",
       "stream": "stdout",
       "text": [
        "Lt. Sahdev Prasad Choubey\n",
        "Processing 6166 for year 2014 "
       ]
      },
      {
       "output_type": "stream",
       "stream": "stdout",
       "text": [
        "Lt. Bhagwat Jha Azad\n",
        "Processing 155 for year 2014 "
       ]
      },
      {
       "output_type": "stream",
       "stream": "stdout",
       "text": [
        "Mastan Manjhi\n",
        "Processing 9138 for year 2014 "
       ]
      },
      {
       "output_type": "stream",
       "stream": "stdout",
       "text": [
        "Rambali Ram\n",
        "Processing 8120 for year 2014 "
       ]
      },
      {
       "output_type": "stream",
       "stream": "stdout",
       "text": [
        "Jamun Paswan\n",
        "Processing 2671 for year 2014 "
       ]
      },
      {
       "output_type": "stream",
       "stream": "stdout",
       "text": [
        "Sri Brajnandan Sharma\n",
        "Processing 158 for year 2014 "
       ]
      },
      {
       "output_type": "stream",
       "stream": "stdout",
       "text": [
        "Ramvilash Paswan\n",
        "Processing 6180 for year 2014 "
       ]
      },
      {
       "output_type": "stream",
       "stream": "stdout",
       "text": [
        "Anant Lal Chaudhary\n",
        "Processing 554 for year 2014 "
       ]
      },
      {
       "output_type": "stream",
       "stream": "stdout",
       "text": [
        "Late Bhuvneshwer Singh\n",
        "Processing 4109 for year 2014 "
       ]
      },
      {
       "output_type": "stream",
       "stream": "stdout",
       "text": [
        "Late S.M. Ahmed\n",
        "Processing 6773 for year 2014 "
       ]
      },
      {
       "output_type": "stream",
       "stream": "stdout",
       "text": [
        "Choudhary Mahboob Slaha Uddin\n",
        "Processing 4488 for year 2014 "
       ]
      },
      {
       "output_type": "stream",
       "stream": "stdout",
       "text": [
        "Munshi Umed Ali\n",
        "Processing 6198 for year 2014 "
       ]
      },
      {
       "output_type": "stream",
       "stream": "stdout",
       "text": [
        "Chandra Narayan Yadav\n",
        "Processing 6237 for year 2014 "
       ]
      },
      {
       "output_type": "stream",
       "stream": "stdout",
       "text": [
        "Late Rajgari Yadav\n",
        "Processing 87 for year 2014 "
       ]
      },
      {
       "output_type": "stream",
       "stream": "stdout",
       "text": [
        "Late Nageshwar Singh\n",
        "Processing 2695 for year 2014 "
       ]
      },
      {
       "output_type": "stream",
       "stream": "stdout",
       "text": [
        "Suraj Singh\n",
        "Processing 8130 for year 2014 "
       ]
      },
      {
       "output_type": "stream",
       "stream": "stdout",
       "text": [
        "Captian Jai Narayan Prasad Nishad\n",
        "Processing 2725 for year 2014 "
       ]
      },
      {
       "output_type": "stream",
       "stream": "stdout",
       "text": [
        "KAMESHWAR JARAH\n",
        "Processing 149 for year 2014 "
       ]
      },
      {
       "output_type": "stream",
       "stream": "stdout",
       "text": [
        "Ramavtar Singh\n",
        "Processing 114 for year 2014 "
       ]
      },
      {
       "output_type": "stream",
       "stream": "stdout",
       "text": [
        "Dr. Madan Prasad Jayaswal\n",
        "Processing 2750 for year 2014 "
       ]
      },
      {
       "output_type": "stream",
       "stream": "stdout",
       "text": [
        "Kishori Prasad Yadav\n",
        "Processing 88 for year 2014 "
       ]
      },
      {
       "output_type": "stream",
       "stream": "stdout",
       "text": [
        "Bhuvaneshwar Prasad Sinha\n",
        "Processing 3975 for year 2014 "
       ]
      },
      {
       "output_type": "stream",
       "stream": "stdout",
       "text": [
        "Nevilal Vishwas\n",
        "Processing 9156 for year 2014 "
       ]
      },
      {
       "output_type": "stream",
       "stream": "stdout",
       "text": [
        "Late.Baidhnath Singh\n",
        "Processing 6248 for year 2014 "
       ]
      },
      {
       "output_type": "stream",
       "stream": "stdout",
       "text": [
        "Jamut Dass\n",
        "Processing 8143 for year 2014 "
       ]
      },
      {
       "output_type": "stream",
       "stream": "stdout",
       "text": [
        "Vishwa Nath Singh\n",
        "Processing 145 for year 2014 "
       ]
      },
      {
       "output_type": "stream",
       "stream": "stdout",
       "text": [
        "Late Sh. Ramchandra Paswan\n",
        "Processing 8144 for year 2014 "
       ]
      },
      {
       "output_type": "stream",
       "stream": "stdout",
       "text": [
        "Brij  Bihari Prasad\n",
        "Processing 8558 for year 2014 "
       ]
      },
      {
       "output_type": "stream",
       "stream": "stdout",
       "text": [
        "Mahesh Prasad Sharma\n",
        "Processing 9167 for year 2014 "
       ]
      },
      {
       "output_type": "stream",
       "stream": "stdout",
       "text": [
        "Late. Ramanand Yadav\n",
        "Processing 4499 for year 2014 "
       ]
      },
      {
       "output_type": "stream",
       "stream": "stdout",
       "text": [
        "Rajesh Ranjan Urf Pappu\n",
        "Processing 8154 for year 2014 "
       ]
      },
      {
       "output_type": "stream",
       "stream": "stdout",
       "text": [
        "Ganga Bishuna Rai\n",
        "Processing 9179 for year 2014 "
       ]
      },
      {
       "output_type": "stream",
       "stream": "stdout",
       "text": [
        "Shri Kapleswar Singh\n",
        "Processing 113 for year 2014 "
       ]
      },
      {
       "output_type": "stream",
       "stream": "stdout",
       "text": [
        "Indrajeet Dubey\n",
        "Processing 72 for year 2014 "
       ]
      },
      {
       "output_type": "stream",
       "stream": "stdout",
       "text": [
        "Anupam Kher\n",
        "Processing 111 for year 2014 "
       ]
      },
      {
       "output_type": "stream",
       "stream": "stdout",
       "text": [
        "Late. Baliram Kashyap\n",
        "Processing 106 for year 2014 "
       ]
      },
      {
       "output_type": "stream",
       "stream": "stdout",
       "text": [
        "Kalyan Prasad Sahu\n",
        "Processing 3985 for year 2014 "
       ]
      },
      {
       "output_type": "stream",
       "stream": "stdout",
       "text": [
        "Mohan Lal Sahu\n",
        "Processing 104 for year 2014 "
       ]
      },
      {
       "output_type": "stream",
       "stream": "stdout",
       "text": [
        "Indrabhushan Patle\n",
        "Processing 112 for year 2014 "
       ]
      },
      {
       "output_type": "stream",
       "stream": "stdout",
       "text": [
        "DEV SINGH USENDI\n",
        "Processing 105 for year 2014 "
       ]
      },
      {
       "output_type": "stream",
       "stream": "stdout",
       "text": [
        "Late. Dhaniram Mahato\n",
        "Processing 110 for year 2014 "
       ]
      },
      {
       "output_type": "stream",
       "stream": "stdout",
       "text": [
        "Late Puneem Ram\n",
        "Processing 103 for year 2014 "
       ]
      },
      {
       "output_type": "stream",
       "stream": "stdout",
       "text": [
        "Ramprasad Sai\n",
        "Processing 109 for year 2014 "
       ]
      },
      {
       "output_type": "stream",
       "stream": "stdout",
       "text": [
        "Late Khomlal Bais\n",
        "Processing 107 for year 2014 "
       ]
      },
      {
       "output_type": "stream",
       "stream": "stdout",
       "text": [
        "Dr.Raman Singh\n",
        "Processing 102 for year 2014 "
       ]
      },
      {
       "output_type": "stream",
       "stream": "stdout",
       "text": [
        "Gajraj Maravi\n",
        "Processing 7905 for year 2014 "
       ]
      },
      {
       "output_type": "stream",
       "stream": "stdout",
       "text": [
        "Gomanbhai Patel\n",
        "Processing 6084 for year 2014 "
       ]
      },
      {
       "output_type": "stream",
       "stream": "stdout",
       "text": [
        "Patel Babubhai Gandabhai\n",
        "Processing 1979 for year 2014 "
       ]
      },
      {
       "output_type": "stream",
       "stream": "stdout",
       "text": [
        "Yesso Naik\n",
        "Processing 1989 for year 2014 "
       ]
      },
      {
       "output_type": "stream",
       "stream": "stdout",
       "text": [
        "Keshav Sawaikar\n",
        "Processing 5283 for year 2014 "
       ]
      },
      {
       "output_type": "stream",
       "stream": "stdout",
       "text": [
        "DAHYALAL RAWAL\n",
        "Processing 4562 for year 2014 "
       ]
      },
      {
       "output_type": "stream",
       "stream": "stdout",
       "text": [
        "PREMJIBHAI SOLANKI\n",
        "Processing 5294 for year 2014 "
       ]
      },
      {
       "output_type": "stream",
       "stream": "stdout",
       "text": [
        "BHIKHABHAI KACHHADIYA\n",
        "Processing 5296 for year 2014 "
       ]
      },
      {
       "output_type": "stream",
       "stream": "stdout",
       "text": [
        "MANIBHAI\n",
        "Processing 4570 for year 2014 "
       ]
      },
      {
       "output_type": "stream",
       "stream": "stdout",
       "text": [
        "CHADHARY PARTHIBHAI\n",
        "Processing 7303 for year 2014 "
       ]
      },
      {
       "output_type": "stream",
       "stream": "stdout",
       "text": [
        "NAGARBHAI\n",
        "Processing 4581 for year 2014 "
       ]
      },
      {
       "output_type": "stream",
       "stream": "stdout",
       "text": [
        "DHANJIBHAI KHATARIYABHAI VASAVA\n",
        "Processing 5309 for year 2014 "
       ]
      },
      {
       "output_type": "stream",
       "stream": "stdout",
       "text": [
        "DHIRUBHAI\n",
        "Processing 4588 for year 2014 "
       ]
      },
      {
       "output_type": "stream",
       "stream": "stdout",
       "text": [
        "PATALBHAI JEHLABHAI\n",
        "Processing 5311 for year 2014 "
       ]
      },
      {
       "output_type": "stream",
       "stream": "stdout",
       "text": [
        "SUMANBHAI RANGAJIBHAI BHABHOR\n",
        "Processing 4596 for year 2014 "
       ]
      },
      {
       "output_type": "stream",
       "stream": "stdout",
       "text": [
        "LATE KISHINCHAND D ADVANI\n",
        "Processing 5336 for year 2014 "
       ]
      },
      {
       "output_type": "stream",
       "stream": "stdout",
       "text": [
        "Perminder Kumar\n",
        "Processing 4605 for year 2014 "
       ]
      },
      {
       "output_type": "stream",
       "stream": "stdout",
       "text": [
        "NARANBHAI RAMABHAI\n",
        "Processing 4608 for year 2014 "
       ]
      },
      {
       "output_type": "stream",
       "stream": "stdout",
       "text": [
        "LAKHAMASHI\n",
        "Processing 4615 for year 2014 "
       ]
      },
      {
       "output_type": "stream",
       "stream": "stdout",
       "text": [
        "JESINGBHAI\n",
        "Processing 5354 for year 2014 "
       ]
      },
      {
       "output_type": "stream",
       "stream": "stdout",
       "text": [
        "KANUBHAI PATEL\n",
        "Processing 5358 for year 2014 "
       ]
      },
      {
       "output_type": "stream",
       "stream": "stdout",
       "text": [
        "RAGHUNATH SHIVRAM PATIL\n",
        "Processing 5362 for year 2014 "
       ]
      },
      {
       "output_type": "stream",
       "stream": "stdout",
       "text": [
        "PRATAPSINH\n",
        "Processing 6500 for year 2014 "
       ]
      },
      {
       "output_type": "stream",
       "stream": "stdout",
       "text": [
        "KHODAJI\n",
        "Processing 6518 for year 2014 "
       ]
      },
      {
       "output_type": "stream",
       "stream": "stdout",
       "text": [
        "HANSHRAJBHAI RADADIYA\n",
        "Processing 6531 for year 2014 "
       ]
      },
      {
       "output_type": "stream",
       "stream": "stdout",
       "text": [
        "KALYANJIBHAI\n",
        "Processing 6552 for year 2014 "
       ]
      },
      {
       "output_type": "stream",
       "stream": "stdout",
       "text": [
        "SHANKARSINH RAGHUSINH RATHOD\n",
        "Processing 5315 for year 2014 "
       ]
      },
      {
       "output_type": "stream",
       "stream": "stdout",
       "text": [
        "VIKRAMBHAI\n",
        "Processing 6575 for year 2014 "
       ]
      },
      {
       "output_type": "stream",
       "stream": "stdout",
       "text": [
        "GOVINDBHAI\n",
        "Processing 9858 for year 2014 "
       ]
      },
      {
       "output_type": "stream",
       "stream": "stdout",
       "text": [
        "\n",
        "Processing 6597 for year 2014 "
       ]
      },
      {
       "output_type": "stream",
       "stream": "stdout",
       "text": [
        "CHHAGANBHAI MANJIBHAI\n",
        "Processing 89 for year 2014 "
       ]
      },
      {
       "output_type": "stream",
       "stream": "stdout",
       "text": [
        "Jyoti Ram\n",
        "Processing 865 for year 2014 "
       ]
      },
      {
       "output_type": "stream",
       "stream": "stdout",
       "text": [
        "Sh. Bhale Ram\n",
        "Processing 1047 for year 2014 "
       ]
      },
      {
       "output_type": "stream",
       "stream": "stdout",
       "text": [
        "Late Sh. Hans Raj\n",
        "Processing 1046 for year 2014 "
       ]
      },
      {
       "output_type": "stream",
       "stream": "stdout",
       "text": [
        "Birender Singh\n",
        "Processing 201 for year 2014 "
       ]
      },
      {
       "output_type": "stream",
       "stream": "stdout",
       "text": [
        "Shri Ajay Singh Chautala\n",
        "Processing 1052 for year 2014 "
       ]
      },
      {
       "output_type": "stream",
       "stream": "stdout",
       "text": [
        "Late Sh. Romesh Chander\n",
        "Processing 90 for year 2014 "
       ]
      },
      {
       "output_type": "stream",
       "stream": "stdout",
       "text": [
        "Sh Babu Ram\n",
        "Processing 1268 for year 2014 "
       ]
      },
      {
       "output_type": "stream",
       "stream": "stdout",
       "text": [
        "Bhupinder Singh\n",
        "Processing 1056 for year 2014 "
       ]
      },
      {
       "output_type": "stream",
       "stream": "stdout",
       "text": [
        "Gurdial Singh\n",
        "Processing 91 for year 2014 "
       ]
      },
      {
       "output_type": "stream",
       "stream": "stdout",
       "text": [
        "Kali Ram\n",
        "Processing 7997 for year 2014 "
       ]
      },
      {
       "output_type": "stream",
       "stream": "stdout",
       "text": [
        "Shri Prem Kumar Dhumal\n",
        "Processing 8469 for year 2014 "
       ]
      },
      {
       "output_type": "stream",
       "stream": "stdout",
       "text": [
        "Shri Jagar Nath\n",
        "Processing 8353 for year 2014 "
       ]
      },
      {
       "output_type": "stream",
       "stream": "stdout",
       "text": [
        "Late Sh.Rameshwar Sharma\n",
        "Processing 8307 for year 2014 "
       ]
      },
      {
       "output_type": "stream",
       "stream": "stdout",
       "text": [
        "Late Vishwa Ram Kashyap\n",
        "Processing 4146 for year 2014 "
       ]
      },
      {
       "output_type": "stream",
       "stream": "stdout",
       "text": [
        "Mufti Mohammad Sayeed\n",
        "Processing 8467 for year 2014 "
       ]
      },
      {
       "output_type": "stream",
       "stream": "stdout",
       "text": [
        "Ghulam Murtaza Baig\n",
        "Processing 881 for year 2014 "
       ]
      },
      {
       "output_type": "stream",
       "stream": "stdout",
       "text": [
        "Bal Krishan\n",
        "Processing 8304 for year 2014 "
       ]
      },
      {
       "output_type": "stream",
       "stream": "stdout",
       "text": [
        "Late. Sonam Tsepal\n",
        "Processing 6815 for year 2014 "
       ]
      },
      {
       "output_type": "stream",
       "stream": "stdout",
       "text": [
        "Abdul Hameed Karra\n",
        "Processing 2778 for year 2014 "
       ]
      },
      {
       "output_type": "stream",
       "stream": "stdout",
       "text": [
        "Lt. Sh. Rajinder Singh\n",
        "Processing 1230 for year 2014 "
       ]
      },
      {
       "output_type": "stream",
       "stream": "stdout",
       "text": [
        "Sri. K.N. Singh\n",
        "Processing 4701 for year 2014 "
       ]
      },
      {
       "output_type": "stream",
       "stream": "stdout",
       "text": [
        "Late Gauri Shankar Singh\n",
        "Processing 4160 for year 2014 "
       ]
      },
      {
       "output_type": "stream",
       "stream": "stdout",
       "text": [
        "Late Sobram Soren\n",
        "Processing 2814 for year 2014 "
       ]
      },
      {
       "output_type": "stream",
       "stream": "stdout",
       "text": [
        "Lt. Krishna Murari Pandey\n",
        "Processing 4164 for year 2014 "
       ]
      },
      {
       "output_type": "stream",
       "stream": "stdout",
       "text": [
        "Radheshyam Dubey\n",
        "Processing 2835 for year 2014 "
       ]
      },
      {
       "output_type": "stream",
       "stream": "stdout",
       "text": [
        "Sri. Yashwant Sinha\n",
        "Processing 2863 for year 2014 "
       ]
      },
      {
       "output_type": "stream",
       "stream": "stdout",
       "text": [
        "Late Sh. Kriduva Munda\n",
        "Processing 47 for year 2014 "
       ]
      },
      {
       "output_type": "stream",
       "stream": "stdout",
       "text": [
        "Jai Narayan Ray\n",
        "Processing 481 for year 2014 "
       ]
      },
      {
       "output_type": "stream",
       "stream": "stdout",
       "text": [
        "Late kalasaya Bhagat\n",
        "Processing 488 for year 2014 "
       ]
      },
      {
       "output_type": "stream",
       "stream": "stdout",
       "text": [
        "Late Mukha Ram\n",
        "Processing 4170 for year 2014 "
       ]
      },
      {
       "output_type": "stream",
       "stream": "stdout",
       "text": [
        "Lt. Thomas Hansdak\n",
        "Processing 2875 for year 2014 "
       ]
      },
      {
       "output_type": "stream",
       "stream": "stdout",
       "text": [
        "Late Dashrath Choudhary\n",
        "Processing 2887 for year 2014 "
       ]
      },
      {
       "output_type": "stream",
       "stream": "stdout",
       "text": [
        "Lt. Danshar Giluwa\n",
        "Processing 1218 for year 2014 "
       ]
      },
      {
       "output_type": "stream",
       "stream": "stdout",
       "text": [
        "\n",
        "Processing 187 for year 2014 "
       ]
      },
      {
       "output_type": "stream",
       "stream": "stdout",
       "text": [
        "Shri.Perical chikka Muniswamappa\n",
        "Processing 1224 for year 2014 "
       ]
      },
      {
       "output_type": "stream",
       "stream": "stdout",
       "text": [
        "D.Venkappa Gowda\n",
        "Processing 1090 for year 2014 "
       ]
      },
      {
       "output_type": "stream",
       "stream": "stdout",
       "text": [
        "D K Kempegowda\n",
        "Processing 189 for year 2014 "
       ]
      },
      {
       "output_type": "stream",
       "stream": "stdout",
       "text": [
        "Late H.N. Narayana Shastry\n",
        "Processing 1181 for year 2014 "
       ]
      },
      {
       "output_type": "stream",
       "stream": "stdout",
       "text": [
        "CHANNABASAPPA\n",
        "Processing 2162 for year 2014 "
       ]
      },
      {
       "output_type": "stream",
       "stream": "stdout",
       "text": [
        "B.THIMMAPPA\n",
        "Processing 2141 for year 2014 "
       ]
      },
      {
       "output_type": "stream",
       "stream": "stdout",
       "text": [
        "Gurubasappa Khoba Shivanagar S\n",
        "Processing 840 for year 2014 "
       ]
      },
      {
       "output_type": "stream",
       "stream": "stdout",
       "text": [
        "Chandappa Jigajinagi\n",
        "Processing 863 for year 2014 "
       ]
      },
      {
       "output_type": "stream",
       "stream": "stdout",
       "text": [
        "LATE C. RANGASWAMY\n",
        "Processing 402 for year 2014 "
       ]
      },
      {
       "output_type": "stream",
       "stream": "stdout",
       "text": [
        "Thammaya Moily\n",
        "Processing 1815 for year 2014 "
       ]
      },
      {
       "output_type": "stream",
       "stream": "stdout",
       "text": [
        "BABANNA HUKKERI\n",
        "Processing 1085 for year 2014 "
       ]
      },
      {
       "output_type": "stream",
       "stream": "stdout",
       "text": [
        "Late Nagappa\n",
        "Processing 1221 for year 2014 "
       ]
      },
      {
       "output_type": "stream",
       "stream": "stdout",
       "text": [
        "Late.Niranjana Shetty\n",
        "Processing 1220 for year 2014 "
       ]
      },
      {
       "output_type": "stream",
       "stream": "stdout",
       "text": [
        "Late G. Mallikarajunappa\n",
        "Processing 1075 for year 2014 "
       ]
      },
      {
       "output_type": "stream",
       "stream": "stdout",
       "text": [
        "Lt. SHRI VENKATESH JOSHI\n",
        "Processing 358 for year 2014 "
       ]
      },
      {
       "output_type": "stream",
       "stream": "stdout",
       "text": [
        "Mappana Kharge\n",
        "Processing 2613 for year 2014 "
       ]
      },
      {
       "output_type": "stream",
       "stream": "stdout",
       "text": [
        "Late Sri H.D. Doddegowda\n",
        "Processing 1070 for year 2014 "
       ]
      },
      {
       "output_type": "stream",
       "stream": "stdout",
       "text": [
        "channabasappa. udasi\n",
        "Processing 126 for year 2014 "
       ]
      },
      {
       "output_type": "stream",
       "stream": "stdout",
       "text": [
        "Late Hanumappa\n",
        "Processing 1186 for year 2014 "
       ]
      },
      {
       "output_type": "stream",
       "stream": "stdout",
       "text": [
        "AMARAPPA KARADI\n",
        "Processing 1088 for year 2014 "
       ]
      },
      {
       "output_type": "stream",
       "stream": "stdout",
       "text": [
        "Late.Sannathamegowda\n",
        "Processing 1216 for year 2014 "
       ]
      },
      {
       "output_type": "stream",
       "stream": "stdout",
       "text": [
        "Late B.E. Gopalagowda\n",
        "Processing 2120 for year 2014 "
       ]
      },
      {
       "output_type": "stream",
       "stream": "stdout",
       "text": [
        "Venkatesh Naik\n",
        "Processing 399 for year 2014 "
       ]
      },
      {
       "output_type": "stream",
       "stream": "stdout",
       "text": [
        "LATE SIDDALINGAPPA\n",
        "Processing 605 for year 2014 "
       ]
      },
      {
       "output_type": "stream",
       "stream": "stdout",
       "text": [
        "KAREEGOWDA U PAPEGOWDA\n",
        "Processing 182 for year 2014 "
       ]
      },
      {
       "output_type": "stream",
       "stream": "stdout",
       "text": [
        "late Monappa Gowda\n",
        "Processing 398 for year 2014 "
       ]
      },
      {
       "output_type": "stream",
       "stream": "stdout",
       "text": [
        "Dattatreya Hedge\n",
        "Processing 327 for year 2014 "
       ]
      },
      {
       "output_type": "stream",
       "stream": "stdout",
       "text": [
        "KUNHI KRISHNAN NAMBI\n",
        "Processing 1900 for year 2014 "
       ]
      },
      {
       "output_type": "stream",
       "stream": "stdout",
       "text": [
        "KUTTAPPAN\n",
        "Processing 340 for year 2014 "
       ]
      },
      {
       "output_type": "stream",
       "stream": "stdout",
       "text": [
        "K. ANIRUDHAN\n",
        "Processing 290 for year 2014 "
       ]
      },
      {
       "output_type": "stream",
       "stream": "stdout",
       "text": [
        "Varied\n",
        "Processing 6 for year 2014 "
       ]
      },
      {
       "output_type": "stream",
       "stream": "stdout",
       "text": [
        "Varkey\n",
        "Processing 712 for year 2014 "
       ]
      },
      {
       "output_type": "stream",
       "stream": "stdout",
       "text": [
        "George\n",
        "Processing 255 for year 2014 "
       ]
      },
      {
       "output_type": "stream",
       "stream": "stdout",
       "text": [
        "E.Damodaran Nambiar\n",
        "Processing 251 for year 2014 "
       ]
      },
      {
       "output_type": "stream",
       "stream": "stdout",
       "text": [
        "Kandakoran\n",
        "Processing 14 for year 2014 "
       ]
      },
      {
       "output_type": "stream",
       "stream": "stdout",
       "text": [
        "Krishna Pillai\n",
        "Processing 11 for year 2014 "
       ]
      },
      {
       "output_type": "stream",
       "stream": "stdout",
       "text": [
        "K.M. MANI\n",
        "Processing 961 for year 2014 "
       ]
      },
      {
       "output_type": "stream",
       "stream": "stdout",
       "text": [
        "krishnan\n",
        "Processing 279 for year 2014 "
       ]
      },
      {
       "output_type": "stream",
       "stream": "stdout",
       "text": [
        "ABDUL KHADER HAJI\n",
        "Processing 13 for year 2014 "
       ]
      },
      {
       "output_type": "stream",
       "stream": "stdout",
       "text": [
        "Kunjan\n",
        "Processing 1889 for year 2014 "
       ]
      },
      {
       "output_type": "stream",
       "stream": "stdout",
       "text": [
        "Balakrishnan Nair\n",
        "Processing 964 for year 2014 "
       ]
      },
      {
       "output_type": "stream",
       "stream": "stdout",
       "text": [
        "Antony\n",
        "Processing 273 for year 2014 "
       ]
      },
      {
       "output_type": "stream",
       "stream": "stdout",
       "text": [
        "Moosakutty Master\n",
        "Processing 64 for year 2014 "
       ]
      },
      {
       "output_type": "stream",
       "stream": "stdout",
       "text": [
        "Chandran Tharoor\n",
        "Processing 297 for year 2014 "
       ]
      },
      {
       "output_type": "stream",
       "stream": "stdout",
       "text": [
        "Narayanan\n",
        "Processing 260 for year 2014 "
       ]
      },
      {
       "output_type": "stream",
       "stream": "stdout",
       "text": [
        "Late Mullapally Gopalan\n",
        "Processing 960 for year 2014 "
       ]
      },
      {
       "output_type": "stream",
       "stream": "stdout",
       "text": [
        "M.V.Ibrahim Kutty\n",
        "Processing 21 for year 2014 "
       ]
      },
      {
       "output_type": "stream",
       "stream": "stdout",
       "text": [
        "K. Pookoya Thangal\n",
        "Processing 761 for year 2014 "
       ]
      },
      {
       "output_type": "stream",
       "stream": "stdout",
       "text": [
        "Shri Radheylal\n",
        "Processing 4752 for year 2014 "
       ]
      },
      {
       "output_type": "stream",
       "stream": "stdout",
       "text": [
        "Prem singh Dhurve\n",
        "Processing 2898 for year 2014 "
       ]
      },
      {
       "output_type": "stream",
       "stream": "stdout",
       "text": [
        "Late Mathura Prasad\n",
        "Processing 2907 for year 2014 "
       ]
      },
      {
       "output_type": "stream",
       "stream": "stdout",
       "text": [
        "Late Shri Avinash Chandra Sanjar\n",
        "Processing 766 for year 2014 "
       ]
      },
      {
       "output_type": "stream",
       "stream": "stdout",
       "text": [
        "LATE MAHENDRA NATH\n",
        "Processing 2921 for year 2014 "
       ]
      },
      {
       "output_type": "stream",
       "stream": "stdout",
       "text": [
        "Mulam Singh Patel\n",
        "Processing 4178 for year 2014 "
       ]
      },
      {
       "output_type": "stream",
       "stream": "stdout",
       "text": [
        "Pannalal\n",
        "Processing 4183 for year 2014 "
       ]
      },
      {
       "output_type": "stream",
       "stream": "stdout",
       "text": [
        "Tukaram Takur\n",
        "Processing 2933 for year 2014 "
       ]
      },
      {
       "output_type": "stream",
       "stream": "stdout",
       "text": [
        "Madhavrao J. Scindia\n",
        "Processing 2957 for year 2014 "
       ]
      },
      {
       "output_type": "stream",
       "stream": "stdout",
       "text": [
        "Late Munshi Singh Tomar\n",
        "Processing 134 for year 2014 "
       ]
      },
      {
       "output_type": "stream",
       "stream": "stdout",
       "text": [
        "Rao Lakshminarayan Singh\n",
        "Processing 4765 for year 2014 "
       ]
      },
      {
       "output_type": "stream",
       "stream": "stdout",
       "text": [
        "Late. Jayant Mahajan\n",
        "Processing 750 for year 2014 "
       ]
      },
      {
       "output_type": "stream",
       "stream": "stdout",
       "text": [
        "Late Surendra Singih Thakur\n",
        "Processing 2962 for year 2014 "
       ]
      },
      {
       "output_type": "stream",
       "stream": "stdout",
       "text": [
        "Mahendra Singh\n",
        "Processing 4194 for year 2014 "
       ]
      },
      {
       "output_type": "stream",
       "stream": "stdout",
       "text": [
        "Krishna Kumar singh  Chouhan\n",
        "Processing 4200 for year 2014 "
       ]
      },
      {
       "output_type": "stream",
       "stream": "stdout",
       "text": [
        "Udaisingh\n",
        "Processing 129 for year 2014 "
       ]
      },
      {
       "output_type": "stream",
       "stream": "stdout",
       "text": [
        "Sh. Shobhan Singh\n",
        "Processing 4203 for year 2014 "
       ]
      },
      {
       "output_type": "stream",
       "stream": "stdout",
       "text": [
        "Ramchandra Gupta\n",
        "Processing 2983 for year 2014 "
       ]
      },
      {
       "output_type": "stream",
       "stream": "stdout",
       "text": [
        "SRI TRIYUGI NARAYAN\n",
        "Processing 2993 for year 2014 "
       ]
      },
      {
       "output_type": "stream",
       "stream": "stdout",
       "text": [
        "Bapulal\n",
        "Processing 4805 for year 2014 "
       ]
      },
      {
       "output_type": "stream",
       "stream": "stdout",
       "text": [
        "Sh. Sakriya Ji\n",
        "Processing 738 for year 2014 "
       ]
      },
      {
       "output_type": "stream",
       "stream": "stdout",
       "text": [
        "Sh. Rama Dhar Mishra\n",
        "Processing 3001 for year 2014 "
       ]
      },
      {
       "output_type": "stream",
       "stream": "stdout",
       "text": [
        "Asharam\n",
        "Processing 732 for year 2014 "
       ]
      },
      {
       "output_type": "stream",
       "stream": "stdout",
       "text": [
        "Kamalbhan Singh\n",
        "Processing 745 for year 2014 "
       ]
      },
      {
       "output_type": "stream",
       "stream": "stdout",
       "text": [
        "Late Gopal Singh Paraste\n",
        "Processing 741 for year 2014 "
       ]
      },
      {
       "output_type": "stream",
       "stream": "stdout",
       "text": [
        "Rajnish Pathak\n",
        "Processing 3011 for year 2014 "
       ]
      },
      {
       "output_type": "stream",
       "stream": "stdout",
       "text": [
        "AMAR SINGH\n",
        "Processing 4209 for year 2014 "
       ]
      },
      {
       "output_type": "stream",
       "stream": "stdout",
       "text": [
        "Jamana Lal Ji Malviya\n",
        "Processing 4818 for year 2014 "
       ]
      },
      {
       "output_type": "stream",
       "stream": "stdout",
       "text": [
        "Sh. Swaraj Kaushal\n",
        "Processing 3492 for year 2014 "
       ]
      },
      {
       "output_type": "stream",
       "stream": "stdout",
       "text": [
        "Mansukhlal shrimalji gandhi\n",
        "Processing 543 for year 2014 "
       ]
      },
      {
       "output_type": "stream",
       "stream": "stdout",
       "text": [
        "Shyamrao Dhotre\n",
        "Processing 315 for year 2014 "
       ]
      },
      {
       "output_type": "stream",
       "stream": "stdout",
       "text": [
        "Vithoba Santu Adsul\n",
        "Processing 5156 for year 2014 "
       ]
      },
      {
       "output_type": "stream",
       "stream": "stdout",
       "text": [
        "Bhaurao Khaire\n",
        "Processing 3386 for year 2014 "
       ]
      },
      {
       "output_type": "stream",
       "stream": "stdout",
       "text": [
        "Sadanand bhalchandra sule\n",
        "Processing 9896 for year 2014 "
       ]
      },
      {
       "output_type": "stream",
       "stream": "stdout",
       "text": [
        "Munde Gopinathrao\n",
        "Processing 917 for year 2014 "
       ]
      },
      {
       "output_type": "stream",
       "stream": "stdout",
       "text": [
        "Falgunrao Paikuji Patole\n",
        "Processing 5185 for year 2014 "
       ]
      },
      {
       "output_type": "stream",
       "stream": "stdout",
       "text": [
        "Moreshwar holoji patil\n",
        "Processing 777 for year 2014 "
       ]
      },
      {
       "output_type": "stream",
       "stream": "stdout",
       "text": [
        "Ganpatrao Jadhao\n",
        "Processing 926 for year 2014 "
       ]
      },
      {
       "output_type": "stream",
       "stream": "stdout",
       "text": [
        "Gangaram Ahir\n",
        "Processing 5203 for year 2014 "
       ]
      },
      {
       "output_type": "stream",
       "stream": "stdout",
       "text": [
        "Ramrao Sitaram Patil\n",
        "Processing 5822 for year 2014 "
       ]
      },
      {
       "output_type": "stream",
       "stream": "stdout",
       "text": [
        "Devram Chavan\n",
        "Processing 689 for year 2014 "
       ]
      },
      {
       "output_type": "stream",
       "stream": "stdout",
       "text": [
        "Mahadeorao Ramuji Nete\n",
        "Processing 3501 for year 2014 "
       ]
      },
      {
       "output_type": "stream",
       "stream": "stdout",
       "text": [
        "LATE AANNA AAMANNA SHETTY\n",
        "Processing 3511 for year 2014 "
       ]
      },
      {
       "output_type": "stream",
       "stream": "stdout",
       "text": [
        "Shankarrao Sitaram Satav\n",
        "Processing 5833 for year 2014 "
       ]
      },
      {
       "output_type": "stream",
       "stream": "stdout",
       "text": [
        "Tapiram Mahipat Patil\n",
        "Processing 5855 for year 2014 "
       ]
      },
      {
       "output_type": "stream",
       "stream": "stdout",
       "text": [
        "Dadaro Dasharath Danve\n",
        "Processing 5869 for year 2014 "
       ]
      },
      {
       "output_type": "stream",
       "stream": "stdout",
       "text": [
        "EKNATH SHINDE\n",
        "Processing 3532 for year 2014 "
       ]
      },
      {
       "output_type": "stream",
       "stream": "stdout",
       "text": [
        "Bhimrao Ramchandra Mahadik\n",
        "Processing 3548 for year 2014 "
       ]
      },
      {
       "output_type": "stream",
       "stream": "stdout",
       "text": [
        "Baliram Shivram Gaikwad\n",
        "Processing 3565 for year 2014 "
       ]
      },
      {
       "output_type": "stream",
       "stream": "stdout",
       "text": [
        "Shankarrao Narayanrao Mohite-Patil\n",
        "Processing 3356 for year 2014 "
       ]
      },
      {
       "output_type": "stream",
       "stream": "stdout",
       "text": [
        "Chandu Malhari Barne\n",
        "Processing 5896 for year 2014 "
       ]
      },
      {
       "output_type": "stream",
       "stream": "stdout",
       "text": [
        "Late. Chinayya Shantu Shetty\n",
        "Processing 5902 for year 2014 "
       ]
      },
      {
       "output_type": "stream",
       "stream": "stdout",
       "text": [
        "VAJENDLA RAO\n",
        "Processing 7220 for year 2014 "
       ]
      },
      {
       "output_type": "stream",
       "stream": "stdout",
       "text": [
        "Somaiya Jayantilal\n",
        "Processing 5908 for year 2014 "
       ]
      },
      {
       "output_type": "stream",
       "stream": "stdout",
       "text": [
        "Late Chandrakant Kirtikar\n",
        "Processing 5913 for year 2014 "
       ]
      },
      {
       "output_type": "stream",
       "stream": "stdout",
       "text": [
        "Ganpat Pandurang Sawant\n",
        "Processing 5950 for year 2014 "
       ]
      },
      {
       "output_type": "stream",
       "stream": "stdout",
       "text": [
        "Ramesh Sambhaji Shewale\n",
        "Processing 1226 for year 2014 "
       ]
      },
      {
       "output_type": "stream",
       "stream": "stdout",
       "text": [
        "Gadkari Jairam Ramchandra\n",
        "Processing 3590 for year 2014 "
       ]
      },
      {
       "output_type": "stream",
       "stream": "stdout",
       "text": [
        "Shankarrao Chavan\n",
        "Processing 7249 for year 2014 "
       ]
      },
      {
       "output_type": "stream",
       "stream": "stdout",
       "text": [
        "Vijaykumar Krishnarao Gavit\n",
        "Processing 5961 for year 2014 "
       ]
      },
      {
       "output_type": "stream",
       "stream": "stdout",
       "text": [
        "Tukaram Savaliram Godse\n",
        "Processing 3598 for year 2014 "
       ]
      },
      {
       "output_type": "stream",
       "stream": "stdout",
       "text": [
        "Gaikwad Vishwanath\n",
        "Processing 5977 for year 2014 "
       ]
      },
      {
       "output_type": "stream",
       "stream": "stdout",
       "text": [
        "Navasha sitrya wanaga\n",
        "Processing 3621 for year 2014 "
       ]
      },
      {
       "output_type": "stream",
       "stream": "stdout",
       "text": [
        "Haribhau jadhav\n",
        "Processing 3373 for year 2014 "
       ]
      },
      {
       "output_type": "stream",
       "stream": "stdout",
       "text": [
        "GULABRAO GANPATRAO SHIROLE\n",
        "Processing 5997 for year 2014 "
       ]
      },
      {
       "output_type": "stream",
       "stream": "stdout",
       "text": [
        "Gangaram Sambhaji  Geete\n",
        "Processing 942 for year 2014 "
       ]
      },
      {
       "output_type": "stream",
       "stream": "stdout",
       "text": [
        "Balaji Warluji Balaji\n",
        "Processing 3642 for year 2014 "
       ]
      },
      {
       "output_type": "stream",
       "stream": "stdout",
       "text": [
        "BHAURAO ATMARAM RAUT\n",
        "Processing 5594 for year 2014 "
       ]
      },
      {
       "output_type": "stream",
       "stream": "stdout",
       "text": [
        "Nikhil Eknathrao Khadase\n",
        "Processing 3655 for year 2014 "
       ]
      },
      {
       "output_type": "stream",
       "stream": "stdout",
       "text": [
        "Ramchandra Krishnajirao Patil\n",
        "Processing 3676 for year 2014 "
       ]
      },
      {
       "output_type": "stream",
       "stream": "stdout",
       "text": [
        "BHONSALE SHRIMANT CHH. PRATAPSINHA SHAHUMAHARAJ\n",
        "Processing 3405 for year 2014 "
       ]
      },
      {
       "output_type": "stream",
       "stream": "stdout",
       "text": [
        "Kisan Santram Lokhande\n",
        "Processing 3391 for year 2014 "
       ]
      },
      {
       "output_type": "stream",
       "stream": "stdout",
       "text": [
        "Adhalaroa Dettatrey Kondaji\n",
        "Processing 3692 for year 2014 "
       ]
      },
      {
       "output_type": "stream",
       "stream": "stdout",
       "text": [
        "BANSODE MARUTI AMBADAS\n",
        "Processing 5662 for year 2014 "
       ]
      },
      {
       "output_type": "stream",
       "stream": "stdout",
       "text": [
        "BABURAO ARJUN VICHARE\n",
        "Processing 944 for year 2014 "
       ]
      },
      {
       "output_type": "stream",
       "stream": "stdout",
       "text": [
        "Chandrabhanji Tadas\n",
        "Processing 1511 for year 2014 "
       ]
      },
      {
       "output_type": "stream",
       "stream": "stdout",
       "text": [
        "Pundalikrao Ramji Gawali\n",
        "Processing 3477 for year 2014 "
       ]
      },
      {
       "output_type": "stream",
       "stream": "stdout",
       "text": [
        "Late. Th Tarpan\n",
        "Processing 534 for year 2014 "
       ]
      },
      {
       "output_type": "stream",
       "stream": "stdout",
       "text": [
        "Late Ngamkhotong Baite\n",
        "Processing 538 for year 2014 "
       ]
      },
      {
       "output_type": "stream",
       "stream": "stdout",
       "text": [
        "Hermelinda Pala\n",
        "Processing 650 for year 2014 "
       ]
      },
      {
       "output_type": "stream",
       "stream": "stdout",
       "text": [
        "Late Dipchon Ch. Marak\n",
        "Processing 1042 for year 2014 "
       ]
      },
      {
       "output_type": "stream",
       "stream": "stdout",
       "text": [
        "Late Thanzinga\n",
        "Processing 407 for year 2014 "
       ]
      },
      {
       "output_type": "stream",
       "stream": "stdout",
       "text": [
        "Late Guolhoulie\n",
        "Processing 65 for year 2014 "
       ]
      },
      {
       "output_type": "stream",
       "stream": "stdout",
       "text": [
        "Late Sh. Om prakash Goel\n",
        "Processing 67 for year 2014 "
       ]
      },
      {
       "output_type": "stream",
       "stream": "stdout",
       "text": [
        "Shri Vishwanath Vyas\n",
        "Processing 68 for year 2014 "
       ]
      },
      {
       "output_type": "stream",
       "stream": "stdout",
       "text": [
        "Shri Aman Lekhi\n",
        "Processing 66 for year 2014 "
       ]
      },
      {
       "output_type": "stream",
       "stream": "stdout",
       "text": [
        "SHRI CHANDRADEV TIWARI\n",
        "Processing 69 for year 2014 "
       ]
      },
      {
       "output_type": "stream",
       "stream": "stdout",
       "text": [
        "Late Shri Kallan\n",
        "Processing 71 for year 2014 "
       ]
      },
      {
       "output_type": "stream",
       "stream": "stdout",
       "text": [
        "RAM RIKH\n",
        "Processing 70 for year 2014 "
       ]
      },
      {
       "output_type": "stream",
       "stream": "stdout",
       "text": [
        "Late Sahib Singh Verma\n",
        "Processing 823 for year 2014 "
       ]
      },
      {
       "output_type": "stream",
       "stream": "stdout",
       "text": [
        "UPENDRA SWAIN\n",
        "Processing 3239 for year 2014 "
       ]
      },
      {
       "output_type": "stream",
       "stream": "stdout",
       "text": [
        "Late Parsuram Jena\n",
        "Processing 789 for year 2014 "
       ]
      },
      {
       "output_type": "stream",
       "stream": "stdout",
       "text": [
        "SADHU CHARANA SINGH\n",
        "Processing 118 for year 2014 "
       ]
      },
      {
       "output_type": "stream",
       "stream": "stdout",
       "text": [
        "Dr. Manmohan Mahapatra\n",
        "Processing 3246 for year 2014 "
       ]
      },
      {
       "output_type": "stream",
       "stream": "stdout",
       "text": [
        "LATE MUKHA SETHI\n",
        "Processing 3710 for year 2014 "
       ]
      },
      {
       "output_type": "stream",
       "stream": "stdout",
       "text": [
        "LATE ANIRUDDHA PATASANI\n",
        "Processing 807 for year 2014 "
       ]
      },
      {
       "output_type": "stream",
       "stream": "stdout",
       "text": [
        "Anang Udya Singh Deo\n",
        "Processing 3276 for year 2014 "
       ]
      },
      {
       "output_type": "stream",
       "stream": "stdout",
       "text": [
        "Late Dr.Harekrushan Mahatab\n",
        "Processing 3263 for year 2014 "
       ]
      },
      {
       "output_type": "stream",
       "stream": "stdout",
       "text": [
        "Late Devendra Satpathy\n",
        "Processing 3712 for year 2014 "
       ]
      },
      {
       "output_type": "stream",
       "stream": "stdout",
       "text": [
        "Lt. Kahnu Samal\n",
        "Processing 3255 for year 2014 "
       ]
      },
      {
       "output_type": "stream",
       "stream": "stdout",
       "text": [
        "sri santosh kumar Tarai\n",
        "Processing 815 for year 2014 "
       ]
      },
      {
       "output_type": "stream",
       "stream": "stdout",
       "text": [
        "Late Bikram Keshari Deo\n",
        "Processing 9888 for year 2014 "
       ]
      },
      {
       "output_type": "stream",
       "stream": "stdout",
       "text": [
        "Late Hemendra Chandra Singh\n",
        "Processing 3287 for year 2014 "
       ]
      },
      {
       "output_type": "stream",
       "stream": "stdout",
       "text": [
        "Dr.Bansidhar Panda\n",
        "Processing 3220 for year 2014 "
       ]
      },
      {
       "output_type": "stream",
       "stream": "stdout",
       "text": [
        "Yahsbant Narayan Singh Laguri\n",
        "Processing 1171 for year 2014 "
       ]
      },
      {
       "output_type": "stream",
       "stream": "stdout",
       "text": [
        "NAMATA HIKAKA\n",
        "Processing 3228 for year 2014 "
       ]
      },
      {
       "output_type": "stream",
       "stream": "stdout",
       "text": [
        "Late Sh.Debraj Hansdah\n",
        "Processing 816 for year 2014 "
       ]
      },
      {
       "output_type": "stream",
       "stream": "stdout",
       "text": [
        "Late chandra majhi\n",
        "Processing 3715 for year 2014 "
       ]
      },
      {
       "output_type": "stream",
       "stream": "stdout",
       "text": [
        "Late Lokanath Misra\n",
        "Processing 796 for year 2014 "
       ]
      },
      {
       "output_type": "stream",
       "stream": "stdout",
       "text": [
        "Late Pravakar Pradhan\n",
        "Processing 804 for year 2014 "
       ]
      },
      {
       "output_type": "stream",
       "stream": "stdout",
       "text": [
        "DILGA TERIA ORAM\n",
        "Processing 5578 for year 2014 "
       ]
      },
      {
       "output_type": "stream",
       "stream": "stdout",
       "text": [
        "R.Ramanathan\n",
        "Processing 6088 for year 2014 "
       ]
      },
      {
       "output_type": "stream",
       "stream": "stdout",
       "text": [
        "Late Yadvinder Singh\n",
        "Processing 6110 for year 2014 "
       ]
      },
      {
       "output_type": "stream",
       "stream": "stdout",
       "text": [
        "Sh. Jaswant Singh\n",
        "Processing 7800 for year 2014 "
       ]
      },
      {
       "output_type": "stream",
       "stream": "stdout",
       "text": [
        "S. Sukhbir Singh\n",
        "Processing 6133 for year 2014 "
       ]
      },
      {
       "output_type": "stream",
       "stream": "stdout",
       "text": [
        "Naginder Singh\n",
        "Processing 6141 for year 2014 "
       ]
      },
      {
       "output_type": "stream",
       "stream": "stdout",
       "text": [
        "Sh. Gopal Singh Khalsa\n",
        "Processing 6148 for year 2014 "
       ]
      },
      {
       "output_type": "stream",
       "stream": "stdout",
       "text": [
        "Narain Singh\n",
        "Processing 7656 for year 2014 "
       ]
      },
      {
       "output_type": "stream",
       "stream": "stdout",
       "text": [
        "Khanna K.\n",
        "Processing 101 for year 2014 "
       ]
      },
      {
       "output_type": "stream",
       "stream": "stdout",
       "text": [
        "Darshan Ram\n",
        "Processing 7699 for year 2014 "
       ]
      },
      {
       "output_type": "stream",
       "stream": "stdout",
       "text": [
        "Gurbanta Singh\n",
        "Processing 7682 for year 2014 "
       ]
      },
      {
       "output_type": "stream",
       "stream": "stdout",
       "text": [
        "Mohan Singh\n",
        "Processing 7751 for year 2014 "
       ]
      },
      {
       "output_type": "stream",
       "stream": "stdout",
       "text": [
        "S. Swaranjit Singh\n",
        "Processing 7853 for year 2014 "
       ]
      },
      {
       "output_type": "stream",
       "stream": "stdout",
       "text": [
        "Bhagat Ram Sharma\n",
        "Processing 7830 for year 2014 "
       ]
      },
      {
       "output_type": "stream",
       "stream": "stdout",
       "text": [
        "S. Mahinder Singh\n",
        "Processing 3412 for year 2014 "
       ]
      },
      {
       "output_type": "stream",
       "stream": "stdout",
       "text": [
        "Late Baluram\n",
        "Processing 5070 for year 2014 "
       ]
      },
      {
       "output_type": "stream",
       "stream": "stdout",
       "text": [
        "Shri Mahant Sheryonath\n",
        "Processing 2442 for year 2014 "
       ]
      },
      {
       "output_type": "stream",
       "stream": "stdout",
       "text": [
        "Shri Rupa\n",
        "Processing 2472 for year 2014 "
       ]
      },
      {
       "output_type": "stream",
       "stream": "stdout",
       "text": [
        "UDA RAM\n",
        "Processing 4225 for year 2014 "
       ]
      },
      {
       "output_type": "stream",
       "stream": "stdout",
       "text": [
        "Sukharam\n",
        "Processing 2415 for year 2014 "
       ]
      },
      {
       "output_type": "stream",
       "stream": "stdout",
       "text": [
        "NANDALAL BEHERIA\n",
        "Processing 2304 for year 2014 "
       ]
      },
      {
       "output_type": "stream",
       "stream": "stdout",
       "text": [
        "Lakhuram\n",
        "Processing 2436 for year 2014 "
       ]
      },
      {
       "output_type": "stream",
       "stream": "stdout",
       "text": [
        "Ramchandra\n",
        "Processing 2312 for year 2014 "
       ]
      },
      {
       "output_type": "stream",
       "stream": "stdout",
       "text": [
        "Ram singh Kaswan\n",
        "Processing 4237 for year 2014 "
       ]
      },
      {
       "output_type": "stream",
       "stream": "stdout",
       "text": [
        "Srinarayan\n",
        "Processing 2281 for year 2014 "
       ]
      },
      {
       "output_type": "stream",
       "stream": "stdout",
       "text": [
        "Begaram\n",
        "Processing 2371 for year 2014 "
       ]
      },
      {
       "output_type": "stream",
       "stream": "stdout",
       "text": [
        "Shri Moti Lal Bohara\n",
        "Processing 2360 for year 2014 "
       ]
      },
      {
       "output_type": "stream",
       "stream": "stdout",
       "text": [
        "LAXMAN SINGH RATHORE\n",
        "Processing 3424 for year 2014 "
       ]
      },
      {
       "output_type": "stream",
       "stream": "stdout",
       "text": [
        "Masinga Ram\n",
        "Processing 2394 for year 2014 "
       ]
      },
      {
       "output_type": "stream",
       "stream": "stdout",
       "text": [
        "HEMANT SINGH\n",
        "Processing 2332 for year 2014 "
       ]
      },
      {
       "output_type": "stream",
       "stream": "stdout",
       "text": [
        "Surendar Singh\n",
        "Processing 3438 for year 2014 "
       ]
      },
      {
       "output_type": "stream",
       "stream": "stdout",
       "text": [
        "Shri Shankar Singh\n",
        "Processing 5111 for year 2014 "
       ]
      },
      {
       "output_type": "stream",
       "stream": "stdout",
       "text": [
        "Sh. Ramgopal Rajoria\n",
        "Processing 2409 for year 2014 "
       ]
      },
      {
       "output_type": "stream",
       "stream": "stdout",
       "text": [
        "Shrikrishan Birla\n",
        "Processing 3452 for year 2014 "
       ]
      },
      {
       "output_type": "stream",
       "stream": "stdout",
       "text": [
        "Ram Lal Choudhary\n",
        "Processing 3464 for year 2014 "
       ]
      },
      {
       "output_type": "stream",
       "stream": "stdout",
       "text": [
        "Prabhuram Choudhary\n",
        "Processing 2459 for year 2014 "
       ]
      },
      {
       "output_type": "stream",
       "stream": "stdout",
       "text": [
        "Fateh Singh Rathore\n",
        "Processing 2345 for year 2014 "
       ]
      },
      {
       "output_type": "stream",
       "stream": "stdout",
       "text": [
        "Sh. Mayaram Arya\n",
        "Processing 4246 for year 2014 "
       ]
      },
      {
       "output_type": "stream",
       "stream": "stdout",
       "text": [
        "Late Sh. Sohan Singh Jaunapuria\n",
        "Processing 2449 for year 2014 "
       ]
      },
      {
       "output_type": "stream",
       "stream": "stdout",
       "text": [
        "Hur Ji Meena\n",
        "Processing 2490 for year 2014 "
       ]
      },
      {
       "output_type": "stream",
       "stream": "stdout",
       "text": [
        "Chandra Das Rai\n",
        "Processing 3929 for year 2014 "
       ]
      },
      {
       "output_type": "stream",
       "stream": "stdout",
       "text": [
        "S.K Govindasamy\n",
        "Processing 6283 for year 2014 "
       ]
      },
      {
       "output_type": "stream",
       "stream": "stdout",
       "text": [
        "VELLAI GOUNDER\n",
        "Processing 6846 for year 2014 "
       ]
      },
      {
       "output_type": "stream",
       "stream": "stdout",
       "text": [
        "S.Ramalingam\n",
        "Processing 6869 for year 2014 "
       ]
      },
      {
       "output_type": "stream",
       "stream": "stdout",
       "text": [
        "Gangadharan Naidu\n",
        "Processing 6917 for year 2014 "
       ]
      },
      {
       "output_type": "stream",
       "stream": "stdout",
       "text": [
        "Thiru. D. Jayakumar\n",
        "Processing 3958 for year 2014 "
       ]
      },
      {
       "output_type": "stream",
       "stream": "stdout",
       "text": [
        "R.Marimuthu\n",
        "Processing 6965 for year 2014 "
       ]
      },
      {
       "output_type": "stream",
       "stream": "stdout",
       "text": [
        "Late Palani Gounder\n",
        "Processing 3955 for year 2014 "
       ]
      },
      {
       "output_type": "stream",
       "stream": "stdout",
       "text": [
        "A V. Arumugam\n",
        "Processing 6995 for year 2014 "
       ]
      },
      {
       "output_type": "stream",
       "stream": "stdout",
       "text": [
        "S.RAMADOSS\n",
        "Processing 6322 for year 2014 "
       ]
      },
      {
       "output_type": "stream",
       "stream": "stdout",
       "text": [
        "M.Murugesan\n",
        "Processing 6350 for year 2014 "
       ]
      },
      {
       "output_type": "stream",
       "stream": "stdout",
       "text": [
        "TK.SENGOTTUVELU\n",
        "Processing 3934 for year 2014 "
       ]
      },
      {
       "output_type": "stream",
       "stream": "stdout",
       "text": [
        "S.Kalitheerthan\n",
        "Processing 7006 for year 2014 "
       ]
      },
      {
       "output_type": "stream",
       "stream": "stdout",
       "text": [
        "Kumaravel\n",
        "Processing 7015 for year 2014 "
       ]
      },
      {
       "output_type": "stream",
       "stream": "stdout",
       "text": [
        "R.Ponniah Nadar\n",
        "Processing 3947 for year 2014 "
       ]
      },
      {
       "output_type": "stream",
       "stream": "stdout",
       "text": [
        "Munisamy Kavunder\n",
        "Processing 7060 for year 2014 "
       ]
      },
      {
       "output_type": "stream",
       "stream": "stdout",
       "text": [
        "Krishnamoorthy\n",
        "Processing 3965 for year 2014 "
       ]
      },
      {
       "output_type": "stream",
       "stream": "stdout",
       "text": [
        "S.Ramanathan\n",
        "Processing 7075 for year 2014 "
       ]
      },
      {
       "output_type": "stream",
       "stream": "stdout",
       "text": [
        "Kimtappa\n",
        "Processing 7094 for year 2014 "
       ]
      },
      {
       "output_type": "stream",
       "stream": "stdout",
       "text": [
        "v.KARUPPAYAIN\n",
        "Processing 3943 for year 2014 "
       ]
      },
      {
       "output_type": "stream",
       "stream": "stdout",
       "text": [
        "P.K Ramasamy\n",
        "Processing 7106 for year 2014 "
       ]
      },
      {
       "output_type": "stream",
       "stream": "stdout",
       "text": [
        "Late R. Chinnaraj\n",
        "Processing 3953 for year 2014 "
       ]
      },
      {
       "output_type": "stream",
       "stream": "stdout",
       "text": [
        "Periyasamy\n",
        "Processing 7137 for year 2014 "
       ]
      },
      {
       "output_type": "stream",
       "stream": "stdout",
       "text": [
        "T.Chinnasamy\n",
        "Processing 7152 for year 2014 "
       ]
      },
      {
       "output_type": "stream",
       "stream": "stdout",
       "text": [
        "M. Abdulmuthalip\n",
        "Processing 3938 for year 2014 "
       ]
      },
      {
       "output_type": "stream",
       "stream": "stdout",
       "text": [
        "Venkatachalam\n",
        "Processing 3961 for year 2014 "
       ]
      },
      {
       "output_type": "stream",
       "stream": "stdout",
       "text": [
        "Periyappa\n",
        "Processing 7372 for year 2014 "
       ]
      },
      {
       "output_type": "stream",
       "stream": "stdout",
       "text": [
        "Late.K.Narayanasamy\n",
        "Processing 7567 for year 2014 "
       ]
      },
      {
       "output_type": "stream",
       "stream": "stdout",
       "text": [
        "S. Murugesan\n",
        "Processing 7459 for year 2014 "
       ]
      },
      {
       "output_type": "stream",
       "stream": "stdout",
       "text": [
        "Kuppusamy\n",
        "Processing 7505 for year 2014 "
       ]
      },
      {
       "output_type": "stream",
       "stream": "stdout",
       "text": [
        "Raja\n",
        "Processing 7553 for year 2014 "
       ]
      },
      {
       "output_type": "stream",
       "stream": "stdout",
       "text": [
        "Late.G.Joseph Nadar\n",
        "Processing 3952 for year 2014 "
       ]
      },
      {
       "output_type": "stream",
       "stream": "stdout",
       "text": [
        "Palanivel\n",
        "Processing 7586 for year 2014 "
       ]
      },
      {
       "output_type": "stream",
       "stream": "stdout",
       "text": [
        "Pauldurai\n",
        "Processing 4300 for year 2014 "
       ]
      },
      {
       "output_type": "stream",
       "stream": "stdout",
       "text": [
        "N.Vasu\n",
        "Processing 7360 for year 2014 "
       ]
      },
      {
       "output_type": "stream",
       "stream": "stdout",
       "text": [
        "A. Ponnusamy\n",
        "Processing 5429 for year 2014 "
       ]
      },
      {
       "output_type": "stream",
       "stream": "stdout",
       "text": [
        "N. Shamnugam\n",
        "Processing 7393 for year 2014 "
       ]
      },
      {
       "output_type": "stream",
       "stream": "stdout",
       "text": [
        "Subramaniyan\n",
        "Processing 3930 for year 2014 "
       ]
      },
      {
       "output_type": "stream",
       "stream": "stdout",
       "text": [
        "Subburayan\n",
        "Processing 7530 for year 2014 "
       ]
      },
      {
       "output_type": "stream",
       "stream": "stdout",
       "text": [
        "Dharmar devar P\n",
        "Processing 7674 for year 2014 "
       ]
      },
      {
       "output_type": "stream",
       "stream": "stdout",
       "text": [
        "Ramarao\n",
        "Processing 6377 for year 2014 "
       ]
      },
      {
       "output_type": "stream",
       "stream": "stdout",
       "text": [
        "Laxmaiah Boora\n",
        "Processing 1013 for year 2014 "
       ]
      },
      {
       "output_type": "stream",
       "stream": "stdout",
       "text": [
        "K.Madhava Reddy\n",
        "Processing 4523 for year 2014 "
       ]
      },
      {
       "output_type": "stream",
       "stream": "stdout",
       "text": [
        "Late Sultan Salahuddin Owaisi\n",
        "Processing 6220 for year 2014 "
       ]
      },
      {
       "output_type": "stream",
       "stream": "stdout",
       "text": [
        "Boinapallyf Muralidhar Rao\n",
        "Processing 4529 for year 2014 "
       ]
      },
      {
       "output_type": "stream",
       "stream": "stdout",
       "text": [
        "PONGULETI RAGHAVA REDDY\n",
        "Processing 7937 for year 2014 "
       ]
      },
      {
       "output_type": "stream",
       "stream": "stdout",
       "text": [
        "Laxman\n",
        "Processing 4536 for year 2014 "
       ]
      },
      {
       "output_type": "stream",
       "stream": "stdout",
       "text": [
        "Late. Shri. A.P Ramachandra\n",
        "Processing 7843 for year 2014 "
       ]
      },
      {
       "output_type": "stream",
       "stream": "stdout",
       "text": [
        "Late Shri Malla Reddy\n",
        "Processing 9854 for year 2014 "
       ]
      },
      {
       "output_type": "stream",
       "stream": "stdout",
       "text": [
        "Late Kishta Reddy\n",
        "Processing 6840 for year 2014 "
       ]
      },
      {
       "output_type": "stream",
       "stream": "stdout",
       "text": [
        "Late Nandi Nagaiah\n",
        "Processing 4547 for year 2014 "
       ]
      },
      {
       "output_type": "stream",
       "stream": "stdout",
       "text": [
        "Lt. Gutha Venkat Reddy\n",
        "Processing 6496 for year 2014 "
       ]
      },
      {
       "output_type": "stream",
       "stream": "stdout",
       "text": [
        "D.R. Anil Kumar\n",
        "Processing 6467 for year 2014 "
       ]
      },
      {
       "output_type": "stream",
       "stream": "stdout",
       "text": [
        "Balka Suresh\n",
        "Processing 6420 for year 2014 "
       ]
      },
      {
       "output_type": "stream",
       "stream": "stdout",
       "text": [
        "Anjaiah\n",
        "Processing 6405 for year 2014 "
       ]
      },
      {
       "output_type": "stream",
       "stream": "stdout",
       "text": [
        "Late Laxmi Narsaiah\n",
        "Processing 6395 for year 2014 "
       ]
      },
      {
       "output_type": "stream",
       "stream": "stdout",
       "text": [
        "Baswant Rao Patil\n",
        "Processing 2497 for year 2014 "
       ]
      },
      {
       "output_type": "stream",
       "stream": "stdout",
       "text": [
        "Lt. Malahari Choudary\n",
        "Processing 45 for year 2014 "
       ]
      },
      {
       "output_type": "stream",
       "stream": "stdout",
       "text": [
        "Lt. Sudhir Kumar Datta\n",
        "Processing 4916 for year 2014 "
       ]
      },
      {
       "output_type": "stream",
       "stream": "stdout",
       "text": [
        "Late Sone Lal\n",
        "Processing 4264 for year 2014 "
       ]
      },
      {
       "output_type": "stream",
       "stream": "stdout",
       "text": [
        "Darshan singh\n",
        "Processing 682 for year 2014 "
       ]
      },
      {
       "output_type": "stream",
       "stream": "stdout",
       "text": [
        "Late Sh. Damodar Gautam\n",
        "Processing 8003 for year 2014 "
       ]
      },
      {
       "output_type": "stream",
       "stream": "stdout",
       "text": [
        "Late Tirath Prasad Gupta\n",
        "Processing 8403 for year 2014 "
       ]
      },
      {
       "output_type": "stream",
       "stream": "stdout",
       "text": [
        "Ram Kumar\n",
        "Processing 8022 for year 2014 "
       ]
      },
      {
       "output_type": "stream",
       "stream": "stdout",
       "text": [
        "Late Rajiv Gandhi\n",
        "Processing 3037 for year 2014 "
       ]
      },
      {
       "output_type": "stream",
       "stream": "stdout",
       "text": [
        "Hukam Chand\n",
        "Processing 3051 for year 2014 "
       ]
      },
      {
       "output_type": "stream",
       "stream": "stdout",
       "text": [
        "Mahendra Pal\n",
        "Processing 9210 for year 2014 "
       ]
      },
      {
       "output_type": "stream",
       "stream": "stdout",
       "text": [
        "Sughar Singh\n",
        "Processing 3066 for year 2014 "
       ]
      },
      {
       "output_type": "stream",
       "stream": "stdout",
       "text": [
        "Shri Abhay Ram\n",
        "Processing 672 for year 2014 "
       ]
      },
      {
       "output_type": "stream",
       "stream": "stdout",
       "text": [
        "Ram Kishan\n",
        "Processing 8043 for year 2014 "
       ]
      },
      {
       "output_type": "stream",
       "stream": "stdout",
       "text": [
        "Aagyaram\n",
        "Processing 9218 for year 2014 "
       ]
      },
      {
       "output_type": "stream",
       "stream": "stdout",
       "text": [
        "Late Ramchiz\n",
        "Processing 5484 for year 2014 "
       ]
      },
      {
       "output_type": "stream",
       "stream": "stdout",
       "text": [
        "Rajabhai\n",
        "Processing 9219 for year 2014 "
       ]
      },
      {
       "output_type": "stream",
       "stream": "stdout",
       "text": [
        "Late Om Prakash\n",
        "Processing 5494 for year 2014 "
       ]
      },
      {
       "output_type": "stream",
       "stream": "stdout",
       "text": [
        "Raghunath Rawat\n",
        "Processing 3084 for year 2014 "
       ]
      },
      {
       "output_type": "stream",
       "stream": "stdout",
       "text": [
        "Late Sh. Ram lal Gangwar\n",
        "Processing 8387 for year 2014 "
       ]
      },
      {
       "output_type": "stream",
       "stream": "stdout",
       "text": [
        "Sadhu Sharan\n",
        "Processing 8054 for year 2014 "
       ]
      },
      {
       "output_type": "stream",
       "stream": "stdout",
       "text": [
        "Late Ramnath Singh\n",
        "Processing 1764 for year 2014 "
       ]
      },
      {
       "output_type": "stream",
       "stream": "stdout",
       "text": [
        "Late Raja Devendra Singh\n",
        "Processing 1214 for year 2014 "
       ]
      },
      {
       "output_type": "stream",
       "stream": "stdout",
       "text": [
        "Kishanlal\n",
        "Processing 9227 for year 2014 "
       ]
      },
      {
       "output_type": "stream",
       "stream": "stdout",
       "text": [
        "Sudhakar\n",
        "Processing 9684 for year 2014 "
       ]
      },
      {
       "output_type": "stream",
       "stream": "stdout",
       "text": [
        "Ramagya Mishra\n",
        "Processing 5499 for year 2014 "
       ]
      },
      {
       "output_type": "stream",
       "stream": "stdout",
       "text": [
        "Lt. Arun Kumar\n",
        "Processing 9234 for year 2014 "
       ]
      },
      {
       "output_type": "stream",
       "stream": "stdout",
       "text": [
        "Lt. Suryavansh Pal\n",
        "Processing 4277 for year 2014 "
       ]
      },
      {
       "output_type": "stream",
       "stream": "stdout",
       "text": [
        "Kalyan Singh\n",
        "Processing 4279 for year 2014 "
       ]
      },
      {
       "output_type": "stream",
       "stream": "stdout",
       "text": [
        "Late Sh. Jagat Narayan Doharey\n",
        "Processing 8397 for year 2014 "
       ]
      },
      {
       "output_type": "stream",
       "stream": "stdout",
       "text": [
        "Late Bhagwan Singh\n",
        "Processing 4310 for year 2014 "
       ]
      },
      {
       "output_type": "stream",
       "stream": "stdout",
       "text": [
        "Lajjaram\n",
        "Processing 5512 for year 2014 "
       ]
      },
      {
       "output_type": "stream",
       "stream": "stdout",
       "text": [
        "Sh. Achyutanand\n",
        "Processing 4316 for year 2014 "
       ]
      },
      {
       "output_type": "stream",
       "stream": "stdout",
       "text": [
        "Raghunath Singh\n",
        "Processing 4389 for year 2014 "
       ]
      },
      {
       "output_type": "stream",
       "stream": "stdout",
       "text": [
        "Prof. Ram Gopal Yadav\n",
        "Processing 60 for year 2014 "
       ]
      },
      {
       "output_type": "stream",
       "stream": "stdout",
       "text": [
        "Late Shri Kailash Chand Sharma\n",
        "Processing 1667 for year 2014 "
       ]
      },
      {
       "output_type": "stream",
       "stream": "stdout",
       "text": [
        "Late Jagat singh\n",
        "Processing 9241 for year 2014 "
       ]
      },
      {
       "output_type": "stream",
       "stream": "stdout",
       "text": [
        "Late Virendra Kumar Singh\n",
        "Processing 9249 for year 2014 "
       ]
      },
      {
       "output_type": "stream",
       "stream": "stdout",
       "text": [
        "Bhagirathi\n",
        "Processing 8394 for year 2014 "
       ]
      },
      {
       "output_type": "stream",
       "stream": "stdout",
       "text": [
        "Kunvar Anand Singh\n",
        "Processing 9254 for year 2014 "
       ]
      },
      {
       "output_type": "stream",
       "stream": "stdout",
       "text": [
        "Avdeynath\n",
        "Processing 5527 for year 2014 "
       ]
      },
      {
       "output_type": "stream",
       "stream": "stdout",
       "text": [
        "Shri Harpal Singh\n",
        "Processing 4402 for year 2014 "
       ]
      },
      {
       "output_type": "stream",
       "stream": "stdout",
       "text": [
        "Shri Shyamlal\n",
        "Processing 5018 for year 2014 "
       ]
      },
      {
       "output_type": "stream",
       "stream": "stdout",
       "text": [
        "Shri Ram Khiladhi\n",
        "Processing 5540 for year 2014 "
       ]
      },
      {
       "output_type": "stream",
       "stream": "stdout",
       "text": [
        "Sumeer\n",
        "Processing 9261 for year 2014 "
       ]
      },
      {
       "output_type": "stream",
       "stream": "stdout",
       "text": [
        "Umanath\n",
        "Processing 5547 for year 2014 "
       ]
      },
      {
       "output_type": "stream",
       "stream": "stdout",
       "text": [
        "Lt. Sh Gulab Singh\n",
        "Processing 655 for year 2014 "
       ]
      },
      {
       "output_type": "stream",
       "stream": "stdout",
       "text": [
        "Maan Singh\n",
        "Processing 8725 for year 2014 "
       ]
      },
      {
       "output_type": "stream",
       "stream": "stdout",
       "text": [
        "Jagdamba Sharan Singh\n",
        "Processing 4411 for year 2014 "
       ]
      },
      {
       "output_type": "stream",
       "stream": "stdout",
       "text": [
        "Akhilash Yadav\n",
        "Processing 5714 for year 2014 "
       ]
      },
      {
       "output_type": "stream",
       "stream": "stdout",
       "text": [
        "Late Sh. Manmohan Joshi\n",
        "Processing 8080 for year 2014 "
       ]
      },
      {
       "output_type": "stream",
       "stream": "stdout",
       "text": [
        "Shri Amar Nath\n",
        "Processing 3107 for year 2014 "
       ]
      },
      {
       "output_type": "stream",
       "stream": "stdout",
       "text": [
        "Ambika Prasad\n",
        "Processing 9262 for year 2014 "
       ]
      },
      {
       "output_type": "stream",
       "stream": "stdout",
       "text": [
        "Rajmangal Pandey\n",
        "Processing 9268 for year 2014 "
       ]
      },
      {
       "output_type": "stream",
       "stream": "stdout",
       "text": [
        "Rajendra\n",
        "Processing 5743 for year 2014 "
       ]
      },
      {
       "output_type": "stream",
       "stream": "stdout",
       "text": [
        "Late Shri Rambadan Singh\n",
        "Processing 9278 for year 2014 "
       ]
      },
      {
       "output_type": "stream",
       "stream": "stdout",
       "text": [
        "Ram Narayan\n",
        "Processing 9282 for year 2014 "
       ]
      },
      {
       "output_type": "stream",
       "stream": "stdout",
       "text": [
        "Bhagwati\n",
        "Processing 9864 for year 2014 "
       ]
      },
      {
       "output_type": "stream",
       "stream": "stdout",
       "text": [
        "Ranveer Singh\n",
        "Processing 4424 for year 2014 "
       ]
      },
      {
       "output_type": "stream",
       "stream": "stdout",
       "text": [
        "Shri Deol Dharmendra\n",
        "Processing 667 for year 2014 "
       ]
      },
      {
       "output_type": "stream",
       "stream": "stdout",
       "text": [
        "Om Prakash\n",
        "Processing 9708 for year 2014 "
       ]
      },
      {
       "output_type": "stream",
       "stream": "stdout",
       "text": [
        "Ashish Kumar Singh\n",
        "Processing 5768 for year 2014 "
       ]
      },
      {
       "output_type": "stream",
       "stream": "stdout",
       "text": [
        "Krishan Kumar Singh\n",
        "Processing 5774 for year 2014 "
       ]
      },
      {
       "output_type": "stream",
       "stream": "stdout",
       "text": [
        "Kallu Prasad\n",
        "Processing 3117 for year 2014 "
       ]
      },
      {
       "output_type": "stream",
       "stream": "stdout",
       "text": [
        "Late Rampal Singh\n",
        "Processing 663 for year 2014 "
       ]
      },
      {
       "output_type": "stream",
       "stream": "stdout",
       "text": [
        "Sh. Surendra Pal Signh\n",
        "Processing 3139 for year 2014 "
       ]
      },
      {
       "output_type": "stream",
       "stream": "stdout",
       "text": [
        "Ramchandra\n",
        "Processing 8081 for year 2014 "
       ]
      },
      {
       "output_type": "stream",
       "stream": "stdout",
       "text": [
        "Shyam Lal\n",
        "Processing 3154 for year 2014 "
       ]
      },
      {
       "output_type": "stream",
       "stream": "stdout",
       "text": [
        "Sanjay Gandhi\n",
        "Processing 8743 for year 2014 "
       ]
      },
      {
       "output_type": "stream",
       "stream": "stdout",
       "text": [
        "Ram Aqbal\n",
        "Processing 5781 for year 2014 "
       ]
      },
      {
       "output_type": "stream",
       "stream": "stdout",
       "text": [
        "Late Rajiv Gandhi\n",
        "Processing 3180 for year 2014 "
       ]
      },
      {
       "output_type": "stream",
       "stream": "stdout",
       "text": [
        "Shri karanpal Singh\n",
        "Processing 9290 for year 2014 "
       ]
      },
      {
       "output_type": "stream",
       "stream": "stdout",
       "text": [
        "Late Ramdhani\n",
        "Processing 685 for year 2014 "
       ]
      },
      {
       "output_type": "stream",
       "stream": "stdout",
       "text": [
        "Sh. Nirbhay Pal\n",
        "Processing 9298 for year 2014 "
       ]
      },
      {
       "output_type": "stream",
       "stream": "stdout",
       "text": [
        "Harikewal\n",
        "Processing 3189 for year 2014 "
       ]
      },
      {
       "output_type": "stream",
       "stream": "stdout",
       "text": [
        "Tekchandra Singh\n",
        "Processing 8099 for year 2014 "
       ]
      },
      {
       "output_type": "stream",
       "stream": "stdout",
       "text": [
        "Ramapati Ram\n",
        "Processing 3206 for year 2014 "
       ]
      },
      {
       "output_type": "stream",
       "stream": "stdout",
       "text": [
        "Virender Kumar\n",
        "Processing 8310 for year 2014 "
       ]
      },
      {
       "output_type": "stream",
       "stream": "stdout",
       "text": [
        "Atmaram Mishra\n",
        "Processing 5798 for year 2014 "
       ]
      },
      {
       "output_type": "stream",
       "stream": "stdout",
       "text": [
        "Krishan Pal Singh\n",
        "Processing 8109 for year 2014 "
       ]
      },
      {
       "output_type": "stream",
       "stream": "stdout",
       "text": [
        "Shri Sanjay Gandhi\n",
        "Processing 5810 for year 2014 "
       ]
      },
      {
       "output_type": "stream",
       "stream": "stdout",
       "text": [
        "Sh. Atmanand Ji\n",
        "Processing 9769 for year 2014 "
       ]
      },
      {
       "output_type": "stream",
       "stream": "stdout",
       "text": [
        "Late Shri Damodardas Modi\n",
        "Processing 8297 for year 2014 "
       ]
      },
      {
       "output_type": "stream",
       "stream": "stdout",
       "text": [
        "Late Manoharlal Tamta\n",
        "Processing 74 for year 2014 "
       ]
      },
      {
       "output_type": "stream",
       "stream": "stdout",
       "text": [
        "Late Jai Ballav Khanduri\n",
        "Processing 8381 for year 2014 "
       ]
      },
      {
       "output_type": "stream",
       "stream": "stdout",
       "text": [
        "Lt. Shri Parmanand Pokhariyal\n",
        "Processing 7973 for year 2014 "
       ]
      },
      {
       "output_type": "stream",
       "stream": "stdout",
       "text": [
        "Lt. Sh. Gopal Singh\n",
        "Processing 73 for year 2014 "
       ]
      },
      {
       "output_type": "stream",
       "stream": "stdout",
       "text": [
        "Manujendra Saha\n",
        "Processing 1775 for year 2014 "
       ]
      },
      {
       "output_type": "stream",
       "stream": "stdout",
       "text": [
        "FAKIRA TIRKEY\n",
        "Processing 5819 for year 2014 "
       ]
      },
      {
       "output_type": "stream",
       "stream": "stdout",
       "text": [
        "Md. Shakir Ali\n",
        "Processing 8249 for year 2014 "
       ]
      },
      {
       "output_type": "stream",
       "stream": "stdout",
       "text": [
        "SRI SUNIL CHANDRA BARAL\n",
        "Processing 9306 for year 2014 "
       ]
      },
      {
       "output_type": "stream",
       "stream": "stdout",
       "text": [
        "Lt. Niranjan Chowdhury\n",
        "Processing 4828 for year 2014 "
       ]
      },
      {
       "output_type": "stream",
       "stream": "stdout",
       "text": [
        "Mridu Kanti Ghosh\n",
        "Processing 9907 for year 2014 "
       ]
      },
      {
       "output_type": "stream",
       "stream": "stdout",
       "text": [
        "Lt. Kapil Krishna Thakur\n",
        "Processing 8266 for year 2014 "
       ]
      },
      {
       "output_type": "stream",
       "stream": "stdout",
       "text": [
        "sri bharat kishore dev varma\n",
        "Processing 9318 for year 2014 "
       ]
      },
      {
       "output_type": "stream",
       "stream": "stdout",
       "text": [
        "Sudarsan Ghosh Dastidar\n",
        "Processing 6007 for year 2014 "
       ]
      },
      {
       "output_type": "stream",
       "stream": "stdout",
       "text": [
        "Late Dauri Mondal\n",
        "Processing 6016 for year 2014 "
       ]
      },
      {
       "output_type": "stream",
       "stream": "stdout",
       "text": [
        "Nure Alam Chowdhury\n",
        "Processing 9330 for year 2014 "
       ]
      },
      {
       "output_type": "stream",
       "stream": "stdout",
       "text": [
        "LATE URMILABEN TRIVEDI\n",
        "Processing 9340 for year 2014 "
       ]
      },
      {
       "output_type": "stream",
       "stream": "stdout",
       "text": [
        "LATE ABDUL AZIZ\n",
        "Processing 6022 for year 2014 "
       ]
      },
      {
       "output_type": "stream",
       "stream": "stdout",
       "text": [
        "Mriganka Banerjee\n",
        "Processing 8270 for year 2014 "
       ]
      },
      {
       "output_type": "stream",
       "stream": "stdout",
       "text": [
        "DHANANJAY KHAN\n",
        "Processing 6031 for year 2014 "
       ]
      },
      {
       "output_type": "stream",
       "stream": "stdout",
       "text": [
        "Debnath Hazra\n",
        "Processing 1766 for year 2014 "
       ]
      },
      {
       "output_type": "stream",
       "stream": "stdout",
       "text": [
        "BALADEB SINHA\n",
        "Processing 1797 for year 2014 "
       ]
      },
      {
       "output_type": "stream",
       "stream": "stdout",
       "text": [
        "LATE SARDAR SINGH AHLUWALIA\n",
        "Processing 9347 for year 2014 "
       ]
      },
      {
       "output_type": "stream",
       "stream": "stdout",
       "text": [
        "Amit Banerjee\n",
        "Processing 9356 for year 2014 "
       ]
      },
      {
       "output_type": "stream",
       "stream": "stdout",
       "text": [
        "Late Debesh Chandra Roy\n",
        "Processing 9367 for year 2014 "
       ]
      },
      {
       "output_type": "stream",
       "stream": "stdout",
       "text": [
        "GURUPADA ADHIKARI\n",
        "Processing 6036 for year 2014 "
       ]
      },
      {
       "output_type": "stream",
       "stream": "stdout",
       "text": [
        "Prabir De\n",
        "Processing 6048 for year 2014 "
       ]
      },
      {
       "output_type": "stream",
       "stream": "stdout",
       "text": [
        "Late Provat Kumar Banerjee\n",
        "Processing 9377 for year 2014 "
       ]
      },
      {
       "output_type": "stream",
       "stream": "stdout",
       "text": [
        "Late Dr. Sisir Kumar Bose\n",
        "Processing 1785 for year 2014 "
       ]
      },
      {
       "output_type": "stream",
       "stream": "stdout",
       "text": [
        "Late Sebacharan Barman\n",
        "Processing 4831 for year 2014 "
       ]
      },
      {
       "output_type": "stream",
       "stream": "stdout",
       "text": [
        "Sh. Parnab Mukherjee\n",
        "Processing 9380 for year 2014 "
       ]
      },
      {
       "output_type": "stream",
       "stream": "stdout",
       "text": [
        "Mr. Narayana Chandra Mondal\n",
        "Processing 8253 for year 2014 "
       ]
      },
      {
       "output_type": "stream",
       "stream": "stdout",
       "text": [
        "Shri Ruben Chandra Saren\n",
        "Processing 9391 for year 2014 "
       ]
      },
      {
       "output_type": "stream",
       "stream": "stdout",
       "text": [
        "Late Kenaram Adhikari\n",
        "Processing 9398 for year 2014 "
       ]
      },
      {
       "output_type": "stream",
       "stream": "stdout",
       "text": [
        "LATE SUDHIR RANJAN BAKSHI\n",
        "Processing 9412 for year 2014 "
       ]
      },
      {
       "output_type": "stream",
       "stream": "stdout",
       "text": [
        "Lt. Bisweswar Bandyopadhyay\n",
        "Processing 9422 for year 2014 "
       ]
      },
      {
       "output_type": "stream",
       "stream": "stdout",
       "text": [
        "Late Gajendra Chandra Paul\n",
        "Processing 4363 for year 2014 "
       ]
      },
      {
       "output_type": "stream",
       "stream": "stdout",
       "text": [
        "Late Abul Hayat\n",
        "Processing 4370 for year 2014 "
       ]
      },
      {
       "output_type": "stream",
       "stream": "stdout",
       "text": [
        "Late Sayed Mohammad Noor\n",
        "Processing 9426 for year 2014 "
       ]
      },
      {
       "output_type": "stream",
       "stream": "stdout",
       "text": [
        "Late Parameshwar Jatua\n",
        "Processing 8259 for year 2014 "
       ]
      },
      {
       "output_type": "stream",
       "stream": "stdout",
       "text": [
        "Late Satish Chandra Roy\n",
        "Processing 4376 for year 2014 "
       ]
      },
      {
       "output_type": "stream",
       "stream": "stdout",
       "text": [
        "Late MD Farrahim Khan\n",
        "Processing 8262 for year 2014 "
       ]
      },
      {
       "output_type": "stream",
       "stream": "stdout",
       "text": [
        "Late Sitaram Mahato\n",
        "Processing 4380 for year 2014 "
       ]
      },
      {
       "output_type": "stream",
       "stream": "stdout",
       "text": [
        "Lt. Azizul Haque\n",
        "Processing 9436 for year 2014 "
       ]
      },
      {
       "output_type": "stream",
       "stream": "stdout",
       "text": [
        "Probhas Chandra Mandal\n",
        "Processing 6058 for year 2014 "
       ]
      },
      {
       "output_type": "stream",
       "stream": "stdout",
       "text": [
        "Late Bhola Nath Banerjee\n",
        "Processing 9439 for year 2014 "
       ]
      },
      {
       "output_type": "stream",
       "stream": "stdout",
       "text": [
        "SISIR KUMAR ADHIKARI\n",
        "Processing 6066 for year 2014 "
       ]
      },
      {
       "output_type": "stream",
       "stream": "stdout",
       "text": [
        "Late Noor Ahmed\n"
       ]
      }
     ],
     "prompt_number": 17
    },
    {
     "cell_type": "code",
     "collapsed": false,
     "input": [
      "candframe.to_csv('ls2014winners_augmented1.csv', index=False)"
     ],
     "language": "python",
     "metadata": {},
     "outputs": [],
     "prompt_number": 20
    },
    {
     "cell_type": "code",
     "collapsed": false,
     "input": [
      "tryframe=pd.read_csv('ls2014winners_augmented1.csv', index_col=False, quoting=csv.QUOTE_ALL)\n",
      "tryframe.depname"
     ],
     "language": "python",
     "metadata": {},
     "outputs": [
      {
       "metadata": {},
       "output_type": "pyout",
       "prompt_number": 23,
       "text": [
        "0                   Late Ramashis Ray\n",
        "1                     Pandula Buthyya\n",
        "2             Late M Venkata Narayana\n",
        "3        Chinnareddy Negi Reddy Jutur\n",
        "4               Late Kothapalli Jacob\n",
        "5                          Raghavaiah\n",
        "6                      Sri. N.Nagaiah\n",
        "7               Ravindranadh Chowdary\n",
        "8             Ramachandra Naidu Galla\n",
        "9                    Nimmala Rangappa\n",
        "10    Yeduguri Sandinti Bhaskar Reddy\n",
        "11                Late. T Varahalayya\n",
        "12              butta siva neelakanta\n",
        "13                     Late Ganapathi\n",
        "14          Sannapa Reddy Konda Reddy\n",
        "...\n",
        "527          Late Kenaram Adhikari\n",
        "528      LATE SUDHIR RANJAN BAKSHI\n",
        "529    Lt. Bisweswar Bandyopadhyay\n",
        "530     Late Gajendra Chandra Paul\n",
        "531                Late Abul Hayat\n",
        "532       Late Sayed Mohammad Noor\n",
        "533         Late Parameshwar Jatua\n",
        "534        Late Satish Chandra Roy\n",
        "535          Late MD Farrahim Khan\n",
        "536            Late Sitaram Mahato\n",
        "537               Lt. Azizul Haque\n",
        "538         Probhas Chandra Mandal\n",
        "539       Late Bhola Nath Banerjee\n",
        "540           SISIR KUMAR ADHIKARI\n",
        "541                Late Noor Ahmed\n",
        "Name: depname, Length: 542, dtype: object"
       ]
      }
     ],
     "prompt_number": 23
    }
   ],
   "metadata": {}
  }
 ]
}