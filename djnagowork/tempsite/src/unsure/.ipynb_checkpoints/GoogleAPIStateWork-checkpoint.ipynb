{
 "metadata": {
  "name": "",
  "signature": "sha256:7de270d215644ec117faa4ba69efdb5717725098af39d4e1a14faf9ee6e1031a"
 },
 "nbformat": 3,
 "nbformat_minor": 0,
 "worksheets": [
  {
   "cells": [
    {
     "cell_type": "code",
     "collapsed": false,
     "input": [
      "from bs4 import BeautifulSoup\n",
      "import pandas as pd\n",
      "import requests as rq\n",
      "import re\n",
      "import hashlib"
     ],
     "language": "python",
     "metadata": {},
     "outputs": []
    },
    {
     "cell_type": "code",
     "collapsed": false,
     "input": [
      "#a basic method that can be used to extract state name long from any address, just pass in the address\n",
      "#see the usgae below\n",
      "def getCityStateName(address):\n",
      "    url='http://maps.googleapis.com/maps/api/geocode/xml?address=\\\"' + address + '\\\"&sensor=true'\n",
      "    r = rq.get(url)\n",
      "    print r.url\n",
      "    data = r.text\n",
      "    soup = BeautifulSoup(data)\n",
      "    address_components = soup.find_all('address_component')\n",
      "    l = len(address_components)\n",
      "    if l <= 1:\n",
      "        print 'No results for url ='+url\n",
      "        return \"\"\n",
      "    else:\n",
      "        return (address_components[-3].find('long_name').text, address_components[-2].find('long_name').text)"
     ],
     "language": "python",
     "metadata": {},
     "outputs": []
    },
    {
     "cell_type": "code",
     "collapsed": false,
     "input": [
      "getCityStateName('''18 A Indl Development Area,  Patancheru,  Medak,  502319,  Andhra Pradesh''')"
     ],
     "language": "python",
     "metadata": {},
     "outputs": []
    },
    {
     "cell_type": "code",
     "collapsed": false,
     "input": [
      "def sqlQuerytoDF(query,ipaddress,database, user, password):\n",
      "    import MySQLdb as db\n",
      "    from pandas.io.sql import frame_query\n",
      "    database = db.connect(ipaddress, user, password, database)\n",
      "    dirframe = frame_query(query, database)\n",
      "    #dirframe\n",
      "    return dirframe\n",
      "##Usage: sqlQuerytoDF(\"select id,name,office from company;\",\"localhost\",\"himanshu\",\"root\",\"yoyo\")"
     ],
     "language": "python",
     "metadata": {},
     "outputs": []
    },
    {
     "cell_type": "code",
     "collapsed": false,
     "input": [
      "def sqlUpdateQuery(query,ipaddress,database, user, password):\n",
      "    import MySQLdb as db\n",
      "    from pandas.io.sql import frame_query\n",
      "    database = db.connect(ipaddress, user, password, database)\n",
      "    cur = database.cursor()\n",
      "    value=False\n",
      "    try:\n",
      "        cur.execute(query)\n",
      "        database.commit()\n",
      "        value = True\n",
      "    except Exception, e:\n",
      "        print e\n",
      "        database.rollback()\n",
      "    database.close()\n",
      "    return value\n",
      "    #dirframe"
     ],
     "language": "python",
     "metadata": {},
     "outputs": []
    },
    {
     "cell_type": "code",
     "collapsed": false,
     "input": [
      "companydf = sqlQuerytoDF(\"select id,name,office from company;\",\"localhost\",\"himanshu\",\"root\",\"yoyo\")"
     ],
     "language": "python",
     "metadata": {},
     "outputs": []
    },
    {
     "cell_type": "markdown",
     "metadata": {},
     "source": [
      "#realized you don't require an api for extracting state\n",
      "#they follow a format in the parag's dataset as exploited in next cell\n",
      "#so follwing code is not required\n",
      "tempframe = companydf[7000:10000] #129\n",
      "for index, row in tempframe.iterrows():\n",
      "    if(index==8456):\n",
      "        print row.id, row.name, row.office\n",
      "    #office_as_list = row.office.split(',')\n",
      "    #print row.id, office_as_list[-3], office_as_list[-2], office_as_list[-1]"
     ]
    },
    {
     "cell_type": "code",
     "collapsed": false,
     "input": [
      "companydf['state'] = companydf.apply(lambda r: r['office'].split(',')[-1], axis=1)"
     ],
     "language": "python",
     "metadata": {},
     "outputs": []
    },
    {
     "cell_type": "code",
     "collapsed": false,
     "input": [
      "def helper(office_address):\n",
      "    try:\n",
      "        ans =office_address.split(',')[-2]\n",
      "        return ans\n",
      "    except:\n",
      "        return ''\n",
      "#companydf['pincode'] = companydf.apply(lambda r: helper(r['office']), axis=1)\n",
      "companydf['pincode'] = companydf.apply(lambda r: helper(r['office']), axis=1)"
     ],
     "language": "python",
     "metadata": {},
     "outputs": []
    },
    {
     "cell_type": "code",
     "collapsed": false,
     "input": [
      "companydf"
     ],
     "language": "python",
     "metadata": {},
     "outputs": []
    },
    {
     "cell_type": "markdown",
     "metadata": {},
     "source": [
      "#now we need to push the state info to parag's dataset, so as to make our work easier\n",
      "#run this command before anything:\n",
      "## SQL: create table company_extra (id int primary key, cin varchar(100) unique, state varchar(200),pincode varchar(30),city varchar(100));\n",
      "##will take time, takes insanely long time"
     ]
    },
    {
     "cell_type": "code",
     "collapsed": false,
     "input": [
      "for index, row in companydf.iterrows():\n",
      "    query = 'insert into company_extra(id,state,pincode) values(' + row.id.strip()+ \",\\'\" + row.state.strip()+\"\\',\\'\"+row.pincode.strip()+\"\\');\" \n",
      "    print index, sqlUpdateQuery(query,\"localhost\",\"himanshu\",\"root\",\"yoyo\"), "
     ],
     "language": "python",
     "metadata": {},
     "outputs": []
    },
    {
     "cell_type": "code",
     "collapsed": false,
     "input": [],
     "language": "python",
     "metadata": {},
     "outputs": []
    }
   ],
   "metadata": {}
  }
 ]
}