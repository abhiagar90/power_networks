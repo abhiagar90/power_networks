{
 "metadata": {
  "name": "",
  "signature": "sha256:2f215916fe423e6669c45be882a4b16ed6382eb5a58f2ded815fbc4c02ef1df2"
 },
 "nbformat": 3,
 "nbformat_minor": 0,
 "worksheets": [
  {
   "cells": [
    {
     "cell_type": "code",
     "collapsed": false,
     "input": [
      "import pandas as pd\n",
      "dirs = pd.read_csv('directorsall.csv',delimiter=';')\n",
      "dirs.drop(dirs.columns[[2, 3]], axis=1, inplace=True)\n",
      "#dirs"
     ],
     "language": "python",
     "metadata": {},
     "outputs": [],
     "prompt_number": 15
    },
    {
     "cell_type": "code",
     "collapsed": false,
     "input": [
      "comps = pd.read_csv('companiesall.csv',delimiter=';')\n",
      "#comps"
     ],
     "language": "python",
     "metadata": {},
     "outputs": [],
     "prompt_number": 17
    },
    {
     "cell_type": "code",
     "collapsed": false,
     "input": [
      "rels = pd.read_csv('relationsall.csv',delimiter=';')\n",
      "#"
     ],
     "language": "python",
     "metadata": {},
     "outputs": []
    }
   ],
   "metadata": {}
  }
 ]
}