{
 "metadata": {
  "name": "",
  "signature": "sha256:a997c9221beab2f859ac2bc4000e7db0a2e26eb00c15b5b568bfab8518389a6d"
 },
 "nbformat": 3,
 "nbformat_minor": 0,
 "worksheets": [
  {
   "cells": [
    {
     "cell_type": "code",
     "collapsed": false,
     "input": [
      "import pandas as pd\n",
      "dirs = pd.read_csv('directorsall.csv',delimiter=';')\n",
      "dirs.drop(df.columns[[2, 3]], axis=1, inplace=True)\n",
      "#df"
     ],
     "language": "python",
     "metadata": {},
     "outputs": [],
     "prompt_number": 12
    },
    {
     "cell_type": "code",
     "collapsed": false,
     "input": [],
     "language": "python",
     "metadata": {},
     "outputs": []
    }
   ],
   "metadata": {}
  }
 ]
}