{
 "metadata": {
  "name": "",
  "signature": "sha256:4d2b28ff9afd64065af85b338a2afd7595c5aed8f0aacd5e43b54483d327e024"
 },
 "nbformat": 3,
 "nbformat_minor": 0,
 "worksheets": [
  {
   "cells": [
    {
     "cell_type": "code",
     "collapsed": false,
     "input": [
      "from bs4 import BeautifulSoup\n",
      "import pandas as pd\n",
      "import requests as rq\n",
      "import re\n",
      "import hashlib"
     ],
     "language": "python",
     "metadata": {},
     "outputs": [],
     "prompt_number": 1
    },
    {
     "cell_type": "code",
     "collapsed": false,
     "input": [
      "ipaddress = ''\n",
      "database = ''\n",
      "user = ''\n",
      "password = '' \n",
      "\n",
      "def setParamsDB(ip, db, name, passw):\n",
      "    ipaddress = ip\n",
      "    database = db\n",
      "    user = name\n",
      "    password = passw\n",
      "\n",
      "setParamsDB('localhost','powernetworks2','root','yoyo')"
     ],
     "language": "python",
     "metadata": {},
     "outputs": [],
     "prompt_number": 5
    },
    {
     "cell_type": "code",
     "collapsed": false,
     "input": [
      "#a basic method that can be used to extract state name long from any address, just pass in the address\n",
      "#see the usgae below\n",
      "def getCityStateName(address):\n",
      "    url='http://maps.googleapis.com/maps/api/geocode/xml?address=\\\"' + address + '\\\"&sensor=true'\n",
      "    r = rq.get(url)\n",
      "    print r.url\n",
      "    data = r.text\n",
      "    soup = BeautifulSoup(data)\n",
      "    address_components = soup.find_all('address_component')\n",
      "    l = len(address_components)\n",
      "    if l <= 1:\n",
      "        print 'No results for url ='+url\n",
      "        return \"\"\n",
      "    else:\n",
      "        return (address_components[-3].find('long_name').text, address_components[-2].find('long_name').text)\n",
      "#getCityStateName('''18 A Indl Development Area,  Patancheru,  Medak,  502319,  Andhra Pradesh''')"
     ],
     "language": "python",
     "metadata": {},
     "outputs": [],
     "prompt_number": 2
    },
    {
     "cell_type": "code",
     "collapsed": false,
     "input": [
      "def sqlQuerytoDF(query,ipaddress,database, user, password):\n",
      "    import MySQLdb as db\n",
      "    from pandas.io.sql import frame_query\n",
      "    database = db.connect(ipaddress, user, password, database)\n",
      "    dirframe = frame_query(query, database)\n",
      "    #dirframe\n",
      "    return dirframe\n",
      "##Usage: sqlQuerytoDF(\"select id,name,office from company;\",\"localhost\",\"himanshu\",\"root\",\"yoyo\")"
     ],
     "language": "python",
     "metadata": {},
     "outputs": [],
     "prompt_number": 20
    },
    {
     "cell_type": "code",
     "collapsed": false,
     "input": [
      "def sqlUpdateQuery(query,ipaddress,database, user, password):\n",
      "    import MySQLdb as db\n",
      "    from pandas.io.sql import frame_query\n",
      "    database = db.connect(ipaddress, user, password, database)\n",
      "    cur = database.cursor()\n",
      "    value=False\n",
      "    try:\n",
      "        cur.execute(query)\n",
      "        database.commit()\n",
      "        value = True\n",
      "    except Exception, e:\n",
      "        print e\n",
      "        database.rollback()\n",
      "    database.close()\n",
      "    return value\n",
      "    #dirframe"
     ],
     "language": "python",
     "metadata": {},
     "outputs": [],
     "prompt_number": 1
    },
    {
     "cell_type": "code",
     "collapsed": false,
     "input": [
      "#sqlUpdateQuery(\"insert into covered_dirs values('1');\",'localhost','powernetworks2','root','yoyo')"
     ],
     "language": "python",
     "metadata": {},
     "outputs": [
      {
       "metadata": {},
       "output_type": "pyout",
       "prompt_number": 2,
       "text": [
        "True"
       ]
      }
     ],
     "prompt_number": 2
    }
   ],
   "metadata": {}
  }
 ]
}