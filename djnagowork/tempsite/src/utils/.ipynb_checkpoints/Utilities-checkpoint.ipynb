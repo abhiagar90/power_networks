{
 "metadata": {
  "name": "",
  "signature": "sha256:fb354a73697add8662b151ad9dafe12678b2bb5ae4c0078138078c53c3e96cdd"
 },
 "nbformat": 3,
 "nbformat_minor": 0,
 "worksheets": [
  {
   "cells": [
    {
     "cell_type": "code",
     "collapsed": false,
     "input": [
      "from bs4 import BeautifulSoup\n",
      "import pandas as pd\n",
      "import requests as rq\n",
      "import re\n",
      "from first.models import QcBod,QcCompany,QcDirector,QTrack,QQuery\n",
      "import hashlib"
     ],
     "language": "python",
     "metadata": {},
     "outputs": [],
     "prompt_number": 1
    },
    {
     "cell_type": "code",
     "collapsed": false,
     "input": [
      "#a basic method that can be used to extract state name long from any address, just pass in the address\n",
      "#see the usgae below\n",
      "def getCityStateName(address):\n",
      "    url='http://maps.googleapis.com/maps/api/geocode/xml?address=\\\"' + address + '\\\"&sensor=true'\n",
      "    r = rq.get(url)\n",
      "    print r.url\n",
      "    data = r.text\n",
      "    soup = BeautifulSoup(data)\n",
      "    address_components = soup.find_all('address_component')\n",
      "    l = len(address_components)\n",
      "    if l <= 1:\n",
      "        print 'No results for url ='+url\n",
      "        return \"\"\n",
      "    else:\n",
      "        return (address_components[-3].find('long_name').text, address_components[-2].find('long_name').text)\n",
      "#getCityStateName('''18 A Indl Development Area,  Patancheru,  Medak,  502319,  Andhra Pradesh''')"
     ],
     "language": "python",
     "metadata": {},
     "outputs": [],
     "prompt_number": 29
    },
    {
     "cell_type": "code",
     "collapsed": false,
     "input": [
      "def sqlQuerytoDF(query,ipaddress,database, user, password):\n",
      "    import MySQLdb as db\n",
      "    from pandas.io.sql import frame_query\n",
      "    database = db.connect(ipaddress, user, password, database)\n",
      "    dirframe = frame_query(query, database)\n",
      "    #dirframe\n",
      "    return dirframe\n",
      "##Usage: sqlQuerytoDF(\"select id,name,office from company;\",\"localhost\",\"himanshu\",\"root\",\"yoyo\")"
     ],
     "language": "python",
     "metadata": {},
     "outputs": [],
     "prompt_number": 20
    },
    {
     "cell_type": "code",
     "collapsed": false,
     "input": [
      "def sqlUpdateQuery(query,ipaddress,database, user, password):\n",
      "    import MySQLdb as db\n",
      "    from pandas.io.sql import frame_query\n",
      "    database = db.connect(ipaddress, user, password, database)\n",
      "    cur = database.cursor()\n",
      "    value=False\n",
      "    try:\n",
      "        cur.execute(query)\n",
      "        database.commit()\n",
      "        value = True\n",
      "    except Exception, e:\n",
      "        print e\n",
      "        database.rollback()\n",
      "    database.close()\n",
      "    return value\n",
      "    #dirframe"
     ],
     "language": "python",
     "metadata": {},
     "outputs": [],
     "prompt_number": 135
    }
   ],
   "metadata": {}
  }
 ]
}