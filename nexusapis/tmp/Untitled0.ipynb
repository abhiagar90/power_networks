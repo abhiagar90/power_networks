{
 "metadata": {
  "name": "",
  "signature": "sha256:4cacbf645bb7bd79d35c2ac733f740044e87597332a99cc01b287fbe8fa81c25"
 },
 "nbformat": 3,
 "nbformat_minor": 0,
 "worksheets": [
  {
   "cells": [
    {
     "cell_type": "code",
     "collapsed": false,
     "input": [
      "from py2neo import Graph, Node, Relationship\n",
      "\n",
      "username = 'neo4j'\n",
      "password = 'yoyo'\n",
      "server = 'localhost'\n",
      "port = '7474'\n",
      "con_url = 'http://'+username+':'+password+'@'+server+':'+port+'/db/data/'\n",
      "\n",
      "graph = Graph(con_url)\n",
      "\n",
      "#TODO: keep one connection for the entire app or multiple each time??\n",
      "##Wont use this\n",
      "def getGraph():\n",
      "    return graph\n",
      "\n",
      "def createNodeFromDict(graph, nodedict):\n",
      "    if not entity(graph, nodedict['crawl_en_id']) is None:\n",
      "        return False\n",
      "    else:\n",
      "        node = Node()\n",
      "        print nodedict\n",
      "        for label in nodedict['labels']:\n",
      "            node.labels.add(label)\n",
      "        for prop in nodedict['properties']:\n",
      "            node.properties[prop] = nodedict['properties'][prop]\n",
      "        node['crawl_en_id'] = nodedict['crawl_en_id']\n",
      "        ##TODO: to decide if other props as well\n",
      "        return True\n",
      "\n",
      "def entity(graph, crawl_en_id):\n",
      "    query = \"match (n {crawl_en_id:\"+str(crawl_en_id)+\"}) return n\"\n",
      "    rc = graph.cypher.execute(query)\n",
      "    #print rc\n",
      "    if len(rc)==0: return None\n",
      "    return rc[0][0]\n",
      "print entity(graph, '2')\n",
      "createNodeFromDict(graph, {'crawl_en_id':'2','labels':['p','q','r'], 'properties':{'a':'b','c':'d'}})"
     ],
     "language": "python",
     "metadata": {},
     "outputs": [
      {
       "output_type": "stream",
       "stream": "stdout",
       "text": [
        "None\n",
        "{'labels': ['p', 'q', 'r'], 'crawl_en_id': '2', 'properties': {'a': 'b', 'c': 'd'}}\n",
        "(:p:q:r {a:\"b\",c:\"d\"})\n"
       ]
      },
      {
       "metadata": {},
       "output_type": "pyout",
       "prompt_number": 48,
       "text": [
        "True"
       ]
      }
     ],
     "prompt_number": 48
    },
    {
     "cell_type": "code",
     "collapsed": false,
     "input": [
      "node22 = Node()\n",
      "node22.properties['a']='b'\n",
      "node22"
     ],
     "language": "python",
     "metadata": {},
     "outputs": [
      {
       "metadata": {},
       "output_type": "pyout",
       "prompt_number": 45,
       "text": [
        "<Node labels=set([]) properties={'a': u'b'}>"
       ]
      }
     ],
     "prompt_number": 45
    },
    {
     "cell_type": "code",
     "collapsed": false,
     "input": [],
     "language": "python",
     "metadata": {},
     "outputs": []
    }
   ],
   "metadata": {}
  }
 ]
}