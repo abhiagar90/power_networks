{
 "metadata": {
  "name": "",
  "signature": "sha256:22d16f1f7ed272aff06b1be2dfe8617ed6ce4e31f5e628ed01608eea2e445071"
 },
 "nbformat": 3,
 "nbformat_minor": 0,
 "worksheets": [
  {
   "cells": [
    {
     "cell_type": "code",
     "collapsed": false,
     "input": [
      "import uuid \n",
      "uuid.uuid4()"
     ],
     "language": "python",
     "metadata": {},
     "outputs": [
      {
       "metadata": {},
       "output_type": "pyout",
       "prompt_number": 16,
       "text": [
        "UUID('4c6a4582-28c1-4679-9d47-d9bfd57f2d15')"
       ]
      }
     ],
     "prompt_number": 16
    },
    {
     "cell_type": "code",
     "collapsed": false,
     "input": [
      "import os\n",
      "os.urandom(20).encode(\"hex\")"
     ],
     "language": "python",
     "metadata": {},
     "outputs": [
      {
       "metadata": {},
       "output_type": "pyout",
       "prompt_number": 15,
       "text": [
        "'58e862ef036d73c32eb8410294d669469c0f04b1'"
       ]
      }
     ],
     "prompt_number": 15
    },
    {
     "cell_type": "code",
     "collapsed": false,
     "input": [
      "import simpleflake\n",
      "print hex(int(str(simpleflake.simpleflake())+str(simpleflake.simpleflake())))"
     ],
     "language": "python",
     "metadata": {},
     "outputs": [
      {
       "output_type": "stream",
       "stream": "stdout",
       "text": [
        "0x2073a05728fb813f4345081f4696bca6L\n"
       ]
      }
     ],
     "prompt_number": 10
    }
   ],
   "metadata": {}
  }
 ]
}