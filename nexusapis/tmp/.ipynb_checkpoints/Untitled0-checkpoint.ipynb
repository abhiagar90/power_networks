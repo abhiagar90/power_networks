{
 "metadata": {
  "name": "",
  "signature": "sha256:f06cebb9f2e50038b14409fc1b3e53dca09e2f21f42ad68697b2d9af2027d3a6"
 },
 "nbformat": 3,
 "nbformat_minor": 0,
 "worksheets": [
  {
   "cells": [
    {
     "cell_type": "code",
     "collapsed": false,
     "input": [
      "from py2neo import Graph, Node, Relationship\n",
      "from py2neo.cypher import CreateNode\n",
      "\n",
      "username = 'neo4j'\n",
      "password = 'yoyo'\n",
      "server = 'localhost'\n",
      "port = '7474'\n",
      "con_url = 'http://'+username+':'+password+'@'+server+':'+port+'/db/data/'\n",
      "\n",
      "graph = Graph(con_url)\n",
      "\n",
      "#TODO: keep one connection for the entire app or multiple each time??\n",
      "##Wont use this\n",
      "def getGraph():\n",
      "    return graph\n",
      "\n",
      "def entity(graph, crawl_en_id):\n",
      "    query = \"match (n {crawl_en_id:'\"+str(crawl_en_id)+\"'}) return n\"\n",
      "    #print query\n",
      "    rc = graph.cypher.execute(query)\n",
      "    #print rc\n",
      "    if len(rc)==0: return None\n",
      "    return rc[0][0]\n",
      "\n",
      "def relation(graph, crawl_rel_id):\n",
      "    query = \"match ()-[r {crawl_rel_id:'\"+str(crawl_rel_id)+\"'}]-() return r\"\n",
      "    print query\n",
      "    rc = graph.cypher.execute(query)\n",
      "    #print rc\n",
      "    if len(rc)==0: return None\n",
      "    return rc[0][0]\n",
      "\n",
      "\n",
      "##Usage: print entity(graph, '5')\n",
      "##Usage: print relation(graph, '6')\n",
      "\n",
      "##to be called ONLY after safety checks\n",
      "def createNodes(graph, listofnodedicts):\n",
      "    print listofnodedicts\n",
      "    tx = graph.cypher.begin()\n",
      "    for currdict in listofnodedicts:\n",
      "        props = currdict['properties']\n",
      "        if not entity(graph, props['crawl_en_id']) is None:\n",
      "            tx.rollback()\n",
      "            return False, \"Already existing entity ID, nothing pushed\"\n",
      "        createsome = CreateNode(*currdict['labels'],**props)\n",
      "        print createsome\n",
      "        tx.append(createsome)\n",
      "    print tx.process()\n",
      "    print tx.commit()\n",
      "## createNodes(graph, [{'labels':['p','q','r'], 'properties':{'a':'b','c':'d','crawl_en_id':'399'}}])\n",
      "\n",
      "##to be called ONLY after safety checks\n",
      "def createRels(graph, listofreldicts):\n",
      "    tx = graph.cypher.begin()\n",
      "    for rel in listofreldicts:\n",
      "        props = rel['properties']\n",
      "        if not relation(graph, props['crawl_rel_id']) is None: ##it will be a redundant check as all checks are done before pushing\n",
      "            tx.rollback()\n",
      "            return False, \"Already existing relation ID, nothing pushed\"\n",
      "        A = rel['start_entity'] ##will have to modify the ID to suit our needs\n",
      "        B = rel['end_entity'] ##will have to modify the ID to suit our needs\n",
      "        C = rel['label']\n",
      "        D = '{ '\n",
      "        for key in rel['properties']:\n",
      "            D = D + key + ' : \\''+rel['properties'][key]+ '\\', '\n",
      "        D = D[:-2] + ' }' \n",
      "        print D\n",
      "        statement = 'MATCH (a {crawl_en_id:\\'%s\\'}), (b {crawl_en_id:\\'%s\\'}) CREATE (a)-[rtt:%s %s]->(b) return rtt' %(A,B,C,D)\n",
      "        print statement\n",
      "        print tx.append(statement)\n",
      "    print tx.process()\n",
      "    print tx.commit()\n",
      "##Usage:\n",
      "# #createRels(graph, [{\n",
      "#             \"end_entity\": \"2\",\n",
      "#             \"label\": \"worksIn\",\n",
      "#             \"properties\":\n",
      "#             {\n",
      "#                 \"bidirectional\": \"no\",\n",
      "#                 \"crawl_rel_id\": \"rel_NexusToken1_njconn1_1\",\n",
      "#                 \"startdate\": \"01/01/2010\"\n",
      "#             },\n",
      "#             \"start_entity\": \"3\"\n",
      "#         }])\n",
      "\n",
      "\n",
      "## we can take a list of nodedicts and a list of rel dicts\n",
      "## see that node dicts ids not exist already\n",
      "## see that rel dicts ids not exist already\n",
      "## see that start id and end id already in graph db or in the node dict provided\n",
      "## only after this is the post/push safe --> can be done\n",
      "def isSafePost(graph, listOfNodeDicts, listOfRelDicts, token, taskname):\n",
      "    \n",
      "    print '##'\n",
      "    print listOfRelDicts\n",
      "    print '##'\n",
      "    print listOfNodeDicts\n",
      "    print '##'\n",
      "    \n",
      "    print 'Analysing entity ids!'\n",
      "    from sets import Set\n",
      "    currnodekeys = Set()\n",
      "    for nodedict in listOfNodeDicts:\n",
      "        ##check if this exist in graphdb\n",
      "        if not entity(graph, nodedict['properties']['crawl_en_id']) is None:\n",
      "            return False, 'Entity ID: ' + str(nodedict['properties']['crawl_en_id']) + ' already exists in crawl db'\n",
      "        currnodekeys.add(str(nodedict['properties']['crawl_en_id']))\n",
      "        \n",
      "    print currnodekeys\n",
      "        \n",
      "    print 'Analysing relation ids!'\n",
      "    for reldict in listOfRelDicts:\n",
      "        \n",
      "        ##check if this exist in graph db\n",
      "        if not relation(graph, reldict['properties']['crawl_rel_id']) is None:\n",
      "            return False, 'Relation ID: ' + str(reldict['properties']['crawl_rel_id']) + ' already exists in crawl db'\n",
      "        \n",
      "        ##also check start id in nodedict and graphdb\n",
      "        print '-------'\n",
      "        print reldict['start_entity']\n",
      "        print reldict['start_entity'] in currnodekeys\n",
      "        print (entity(graph,reldict['start_entity']) is None)\n",
      "        if (not str(reldict['start_entity']) in currnodekeys) and (entity(graph,str(reldict['start_entity'])) is None):\n",
      "            return False, 'Relation ID: ' + str(reldict['properties']['crawl_rel_id']) + ' has a reference to non-existent Entity ID '+str(reldict['start_entity'])\n",
      "        \n",
      "        ##also check end id in nodedict and graphdb\n",
      "        if (not str(reldict['end_entity']) in currnodekeys) and (entity(graph,str(reldict['end_entity'])) is None):\n",
      "            return False, 'Relation ID: ' + str(reldict['properties']['crawl_rel_id']) + ' has a reference to non-existent Entity ID '+str(reldict['end_entity'])\n",
      "        print reldict['properties']['crawl_rel_id']\n",
      "    return True, \"Success\"\n",
      "\n",
      "\n",
      "def testIsSafePost(graph):\n",
      "    nodeslist = []\n",
      "    relslist = []\n",
      "    startnodeid = 7\n",
      "    startrelid = 200\n",
      "    numnodes = 3\n",
      "    \n",
      "    for i in range(numnodes):\n",
      "        currnode = {}\n",
      "        currnode['labels'] = ['abcd','xyz']\n",
      "        currprops = {}\n",
      "        currprops['name'] = 'name ' + str(startnodeid + i)\n",
      "        currprops['crawl_en_id'] = str(startnodeid + i)\n",
      "        currnode['properties'] = currprops\n",
      "        nodeslist.append(currnode)\n",
      "    #print nodeslist\n",
      "    \n",
      "    for i in range(numnodes+1):\n",
      "        currrel = {}\n",
      "        startid = startnodeid + i\n",
      "        endid = startid + 1\n",
      "        if endid >= (startnodeid + numnodes):\n",
      "            endid = startnodeid\n",
      "        currrel['start_entity'] = startid\n",
      "        currrel['end_entity'] = endid\n",
      "        currrel['label'] = 'relationlabel'\n",
      "        currprops = {}\n",
      "        currprops['startdate'] = '01/01/2000'\n",
      "        currprops['enddate'] = '10/10/2014'\n",
      "        currprops['crawl_rel_id'] = startrelid + i\n",
      "        currrel['properties'] = currprops\n",
      "        relslist.append(currrel)\n",
      "    #print relslist\n",
      "    \n",
      "    return nodeslist, relslist\n",
      "    \n",
      "##Usage: nl, rl = testIsSafePost(graph)\n",
      "##Usage: isSafePost(graph, nl, rl, '', '')"
     ],
     "language": "python",
     "metadata": {},
     "outputs": [
      {
       "output_type": "stream",
       "stream": "stdout",
       "text": [
        "(n39:p:q:r {a:\"b\",c:\"d\",crawl_en_id:\"5\"})\n",
        "match ()-[r {crawl_rel_id:'6'}]-() return r\n",
        "None\n"
       ]
      }
     ],
     "prompt_number": 50
    },
    {
     "cell_type": "code",
     "collapsed": false,
     "input": [
      "def createNodeFromDict(graph, nodedict):\n",
      "    if not entity(graph, nodedict['crawl_en_id']) is None:\n",
      "        return False\n",
      "    else:\n",
      "        node = Node()\n",
      "        print nodedict\n",
      "        for label in nodedict['labels']:\n",
      "            node.labels.add(label)\n",
      "        for prop in nodedict['properties']:\n",
      "            node.properties[prop] = nodedict['properties'][prop]\n",
      "        node['crawl_en_id'] = nodedict['crawl_en_id']\n",
      "        ##TODO: to decide if other props as well\n",
      "        #graph.create()\n",
      "        return True\n",
      "    \n",
      "def tempDict(graph, nodedict):\n",
      "    if not entity(graph, nodedict['crawl_en_id']) is None:\n",
      "        return False\n",
      "    else:\n",
      "        node = Node()\n",
      "        print nodedict\n",
      "        for label in nodedict['labels']:\n",
      "            node.labels.add(label)\n",
      "        for prop in nodedict['properties']:\n",
      "            node.properties[prop] = nodedict['properties'][prop]\n",
      "        node['crawl_en_id'] = nodedict['crawl_en_id']\n",
      "        ##TODO: to decide if other props as well\n",
      "        graph.create()\n",
      "        return True\n",
      "\n",
      "def temp(graph, listOfDicts):\n",
      "    tx = graph.transaction.begin()\n",
      "    tx.commit()\n",
      "    pass\n",
      "\n",
      "createNodeFromDict(graph, {'crawl_en_id':'2','labels':['p','q','r'], 'properties':{'a':'b','c':'d'}})"
     ],
     "language": "python",
     "metadata": {},
     "outputs": []
    },
    {
     "cell_type": "code",
     "collapsed": false,
     "input": [
      "node22 = Node()\n",
      "node22.properties['a']='b'\n",
      "node22"
     ],
     "language": "python",
     "metadata": {},
     "outputs": [
      {
       "metadata": {},
       "output_type": "pyout",
       "prompt_number": 45,
       "text": [
        "<Node labels=set([]) properties={'a': u'b'}>"
       ]
      }
     ],
     "prompt_number": 45
    },
    {
     "cell_type": "code",
     "collapsed": false,
     "input": [],
     "language": "python",
     "metadata": {},
     "outputs": [
      {
       "output_type": "stream",
       "stream": "stdout",
       "text": [
        "[{'labels': ['p', 'q', 'r'], 'properties': {'a': 'b', 'c': 'd', 'crawl_en_id': '399'}}]\n",
        "match (n {crawl_en_id:'399'}) return n\n"
       ]
      },
      {
       "metadata": {},
       "output_type": "pyout",
       "prompt_number": 35,
       "text": [
        "(False, 'Already existing entity ID, nothing pushed')"
       ]
      }
     ],
     "prompt_number": 35
    },
    {
     "cell_type": "code",
     "collapsed": false,
     "input": [],
     "language": "python",
     "metadata": {},
     "outputs": [
      {
       "output_type": "stream",
       "stream": "stdout",
       "text": [
        "match ()-[r {crawl_rel_id:'rel_NexusToken1_njconn1_1'}]-() return r\n"
       ]
      },
      {
       "metadata": {},
       "output_type": "pyout",
       "prompt_number": 32,
       "text": [
        "(False, 'Already existing relation ID, nothing pushed')"
       ]
      }
     ],
     "prompt_number": 32
    },
    {
     "cell_type": "code",
     "collapsed": false,
     "input": [],
     "language": "python",
     "metadata": {},
     "outputs": []
    },
    {
     "cell_type": "code",
     "collapsed": false,
     "input": [],
     "language": "python",
     "metadata": {},
     "outputs": [],
     "prompt_number": 67
    },
    {
     "cell_type": "code",
     "collapsed": false,
     "input": [],
     "language": "python",
     "metadata": {},
     "outputs": [
      {
       "output_type": "stream",
       "stream": "stdout",
       "text": [
        "##\n",
        "[{'properties': {'startdate': '01/01/2000', 'enddate': '10/10/2014', 'crawl_rel_id': 200}, 'end_entity': 8, 'start_entity': 7, 'label': 'relationlabel'}, {'properties': {'startdate': '01/01/2000', 'enddate': '10/10/2014', 'crawl_rel_id': 201}, 'end_entity': 9, 'start_entity': 8, 'label': 'relationlabel'}, {'properties': {'startdate': '01/01/2000', 'enddate': '10/10/2014', 'crawl_rel_id': 202}, 'end_entity': 7, 'start_entity': 9, 'label': 'relationlabel'}, {'properties': {'startdate': '01/01/2000', 'enddate': '10/10/2014', 'crawl_rel_id': 203}, 'end_entity': 7, 'start_entity': 10, 'label': 'relationlabel'}]\n",
        "##\n",
        "[{'labels': ['abcd', 'xyz'], 'properties': {'crawl_en_id': '7', 'name': 'name 7'}}, {'labels': ['abcd', 'xyz'], 'properties': {'crawl_en_id': '8', 'name': 'name 8'}}, {'labels': ['abcd', 'xyz'], 'properties': {'crawl_en_id': '9', 'name': 'name 9'}}]\n",
        "##\n",
        "Analysing entity ids!\n",
        "Set(['9', '8', '7'])\n",
        "Analysing relation ids!\n",
        "match ()-[r {crawl_rel_id:'200'}]-() return r\n",
        "-------\n",
        "7\n",
        "False\n",
        "True\n",
        "200\n",
        "match ()-[r {crawl_rel_id:'201'}]-() return r\n",
        "-------"
       ]
      },
      {
       "output_type": "stream",
       "stream": "stdout",
       "text": [
        "\n",
        "8\n",
        "False\n",
        "True\n",
        "201\n",
        "match ()-[r {crawl_rel_id:'202'}]-() return r\n",
        "-------\n",
        "9\n",
        "False\n",
        "True\n",
        "202\n",
        "match ()-[r {crawl_rel_id:'203'}]-() return r\n",
        "-------\n",
        "10\n",
        "False\n",
        "True\n"
       ]
      },
      {
       "metadata": {},
       "output_type": "pyout",
       "prompt_number": 72,
       "text": [
        "(False, 'Relation ID: 203 has a reference to non-existent Entity ID 10')"
       ]
      }
     ],
     "prompt_number": 72
    },
    {
     "cell_type": "code",
     "collapsed": false,
     "input": [
      "reltt = {\n",
      "            \"end_entity\": \"3\",\n",
      "            \"label\": \"worksIn\",\n",
      "            \"properties\":\n",
      "            {\n",
      "                \"bidirectional\": \"no\",\n",
      "                \"crawl_rel_id\": \"rel_NexusToken1_njconn1_1\",\n",
      "                \"startdate\": \"01/01/2010\"\n",
      "            },\n",
      "            \"start_entity\": \"2\"\n",
      "        }\n",
      "reltt\n",
      "print str(reltt['properties'])"
     ],
     "language": "python",
     "metadata": {},
     "outputs": [
      {
       "output_type": "stream",
       "stream": "stdout",
       "text": [
        "{'bidirectional': 'no', 'startdate': '01/01/2010', 'crawl_rel_id': 'rel_NexusToken1_njconn1_1'}\n"
       ]
      }
     ],
     "prompt_number": 25
    },
    {
     "cell_type": "code",
     "collapsed": false,
     "input": [
      "\n",
      "someset.add('100')\n",
      "someset.add('102')\n",
      "someset\n",
      "'100' in someset"
     ],
     "language": "python",
     "metadata": {},
     "outputs": [
      {
       "metadata": {},
       "output_type": "pyout",
       "prompt_number": 64,
       "text": [
        "True"
       ]
      }
     ],
     "prompt_number": 64
    },
    {
     "cell_type": "code",
     "collapsed": false,
     "input": [
      "txtt = graph.cypher.begin()\n",
      "A = reltt['start_entity'] ##will have to modify the ID to suit our needs\n",
      "B = reltt['end_entity'] ##will have to modify the ID to suit our needs\n",
      "C = reltt['label']\n",
      "D = '{ '\n",
      "for key in reltt['properties']:\n",
      "    D = D + key + ' : \\''+reltt['properties'][key]+ '\\', '\n",
      "D = D[:-2] + ' }' \n",
      "print D\n",
      "statement = 'MATCH (a {crawl_en_id:\\'%s\\'}), (b {crawl_en_id:\\'%s\\'}) CREATE (a)-[rtt:%s %s]->(b) return rtt' %(A,B,C,D)\n",
      "print statement\n",
      "print txtt.append(statement)\n",
      "print txtt.commit()"
     ],
     "language": "python",
     "metadata": {},
     "outputs": [
      {
       "output_type": "stream",
       "stream": "stdout",
       "text": [
        "{ bidirectional : 'no', startdate : '01/01/2010', crawl_rel_id : 'rel_NexusToken1_njconn1_1' }\n",
        "MATCH (a {crawl_en_id:'2'}), (b {crawl_en_id:'3'}) CREATE (a)-[rtt:worksIn { bidirectional : 'no', startdate : '01/01/2010', crawl_rel_id : 'rel_NexusToken1_njconn1_1' }]->(b) return rtt\n",
        "None\n",
        "   | rtt                                                                                                                                                                           \n",
        "---+--------------------------------------------------------------------------------------------------------------------------------------------------------------------------------\n",
        " 1 | (:p:q:r {a:\"b\",c:\"d\",crawl_en_id:\"2\"})-[r0:worksIn {bidirectional:\"no\",crawl_rel_id:\"rel_NexusToken1_njconn1_1\",startdate:\"01/01/2010\"}]->(:p:q {a:\"b\",crawl_en_id:\"3\",e:\"d\"})\n"
       ]
      },
      {
       "output_type": "stream",
       "stream": "stdout",
       "text": [
        "\n"
       ]
      }
     ],
     "prompt_number": 26
    }
   ],
   "metadata": {}
  }
 ]
}