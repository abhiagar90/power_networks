{
 "metadata": {
  "name": "",
  "signature": "sha256:8d5999b14fe71e181075cdc29ba6c7a7ea0a430be302d9d1b956f6a3707a980f"
 },
 "nbformat": 3,
 "nbformat_minor": 0,
 "worksheets": [
  {
   "cells": [
    {
     "cell_type": "code",
     "collapsed": false,
     "input": [
      "from py2neo import Graph, Node, Relationship\n",
      "\n",
      "username = 'neo4j'\n",
      "password = 'yoyo'\n",
      "server = 'localhost'\n",
      "port = '7474'\n",
      "con_url = 'http://'+username+':'+password+'@'+server+':'+port+'/db/data/'\n",
      "\n",
      "graph = Graph(con_url)"
     ],
     "language": "python",
     "metadata": {},
     "outputs": [],
     "prompt_number": 3
    },
    {
     "cell_type": "code",
     "collapsed": false,
     "input": [
      "def processDirector(din):\n",
      "    din=str(din)\n",
      "    q = \"MATCH (p:businessperson {din:'\"+din+\"'}) RETURN p\"\n",
      "    keywords = '\"'\n",
      "    comp = graph.cypher.execute(q)\n",
      "    comp = comp[0][0]\n",
      "    for prop in comp.properties:\n",
      "        currvalue = comp.properties[prop]\n",
      "        if len(currvalue)>3:\n",
      "            keywords = keywords + \"'\" +currvalue + \"',\"\n",
      "    \n",
      "    \n",
      "    q = \"match (n:businessperson {din:'\"+din+\"'})-[r]-(p) return p\"\n",
      "    rels = graph.cypher.execute(q)\n",
      "    for rel in rels:\n",
      "        rel =  rel[0]\n",
      "        keywords = keywords + \"'\" +rel.properties['name'] + \"',\"\n",
      "    keywords = keywords + '\"'\n",
      "    \n",
      "    labels = '\"'\n",
      "    for label in list(comp.labels):\n",
      "        labels = labels +\"'\"+label + \"',\"\n",
      "    labels=labels + '\"'\n",
      "    \n",
      "    aliases = '\"'\n",
      "    \n",
      "    aliases = aliases + \"'\"+comp.properties['name'] +\"',\"\n",
      "    aliases=aliases + '\"'\n",
      "    #rint aliases\n",
      "    \n",
      "    #print aliases\n",
      "    \n",
      "    name = '\"'+comp.properties['name']+'\"'\n",
      "    \n",
      "    return name, labels, aliases, keywords\n",
      "processDirector('00000001')"
     ],
     "language": "python",
     "metadata": {},
     "outputs": [
      {
       "metadata": {},
       "output_type": "pyout",
       "prompt_number": 67,
       "text": [
        "(u'\"RATAN NAVAL TATA\"',\n",
        " u'\"\\'businessperson\\',\"',\n",
        " u'\"\\'RATAN NAVAL TATA\\',\"',\n",
        " u'\"\\'00000001\\',\\'RATAN NAVAL TATA\\',\\'TATA FOUNDATION\\',\\'RNT ASSOCIATES PRIVATE LIMITED\\',\"')"
       ]
      }
     ],
     "prompt_number": 67
    },
    {
     "cell_type": "code",
     "collapsed": false,
     "input": [
      "def processCompany(cin):\n",
      "    cin=str(cin)\n",
      "    q = \"MATCH (p:company {cin:'\"+cin+\"'}) RETURN p\"\n",
      "    keywords = '\"'\n",
      "    comp = graph.cypher.execute(q)\n",
      "    comp = comp[0][0]\n",
      "    for prop in comp.properties:\n",
      "        currvalue = comp.properties[prop]\n",
      "        if len(currvalue)>3:\n",
      "            keywords = keywords + \"'\" +currvalue + \"',\"\n",
      "    \n",
      "    #print keywords\n",
      "    \n",
      "    q = \"match (n:company {cin:'\"+cin+\"'})-[r]-(p) return p\"\n",
      "    #print q\n",
      "    rels = graph.cypher.execute(q)\n",
      "    for rel in rels:\n",
      "        rel =  rel[0]\n",
      "        keywords = keywords + \"'\" +rel.properties['name'] + \"',\"\n",
      "    keywords = keywords + '\"'\n",
      "    #print keywords\n",
      "    \n",
      "    labels = '\"'\n",
      "    for label in list(comp.labels):\n",
      "        labels = labels +\"'\"+label + \"',\"\n",
      "    labels=labels + '\"'\n",
      "    #print labels\n",
      "    \n",
      "    aliases = '\"'\n",
      "    \n",
      "    aliases = aliases + \"'\"+comp.properties['name'] +\"',\"\n",
      "    aliases=aliases + '\"'\n",
      "    #rint aliases\n",
      "    \n",
      "    #print aliases\n",
      "    \n",
      "    name = '\"'+comp.properties['name']+'\"'\n",
      "    return name, labels, aliases, keywords\n",
      "    \n",
      "processCompany('L01116KL1912PLC000126')"
     ],
     "language": "python",
     "metadata": {},
     "outputs": [
      {
       "metadata": {},
       "output_type": "pyout",
       "prompt_number": 68,
       "text": [
        "(u'\"THE BE BE RUBBER ESTATES LTD\"',\n",
        " u'\"\\'company\\',\"',\n",
        " u'\"\\'THE BE BE RUBBER ESTATES LTD\\',\"',\n",
        " u'\"\\'Active\\',\\'Company limited by shares\\',\\'16/08/1912\\',\\'Indian Non-Government Company\\',\\'Registrar of Company-Ernakulam\\',\\'866115.00\\',\\'Listed\\',\\'L01116KL1912PLC000126\\',\\'THE BE BE RUBBER ESTATES LTD\\',\\'000126\\',\\'10000000.00\\',\\'B B ESTATE OFFICE BLDGP B NO 10 PUNALUR KOLLAM Kerala INDIA 691305\\',\\'Public\\',\\'bebebhavani.plr@gmail.com\\',\\'Agriculture and Allied Activities\\',\\'ALEN OOMMEN\\',\\'GEORGE PUTHENMALYKAYIL JOHN\\',\\'PRASAD OOMMEN\\',\\'ROHAN KURIEN OOMMEN\\',\\'MERCY OOMMEN\\',\\'KRISHNAMOORTHY RAGHU\\',\\'KRISHNAMOORTHYRAO MURALIMOHAN\\',\"')"
       ]
      }
     ],
     "prompt_number": 68
    },
    {
     "cell_type": "code",
     "collapsed": false,
     "input": [
      "uuid = 1\n",
      "filename = 'sabkuchcrazy.csv'\n",
      "filename = open(filename, 'w')\n",
      "\n",
      "\n",
      "##generate csvs with all that we have thought!\n",
      "for n in graph.cypher.execute(\"match (n:company) return n.cin\"):\n",
      "    #do something with node here\n",
      "    currcin = n[0]\n",
      "    name, labels, aliases, keywords = processCompany(currcin)\n",
      "    towrite = str(uuid)+';'+name+';'+labels+';'+aliases+';'+keywords+\"\\n\"\n",
      "    filename.write(towrite)\n",
      "    print uuid,\n",
      "    uuid = uuid + 1\n",
      "    \n",
      "for n in graph.cypher.execute(\"match (n:businessperson) return n.din\"):\n",
      "    #do something with node here\n",
      "    currdin = n[0]\n",
      "    name, labels, aliases, keywords = processDirector(currdin)\n",
      "    towrite = str(uuid)+';'+name+';'+labels+';'+aliases+';'+keywords+\"\\n\"\n",
      "    filename.write(towrite)\n",
      "    #print str(uuid)+';'+name+';'+labels+';'+aliases+';'+keywords\n",
      "    print uuid,\n",
      "    uuid = uuid + 1\n",
      "\n",
      "filename.close()\n",
      "print uuid\n",
      "\n",
      "\n",
      "\n",
      "\n"
     ],
     "language": "python",
     "metadata": {},
     "outputs": [
      {
       "output_type": "stream",
       "stream": "stdout",
       "text": [
        "1 2 "
       ]
      },
      {
       "output_type": "stream",
       "stream": "stdout",
       "text": [
        "3 4 "
       ]
      },
      {
       "output_type": "stream",
       "stream": "stdout",
       "text": [
        "5 6 "
       ]
      },
      {
       "output_type": "stream",
       "stream": "stdout",
       "text": [
        "7 8 "
       ]
      },
      {
       "output_type": "stream",
       "stream": "stdout",
       "text": [
        "9 10 "
       ]
      },
      {
       "output_type": "stream",
       "stream": "stdout",
       "text": [
        "11 12 "
       ]
      },
      {
       "output_type": "stream",
       "stream": "stdout",
       "text": [
        "13 14 "
       ]
      },
      {
       "output_type": "stream",
       "stream": "stdout",
       "text": [
        "15 16 17 "
       ]
      },
      {
       "output_type": "stream",
       "stream": "stdout",
       "text": [
        "18 19 20 "
       ]
      },
      {
       "output_type": "stream",
       "stream": "stdout",
       "text": [
        "21 22 23 "
       ]
      },
      {
       "output_type": "stream",
       "stream": "stdout",
       "text": [
        "24 25 "
       ]
      },
      {
       "output_type": "stream",
       "stream": "stdout",
       "text": [
        "26 27 "
       ]
      },
      {
       "output_type": "stream",
       "stream": "stdout",
       "text": [
        "28 29 "
       ]
      },
      {
       "output_type": "stream",
       "stream": "stdout",
       "text": [
        "30 31 32 "
       ]
      },
      {
       "output_type": "stream",
       "stream": "stdout",
       "text": [
        "33 34 35 "
       ]
      },
      {
       "output_type": "stream",
       "stream": "stdout",
       "text": [
        "36 37 38 "
       ]
      },
      {
       "output_type": "stream",
       "stream": "stdout",
       "text": [
        "39 40 "
       ]
      },
      {
       "output_type": "stream",
       "stream": "stdout",
       "text": [
        "41 42 43 "
       ]
      },
      {
       "output_type": "stream",
       "stream": "stdout",
       "text": [
        "44 45 46 "
       ]
      },
      {
       "output_type": "stream",
       "stream": "stdout",
       "text": [
        "47 48 "
       ]
      },
      {
       "output_type": "stream",
       "stream": "stdout",
       "text": [
        "49 50 51 "
       ]
      },
      {
       "output_type": "stream",
       "stream": "stdout",
       "text": [
        "52 53 54 "
       ]
      },
      {
       "output_type": "stream",
       "stream": "stdout",
       "text": [
        "55 56 57 "
       ]
      },
      {
       "output_type": "stream",
       "stream": "stdout",
       "text": [
        "58 59 60"
       ]
      },
      {
       "output_type": "stream",
       "stream": "stdout",
       "text": [
        " 61 62 63 "
       ]
      },
      {
       "output_type": "stream",
       "stream": "stdout",
       "text": [
        "64 65 66 "
       ]
      },
      {
       "output_type": "stream",
       "stream": "stdout",
       "text": [
        "67 68 69 "
       ]
      },
      {
       "output_type": "stream",
       "stream": "stdout",
       "text": [
        "70 71 "
       ]
      },
      {
       "output_type": "stream",
       "stream": "stdout",
       "text": [
        "72 73 74 "
       ]
      },
      {
       "output_type": "stream",
       "stream": "stdout",
       "text": [
        "75 76 77 "
       ]
      },
      {
       "output_type": "stream",
       "stream": "stdout",
       "text": [
        "78 79 "
       ]
      },
      {
       "output_type": "stream",
       "stream": "stdout",
       "text": [
        "80 81 82 "
       ]
      },
      {
       "output_type": "stream",
       "stream": "stdout",
       "text": [
        "83 84 "
       ]
      },
      {
       "output_type": "stream",
       "stream": "stdout",
       "text": [
        "85 86 87 "
       ]
      },
      {
       "output_type": "stream",
       "stream": "stdout",
       "text": [
        "88 89 90 "
       ]
      },
      {
       "output_type": "stream",
       "stream": "stdout",
       "text": [
        "91 92 93 "
       ]
      },
      {
       "output_type": "stream",
       "stream": "stdout",
       "text": [
        "94 95 96 "
       ]
      },
      {
       "output_type": "stream",
       "stream": "stdout",
       "text": [
        "97 98 99 "
       ]
      },
      {
       "output_type": "stream",
       "stream": "stdout",
       "text": [
        "100 101 "
       ]
      },
      {
       "output_type": "stream",
       "stream": "stdout",
       "text": [
        "102 103 104 "
       ]
      },
      {
       "output_type": "stream",
       "stream": "stdout",
       "text": [
        "105 106 107 "
       ]
      },
      {
       "output_type": "stream",
       "stream": "stdout",
       "text": [
        "108 109 110 "
       ]
      },
      {
       "output_type": "stream",
       "stream": "stdout",
       "text": [
        "111 112 113 "
       ]
      },
      {
       "output_type": "stream",
       "stream": "stdout",
       "text": [
        "114 115 116 "
       ]
      },
      {
       "output_type": "stream",
       "stream": "stdout",
       "text": [
        "117 118 119 "
       ]
      },
      {
       "output_type": "stream",
       "stream": "stdout",
       "text": [
        "120 121 122 "
       ]
      },
      {
       "output_type": "stream",
       "stream": "stdout",
       "text": [
        "123 124 125 "
       ]
      },
      {
       "output_type": "stream",
       "stream": "stdout",
       "text": [
        "126 127 "
       ]
      },
      {
       "output_type": "stream",
       "stream": "stdout",
       "text": [
        "128 129 130 "
       ]
      },
      {
       "output_type": "stream",
       "stream": "stdout",
       "text": [
        "131 132 133 "
       ]
      },
      {
       "output_type": "stream",
       "stream": "stdout",
       "text": [
        "134 135 "
       ]
      },
      {
       "output_type": "stream",
       "stream": "stdout",
       "text": [
        "136 137 138 "
       ]
      },
      {
       "output_type": "stream",
       "stream": "stdout",
       "text": [
        "139 140 141 "
       ]
      },
      {
       "output_type": "stream",
       "stream": "stdout",
       "text": [
        "142 143 144 "
       ]
      },
      {
       "output_type": "stream",
       "stream": "stdout",
       "text": [
        "145 146 147 "
       ]
      },
      {
       "output_type": "stream",
       "stream": "stdout",
       "text": [
        "148 149 150 "
       ]
      },
      {
       "output_type": "stream",
       "stream": "stdout",
       "text": [
        "151 152 153 "
       ]
      },
      {
       "output_type": "stream",
       "stream": "stdout",
       "text": [
        "154 155 156 "
       ]
      },
      {
       "output_type": "stream",
       "stream": "stdout",
       "text": [
        "157 158 159 "
       ]
      },
      {
       "output_type": "stream",
       "stream": "stdout",
       "text": [
        "160 161 162 "
       ]
      },
      {
       "output_type": "stream",
       "stream": "stdout",
       "text": [
        "163 164 "
       ]
      },
      {
       "output_type": "stream",
       "stream": "stdout",
       "text": [
        "165 166 167 "
       ]
      },
      {
       "output_type": "stream",
       "stream": "stdout",
       "text": [
        "168 169 170 "
       ]
      },
      {
       "output_type": "stream",
       "stream": "stdout",
       "text": [
        "171 172 173 "
       ]
      },
      {
       "output_type": "stream",
       "stream": "stdout",
       "text": [
        "174 175 176 "
       ]
      },
      {
       "output_type": "stream",
       "stream": "stdout",
       "text": [
        "177 178 179 "
       ]
      },
      {
       "output_type": "stream",
       "stream": "stdout",
       "text": [
        "180 181 182 "
       ]
      },
      {
       "output_type": "stream",
       "stream": "stdout",
       "text": [
        "183 184 185 "
       ]
      },
      {
       "output_type": "stream",
       "stream": "stdout",
       "text": [
        "186 187 188 "
       ]
      },
      {
       "output_type": "stream",
       "stream": "stdout",
       "text": [
        "189 190 191 "
       ]
      },
      {
       "output_type": "stream",
       "stream": "stdout",
       "text": [
        "192 193 194 "
       ]
      },
      {
       "output_type": "stream",
       "stream": "stdout",
       "text": [
        "195 196 197 "
       ]
      },
      {
       "output_type": "stream",
       "stream": "stdout",
       "text": [
        "198 199 200 "
       ]
      },
      {
       "output_type": "stream",
       "stream": "stdout",
       "text": [
        "201 202 203 "
       ]
      },
      {
       "output_type": "stream",
       "stream": "stdout",
       "text": [
        "204 205 "
       ]
      },
      {
       "output_type": "stream",
       "stream": "stdout",
       "text": [
        "206 207 208 "
       ]
      },
      {
       "output_type": "stream",
       "stream": "stdout",
       "text": [
        "209 210 211 "
       ]
      },
      {
       "output_type": "stream",
       "stream": "stdout",
       "text": [
        "212 213 214 "
       ]
      },
      {
       "output_type": "stream",
       "stream": "stdout",
       "text": [
        "215 216 217 "
       ]
      },
      {
       "output_type": "stream",
       "stream": "stdout",
       "text": [
        "218 219 "
       ]
      },
      {
       "output_type": "stream",
       "stream": "stdout",
       "text": [
        "220 221 "
       ]
      },
      {
       "output_type": "stream",
       "stream": "stdout",
       "text": [
        "222 223 224 "
       ]
      },
      {
       "output_type": "stream",
       "stream": "stdout",
       "text": [
        "225 226 227 "
       ]
      },
      {
       "output_type": "stream",
       "stream": "stdout",
       "text": [
        "228 229 230 "
       ]
      },
      {
       "output_type": "stream",
       "stream": "stdout",
       "text": [
        "231 232 233 "
       ]
      },
      {
       "output_type": "stream",
       "stream": "stdout",
       "text": [
        "234 235 236 "
       ]
      },
      {
       "output_type": "stream",
       "stream": "stdout",
       "text": [
        "237 238 "
       ]
      },
      {
       "output_type": "stream",
       "stream": "stdout",
       "text": [
        "239 240 241 "
       ]
      },
      {
       "output_type": "stream",
       "stream": "stdout",
       "text": [
        "242 243 244 "
       ]
      },
      {
       "output_type": "stream",
       "stream": "stdout",
       "text": [
        "245 246 247 "
       ]
      },
      {
       "output_type": "stream",
       "stream": "stdout",
       "text": [
        "248 249 250 "
       ]
      },
      {
       "output_type": "stream",
       "stream": "stdout",
       "text": [
        "251 252 253 "
       ]
      },
      {
       "output_type": "stream",
       "stream": "stdout",
       "text": [
        "254 255 256 "
       ]
      },
      {
       "output_type": "stream",
       "stream": "stdout",
       "text": [
        "257 258 259 "
       ]
      },
      {
       "output_type": "stream",
       "stream": "stdout",
       "text": [
        "260 261 262 263 "
       ]
      },
      {
       "output_type": "stream",
       "stream": "stdout",
       "text": [
        "264 265 266 "
       ]
      },
      {
       "output_type": "stream",
       "stream": "stdout",
       "text": [
        "267 268 269 "
       ]
      },
      {
       "output_type": "stream",
       "stream": "stdout",
       "text": [
        "270 271 272 273 "
       ]
      },
      {
       "output_type": "stream",
       "stream": "stdout",
       "text": [
        "274 275 276 "
       ]
      },
      {
       "output_type": "stream",
       "stream": "stdout",
       "text": [
        "277 278 279 "
       ]
      },
      {
       "output_type": "stream",
       "stream": "stdout",
       "text": [
        "280 281 282 "
       ]
      },
      {
       "output_type": "stream",
       "stream": "stdout",
       "text": [
        "283 284 285 "
       ]
      },
      {
       "output_type": "stream",
       "stream": "stdout",
       "text": [
        "286 287 288 289 "
       ]
      },
      {
       "output_type": "stream",
       "stream": "stdout",
       "text": [
        "290 291 "
       ]
      },
      {
       "output_type": "stream",
       "stream": "stdout",
       "text": [
        "292 293 "
       ]
      },
      {
       "output_type": "stream",
       "stream": "stdout",
       "text": [
        "294 295 296 "
       ]
      },
      {
       "output_type": "stream",
       "stream": "stdout",
       "text": [
        "297 298 299 "
       ]
      },
      {
       "output_type": "stream",
       "stream": "stdout",
       "text": [
        "300 301 302 "
       ]
      },
      {
       "output_type": "stream",
       "stream": "stdout",
       "text": [
        "303 304 305 "
       ]
      },
      {
       "output_type": "stream",
       "stream": "stdout",
       "text": [
        "306 307 308 "
       ]
      },
      {
       "output_type": "stream",
       "stream": "stdout",
       "text": [
        "309 310 311 "
       ]
      },
      {
       "output_type": "stream",
       "stream": "stdout",
       "text": [
        "312 313 314 "
       ]
      },
      {
       "output_type": "stream",
       "stream": "stdout",
       "text": [
        "315 316 317 "
       ]
      },
      {
       "output_type": "stream",
       "stream": "stdout",
       "text": [
        "318 319 320 "
       ]
      },
      {
       "output_type": "stream",
       "stream": "stdout",
       "text": [
        "321 322 323 "
       ]
      },
      {
       "output_type": "stream",
       "stream": "stdout",
       "text": [
        "324 325 326 "
       ]
      },
      {
       "output_type": "stream",
       "stream": "stdout",
       "text": [
        "327 328 329 "
       ]
      },
      {
       "output_type": "stream",
       "stream": "stdout",
       "text": [
        "330 331 332 "
       ]
      },
      {
       "output_type": "stream",
       "stream": "stdout",
       "text": [
        "333 334 335 "
       ]
      },
      {
       "output_type": "stream",
       "stream": "stdout",
       "text": [
        "336 337 338 "
       ]
      },
      {
       "output_type": "stream",
       "stream": "stdout",
       "text": [
        "339 340 "
       ]
      },
      {
       "output_type": "stream",
       "stream": "stdout",
       "text": [
        "341 342 343 "
       ]
      },
      {
       "output_type": "stream",
       "stream": "stdout",
       "text": [
        "344 345 346 "
       ]
      },
      {
       "output_type": "stream",
       "stream": "stdout",
       "text": [
        "347 348 349 350 "
       ]
      },
      {
       "output_type": "stream",
       "stream": "stdout",
       "text": [
        "351 352 353 "
       ]
      },
      {
       "output_type": "stream",
       "stream": "stdout",
       "text": [
        "354 355 356 "
       ]
      },
      {
       "output_type": "stream",
       "stream": "stdout",
       "text": [
        "357 358 359 "
       ]
      },
      {
       "output_type": "stream",
       "stream": "stdout",
       "text": [
        "360 361 362 "
       ]
      },
      {
       "output_type": "stream",
       "stream": "stdout",
       "text": [
        "363 364 365 "
       ]
      },
      {
       "output_type": "stream",
       "stream": "stdout",
       "text": [
        "366 367 368 "
       ]
      },
      {
       "output_type": "stream",
       "stream": "stdout",
       "text": [
        "369 370 371 372 "
       ]
      },
      {
       "output_type": "stream",
       "stream": "stdout",
       "text": [
        "373 374 375 "
       ]
      },
      {
       "output_type": "stream",
       "stream": "stdout",
       "text": [
        "376 377 "
       ]
      },
      {
       "output_type": "stream",
       "stream": "stdout",
       "text": [
        "378 379 380 381 "
       ]
      },
      {
       "output_type": "stream",
       "stream": "stdout",
       "text": [
        "382 383 384 385 "
       ]
      },
      {
       "output_type": "stream",
       "stream": "stdout",
       "text": [
        "386 387 388 "
       ]
      },
      {
       "output_type": "stream",
       "stream": "stdout",
       "text": [
        "389 390 391 "
       ]
      },
      {
       "output_type": "stream",
       "stream": "stdout",
       "text": [
        "392 393 394 "
       ]
      },
      {
       "output_type": "stream",
       "stream": "stdout",
       "text": [
        "395 396 397 "
       ]
      },
      {
       "output_type": "stream",
       "stream": "stdout",
       "text": [
        "398 399 400 "
       ]
      },
      {
       "output_type": "stream",
       "stream": "stdout",
       "text": [
        "401 402 403 "
       ]
      },
      {
       "output_type": "stream",
       "stream": "stdout",
       "text": [
        "404 405 406 "
       ]
      },
      {
       "output_type": "stream",
       "stream": "stdout",
       "text": [
        "407 408 409 "
       ]
      },
      {
       "output_type": "stream",
       "stream": "stdout",
       "text": [
        "410 411 412 "
       ]
      },
      {
       "output_type": "stream",
       "stream": "stdout",
       "text": [
        "413 414 415 "
       ]
      },
      {
       "output_type": "stream",
       "stream": "stdout",
       "text": [
        "416 417 418 "
       ]
      },
      {
       "output_type": "stream",
       "stream": "stdout",
       "text": [
        "419 420 421 422 "
       ]
      },
      {
       "output_type": "stream",
       "stream": "stdout",
       "text": [
        "423 424 425 "
       ]
      },
      {
       "output_type": "stream",
       "stream": "stdout",
       "text": [
        "426 427 428 429 "
       ]
      },
      {
       "output_type": "stream",
       "stream": "stdout",
       "text": [
        "430 431 432 "
       ]
      },
      {
       "output_type": "stream",
       "stream": "stdout",
       "text": [
        "433 434 435 "
       ]
      },
      {
       "output_type": "stream",
       "stream": "stdout",
       "text": [
        "436 437 438 "
       ]
      },
      {
       "output_type": "stream",
       "stream": "stdout",
       "text": [
        "439 440 441 "
       ]
      },
      {
       "output_type": "stream",
       "stream": "stdout",
       "text": [
        "442 443 444 445 "
       ]
      },
      {
       "output_type": "stream",
       "stream": "stdout",
       "text": [
        "446 447 448 "
       ]
      },
      {
       "output_type": "stream",
       "stream": "stdout",
       "text": [
        "449 450 451 "
       ]
      },
      {
       "output_type": "stream",
       "stream": "stdout",
       "text": [
        "452 453 454 "
       ]
      },
      {
       "output_type": "stream",
       "stream": "stdout",
       "text": [
        "455 456 457 "
       ]
      },
      {
       "output_type": "stream",
       "stream": "stdout",
       "text": [
        "458 459 460 "
       ]
      },
      {
       "output_type": "stream",
       "stream": "stdout",
       "text": [
        "461 462 463 "
       ]
      },
      {
       "output_type": "stream",
       "stream": "stdout",
       "text": [
        "464 465 466 "
       ]
      },
      {
       "output_type": "stream",
       "stream": "stdout",
       "text": [
        "467 468 469 "
       ]
      },
      {
       "output_type": "stream",
       "stream": "stdout",
       "text": [
        "470 471 472 "
       ]
      },
      {
       "output_type": "stream",
       "stream": "stdout",
       "text": [
        "473 474 475 "
       ]
      },
      {
       "output_type": "stream",
       "stream": "stdout",
       "text": [
        "476 477 478 "
       ]
      },
      {
       "output_type": "stream",
       "stream": "stdout",
       "text": [
        "479 480 481 "
       ]
      },
      {
       "output_type": "stream",
       "stream": "stdout",
       "text": [
        "482 483 484 "
       ]
      },
      {
       "output_type": "stream",
       "stream": "stdout",
       "text": [
        "485 486 487 "
       ]
      },
      {
       "output_type": "stream",
       "stream": "stdout",
       "text": [
        "488 489 490 "
       ]
      },
      {
       "output_type": "stream",
       "stream": "stdout",
       "text": [
        "491 492 493 "
       ]
      },
      {
       "output_type": "stream",
       "stream": "stdout",
       "text": [
        "494 495 496 "
       ]
      },
      {
       "output_type": "stream",
       "stream": "stdout",
       "text": [
        "497 498 499 500 "
       ]
      },
      {
       "output_type": "stream",
       "stream": "stdout",
       "text": [
        "501 502 503 "
       ]
      },
      {
       "output_type": "stream",
       "stream": "stdout",
       "text": [
        "504 505 506 "
       ]
      },
      {
       "output_type": "stream",
       "stream": "stdout",
       "text": [
        "507 508 509 "
       ]
      },
      {
       "output_type": "stream",
       "stream": "stdout",
       "text": [
        "510 511 512 "
       ]
      },
      {
       "output_type": "stream",
       "stream": "stdout",
       "text": [
        "513 514 515 "
       ]
      },
      {
       "output_type": "stream",
       "stream": "stdout",
       "text": [
        "516 517 518 "
       ]
      },
      {
       "output_type": "stream",
       "stream": "stdout",
       "text": [
        "519 520 521 "
       ]
      },
      {
       "output_type": "stream",
       "stream": "stdout",
       "text": [
        "522 523 524 "
       ]
      },
      {
       "output_type": "stream",
       "stream": "stdout",
       "text": [
        "525 526 527 528 "
       ]
      },
      {
       "output_type": "stream",
       "stream": "stdout",
       "text": [
        "529 530 531 "
       ]
      },
      {
       "output_type": "stream",
       "stream": "stdout",
       "text": [
        "532 533 534 "
       ]
      },
      {
       "output_type": "stream",
       "stream": "stdout",
       "text": [
        "535 536 "
       ]
      },
      {
       "output_type": "stream",
       "stream": "stdout",
       "text": [
        "537 538 539 "
       ]
      },
      {
       "output_type": "stream",
       "stream": "stdout",
       "text": [
        "540 541 542 "
       ]
      },
      {
       "output_type": "stream",
       "stream": "stdout",
       "text": [
        "543 544 545 "
       ]
      },
      {
       "output_type": "stream",
       "stream": "stdout",
       "text": [
        "546 547 548 "
       ]
      },
      {
       "output_type": "stream",
       "stream": "stdout",
       "text": [
        "549 550 551 552 "
       ]
      },
      {
       "output_type": "stream",
       "stream": "stdout",
       "text": [
        "553 554 555 "
       ]
      },
      {
       "output_type": "stream",
       "stream": "stdout",
       "text": [
        "556 557 558 "
       ]
      },
      {
       "output_type": "stream",
       "stream": "stdout",
       "text": [
        "559 560 561 "
       ]
      },
      {
       "output_type": "stream",
       "stream": "stdout",
       "text": [
        "562 563 564 "
       ]
      },
      {
       "output_type": "stream",
       "stream": "stdout",
       "text": [
        "565 566 567 "
       ]
      },
      {
       "output_type": "stream",
       "stream": "stdout",
       "text": [
        "568 569 570 "
       ]
      },
      {
       "output_type": "stream",
       "stream": "stdout",
       "text": [
        "571 572 573 "
       ]
      },
      {
       "output_type": "stream",
       "stream": "stdout",
       "text": [
        "574 575 576 "
       ]
      },
      {
       "output_type": "stream",
       "stream": "stdout",
       "text": [
        "577 578 579 "
       ]
      },
      {
       "output_type": "stream",
       "stream": "stdout",
       "text": [
        "580 581 582 "
       ]
      },
      {
       "output_type": "stream",
       "stream": "stdout",
       "text": [
        "583 584 585 "
       ]
      },
      {
       "output_type": "stream",
       "stream": "stdout",
       "text": [
        "586 587 588 "
       ]
      },
      {
       "output_type": "stream",
       "stream": "stdout",
       "text": [
        "589 590 591 "
       ]
      },
      {
       "output_type": "stream",
       "stream": "stdout",
       "text": [
        "592 593 594 "
       ]
      },
      {
       "output_type": "stream",
       "stream": "stdout",
       "text": [
        "595 596 597 "
       ]
      },
      {
       "output_type": "stream",
       "stream": "stdout",
       "text": [
        "598 599 600 "
       ]
      },
      {
       "output_type": "stream",
       "stream": "stdout",
       "text": [
        "601 602 603 604 "
       ]
      },
      {
       "output_type": "stream",
       "stream": "stdout",
       "text": [
        "605 606 607 "
       ]
      },
      {
       "output_type": "stream",
       "stream": "stdout",
       "text": [
        "608 609 610 "
       ]
      },
      {
       "output_type": "stream",
       "stream": "stdout",
       "text": [
        "611 612 613 "
       ]
      },
      {
       "output_type": "stream",
       "stream": "stdout",
       "text": [
        "614 615 616 "
       ]
      },
      {
       "output_type": "stream",
       "stream": "stdout",
       "text": [
        "617 618 619 "
       ]
      },
      {
       "output_type": "stream",
       "stream": "stdout",
       "text": [
        "620 621 622 "
       ]
      },
      {
       "output_type": "stream",
       "stream": "stdout",
       "text": [
        "623 624 625 626 "
       ]
      },
      {
       "output_type": "stream",
       "stream": "stdout",
       "text": [
        "627 628 629 "
       ]
      },
      {
       "output_type": "stream",
       "stream": "stdout",
       "text": [
        "630 631 632 "
       ]
      },
      {
       "output_type": "stream",
       "stream": "stdout",
       "text": [
        "633 634 635 "
       ]
      },
      {
       "output_type": "stream",
       "stream": "stdout",
       "text": [
        "636 637 638 639 "
       ]
      },
      {
       "output_type": "stream",
       "stream": "stdout",
       "text": [
        "640 641 642 "
       ]
      },
      {
       "output_type": "stream",
       "stream": "stdout",
       "text": [
        "643 644 645 "
       ]
      },
      {
       "output_type": "stream",
       "stream": "stdout",
       "text": [
        "646 647 648 "
       ]
      },
      {
       "output_type": "stream",
       "stream": "stdout",
       "text": [
        "649 650 651 "
       ]
      },
      {
       "output_type": "stream",
       "stream": "stdout",
       "text": [
        "652 653 654 655 "
       ]
      },
      {
       "output_type": "stream",
       "stream": "stdout",
       "text": [
        "656 657 658 "
       ]
      },
      {
       "output_type": "stream",
       "stream": "stdout",
       "text": [
        "659 660 661 "
       ]
      },
      {
       "output_type": "stream",
       "stream": "stdout",
       "text": [
        "662 663 664 "
       ]
      },
      {
       "output_type": "stream",
       "stream": "stdout",
       "text": [
        "665 666 667 668 "
       ]
      },
      {
       "output_type": "stream",
       "stream": "stdout",
       "text": [
        "669 670 671 "
       ]
      },
      {
       "output_type": "stream",
       "stream": "stdout",
       "text": [
        "672 673 674 "
       ]
      },
      {
       "output_type": "stream",
       "stream": "stdout",
       "text": [
        "675 676 677 "
       ]
      },
      {
       "output_type": "stream",
       "stream": "stdout",
       "text": [
        "678 679 680 681 "
       ]
      },
      {
       "output_type": "stream",
       "stream": "stdout",
       "text": [
        "682 683 684 "
       ]
      },
      {
       "output_type": "stream",
       "stream": "stdout",
       "text": [
        "685 686 687 688 "
       ]
      },
      {
       "output_type": "stream",
       "stream": "stdout",
       "text": [
        "689 690 691 692 "
       ]
      },
      {
       "output_type": "stream",
       "stream": "stdout",
       "text": [
        "693 694 695 "
       ]
      },
      {
       "output_type": "stream",
       "stream": "stdout",
       "text": [
        "696 697 698 699 "
       ]
      },
      {
       "output_type": "stream",
       "stream": "stdout",
       "text": [
        "700 701 702 "
       ]
      },
      {
       "output_type": "stream",
       "stream": "stdout",
       "text": [
        "703 704 705 "
       ]
      },
      {
       "output_type": "stream",
       "stream": "stdout",
       "text": [
        "706 707 708 "
       ]
      },
      {
       "output_type": "stream",
       "stream": "stdout",
       "text": [
        "709 710 711 "
       ]
      },
      {
       "output_type": "stream",
       "stream": "stdout",
       "text": [
        "712 713 714 "
       ]
      },
      {
       "output_type": "stream",
       "stream": "stdout",
       "text": [
        "715 716 717 "
       ]
      },
      {
       "output_type": "stream",
       "stream": "stdout",
       "text": [
        "718 719 720 721 "
       ]
      },
      {
       "output_type": "stream",
       "stream": "stdout",
       "text": [
        "722 723 724 725 "
       ]
      },
      {
       "output_type": "stream",
       "stream": "stdout",
       "text": [
        "726 727 728 "
       ]
      },
      {
       "output_type": "stream",
       "stream": "stdout",
       "text": [
        "729 730 731 "
       ]
      },
      {
       "output_type": "stream",
       "stream": "stdout",
       "text": [
        "732 733 734 "
       ]
      },
      {
       "output_type": "stream",
       "stream": "stdout",
       "text": [
        "735 736 737 738 "
       ]
      },
      {
       "output_type": "stream",
       "stream": "stdout",
       "text": [
        "739 740 741 "
       ]
      },
      {
       "output_type": "stream",
       "stream": "stdout",
       "text": [
        "742 743 744 "
       ]
      },
      {
       "output_type": "stream",
       "stream": "stdout",
       "text": [
        "745 746 747 "
       ]
      },
      {
       "output_type": "stream",
       "stream": "stdout",
       "text": [
        "748 749 750 "
       ]
      },
      {
       "output_type": "stream",
       "stream": "stdout",
       "text": [
        "751 752 753 "
       ]
      },
      {
       "output_type": "stream",
       "stream": "stdout",
       "text": [
        "754 755 756 "
       ]
      }
     ]
    }
   ],
   "metadata": {}
  }
 ]
}