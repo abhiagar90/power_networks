{
 "metadata": {
  "name": "",
  "signature": "sha256:8d5999b14fe71e181075cdc29ba6c7a7ea0a430be302d9d1b956f6a3707a980f"
 },
 "nbformat": 3,
 "nbformat_minor": 0,
 "worksheets": [
  {
   "cells": [
    {
     "cell_type": "code",
     "collapsed": false,
     "input": [
      "from py2neo import Graph, Node, Relationship\n",
      "\n",
      "username = 'neo4j'\n",
      "password = 'yoyo'\n",
      "server = 'localhost'\n",
      "port = '7474'\n",
      "con_url = 'http://'+username+':'+password+'@'+server+':'+port+'/db/data/'\n",
      "\n",
      "graph = Graph(con_url)\n",
      "\n",
      "def processString(currvalue):\n",
      "    currvalue = str(currvalue)\n",
      "    currvalue = currvalue.replace(\"'\",'')\n",
      "    currvalue = currvalue.replace('\"','')\n",
      "    currvalue = currvalue.replace(',','')\n",
      "    currvalue = currvalue.replace(';','')\n",
      "    return currvalue"
     ],
     "language": "python",
     "metadata": {},
     "outputs": [],
     "prompt_number": 42
    },
    {
     "cell_type": "code",
     "collapsed": false,
     "input": [
      "def processEntity(uuid):\n",
      "    q = \"MATCH (p:entity {uuid:\"+str(uuid)+\"}) RETURN p\"\n",
      "    keywords = '\"'\n",
      "    comp = graph.cypher.execute(q)\n",
      "    comp = comp[0][0]\n",
      "    for prop in comp.properties:\n",
      "        if prop!='uuid' and prop!='aliases':\n",
      "            currvalue = str(comp.properties[prop])\n",
      "            currvalue = processString(currvalue)\n",
      "            if prop!='uuid' and len(currvalue)>3:\n",
      "                keywords = keywords + \"'\" +currvalue + \"',\"\n",
      "        \n",
      "    \n",
      "    q = \"match (n:entity {uuid:\"+str(uuid)+\"})-[r]-(p) return distinct(p)\"\n",
      "    rels = graph.cypher.execute(q)\n",
      "    for rel in rels:\n",
      "        rel =  rel[0]\n",
      "        currvalue = str(rel.properties['name'])\n",
      "        currvalue = processString(currvalue)\n",
      "        keywords = keywords + \"'\" +rel.properties['name'] + \"',\"\n",
      "    keywords = keywords + '\"'\n",
      "    \n",
      "    labels = '\"'\n",
      "    for label in list(comp.labels):\n",
      "        labels = labels +\"'\"+label + \"',\"\n",
      "    labels=labels + '\"'\n",
      "    \n",
      "    aliases = comp['aliases']\n",
      "    aliases_to_return = '\"'\n",
      "    for alias in aliases:\n",
      "        aliases_to_return = aliases_to_return + \"'\" +alias + \"',\"\n",
      "    aliases =aliases_to_return + '\"'\n",
      "        \n",
      "    \n",
      "    \n",
      "    name = '\"'+comp.properties['name']+'\"'\n",
      "    \n",
      "    return name, labels, aliases, keywords\n",
      "processEntity('1')"
     ],
     "language": "python",
     "metadata": {},
     "outputs": [
      {
       "metadata": {},
       "output_type": "pyout",
       "prompt_number": 43,
       "text": [
        "(u'\"SAB INDUSTRIES LIMITED\"',\n",
        " u'\"\\'company\\',\\'entity\\',\\'IndianCompany\\',\"',\n",
        " u'\"\\'SAB INDUSTRIES LIMITED\\',\"',\n",
        " u'\"\\'Active\\',\\'Company limited by shares\\',\\'16/02/1983\\',\\'Indian Non-Government Company\\',\\'Chandigarh\\',\\'151883720.00\\',\\'Listed\\',\\'L00000CH1983PLC031318\\',\\'031318\\',\\'200000000.00\\',\\'S.C.O. 49-50 SECTOR - 26 MADHYA MARG CHANDIGRH Chandigarh INDIA 160019\\',\\'Public\\',\\'ssl_ssg@glide.net.in\\',\\'SAB INDUSTRIES LIMITED\\',\\'GURPREET KAUR\\',\\'BHAGWAN SINGH NEGI\\',\\'MANJU LAKHANPAL\\',\\'AVINASH SHARMA\\',\\'KANWARJIT SINGH\\',\\'HUMESH KUMAR SINGHAL\\',\\'SURINDER SINGH VIRDI\\',\\'RAJENDER KUMAR GARG\\',\\'SANJAY GARG\\',\\'VIJAY GOVERDHANDAS KALANTRI\\',\"')"
       ]
      }
     ],
     "prompt_number": 43
    },
    {
     "cell_type": "code",
     "collapsed": false,
     "input": [
      "filename = 'sabkuchcrazy_latest_naya.csv'\n",
      "filename = open(filename, 'w')\n",
      "\n",
      "firstline = '\"uuid\";\"name\";\"labels\";\"aliases\";\"keywords\"\\n'\n",
      "filename.write(firstline)\n",
      "\n",
      "##genrate csvs with all that we have thought!\n",
      "count = 1\n",
      "for curruuid in graph.cypher.execute(\"match (n:entity) return n.uuid\"):\n",
      "    curruuid = curruuid[0]\n",
      "    name, labels, aliases, keywords = processEntity(curruuid)\n",
      "    towrite = str(curruuid)+';'+name+';'+labels+';'+aliases+';'+keywords+\"\\n\"\n",
      "    #print towrite\n",
      "    filename.write(towrite)\n",
      "    count = count+1\n",
      "    \n",
      "filename.close()"
     ],
     "language": "python",
     "metadata": {},
     "outputs": [],
     "prompt_number": 44
    },
    {
     "cell_type": "code",
     "collapsed": false,
     "input": [
      "\"match (n:company) where n.busscategory = 'Not Available' set n.busscategory = '##NA##' return distinct(n.busscategory)\n",
      "match (n:company) where n.companynature = 'Not Available' set n.companynature = '##NA##' return distinct(n.companynature)\n",
      "match (n:company) where  lower(n.email) =~ '.*not available.*' set n.email = '##NA##' return distinct(n)\n",
      "\n",
      "\n",
      "match (n:company) where  lower(n.status) = 'not available' remove n.status return distinct(n.status)\n",
      "\n",
      "match (n:company) where  lower(n.paidupcap) =~ '.*not available.*' or ltrim(lower(n.paidupcap)) = ''  return distinct(n.paidupcap)\n",
      "match (n:company) with n, split(n.regauth,\"-\") as reg set n.regauth = reg[1] return distinct(n.regauth)\n",
      "match (n:businessperson) set n :person return distinct(labels(n))\n",
      "\n",
      "CREATE INDEX ON :entity(uuid)"
     ],
     "language": "python",
     "metadata": {},
     "outputs": []
    }
   ],
   "metadata": {}
  }
 ]
}