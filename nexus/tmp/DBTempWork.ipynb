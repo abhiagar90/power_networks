{
 "metadata": {
  "name": "",
  "signature": "sha256:c5a54190bdb39747932668e6fdd1409f8299df810cc34afa74553e075cf23ce9"
 },
 "nbformat": 3,
 "nbformat_minor": 0,
 "worksheets": [
  {
   "cells": [
    {
     "cell_type": "code",
     "collapsed": false,
     "input": [
      "import MySQLdb\n",
      "# Open database connection\n",
      "db = MySQLdb.connect(\"localhost\",\"root\",\"yoyo\",\"flasktemp\" )\n",
      "\n",
      "# prepare a cursor object using cursor() method\n",
      "cursor = db.cursor()\n",
      "\n",
      "# execute SQL query using execute() method.\n",
      "cursor.execute(\"insert into uuidtable(name) values('Abhishek Agarwal');\");\n",
      "db.commit()\n",
      "\n",
      "print cursor.lastrowid\n",
      "\n",
      "db.close()"
     ],
     "language": "python",
     "metadata": {},
     "outputs": [
      {
       "output_type": "stream",
       "stream": "stdout",
       "text": [
        "34\n"
       ]
      }
     ],
     "prompt_number": 1
    },
    {
     "cell_type": "code",
     "collapsed": false,
     "input": [
      "import MySQLdb\n",
      "# Open database connection\n",
      "db = MySQLdb.connect(\"localhost\",\"root\",\"yoyo\",\"flasktemp\" )\n",
      "\n",
      "# prepare a cursor object using cursor() method\n",
      "cursor = db.cursor()\n",
      "\n",
      "# execute SQL query using execute() method.\n",
      "cursor.execute(\"SELECT * from users;\")\n",
      "\n",
      "for row in cursor:\n",
      "    print row\n",
      "\n",
      "# Fetch a single row using fetchone() method.\n",
      "data = cursor.fetchall()\n",
      "\n",
      "\n",
      "# disconnect from server\n",
      "#db.close()"
     ],
     "language": "python",
     "metadata": {},
     "outputs": [
      {
       "output_type": "stream",
       "stream": "stdout",
       "text": [
        "('abhi1@gmail.com', '48dc8d29308eb256edc76f25def07251', 1L)\n",
        "('abhi2@gmail.com', '48dc8d29308eb256edc76f25def07251', 2L)\n",
        "('abhi3@gmail.com', '48dc8d29308eb256edc76f25def07251', 3L)\n",
        "('abhi4@gmail.com', '48dc8d29308eb256edc76f25def07251', 4L)\n",
        "('abhi5@gmail.com', '48dc8d29308eb256edc76f25def07251', 5L)\n",
        "('abhi6@gmail.com', '48dc8d29308eb256edc76f25def07251', 6L)\n",
        "('abhi7@gmail.com', '48dc8d29308eb256edc76f25def07251', 7L)\n"
       ]
      }
     ],
     "prompt_number": 9
    },
    {
     "cell_type": "code",
     "collapsed": false,
     "input": [
      "import pandas as pd\n",
      "df = pd.read_sql(\"select * from users where userid = 'abhi1@gmail.com';\", db)\n",
      "df['userid'][0]"
     ],
     "language": "python",
     "metadata": {},
     "outputs": [
      {
       "metadata": {},
       "output_type": "pyout",
       "prompt_number": 32,
       "text": [
        "'abhi1@gmail.com'"
       ]
      }
     ],
     "prompt_number": 32
    },
    {
     "cell_type": "code",
     "collapsed": false,
     "input": [
      "import pandas as pd\n",
      "import MySQLdb as db\n",
      "def sqlQuerytoDF(query,ipaddress,database,user,password):\n",
      "    database = db.connect(ipaddress, user, password, database)\n",
      "    df = pd.read_sql(query, database)\n",
      "    #dirframe\n",
      "    return df\n",
      "df = sqlQuerytoDF(\"select * from political_crawl_jan\",\"localhost\",\"crawldb\",\"root\",\"yoyo\")\n",
      "df['name'][0]"
     ],
     "language": "python",
     "metadata": {},
     "outputs": [
      {
       "metadata": {},
       "output_type": "pyout",
       "prompt_number": 6,
       "text": [
        "'Naveen Jindal'"
       ]
      }
     ],
     "prompt_number": 6
    },
    {
     "cell_type": "code",
     "collapsed": false,
     "input": [
      "def updateSQL(query,ipaddress,database,user,password):\n",
      "    import MySQLdb\n",
      "    # Open database connection\n",
      "    db = MySQLdb.connect(ipaddress,user,password,database)\n",
      "\n",
      "    # prepare a cursor object using cursor() method\n",
      "    cursor = db.cursor()\n",
      "\n",
      "    # execute SQL query using execute() method.\n",
      "    numrows = cursor.execute(query);\n",
      "    \n",
      "    db.commit()\n",
      "\n",
      "    db.close()\n",
      "    \n",
      "    return numrows"
     ],
     "language": "python",
     "metadata": {},
     "outputs": [],
     "prompt_number": 43
    },
    {
     "cell_type": "code",
     "collapsed": false,
     "input": [
      "def updateResolved(tablename, row_id,ipaddress,database,user,password,resolved=1):\n",
      "\n",
      "    ##need to modularize and move this code from here! : TODO!\n",
      "    numrows = updateSQL(\"UPDATE \"+tablename+\" SET resolved=\"+str(resolved)+\" WHERE id=\"+str(row_id)+\";\",ipaddress,database,user,password)\n",
      "    return numrows\n",
      "updateResolved('political_crawl_jan',1,\"localhost\",\"crawldb\",\"root\",\"yoyo\",7)"
     ],
     "language": "python",
     "metadata": {},
     "outputs": [
      {
       "metadata": {},
       "output_type": "pyout",
       "prompt_number": 45,
       "text": [
        "1L"
       ]
      }
     ],
     "prompt_number": 45
    }
   ],
   "metadata": {}
  }
 ]
}