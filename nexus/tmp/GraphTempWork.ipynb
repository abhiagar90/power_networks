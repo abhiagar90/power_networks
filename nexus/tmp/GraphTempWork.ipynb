{
 "metadata": {
  "name": "",
  "signature": "sha256:da703cfc355fb4838bad7de97a26cd15196b3905d5636998234a0e25100cb56f"
 },
 "nbformat": 3,
 "nbformat_minor": 0,
 "worksheets": [
  {
   "cells": [
    {
     "cell_type": "code",
     "collapsed": false,
     "input": [
      "from py2neo import Graph, Node, Relationship\n",
      "\n",
      "username = 'neo4j'\n",
      "password = 'yoyo'\n",
      "server = 'localhost'\n",
      "port = '7474'\n",
      "con_url = 'http://'+username+':'+password+'@'+server+':'+port+'/db/data/'\n",
      "\n",
      "graph = Graph(con_url)"
     ],
     "language": "python",
     "metadata": {},
     "outputs": [],
     "prompt_number": 1
    },
    {
     "cell_type": "code",
     "collapsed": false,
     "input": [
      "def node1():\n",
      "    jindal1 = Node(\"person\",name=\"Navin Jindal\",email=\"info@support.com\")\n",
      "    return jindal1\n",
      "\n",
      "def node2():\n",
      "    jindal2 = Node(\"person\",\"politician\", name=\"Naveen Jindal\")\n",
      "    return jindal2\n",
      "\n",
      "def node3():\n",
      "    jindal3 = Node(\"person\",\"politician\", name=\"Naveen Jindal\",assets=\"200 Cr\",party=\"INC\", gender=\"Male\")\n",
      "    return jindal3\n",
      "\n",
      "def labelsToBeAdded(orig, naya):\n",
      "    new_labels = []\n",
      "    for x in naya.labels:\n",
      "        if x not in orig.labels:\n",
      "            new_labels.append(x)\n",
      "    return new_labels\n",
      "\n",
      "def propsDiff(orig,naya):\n",
      "    conf_props = []\n",
      "    new_props = []\n",
      "    for x in naya.properties:\n",
      "        if x not in orig.properties:\n",
      "            new_props.append(x)\n",
      "        else:\n",
      "            conf_props.append(x)\n",
      "    return conf_props, new_props\n",
      "\n",
      "orig = node1() ##from the graph\n",
      "naya = node3() ##from the row\n",
      "propsDiff(orig,naya)"
     ],
     "language": "python",
     "metadata": {},
     "outputs": [
      {
       "metadata": {},
       "output_type": "pyout",
       "prompt_number": 30,
       "text": [
        "(['name'], ['gender', 'assets', 'party'])"
       ]
      }
     ],
     "prompt_number": 30
    },
    {
     "cell_type": "code",
     "collapsed": false,
     "input": [
      "alice = Node(\"Party\", name=\"Alice\")\n",
      "bob = Node(\"Politician\", name=\"Bob\")\n",
      "alice_knows_bob = Relationship(alice, \"related\", bob)\n",
      "calice = str(alice)\n",
      "print calice\n",
      "\n",
      "print bob\n",
      "print alice_knows_bob\n",
      "graph.create(alice_knows_bob)"
     ],
     "language": "python",
     "metadata": {},
     "outputs": [
      {
       "output_type": "stream",
       "stream": "stdout",
       "text": [
        "(:Party {name:\"Alice\"})\n",
        "(:Politician {name:\"Bob\"})\n",
        "(:Party {name:\"Alice\"})-[:related]->(:Politician {name:\"Bob\"})\n"
       ]
      },
      {
       "metadata": {},
       "output_type": "pyout",
       "prompt_number": 3,
       "text": [
        "(<Relationship graph=u'http://localhost:7474/db/data/' ref=u'relationship/35' start=u'node/154363' end=u'node/154364' type=u'related' properties={}>,)"
       ]
      }
     ],
     "prompt_number": 3
    },
    {
     "cell_type": "code",
     "collapsed": false,
     "input": [
      "#update a node\n",
      "alice = Node(\"Ola\", name=\"2234\",uuid=1)\n",
      "graph.create(alice)"
     ],
     "language": "python",
     "metadata": {},
     "outputs": [
      {
       "metadata": {},
       "output_type": "pyout",
       "prompt_number": 11,
       "text": [
        "(<Node graph=u'http://localhost:7474/db/data/' ref=u'node/154371' labels=set(['Ola']) properties={'uuid': 1, 'name': u'2234'}>,)"
       ]
      }
     ],
     "prompt_number": 11
    },
    {
     "cell_type": "code",
     "collapsed": false,
     "input": [
      "alice.properties.clear()\n",
      "alice.push()\n",
      "alice.pull()\n",
      "alice"
     ],
     "language": "python",
     "metadata": {},
     "outputs": [
      {
       "metadata": {},
       "output_type": "pyout",
       "prompt_number": 12,
       "text": [
        "<Node graph=u'http://localhost:7474/db/data/' ref=u'node/154371' labels=set([u'Ola']) properties={}>"
       ]
      }
     ],
     "prompt_number": 12
    },
    {
     "cell_type": "code",
     "collapsed": false,
     "input": [],
     "language": "python",
     "metadata": {},
     "outputs": [
      {
       "output_type": "stream",
       "stream": "stdout",
       "text": [
        "(:Ola:Olap:Olat {name:\"uinq\",uuid:4})\n",
        "(:Person:Politician {name:\"bob\",uuid:4})\n"
       ]
      }
     ],
     "prompt_number": 5
    },
    {
     "cell_type": "code",
     "collapsed": false,
     "input": [
      "#prev is a Node\n",
      "#latest is a Node\n",
      "#Usage:\n",
      "'''\n",
      "alice = Node(\"Ola\",\"Olap\",\"Olat\", name=\"uinq\",uuid=4)\n",
      "print alice\n",
      "bob = Node(\"Person\",\"Politician\", name=\"bob\",uuid=4)\n",
      "print bob\n",
      "updatePrev(alice,bob)\n",
      "print alice\n",
      "'''\n",
      "def updatePrev(prev_uuid,latest):\n",
      "    prev = entity(uuid)\n",
      "    prev_uuid = prev['uuid']\n",
      "    prev.labels.clear()\n",
      "    prev.properties.clear()\n",
      "    for x in latest.labels:\n",
      "        prev.labels.add(x)\n",
      "    for x in latest.properties: #dont uupdate the uuid\n",
      "        if x!= 'uuid':\n",
      "            prev[x]=latest[x]\n",
      "    prev['uuid'] = prev_uuid\n",
      "    #updated by now"
     ],
     "language": "python",
     "metadata": {},
     "outputs": [],
     "prompt_number": 3
    },
    {
     "cell_type": "code",
     "collapsed": false,
     "input": [
      "##example of some text input: (n154346:businessperson:person:politician {name:\"Anita\",uuid:1234})\n",
      "##Usage: deserializeNode('''(n154346:businessperson:person:politician {name:\"Anita\",uuid:1234})''')\n",
      "def deserializeNode(nodeText):\n",
      "    pos =  nodeText.find(' ')\n",
      "    \n",
      "    #get the labels in a set\n",
      "    startText = nodeText[1:pos]\n",
      "    allLabels = startText.split(':')[1:]\n",
      "    allLabels =  set(allLabels) #set is imp\n",
      "    \n",
      "    #get the props in a dict\n",
      "    endText = nodeText[pos+1:-1]\n",
      "    endTextWB = endText[1:-1]\n",
      "    #print endText\n",
      "    #print endTextWB\n",
      "    propList = endTextWB.split(\",\")\n",
      "    propsDict = {}\n",
      "    for x in propList:\n",
      "        propval = x.split(\":\")\n",
      "        #for handling the single inverted comma problem\n",
      "        prop = propval[0]\n",
      "        val = propval[1]\n",
      "        if val[0]==\"'\" and val[-1]==\"'\":\n",
      "            val=val[1:-1]\n",
      "        #for handling the double inverted comma problem\n",
      "        if val[0]=='\"' and val[-1]=='\"':\n",
      "            val=val[1:-1]\n",
      "        propsDict[prop]=val\n",
      "\n",
      "    \n",
      "    #print propsDict\n",
      "    \n",
      "    #creating the node from parsedText\n",
      "    node = Node()\n",
      "    for x in allLabels:\n",
      "        node.labels.add(x)\n",
      "    for x in propsDict:\n",
      "        node[x] = propsDict[x]\n",
      "    print node\n",
      "    return node"
     ],
     "language": "python",
     "metadata": {},
     "outputs": [
      {
       "output_type": "stream",
       "stream": "stdout",
       "text": [
        "(:businessperson:person:politician {name:\"Anita\",uuid:\"1234\"})\n"
       ]
      },
      {
       "metadata": {},
       "output_type": "pyout",
       "prompt_number": 94,
       "text": [
        "<Node labels=set(['person', 'businessperson', 'politician']) properties={'name': u'Anita', 'uuid': u'1234'}>"
       ]
      }
     ],
     "prompt_number": 94
    },
    {
     "cell_type": "code",
     "collapsed": false,
     "input": [],
     "language": "python",
     "metadata": {},
     "outputs": []
    }
   ],
   "metadata": {}
  }
 ]
}