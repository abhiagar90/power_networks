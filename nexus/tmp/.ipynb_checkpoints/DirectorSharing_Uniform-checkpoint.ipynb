{
 "metadata": {
  "name": "",
  "signature": "sha256:aa3f7ad56e5fe743b41cf163187a6aba1158a99d2d93ae1062b022928487d195"
 },
 "nbformat": 3,
 "nbformat_minor": 0,
 "worksheets": [
  {
   "cells": [
    {
     "cell_type": "code",
     "collapsed": false,
     "input": [
      "from py2neo import Graph, Node, Relationship\n",
      "\n",
      "username = 'neo4j'\n",
      "password = 'yoyo'\n",
      "server = 'localhost'\n",
      "port = '7474'\n",
      "con_url = 'http://'+username+':'+password+'@'+server+':'+port+'/db/data/'\n",
      "\n",
      "graph = Graph(con_url)"
     ],
     "language": "python",
     "metadata": {},
     "outputs": [],
     "prompt_number": 3
    },
    {
     "cell_type": "code",
     "collapsed": false,
     "input": [
      "def processDirector(din):\n",
      "    din=str(din)\n",
      "    q = \"MATCH (p:businessperson {din:'\"+din+\"'}) RETURN p\"\n",
      "    keywords = '\"'\n",
      "    comp = graph.cypher.execute(q)\n",
      "    comp = comp[0][0]\n",
      "    for prop in comp.properties:\n",
      "        currvalue = comp.properties[prop]\n",
      "        if len(currvalue)>3:\n",
      "            keywords = keywords + \"'\" +currvalue + \"',\"\n",
      "    \n",
      "    \n",
      "    q = \"match (n:businessperson {din:'\"+din+\"'})-[r]-(p) return p\"\n",
      "    rels = graph.cypher.execute(q)\n",
      "    for rel in rels:\n",
      "        rel =  rel[0]\n",
      "        keywords = keywords + \"'\" +rel.properties['name'] + \"',\"\n",
      "    keywords = keywords + '\"'\n",
      "    \n",
      "    labels = '\"'\n",
      "    for label in list(comp.labels):\n",
      "        labels = labels +\"'\"+label + \"',\"\n",
      "    labels=labels + '\"'\n",
      "    \n",
      "    aliases = '\"'\n",
      "    \n",
      "    aliases = aliases + \"'\"+comp.properties['name'] +\"',\"\n",
      "    aliases=aliases + '\"'\n",
      "    #rint aliases\n",
      "    \n",
      "    #print aliases\n",
      "    \n",
      "    name = '\"'+comp.properties['name']+'\"'\n",
      "    \n",
      "    return name, labels, aliases, keywords\n",
      "##processDirector('00000001')"
     ],
     "language": "python",
     "metadata": {},
     "outputs": [
      {
       "output_type": "stream",
       "stream": "stdout",
       "text": [
        "\"'00000001','RATAN NAVAL TATA','TATA FOUNDATION','RNT ASSOCIATES PRIVATE LIMITED',\"\n",
        "\"'businessperson',\"\n",
        "\"'RATAN NAVAL TATA',\"\n"
       ]
      },
      {
       "metadata": {},
       "output_type": "pyout",
       "prompt_number": 62,
       "text": [
        "(u'\"RATAN NAVAL TATA\"',\n",
        " u'\"\\'businessperson\\',\"',\n",
        " u'\"\\'RATAN NAVAL TATA\\',\"',\n",
        " u'\"\\'00000001\\',\\'RATAN NAVAL TATA\\',\\'TATA FOUNDATION\\',\\'RNT ASSOCIATES PRIVATE LIMITED\\',\"')"
       ]
      }
     ],
     "prompt_number": 62
    },
    {
     "cell_type": "code",
     "collapsed": false,
     "input": [
      "def processCompany(cin):\n",
      "    cin=str(cin)\n",
      "    q = \"MATCH (p:company {cin:'\"+cin+\"'}) RETURN p\"\n",
      "    keywords = '\"'\n",
      "    comp = graph.cypher.execute(q)\n",
      "    comp = comp[0][0]\n",
      "    for prop in comp.properties:\n",
      "        currvalue = comp.properties[prop]\n",
      "        if len(currvalue)>3:\n",
      "            keywords = keywords + \"'\" +currvalue + \"',\"\n",
      "    \n",
      "    #print keywords\n",
      "    \n",
      "    q = \"match (n:company {cin:'\"+cin+\"'})-[r]-(p) return p\"\n",
      "    #print q\n",
      "    rels = graph.cypher.execute(q)\n",
      "    for rel in rels:\n",
      "        rel =  rel[0]\n",
      "        keywords = keywords + \"'\" +rel.properties['name'] + \"',\"\n",
      "    keywords = keywords + '\"'\n",
      "    #print keywords\n",
      "    \n",
      "    labels = '\"'\n",
      "    for label in list(comp.labels):\n",
      "        labels = labels +\"'\"+label + \"',\"\n",
      "    labels=labels + '\"'\n",
      "    #print labels\n",
      "    \n",
      "    aliases = '\"'\n",
      "    \n",
      "    aliases = aliases + \"'\"+comp.properties['name'] +\"',\"\n",
      "    aliases=aliases + '\"'\n",
      "    #rint aliases\n",
      "    \n",
      "    #print aliases\n",
      "    \n",
      "    name = '\"'+comp.properties['name']+'\"'\n",
      "    return name, labels, aliases, keywords\n",
      "    \n",
      "processCompany('L01116KL1912PLC000126')"
     ],
     "language": "python",
     "metadata": {},
     "outputs": [
      {
       "metadata": {},
       "output_type": "pyout",
       "prompt_number": 63,
       "text": [
        "(u'\"THE BE BE RUBBER ESTATES LTD\"',\n",
        " u'\"\\'company\\',\"',\n",
        " u'\"\\'THE BE BE RUBBER ESTATES LTD\\',\"',\n",
        " u'\"\\'Active\\',\\'Company limited by shares\\',\\'16/08/1912\\',\\'Indian Non-Government Company\\',\\'Registrar of Company-Ernakulam\\',\\'866115.00\\',\\'Listed\\',\\'L01116KL1912PLC000126\\',\\'THE BE BE RUBBER ESTATES LTD\\',\\'000126\\',\\'10000000.00\\',\\'B B ESTATE OFFICE BLDGP B NO 10 PUNALUR KOLLAM Kerala INDIA 691305\\',\\'Public\\',\\'bebebhavani.plr@gmail.com\\',\\'Agriculture and Allied Activities\\',\\'ALEN OOMMEN\\',\\'GEORGE PUTHENMALYKAYIL JOHN\\',\\'PRASAD OOMMEN\\',\\'ROHAN KURIEN OOMMEN\\',\\'MERCY OOMMEN\\',\\'KRISHNAMOORTHY RAGHU\\',\\'KRISHNAMOORTHYRAO MURALIMOHAN\\',\"')"
       ]
      }
     ],
     "prompt_number": 63
    },
    {
     "cell_type": "code",
     "collapsed": false,
     "input": [
      "uuid = 1\n",
      "filename = 'sabkuchcrazy.csv'\n",
      "filename = open(filename, 'w')\n",
      "\n",
      "\n",
      "##generate csvs with all that we have thought!\n",
      "for n in graph.cypher.execute(\"match (n:company {cin:'L01116KL1912PLC000126'}) return n.cin\"):\n",
      "    #do something with node here\n",
      "    currcin = n[0]\n",
      "    name, labels, aliases, keywords = processCompany(currcin)\n",
      "    towrite = str(uuid)+';'+name+';'+labels+';'+aliases+';'+keywords+\"\\n\"\n",
      "    filename.write(towrite)\n",
      "    print uuid,\n",
      "    uuid = uuid + 1\n",
      "    \n",
      "for n in graph.cypher.execute(\"match (n:businessperson {din:'00000001'}) return n.din\"):\n",
      "    #do something with node here\n",
      "    currdin = n[0]\n",
      "    name, labels, aliases, keywords = processDirector(currdin)\n",
      "    towrite = str(uuid)+';'+name+';'+labels+';'+aliases+';'+keywords+\"\\n\"\n",
      "    filename.write(towrite)\n",
      "    #print str(uuid)+';'+name+';'+labels+';'+aliases+';'+keywords\n",
      "    print uuid,\n",
      "    uuid = uuid + 1\n",
      "\n",
      "filename.close()\n",
      "print uuid\n",
      "\n",
      "\n",
      "\n",
      "\n"
     ],
     "language": "python",
     "metadata": {},
     "outputs": [
      {
       "output_type": "stream",
       "stream": "stdout",
       "text": [
        "1 \"'00000001','RATAN NAVAL TATA','TATA FOUNDATION','RNT ASSOCIATES PRIVATE LIMITED',\"\n",
        "\"'businessperson',\"\n",
        "\"'RATAN NAVAL TATA',\"\n",
        "2 3\n"
       ]
      }
     ],
     "prompt_number": 65
    }
   ],
   "metadata": {}
  }
 ]
}