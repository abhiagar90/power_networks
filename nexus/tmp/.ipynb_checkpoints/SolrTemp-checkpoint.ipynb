{
 "metadata": {
  "name": "",
  "signature": "sha256:f95cf4abe3298653b0a1ed5581ccb843a835a02cdb33bed844ff71e893b768df"
 },
 "nbformat": 3,
 "nbformat_minor": 0,
 "worksheets": [
  {
   "cells": [
    {
     "cell_type": "code",
     "collapsed": false,
     "input": [
      "import requests as rq\n",
      "import ast\n",
      "\n",
      "def get_uuid(propnames=None,propvalues=None,thresvalues=None,label = None):\n",
      "    default_url = \"http://localhost:8983/solr/mtp/select?q=*%3A*&wt=python&rows=1000&indent=true\"\n",
      "    if thresvalues == None:\n",
      "        thresvalues = ['0.2' for i in range(len(propnames))]\n",
      "    if label == None:\n",
      "        label = '*'\n",
      "    if propvalues == None or propnames == None:\n",
      "        req_url = default_url\n",
      "    else:\n",
      "\n",
      "        base_url = \"http://localhost:8983/solr/mtp/select?q=\"\n",
      "        rest_url = \"&wt=python&rows=1000&indent=true\"\n",
      "        propnames_n_values = zip(propnames,propvalues,thresvalues)\n",
      "\n",
      "        for propname,propvalue,thresval in propnames_n_values:\n",
      "            if propname == \"name\":\n",
      "                initials = propvalue.split(' ')\n",
      "                initials = [x+'~'+thresval for x in initials]\n",
      "                const_str = '+AND+propvalue%3A'\n",
      "                propvalue_str = const_str.join(initials)\n",
      "                propvalue_str = const_str[1:]+propvalue_str\n",
      "                print \"propvalue_str\"\n",
      "\n",
      "            else:\n",
      "                propvalue_str = '+AND+propvalue%3A'+propvalue+'~'+thresval\n",
      "\n",
      "            label_str = 'label%3A'+label\n",
      "            propname_str = '+AND+propname%3A'+propname\n",
      "            arg_url = label_str+propname_str+propvalue_str\n",
      "\n",
      "        req_url = base_url+arg_url+rest_url\n",
      "\n",
      "    print \"## Requesting to Solr ... \"\n",
      "    print \"## Request url ...\"+req_url\n",
      "    r = rq.get(req_url)\n",
      "    print type(r.text)\n",
      "    print r.text\n",
      "    d = ast.literal_eval(r.text)\n",
      "    n_results = d['response']['numFound']\n",
      "    docs = d['response']['docs']\n",
      "    uuid_list = []\n",
      "    for doc in docs:\n",
      "        if doc['uuid'] not in uuid_list:\n",
      "            uuid_list.append(doc['uuid'])\n",
      "\n",
      "    print \"##UUid list length -{}\".format(len(uuid_list))\n",
      "    return uuid_list"
     ],
     "language": "python",
     "metadata": {},
     "outputs": [
      {
       "ename": "TypeError",
       "evalue": "cannot concatenate 'str' and 'float' objects",
       "output_type": "pyerr",
       "traceback": [
        "\u001b[1;31m---------------------------------------------------------------------------\u001b[0m\n\u001b[1;31mTypeError\u001b[0m                                 Traceback (most recent call last)",
        "\u001b[1;32m<ipython-input-3-f7b7ff8f48a2>\u001b[0m in \u001b[0;36m<module>\u001b[1;34m()\u001b[0m\n\u001b[0;32m     49\u001b[0m     \u001b[1;32mprint\u001b[0m \u001b[1;34m\"##UUid list length -{}\"\u001b[0m\u001b[1;33m.\u001b[0m\u001b[0mformat\u001b[0m\u001b[1;33m(\u001b[0m\u001b[0mlen\u001b[0m\u001b[1;33m(\u001b[0m\u001b[0muuid_list\u001b[0m\u001b[1;33m)\u001b[0m\u001b[1;33m)\u001b[0m\u001b[1;33m\u001b[0m\u001b[0m\n\u001b[0;32m     50\u001b[0m     \u001b[1;32mreturn\u001b[0m \u001b[0muuid_list\u001b[0m\u001b[1;33m\u001b[0m\u001b[0m\n\u001b[1;32m---> 51\u001b[1;33m \u001b[0mget_uuid\u001b[0m\u001b[1;33m(\u001b[0m\u001b[1;33m[\u001b[0m\u001b[1;34m'name'\u001b[0m\u001b[1;33m]\u001b[0m\u001b[1;33m,\u001b[0m\u001b[1;33m[\u001b[0m\u001b[1;34m'naveen jindal'\u001b[0m\u001b[1;33m]\u001b[0m\u001b[1;33m,\u001b[0m\u001b[1;33m[\u001b[0m\u001b[1;36m0.2\u001b[0m\u001b[1;33m]\u001b[0m\u001b[1;33m)\u001b[0m\u001b[1;33m\u001b[0m\u001b[0m\n\u001b[0m",
        "\u001b[1;32m<ipython-input-3-f7b7ff8f48a2>\u001b[0m in \u001b[0;36mget_uuid\u001b[1;34m(propnames, propvalues, thresvalues, label)\u001b[0m\n\u001b[0;32m     19\u001b[0m             \u001b[1;32mif\u001b[0m \u001b[0mpropname\u001b[0m \u001b[1;33m==\u001b[0m \u001b[1;34m\"name\"\u001b[0m\u001b[1;33m:\u001b[0m\u001b[1;33m\u001b[0m\u001b[0m\n\u001b[0;32m     20\u001b[0m                 \u001b[0minitials\u001b[0m \u001b[1;33m=\u001b[0m \u001b[0mpropvalue\u001b[0m\u001b[1;33m.\u001b[0m\u001b[0msplit\u001b[0m\u001b[1;33m(\u001b[0m\u001b[1;34m' '\u001b[0m\u001b[1;33m)\u001b[0m\u001b[1;33m\u001b[0m\u001b[0m\n\u001b[1;32m---> 21\u001b[1;33m                 \u001b[0minitials\u001b[0m \u001b[1;33m=\u001b[0m \u001b[1;33m[\u001b[0m\u001b[0mx\u001b[0m\u001b[1;33m+\u001b[0m\u001b[1;34m'~'\u001b[0m\u001b[1;33m+\u001b[0m\u001b[0mthresval\u001b[0m \u001b[1;32mfor\u001b[0m \u001b[0mx\u001b[0m \u001b[1;32min\u001b[0m \u001b[0minitials\u001b[0m\u001b[1;33m]\u001b[0m\u001b[1;33m\u001b[0m\u001b[0m\n\u001b[0m\u001b[0;32m     22\u001b[0m                 \u001b[0mconst_str\u001b[0m \u001b[1;33m=\u001b[0m \u001b[1;34m'+AND+propvalue%3A'\u001b[0m\u001b[1;33m\u001b[0m\u001b[0m\n\u001b[0;32m     23\u001b[0m                 \u001b[0mpropvalue_str\u001b[0m \u001b[1;33m=\u001b[0m \u001b[0mconst_str\u001b[0m\u001b[1;33m.\u001b[0m\u001b[0mjoin\u001b[0m\u001b[1;33m(\u001b[0m\u001b[0minitials\u001b[0m\u001b[1;33m)\u001b[0m\u001b[1;33m\u001b[0m\u001b[0m\n",
        "\u001b[1;31mTypeError\u001b[0m: cannot concatenate 'str' and 'float' objects"
       ]
      }
     ],
     "prompt_number": 3
    }
   ],
   "metadata": {}
  }
 ]
}