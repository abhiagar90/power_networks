{
 "metadata": {
  "name": "",
  "signature": "sha256:d22f1611bd3dce02602b0dcde1a0fe004c9ed2289f75c7a010dcaea3fdfe3cc4"
 },
 "nbformat": 3,
 "nbformat_minor": 0,
 "worksheets": [
  {
   "cells": [
    {
     "cell_type": "code",
     "collapsed": false,
     "input": [
      "from peewee import *\n",
      "import MySQLdb as db\n",
      "\n",
      "##it is just the object it has not been connected!\n",
      "mysqldb = MySQLDatabase(\"crawldb\", \"root\", \"yoyo\")\n",
      "\n",
      "class UnknownField(object):\n",
      "    pass\n",
      "\n",
      "class BaseModel(Model):\n",
      "    class Meta:\n",
      "        database = mysqldb\n",
      "\n",
      "class Person(BaseModel):\n",
      "    name = CharField()\n",
      "\n",
      "    class Meta:\n",
      "        db_table = 'person'\n",
      "\n",
      "class Pet(BaseModel):\n",
      "    ownerid = ForeignKeyField(db_column='ownerid', rel_model=Person, to_field='id')\n",
      "    type = CharField()\n",
      "\n",
      "    class Meta:\n",
      "        db_table = 'pet'\n",
      "\n",
      "class Users(BaseModel):\n",
      "    password = CharField(null=True)\n",
      "    role = IntegerField(null=True)\n",
      "    userid = CharField(primary_key=True)\n",
      "\n",
      "    class Meta:\n",
      "        db_table = 'users'\n",
      "\n",
      "class Uuidtable(BaseModel):\n",
      "    name = CharField(null=True)\n",
      "    uuid = BigIntegerField(primary_key=True)\n",
      "\n",
      "    class Meta:\n",
      "        db_table = 'uuidtable'\n"
     ],
     "language": "python",
     "metadata": {},
     "outputs": [
      {
       "ename": "ImportError",
       "evalue": "No module named app",
       "output_type": "pyerr",
       "traceback": [
        "\u001b[1;31m---------------------------------------------------------------------------\u001b[0m\n\u001b[1;31mImportError\u001b[0m                               Traceback (most recent call last)",
        "\u001b[1;32m<ipython-input-1-7d429ab78845>\u001b[0m in \u001b[0;36m<module>\u001b[1;34m()\u001b[0m\n\u001b[0;32m      1\u001b[0m \u001b[1;32mfrom\u001b[0m \u001b[0mpeewee\u001b[0m \u001b[1;32mimport\u001b[0m \u001b[1;33m*\u001b[0m\u001b[1;33m\u001b[0m\u001b[0m\n\u001b[1;32m----> 2\u001b[1;33m \u001b[1;32mfrom\u001b[0m \u001b[0mapp\u001b[0m \u001b[1;32mimport\u001b[0m \u001b[0mapp\u001b[0m\u001b[1;33m\u001b[0m\u001b[0m\n\u001b[0m\u001b[0;32m      3\u001b[0m \u001b[1;32mimport\u001b[0m \u001b[0mpandas\u001b[0m \u001b[1;32mas\u001b[0m \u001b[0mpd\u001b[0m\u001b[1;33m\u001b[0m\u001b[0m\n\u001b[0;32m      4\u001b[0m \u001b[1;32mimport\u001b[0m \u001b[0mMySQLdb\u001b[0m \u001b[1;32mas\u001b[0m \u001b[0mdb\u001b[0m\u001b[1;33m\u001b[0m\u001b[0m\n\u001b[0;32m      5\u001b[0m \u001b[1;33m\u001b[0m\u001b[0m\n",
        "\u001b[1;31mImportError\u001b[0m: No module named app"
       ]
      }
     ],
     "prompt_number": 1
    },
    {
     "cell_type": "code",
     "collapsed": false,
     "input": [],
     "language": "python",
     "metadata": {},
     "outputs": []
    }
   ],
   "metadata": {}
  }
 ]
}