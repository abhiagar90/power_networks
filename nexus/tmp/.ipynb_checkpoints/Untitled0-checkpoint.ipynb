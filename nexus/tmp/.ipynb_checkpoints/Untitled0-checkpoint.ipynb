{
 "metadata": {
  "name": ""
 },
 "nbformat": 3,
 "nbformat_minor": 0,
 "worksheets": [
  {
   "cells": [
    {
     "cell_type": "code",
     "collapsed": false,
     "input": [
      "from py2neo import Graph, Node, Relationship\n",
      "\n",
      "username = 'neo4j'\n",
      "password = 'yoyo'\n",
      "server = 'localhost'\n",
      "port = '7474'\n",
      "con_url = 'http://'+username+':'+password+'@'+server+':'+port+'/db/data/'\n",
      "\n",
      "graph = Graph(con_url)"
     ],
     "language": "python",
     "metadata": {},
     "outputs": [],
     "prompt_number": 1
    },
    {
     "cell_type": "code",
     "collapsed": false,
     "input": [
      "alice = Node(\"Party\", name=\"Alice\")\n",
      "bob = Node(\"Politician\", name=\"Bob\")\n",
      "alice_knows_bob = Relationship(alice, \"related\", bob)\n",
      "calice = str(alice)\n",
      "print calice\n",
      "\n",
      "print bob\n",
      "print alice_knows_bob\n",
      "graph.create(alice_knows_bob)"
     ],
     "language": "python",
     "metadata": {},
     "outputs": [
      {
       "output_type": "stream",
       "stream": "stdout",
       "text": [
        "(:Party {name:\"Alice\"})\n",
        "(:Politician {name:\"Bob\"})\n",
        "(:Party {name:\"Alice\"})-[:related]->(:Politician {name:\"Bob\"})\n"
       ]
      },
      {
       "metadata": {},
       "output_type": "pyout",
       "prompt_number": 3,
       "text": [
        "(<Relationship graph=u'http://localhost:7474/db/data/' ref=u'relationship/35' start=u'node/154363' end=u'node/154364' type=u'related' properties={}>,)"
       ]
      }
     ],
     "prompt_number": 3
    },
    {
     "cell_type": "code",
     "collapsed": false,
     "input": [
      "#update a node\n",
      "alice = Node(\"Ola\", name=\"2234\",uuid=1)\n",
      "graph.create(alice)"
     ],
     "language": "python",
     "metadata": {},
     "outputs": [
      {
       "metadata": {},
       "output_type": "pyout",
       "prompt_number": 11,
       "text": [
        "(<Node graph=u'http://localhost:7474/db/data/' ref=u'node/154371' labels=set(['Ola']) properties={'uuid': 1, 'name': u'2234'}>,)"
       ]
      }
     ],
     "prompt_number": 11
    },
    {
     "cell_type": "code",
     "collapsed": false,
     "input": [
      "alice.properties.clear()\n",
      "alice.push()\n",
      "alice.pull()\n",
      "alice"
     ],
     "language": "python",
     "metadata": {},
     "outputs": [
      {
       "metadata": {},
       "output_type": "pyout",
       "prompt_number": 12,
       "text": [
        "<Node graph=u'http://localhost:7474/db/data/' ref=u'node/154371' labels=set([u'Ola']) properties={}>"
       ]
      }
     ],
     "prompt_number": 12
    },
    {
     "cell_type": "code",
     "collapsed": false,
     "input": [
      "alice = Node(\"Ola\",\"Olap\",\"Olat\", name=\"uinq\",uuid=4)\n",
      "print alice\n",
      "bob = Node(\"Person\",\"Politician\", name=\"bob\",uuid=4)\n",
      "print bob\n",
      "updatePrev(alice,bob)\n",
      "print alice"
     ],
     "language": "python",
     "metadata": {},
     "outputs": [
      {
       "output_type": "stream",
       "stream": "stdout",
       "text": [
        "(:Ola:Olap:Olat {name:\"uinq\",uuid:4})\n",
        "(:Person:Politician {name:\"bob\",uuid:4})\n",
        "(:Person:Politician {name:\"bob\",uuid:4})\n"
       ]
      }
     ],
     "prompt_number": 33
    },
    {
     "cell_type": "code",
     "collapsed": false,
     "input": [
      "#prev is a Node\n",
      "#latest is a Node\n",
      "#Usage:\n",
      "'''\n",
      "alice = Node(\"Ola\",\"Olap\",\"Olat\", name=\"uinq\",uuid=4)\n",
      "print alice\n",
      "bob = Node(\"Person\",\"Politician\", name=\"bob\",uuid=4)\n",
      "print bob\n",
      "updatePrev(alice,bob)\n",
      "print alice\n",
      "'''\n",
      "def updatePrev(prev,latest):\n",
      "    prev_uuid = prev['uuid']\n",
      "    prev.labels.clear()\n",
      "    prev.properties.clear()\n",
      "    for x in latest.labels:\n",
      "        prev.labels.add(x)\n",
      "    for x in latest.properties: #dont uupdate the uuid\n",
      "        if x!= 'uuid':\n",
      "            prev[x]=latest[x]\n",
      "    prev['uuid'] = prev_uuid\n",
      "    #updated by now"
     ],
     "language": "python",
     "metadata": {},
     "outputs": [],
     "prompt_number": 34
    },
    {
     "cell_type": "code",
     "collapsed": false,
     "input": [
      "##example of some text input: (n154346:businessperson:person:politician {name:\"Anita\",uuid:1234})\n",
      "def parseNode(nodeText):\n",
      "    nodeText = '''(n154346:businessperson:person:politician {name:\"Anita\",uuid:1234})'''\n",
      "    pos =  nodeText.find(' ')\n",
      "    \n",
      "    #get the labels in a set\n",
      "    startText = nodeText[1:pos]\n",
      "    allLabels = startText.split(':')[1:]\n",
      "    allLabels =  set(allLabels) #set is imp\n",
      "    \n",
      "    #get the props in a dict\n",
      "    endText = nodeText[pos+1:-1]\n",
      "    endTextWB = endText[1:-1]\n",
      "    print endText\n",
      "    print endTextWB\n",
      "    propList = endTextWB.split(\",\")\n",
      "    propsDict = \n",
      "    for x in li:\n",
      "        print x\n",
      "        x.split(\":\")\n",
      "    \n",
      "    \n",
      "    \n",
      "    #import ast\n",
      "    #ast.literal_eval(endText)\n",
      "    \n",
      "    #node = Node()\n",
      "    #node.labels = allLabels\n",
      "    #node.prop\n",
      "    \n",
      "    pass\n",
      "parseNode('')"
     ],
     "language": "python",
     "metadata": {},
     "outputs": [
      {
       "output_type": "stream",
       "stream": "stdout",
       "text": [
        "{name:\"Anita\",uuid:1234}\n",
        "name:\"Anita\",uuid:1234\n",
        "name:\"Anita\"\n",
        "['name', '\"Anita\"']\n",
        "uuid:1234\n",
        "['uuid', '1234']\n"
       ]
      }
     ],
     "prompt_number": 67
    },
    {
     "cell_type": "code",
     "collapsed": false,
     "input": [
      "def entity(uuid):\n",
      "\tquery = \"match (n {uuid:\"+str(uuid)+\"}) return n\"\n",
      "\trc = graph.cypher.execute(query)\n",
      "\treturn rc[0][0]\n",
      "\n",
      "\n",
      "##example of some text input: (n154346:businessperson:person:politician {name:\"Anita\",uuid:1234})\n",
      "def updateNode(uuid, nodeText):\n",
      "   \n",
      "    #get the prev node from uuid\n",
      "    #preserve the uuid\n",
      "    prev = entity(uuid)\n",
      "    prev_uuid = prev['uuid']\n",
      "    prev.labels.clear()\n",
      "    prev.properties.clear()\n",
      "    prev['uuid'] = prev_uuid\n",
      "    \n",
      "    \n",
      "    nodeText = '''(n154346:businessperson:person:politician {name:\"Anita\",uuid:1234})'''\n",
      "    pos =  nodeText.find(' ')\n",
      "    \n",
      "    #get the labels in a set\n",
      "    startText = nodeText[1:pos]\n",
      "    allLabels = startText.split(':')[1:]\n",
      "    allLabels =  set(allLabels) #set is imp\n",
      "    \n",
      "    #get the props in a dict\n",
      "    endText = nodeText[pos+1:-1]\n",
      "    endTextWB = endText[1:-1]\n",
      "    print endText\n",
      "    print endTextWB\n",
      "    propList = endTextWB.split(\",\")\n",
      "    propsDict = \n",
      "    for x in li:\n",
      "        print x\n",
      "        x.split(\":\")\n",
      "    \n",
      "    \n",
      "    \n",
      "    #import ast\n",
      "    #ast.literal_eval(endText)\n",
      "    \n",
      "    #node = Node()\n",
      "    #node.labels = allLabels\n",
      "    #node.prop\n",
      "    \n",
      "    pass\n",
      "updateNode(1234, '')"
     ],
     "language": "python",
     "metadata": {},
     "outputs": [
      {
       "ename": "SyntaxError",
       "evalue": "invalid syntax (<ipython-input-69-87d2f5b927a0>, line 23)",
       "output_type": "pyerr",
       "traceback": [
        "\u001b[0;36m  File \u001b[0;32m\"<ipython-input-69-87d2f5b927a0>\"\u001b[0;36m, line \u001b[0;32m23\u001b[0m\n\u001b[0;31m    propsDict =\u001b[0m\n\u001b[0m                ^\u001b[0m\n\u001b[0;31mSyntaxError\u001b[0m\u001b[0;31m:\u001b[0m invalid syntax\n"
       ]
      }
     ],
     "prompt_number": 69
    },
    {
     "cell_type": "code",
     "collapsed": false,
     "input": [],
     "language": "python",
     "metadata": {},
     "outputs": []
    }
   ],
   "metadata": {}
  }
 ]
}