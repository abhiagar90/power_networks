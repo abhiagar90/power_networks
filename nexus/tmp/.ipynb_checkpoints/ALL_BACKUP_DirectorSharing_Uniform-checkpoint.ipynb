{
 "metadata": {
  "name": "",
  "signature": "sha256:49b0a9351c2c27276386f7d9396a627ffd5b7ef4c3b0569ef498aafc25f2e72e"
 },
 "nbformat": 3,
 "nbformat_minor": 0,
 "worksheets": [
  {
   "cells": [
    {
     "cell_type": "code",
     "collapsed": false,
     "input": [
      "from py2neo import Graph, Node, Relationship\n",
      "\n",
      "username = 'neo4j'\n",
      "password = 'yoyo'\n",
      "server = 'localhost'\n",
      "port = '7474'\n",
      "con_url = 'http://'+username+':'+password+'@'+server+':'+port+'/db/data/'\n",
      "\n",
      "graph = Graph(con_url)\n",
      "\n",
      "def processString(currvalue):\n",
      "    currvalue = str(currvalue)\n",
      "    currvalue = currvalue.replace(\"'\",'')\n",
      "    currvalue = currvalue.replace('\"','')\n",
      "    currvalue = currvalue.replace(',','')\n",
      "    currvalue = currvalue.replace(';','')\n",
      "    currvalue = currvalue.replace('`','')\n",
      "    return currvalue\n",
      "\n"
     ],
     "language": "python",
     "metadata": {},
     "outputs": [],
     "prompt_number": 7
    },
    {
     "cell_type": "code",
     "collapsed": false,
     "input": [
      "def processEntity(uuid):\n",
      "    \n",
      "    q = \"MATCH (p:entity {uuid:\"+str(uuid)+\"}) RETURN p\"\n",
      "    keywords = '\"'\n",
      "    comp = graph.cypher.execute(q)\n",
      "    comp = comp[0][0]\n",
      "    \n",
      "    quotes = \"\"\n",
      "    \n",
      "    for prop in comp.properties:\n",
      "        if prop!='uuid' and prop!='aliases':\n",
      "            currvalue = str(comp.properties[prop])\n",
      "            currvalue = processString(currvalue)\n",
      "            if prop!='uuid' and len(currvalue)>3:\n",
      "                keywords = keywords + quotes +currvalue + quotes + \",\"\n",
      "        \n",
      "    \n",
      "    q = \"match (n:entity {uuid:\"+str(uuid)+\"})-[r]-(p) return distinct(p)\"\n",
      "    rels = graph.cypher.execute(q)\n",
      "    for rel in rels:\n",
      "        rel =  rel[0]\n",
      "        currvalue = str(rel.properties['name'])\n",
      "        currvalue = processString(currvalue)\n",
      "        keywords = keywords + quotes +rel.properties['name'] + quotes + \",\"\n",
      "    keywords = keywords + '\"'\n",
      "    \n",
      "    labels = '\"'\n",
      "    for label in list(comp.labels):\n",
      "        label = processString(label)\n",
      "        labels = labels +quotes+label + quotes + \",\"\n",
      "    labels=labels + '\"'\n",
      "    \n",
      "    aliases = comp['aliases']\n",
      "    #print type(aliases)\n",
      "    #print aliases\n",
      "    aliases_to_return = '\"'\n",
      "    for alias in aliases:\n",
      "        alias = processString(alias)\n",
      "        aliases_to_return = aliases_to_return + quotes +alias + quotes + \",\"\n",
      "    aliases =aliases_to_return + '\"'\n",
      "        \n",
      "    \n",
      "    \n",
      "    name = '\"'+comp.properties['name']+'\"'\n",
      "    \n",
      "    return name, labels, aliases, keywords\n",
      "processEntity('154294')"
     ],
     "language": "python",
     "metadata": {},
     "outputs": [
      {
       "metadata": {},
       "output_type": "pyout",
       "prompt_number": 12,
       "text": [
        "(u'\"Andhra Pradesh\"',\n",
        " '\"state,indianState,entity,\"',\n",
        " '\"Andhra Pradesh,\"',\n",
        " u'\"Andhra Pradesh,state,Nellore,Krishna,Kadapa,Chittoor,Nizamabad,Vizianagaram,Mahabubnagar,Adilabad,Kurnool,Guntur,Prakasam,West Godavari,Srikakulam,East Godavari,Vishakhapatnam,Anantapuram,\"')"
       ]
      }
     ],
     "prompt_number": 12
    },
    {
     "cell_type": "code",
     "collapsed": false,
     "input": [
      "filename = 'sabkuchcrazy_latest_city.csv'\n",
      "filename = open(filename, 'w')\n",
      "\n",
      "firstline = '\"uuid\";\"name\";\"labels\";\"aliases\";\"keywords\"\\n'\n",
      "filename.write(firstline)\n",
      "\n",
      "##genrate csvs with all that we have thought!\n",
      "count = 1\n",
      "for curruuid in graph.cypher.execute(\"match (n:entity) return n.uuid\"):\n",
      "    curruuid = curruuid[0]\n",
      "    name, labels, aliases, keywords = processEntity(curruuid)\n",
      "    towrite = str(curruuid)+';'+name+';'+labels+';'+aliases+';'+keywords+\"\\n\"\n",
      "    #print towrite\n",
      "    filename.write(towrite)\n",
      "    count = count+1\n",
      "    \n",
      "filename.close()"
     ],
     "language": "python",
     "metadata": {},
     "outputs": [],
     "prompt_number": 13
    },
    {
     "cell_type": "code",
     "collapsed": false,
     "input": [
      "\"match (n:company) where n.busscategory = 'Not Available' set n.busscategory = '##NA##' return distinct(n.busscategory)\n",
      "match (n:company) where n.companynature = 'Not Available' set n.companynature = '##NA##' return distinct(n.companynature)\n",
      "match (n:company) where  lower(n.email) =~ '.*not available.*' set n.email = '##NA##' return distinct(n)\n",
      "\n",
      "\n",
      "match (n:company) where  lower(n.status) = 'not available' remove n.status return distinct(n.status)\n",
      "\n",
      "match (n:company) where  lower(n.paidupcap) =~ '.*not available.*' or ltrim(lower(n.paidupcap)) = ''  return distinct(n.paidupcap)\n",
      "match (n:company) with n, split(n.regauth,\"-\") as reg set n.regauth = reg[1] return distinct(n.regauth)\n",
      "match (n:businessperson) set n :person return distinct(labels(n))\n",
      "\n",
      "CREATE INDEX ON :entity(uuid)"
     ],
     "language": "python",
     "metadata": {},
     "outputs": []
    }
   ],
   "metadata": {}
  }
 ]
}