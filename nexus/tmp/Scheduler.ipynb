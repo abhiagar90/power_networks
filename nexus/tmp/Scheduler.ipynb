{
 "metadata": {
  "name": "",
  "signature": "sha256:031e703ea80ed713b312043f1878758b909e850fdda0215a3525ac70d9b3c302"
 },
 "nbformat": 3,
 "nbformat_minor": 0,
 "worksheets": [
  {
   "cells": [
    {
     "cell_type": "code",
     "collapsed": false,
     "input": [
      "from apscheduler.schedulers.background import BackgroundScheduler\n",
      "\n",
      "from datetime import datetime, timedelta\n",
      "import sys\n",
      "import os\n",
      "\n",
      "\n",
      "\n",
      "scheduler = BackgroundScheduler()\n",
      "alarm_time = datetime.now() + timedelta(seconds=10)\n",
      "scheduler.add_job(alarm, 'date', run_date=alarm_time, args=[datetime.now()])\n",
      "print('Press Ctrl+{0} to exit'.format('Break' if os.name == 'nt' else 'C'))\n",
      "try:\n",
      "    scheduler.start()\n",
      "except (KeyboardInterrupt, SystemExit):\n",
      "    pass"
     ],
     "language": "python",
     "metadata": {},
     "outputs": [
      {
       "output_type": "stream",
       "stream": "stdout",
       "text": [
        "Press Ctrl+C to exit\n"
       ]
      }
     ],
     "prompt_number": 2
    },
    {
     "cell_type": "code",
     "collapsed": false,
     "input": [
      "import sys\n",
      "from time import sleep\n",
      "from apscheduler.schedulers.blocking import BackgroundScheduler\n",
      "sched = BackgroundScheduler()\n",
      "sched.start()        # start the scheduler\n",
      " \n",
      "# define the function that is to be executed\n",
      "# it will be executed in a thread by the scheduler\n",
      "def my_job(text):\n",
      "    print text\n",
      "    \n",
      "def alarm(time, sched):\n",
      "    print('Alarm! This alarm was scheduled at %s.' % time)\n",
      " \n",
      "def main():\n",
      "    alarm_time = datetime.now() + timedelta(seconds=10)\n",
      "    sched.add_job(alarm, 'date', run_date=alarm_time, args=[datetime.now()])\n",
      "    while True:\n",
      "        sleep(1)\n",
      "        sys.stdout.write('.'); sys.stdout.flush()\n",
      " \n",
      "##############################################################\n",
      " \n",
      "main()"
     ],
     "language": "python",
     "metadata": {},
     "outputs": [
      {
       "ename": "ImportError",
       "evalue": "cannot import name BackgroundScheduler",
       "output_type": "pyerr",
       "traceback": [
        "\u001b[1;31m---------------------------------------------------------------------------\u001b[0m\n\u001b[1;31mImportError\u001b[0m                               Traceback (most recent call last)",
        "\u001b[1;32m<ipython-input-11-4ad233c36651>\u001b[0m in \u001b[0;36m<module>\u001b[1;34m()\u001b[0m\n\u001b[0;32m      1\u001b[0m \u001b[1;32mimport\u001b[0m \u001b[0msys\u001b[0m\u001b[1;33m\u001b[0m\u001b[0m\n\u001b[0;32m      2\u001b[0m \u001b[1;32mfrom\u001b[0m \u001b[0mtime\u001b[0m \u001b[1;32mimport\u001b[0m \u001b[0msleep\u001b[0m\u001b[1;33m\u001b[0m\u001b[0m\n\u001b[1;32m----> 3\u001b[1;33m \u001b[1;32mfrom\u001b[0m \u001b[0mapscheduler\u001b[0m\u001b[1;33m.\u001b[0m\u001b[0mschedulers\u001b[0m\u001b[1;33m.\u001b[0m\u001b[0mblocking\u001b[0m \u001b[1;32mimport\u001b[0m \u001b[0mBackgroundScheduler\u001b[0m\u001b[1;33m\u001b[0m\u001b[0m\n\u001b[0m\u001b[0;32m      4\u001b[0m \u001b[0msched\u001b[0m \u001b[1;33m=\u001b[0m \u001b[0mBackgroundScheduler\u001b[0m\u001b[1;33m(\u001b[0m\u001b[1;33m)\u001b[0m\u001b[1;33m\u001b[0m\u001b[0m\n\u001b[0;32m      5\u001b[0m \u001b[0msched\u001b[0m\u001b[1;33m.\u001b[0m\u001b[0mstart\u001b[0m\u001b[1;33m(\u001b[0m\u001b[1;33m)\u001b[0m        \u001b[1;31m# start the scheduler\u001b[0m\u001b[1;33m\u001b[0m\u001b[0m\n",
        "\u001b[1;31mImportError\u001b[0m: cannot import name BackgroundScheduler"
       ]
      }
     ],
     "prompt_number": 11
    },
    {
     "cell_type": "code",
     "collapsed": false,
     "input": [
      "alarm_time = datetime.now() + timedelta(seconds=10)\n",
      "sched.add_job(alarm, 'date', run_date=alarm_time, args=[datetime.now()])"
     ],
     "language": "python",
     "metadata": {},
     "outputs": []
    }
   ],
   "metadata": {}
  }
 ]
}